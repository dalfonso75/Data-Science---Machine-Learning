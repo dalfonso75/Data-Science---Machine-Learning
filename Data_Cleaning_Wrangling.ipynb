{
 "nbformat": 4,
 "nbformat_minor": 2,
 "metadata": {
  "language_info": {
   "name": "python",
   "codemirror_mode": {
    "name": "ipython",
    "version": 3
   },
   "version": "3.8.0-final"
  },
  "orig_nbformat": 2,
  "file_extension": ".py",
  "mimetype": "text/x-python",
  "name": "python",
  "npconvert_exporter": "python",
  "pygments_lexer": "ipython3",
  "version": 3,
  "kernelspec": {
   "name": "python36532bitee57d8f9eaa54f838f0637a98c43a85c",
   "display_name": "Python 3.6.5 32-bit"
  }
 },
 "cells": [
  {
   "cell_type": "markdown",
   "execution_count": null,
   "metadata": {},
   "outputs": [],
   "source": [
    "# Data Wrangling - La Cirugia de los Datos.\n"
   ]
  },
  {
   "cell_type": "code",
   "execution_count": 135,
   "metadata": {},
   "outputs": [],
   "source": [
    "import pandas as pd\n",
    "import os "
   ]
  },
  {
   "cell_type": "code",
   "execution_count": 136,
   "metadata": {},
   "outputs": [],
   "source": [
    "mainpath= \"d:/python-ml-course-master/datasets\"\n",
    "filename= \"customer-churn-model/Customer Churn Model.txt\"\n",
    "fullpath =os.path.join(mainpath, filename)\n",
    "data = pd.read_csv(fullpath)"
   ]
  },
  {
   "cell_type": "code",
   "execution_count": 137,
   "metadata": {},
   "outputs": [
    {
     "data": {
      "text/html": "<div>\n<style scoped>\n    .dataframe tbody tr th:only-of-type {\n        vertical-align: middle;\n    }\n\n    .dataframe tbody tr th {\n        vertical-align: top;\n    }\n\n    .dataframe thead th {\n        text-align: right;\n    }\n</style>\n<table border=\"1\" class=\"dataframe\">\n  <thead>\n    <tr style=\"text-align: right;\">\n      <th></th>\n      <th>State</th>\n      <th>Account Length</th>\n      <th>Area Code</th>\n      <th>Phone</th>\n      <th>Int'l Plan</th>\n      <th>VMail Plan</th>\n      <th>VMail Message</th>\n      <th>Day Mins</th>\n      <th>Day Calls</th>\n      <th>Day Charge</th>\n      <th>...</th>\n      <th>Eve Calls</th>\n      <th>Eve Charge</th>\n      <th>Night Mins</th>\n      <th>Night Calls</th>\n      <th>Night Charge</th>\n      <th>Intl Mins</th>\n      <th>Intl Calls</th>\n      <th>Intl Charge</th>\n      <th>CustServ Calls</th>\n      <th>Churn?</th>\n    </tr>\n  </thead>\n  <tbody>\n    <tr>\n      <th>0</th>\n      <td>KS</td>\n      <td>128</td>\n      <td>415</td>\n      <td>382-4657</td>\n      <td>no</td>\n      <td>yes</td>\n      <td>25</td>\n      <td>265.1</td>\n      <td>110</td>\n      <td>45.07</td>\n      <td>...</td>\n      <td>99</td>\n      <td>16.78</td>\n      <td>244.7</td>\n      <td>91</td>\n      <td>11.01</td>\n      <td>10.0</td>\n      <td>3</td>\n      <td>2.70</td>\n      <td>1</td>\n      <td>False.</td>\n    </tr>\n    <tr>\n      <th>1</th>\n      <td>OH</td>\n      <td>107</td>\n      <td>415</td>\n      <td>371-7191</td>\n      <td>no</td>\n      <td>yes</td>\n      <td>26</td>\n      <td>161.6</td>\n      <td>123</td>\n      <td>27.47</td>\n      <td>...</td>\n      <td>103</td>\n      <td>16.62</td>\n      <td>254.4</td>\n      <td>103</td>\n      <td>11.45</td>\n      <td>13.7</td>\n      <td>3</td>\n      <td>3.70</td>\n      <td>1</td>\n      <td>False.</td>\n    </tr>\n    <tr>\n      <th>2</th>\n      <td>NJ</td>\n      <td>137</td>\n      <td>415</td>\n      <td>358-1921</td>\n      <td>no</td>\n      <td>no</td>\n      <td>0</td>\n      <td>243.4</td>\n      <td>114</td>\n      <td>41.38</td>\n      <td>...</td>\n      <td>110</td>\n      <td>10.30</td>\n      <td>162.6</td>\n      <td>104</td>\n      <td>7.32</td>\n      <td>12.2</td>\n      <td>5</td>\n      <td>3.29</td>\n      <td>0</td>\n      <td>False.</td>\n    </tr>\n    <tr>\n      <th>3</th>\n      <td>OH</td>\n      <td>84</td>\n      <td>408</td>\n      <td>375-9999</td>\n      <td>yes</td>\n      <td>no</td>\n      <td>0</td>\n      <td>299.4</td>\n      <td>71</td>\n      <td>50.90</td>\n      <td>...</td>\n      <td>88</td>\n      <td>5.26</td>\n      <td>196.9</td>\n      <td>89</td>\n      <td>8.86</td>\n      <td>6.6</td>\n      <td>7</td>\n      <td>1.78</td>\n      <td>2</td>\n      <td>False.</td>\n    </tr>\n    <tr>\n      <th>4</th>\n      <td>OK</td>\n      <td>75</td>\n      <td>415</td>\n      <td>330-6626</td>\n      <td>yes</td>\n      <td>no</td>\n      <td>0</td>\n      <td>166.7</td>\n      <td>113</td>\n      <td>28.34</td>\n      <td>...</td>\n      <td>122</td>\n      <td>12.61</td>\n      <td>186.9</td>\n      <td>121</td>\n      <td>8.41</td>\n      <td>10.1</td>\n      <td>3</td>\n      <td>2.73</td>\n      <td>3</td>\n      <td>False.</td>\n    </tr>\n  </tbody>\n</table>\n<p>5 rows × 21 columns</p>\n</div>",
      "text/plain": "  State  Account Length  Area Code     Phone Int'l Plan VMail Plan  \\\n0    KS             128        415  382-4657         no        yes   \n1    OH             107        415  371-7191         no        yes   \n2    NJ             137        415  358-1921         no         no   \n3    OH              84        408  375-9999        yes         no   \n4    OK              75        415  330-6626        yes         no   \n\n   VMail Message  Day Mins  Day Calls  Day Charge  ...  Eve Calls  Eve Charge  \\\n0             25     265.1        110       45.07  ...         99       16.78   \n1             26     161.6        123       27.47  ...        103       16.62   \n2              0     243.4        114       41.38  ...        110       10.30   \n3              0     299.4         71       50.90  ...         88        5.26   \n4              0     166.7        113       28.34  ...        122       12.61   \n\n   Night Mins  Night Calls  Night Charge  Intl Mins  Intl Calls  Intl Charge  \\\n0       244.7           91         11.01       10.0           3         2.70   \n1       254.4          103         11.45       13.7           3         3.70   \n2       162.6          104          7.32       12.2           5         3.29   \n3       196.9           89          8.86        6.6           7         1.78   \n4       186.9          121          8.41       10.1           3         2.73   \n\n   CustServ Calls  Churn?  \n0               1  False.  \n1               1  False.  \n2               0  False.  \n3               2  False.  \n4               3  False.  \n\n[5 rows x 21 columns]"
     },
     "execution_count": 137,
     "metadata": {},
     "output_type": "execute_result"
    }
   ],
   "source": [
    "data.head()"
   ]
  },
  {
   "cell_type": "markdown",
   "execution_count": null,
   "metadata": {},
   "outputs": [],
   "source": [
    "### Crear Un Subconjunto De Datos"
   ]
  },
  {
   "cell_type": "code",
   "execution_count": 138,
   "metadata": {},
   "outputs": [],
   "source": [
    "Account_Length=data[\"Account Length\"]\t"
   ]
  },
  {
   "cell_type": "code",
   "execution_count": 139,
   "metadata": {},
   "outputs": [
    {
     "data": {
      "text/plain": "0    128\n1    107\n2    137\n3     84\n4     75\nName: Account Length, dtype: int64"
     },
     "execution_count": 139,
     "metadata": {},
     "output_type": "execute_result"
    }
   ],
   "source": [
    "Account_Length.head()"
   ]
  },
  {
   "cell_type": "code",
   "execution_count": 140,
   "metadata": {},
   "outputs": [
    {
     "data": {
      "text/plain": "pandas.core.series.Series"
     },
     "execution_count": 140,
     "metadata": {},
     "output_type": "execute_result"
    }
   ],
   "source": [
    "type(Account_Length)"
   ]
  },
  {
   "cell_type": "code",
   "execution_count": 141,
   "metadata": {},
   "outputs": [],
   "source": [
    "subset = data [[\"Account Length\", \"Phone\", \"Eve Charge\", \"Day Calls\"]]"
   ]
  },
  {
   "cell_type": "code",
   "execution_count": 142,
   "metadata": {},
   "outputs": [
    {
     "data": {
      "text/html": "<div>\n<style scoped>\n    .dataframe tbody tr th:only-of-type {\n        vertical-align: middle;\n    }\n\n    .dataframe tbody tr th {\n        vertical-align: top;\n    }\n\n    .dataframe thead th {\n        text-align: right;\n    }\n</style>\n<table border=\"1\" class=\"dataframe\">\n  <thead>\n    <tr style=\"text-align: right;\">\n      <th></th>\n      <th>Account Length</th>\n      <th>Phone</th>\n      <th>Eve Charge</th>\n      <th>Day Calls</th>\n    </tr>\n  </thead>\n  <tbody>\n    <tr>\n      <th>0</th>\n      <td>128</td>\n      <td>382-4657</td>\n      <td>16.78</td>\n      <td>110</td>\n    </tr>\n    <tr>\n      <th>1</th>\n      <td>107</td>\n      <td>371-7191</td>\n      <td>16.62</td>\n      <td>123</td>\n    </tr>\n    <tr>\n      <th>2</th>\n      <td>137</td>\n      <td>358-1921</td>\n      <td>10.30</td>\n      <td>114</td>\n    </tr>\n    <tr>\n      <th>3</th>\n      <td>84</td>\n      <td>375-9999</td>\n      <td>5.26</td>\n      <td>71</td>\n    </tr>\n    <tr>\n      <th>4</th>\n      <td>75</td>\n      <td>330-6626</td>\n      <td>12.61</td>\n      <td>113</td>\n    </tr>\n  </tbody>\n</table>\n</div>",
      "text/plain": "   Account Length     Phone  Eve Charge  Day Calls\n0             128  382-4657       16.78        110\n1             107  371-7191       16.62        123\n2             137  358-1921       10.30        114\n3              84  375-9999        5.26         71\n4              75  330-6626       12.61        113"
     },
     "execution_count": 142,
     "metadata": {},
     "output_type": "execute_result"
    }
   ],
   "source": [
    "subset.head()"
   ]
  },
  {
   "cell_type": "code",
   "execution_count": 143,
   "metadata": {},
   "outputs": [
    {
     "data": {
      "text/plain": "pandas.core.frame.DataFrame"
     },
     "execution_count": 143,
     "metadata": {},
     "output_type": "execute_result"
    }
   ],
   "source": [
    "type(subset)"
   ]
  },
  {
   "cell_type": "code",
   "execution_count": 144,
   "metadata": {},
   "outputs": [
    {
     "data": {
      "text/html": "<div>\n<style scoped>\n    .dataframe tbody tr th:only-of-type {\n        vertical-align: middle;\n    }\n\n    .dataframe tbody tr th {\n        vertical-align: top;\n    }\n\n    .dataframe thead th {\n        text-align: right;\n    }\n</style>\n<table border=\"1\" class=\"dataframe\">\n  <thead>\n    <tr style=\"text-align: right;\">\n      <th></th>\n      <th>Account Length</th>\n      <th>Phone</th>\n      <th>Eve Charge</th>\n      <th>Day Calls</th>\n    </tr>\n  </thead>\n  <tbody>\n    <tr>\n      <th>0</th>\n      <td>128</td>\n      <td>382-4657</td>\n      <td>16.78</td>\n      <td>110</td>\n    </tr>\n    <tr>\n      <th>1</th>\n      <td>107</td>\n      <td>371-7191</td>\n      <td>16.62</td>\n      <td>123</td>\n    </tr>\n    <tr>\n      <th>2</th>\n      <td>137</td>\n      <td>358-1921</td>\n      <td>10.30</td>\n      <td>114</td>\n    </tr>\n    <tr>\n      <th>3</th>\n      <td>84</td>\n      <td>375-9999</td>\n      <td>5.26</td>\n      <td>71</td>\n    </tr>\n    <tr>\n      <th>4</th>\n      <td>75</td>\n      <td>330-6626</td>\n      <td>12.61</td>\n      <td>113</td>\n    </tr>\n  </tbody>\n</table>\n</div>",
      "text/plain": "   Account Length     Phone  Eve Charge  Day Calls\n0             128  382-4657       16.78        110\n1             107  371-7191       16.62        123\n2             137  358-1921       10.30        114\n3              84  375-9999        5.26         71\n4              75  330-6626       12.61        113"
     },
     "execution_count": 144,
     "metadata": {},
     "output_type": "execute_result"
    }
   ],
   "source": [
    "desired_columns = [\"Account Length\", \"Phone\", \"Eve Charge\", \"Day Calls\"]\n",
    "subset = data[desired_columns]\n",
    "subset.head()"
   ]
  },
  {
   "cell_type": "code",
   "execution_count": 145,
   "metadata": {},
   "outputs": [
    {
     "data": {
      "text/plain": "['Account Length', 'VMail Message', 'Day Calls']"
     },
     "execution_count": 145,
     "metadata": {},
     "output_type": "execute_result"
    }
   ],
   "source": [
    "desired_columns = [\"Account Length\", \"VMail Message\", \"Day Calls\"]\n",
    "desired_columns"
   ]
  },
  {
   "cell_type": "code",
   "execution_count": 146,
   "metadata": {},
   "outputs": [
    {
     "data": {
      "text/plain": "['State',\n 'Account Length',\n 'Area Code',\n 'Phone',\n \"Int'l Plan\",\n 'VMail Plan',\n 'VMail Message',\n 'Day Mins',\n 'Day Calls',\n 'Day Charge',\n 'Eve Mins',\n 'Eve Calls',\n 'Eve Charge',\n 'Night Mins',\n 'Night Calls',\n 'Night Charge',\n 'Intl Mins',\n 'Intl Calls',\n 'Intl Charge',\n 'CustServ Calls',\n 'Churn?']"
     },
     "execution_count": 146,
     "metadata": {},
     "output_type": "execute_result"
    }
   ],
   "source": [
    "all_columns_list= data.columns.values.tolist()\n",
    "all_columns_list"
   ]
  },
  {
   "cell_type": "code",
   "execution_count": 147,
   "metadata": {},
   "outputs": [
    {
     "data": {
      "text/plain": "['State',\n 'Area Code',\n 'Phone',\n \"Int'l Plan\",\n 'VMail Plan',\n 'Day Mins',\n 'Day Charge',\n 'Eve Mins',\n 'Eve Calls',\n 'Eve Charge',\n 'Night Mins',\n 'Night Calls',\n 'Night Charge',\n 'Intl Mins',\n 'Intl Calls',\n 'Intl Charge',\n 'CustServ Calls',\n 'Churn?']"
     },
     "execution_count": 147,
     "metadata": {},
     "output_type": "execute_result"
    }
   ],
   "source": [
    "sublist = [x for x in all_columns_list if x not in desired_columns]\n",
    "sublist"
   ]
  },
  {
   "cell_type": "code",
   "execution_count": 148,
   "metadata": {},
   "outputs": [
    {
     "data": {
      "text/html": "<div>\n<style scoped>\n    .dataframe tbody tr th:only-of-type {\n        vertical-align: middle;\n    }\n\n    .dataframe tbody tr th {\n        vertical-align: top;\n    }\n\n    .dataframe thead th {\n        text-align: right;\n    }\n</style>\n<table border=\"1\" class=\"dataframe\">\n  <thead>\n    <tr style=\"text-align: right;\">\n      <th></th>\n      <th>State</th>\n      <th>Area Code</th>\n      <th>Phone</th>\n      <th>Int'l Plan</th>\n      <th>VMail Plan</th>\n      <th>Day Mins</th>\n      <th>Day Charge</th>\n      <th>Eve Mins</th>\n      <th>Eve Calls</th>\n      <th>Eve Charge</th>\n      <th>Night Mins</th>\n      <th>Night Calls</th>\n      <th>Night Charge</th>\n      <th>Intl Mins</th>\n      <th>Intl Calls</th>\n      <th>Intl Charge</th>\n      <th>CustServ Calls</th>\n      <th>Churn?</th>\n    </tr>\n  </thead>\n  <tbody>\n    <tr>\n      <th>0</th>\n      <td>KS</td>\n      <td>415</td>\n      <td>382-4657</td>\n      <td>no</td>\n      <td>yes</td>\n      <td>265.1</td>\n      <td>45.07</td>\n      <td>197.4</td>\n      <td>99</td>\n      <td>16.78</td>\n      <td>244.7</td>\n      <td>91</td>\n      <td>11.01</td>\n      <td>10.0</td>\n      <td>3</td>\n      <td>2.70</td>\n      <td>1</td>\n      <td>False.</td>\n    </tr>\n    <tr>\n      <th>1</th>\n      <td>OH</td>\n      <td>415</td>\n      <td>371-7191</td>\n      <td>no</td>\n      <td>yes</td>\n      <td>161.6</td>\n      <td>27.47</td>\n      <td>195.5</td>\n      <td>103</td>\n      <td>16.62</td>\n      <td>254.4</td>\n      <td>103</td>\n      <td>11.45</td>\n      <td>13.7</td>\n      <td>3</td>\n      <td>3.70</td>\n      <td>1</td>\n      <td>False.</td>\n    </tr>\n    <tr>\n      <th>2</th>\n      <td>NJ</td>\n      <td>415</td>\n      <td>358-1921</td>\n      <td>no</td>\n      <td>no</td>\n      <td>243.4</td>\n      <td>41.38</td>\n      <td>121.2</td>\n      <td>110</td>\n      <td>10.30</td>\n      <td>162.6</td>\n      <td>104</td>\n      <td>7.32</td>\n      <td>12.2</td>\n      <td>5</td>\n      <td>3.29</td>\n      <td>0</td>\n      <td>False.</td>\n    </tr>\n    <tr>\n      <th>3</th>\n      <td>OH</td>\n      <td>408</td>\n      <td>375-9999</td>\n      <td>yes</td>\n      <td>no</td>\n      <td>299.4</td>\n      <td>50.90</td>\n      <td>61.9</td>\n      <td>88</td>\n      <td>5.26</td>\n      <td>196.9</td>\n      <td>89</td>\n      <td>8.86</td>\n      <td>6.6</td>\n      <td>7</td>\n      <td>1.78</td>\n      <td>2</td>\n      <td>False.</td>\n    </tr>\n    <tr>\n      <th>4</th>\n      <td>OK</td>\n      <td>415</td>\n      <td>330-6626</td>\n      <td>yes</td>\n      <td>no</td>\n      <td>166.7</td>\n      <td>28.34</td>\n      <td>148.3</td>\n      <td>122</td>\n      <td>12.61</td>\n      <td>186.9</td>\n      <td>121</td>\n      <td>8.41</td>\n      <td>10.1</td>\n      <td>3</td>\n      <td>2.73</td>\n      <td>3</td>\n      <td>False.</td>\n    </tr>\n  </tbody>\n</table>\n</div>",
      "text/plain": "  State  Area Code     Phone Int'l Plan VMail Plan  Day Mins  Day Charge  \\\n0    KS        415  382-4657         no        yes     265.1       45.07   \n1    OH        415  371-7191         no        yes     161.6       27.47   \n2    NJ        415  358-1921         no         no     243.4       41.38   \n3    OH        408  375-9999        yes         no     299.4       50.90   \n4    OK        415  330-6626        yes         no     166.7       28.34   \n\n   Eve Mins  Eve Calls  Eve Charge  Night Mins  Night Calls  Night Charge  \\\n0     197.4         99       16.78       244.7           91         11.01   \n1     195.5        103       16.62       254.4          103         11.45   \n2     121.2        110       10.30       162.6          104          7.32   \n3      61.9         88        5.26       196.9           89          8.86   \n4     148.3        122       12.61       186.9          121          8.41   \n\n   Intl Mins  Intl Calls  Intl Charge  CustServ Calls  Churn?  \n0       10.0           3         2.70               1  False.  \n1       13.7           3         3.70               1  False.  \n2       12.2           5         3.29               0  False.  \n3        6.6           7         1.78               2  False.  \n4       10.1           3         2.73               3  False.  "
     },
     "execution_count": 148,
     "metadata": {},
     "output_type": "execute_result"
    }
   ],
   "source": [
    "subset= data[sublist]\n",
    "subset.head()"
   ]
  },
  {
   "cell_type": "code",
   "execution_count": 149,
   "metadata": {},
   "outputs": [],
   "source": [
    "#a = set(desired_columns)\n",
    "#b = set(all_columns_list)\n",
    "#sublist = b-a\n",
    "#sublist = list(sublist)\n",
    "#subset= data[sublist]\n",
    "#subset.head()\n",
    "#Esta forma funciona el incoveniente es que desordena la lista de columnas."
   ]
  },
  {
   "cell_type": "code",
   "execution_count": 150,
   "metadata": {},
   "outputs": [
    {
     "data": {
      "text/html": "<div>\n<style scoped>\n    .dataframe tbody tr th:only-of-type {\n        vertical-align: middle;\n    }\n\n    .dataframe tbody tr th {\n        vertical-align: top;\n    }\n\n    .dataframe thead th {\n        text-align: right;\n    }\n</style>\n<table border=\"1\" class=\"dataframe\">\n  <thead>\n    <tr style=\"text-align: right;\">\n      <th></th>\n      <th>State</th>\n      <th>Account Length</th>\n      <th>Area Code</th>\n      <th>Phone</th>\n      <th>Int'l Plan</th>\n      <th>VMail Plan</th>\n      <th>VMail Message</th>\n      <th>Day Mins</th>\n      <th>Day Calls</th>\n      <th>Day Charge</th>\n      <th>...</th>\n      <th>Eve Calls</th>\n      <th>Eve Charge</th>\n      <th>Night Mins</th>\n      <th>Night Calls</th>\n      <th>Night Charge</th>\n      <th>Intl Mins</th>\n      <th>Intl Calls</th>\n      <th>Intl Charge</th>\n      <th>CustServ Calls</th>\n      <th>Churn?</th>\n    </tr>\n  </thead>\n  <tbody>\n    <tr>\n      <th>1</th>\n      <td>OH</td>\n      <td>107</td>\n      <td>415</td>\n      <td>371-7191</td>\n      <td>no</td>\n      <td>yes</td>\n      <td>26</td>\n      <td>161.6</td>\n      <td>123</td>\n      <td>27.47</td>\n      <td>...</td>\n      <td>103</td>\n      <td>16.62</td>\n      <td>254.4</td>\n      <td>103</td>\n      <td>11.45</td>\n      <td>13.7</td>\n      <td>3</td>\n      <td>3.70</td>\n      <td>1</td>\n      <td>False.</td>\n    </tr>\n    <tr>\n      <th>2</th>\n      <td>NJ</td>\n      <td>137</td>\n      <td>415</td>\n      <td>358-1921</td>\n      <td>no</td>\n      <td>no</td>\n      <td>0</td>\n      <td>243.4</td>\n      <td>114</td>\n      <td>41.38</td>\n      <td>...</td>\n      <td>110</td>\n      <td>10.30</td>\n      <td>162.6</td>\n      <td>104</td>\n      <td>7.32</td>\n      <td>12.2</td>\n      <td>5</td>\n      <td>3.29</td>\n      <td>0</td>\n      <td>False.</td>\n    </tr>\n    <tr>\n      <th>3</th>\n      <td>OH</td>\n      <td>84</td>\n      <td>408</td>\n      <td>375-9999</td>\n      <td>yes</td>\n      <td>no</td>\n      <td>0</td>\n      <td>299.4</td>\n      <td>71</td>\n      <td>50.90</td>\n      <td>...</td>\n      <td>88</td>\n      <td>5.26</td>\n      <td>196.9</td>\n      <td>89</td>\n      <td>8.86</td>\n      <td>6.6</td>\n      <td>7</td>\n      <td>1.78</td>\n      <td>2</td>\n      <td>False.</td>\n    </tr>\n    <tr>\n      <th>4</th>\n      <td>OK</td>\n      <td>75</td>\n      <td>415</td>\n      <td>330-6626</td>\n      <td>yes</td>\n      <td>no</td>\n      <td>0</td>\n      <td>166.7</td>\n      <td>113</td>\n      <td>28.34</td>\n      <td>...</td>\n      <td>122</td>\n      <td>12.61</td>\n      <td>186.9</td>\n      <td>121</td>\n      <td>8.41</td>\n      <td>10.1</td>\n      <td>3</td>\n      <td>2.73</td>\n      <td>3</td>\n      <td>False.</td>\n    </tr>\n    <tr>\n      <th>5</th>\n      <td>AL</td>\n      <td>118</td>\n      <td>510</td>\n      <td>391-8027</td>\n      <td>yes</td>\n      <td>no</td>\n      <td>0</td>\n      <td>223.4</td>\n      <td>98</td>\n      <td>37.98</td>\n      <td>...</td>\n      <td>101</td>\n      <td>18.75</td>\n      <td>203.9</td>\n      <td>118</td>\n      <td>9.18</td>\n      <td>6.3</td>\n      <td>6</td>\n      <td>1.70</td>\n      <td>0</td>\n      <td>False.</td>\n    </tr>\n    <tr>\n      <th>6</th>\n      <td>MA</td>\n      <td>121</td>\n      <td>510</td>\n      <td>355-9993</td>\n      <td>no</td>\n      <td>yes</td>\n      <td>24</td>\n      <td>218.2</td>\n      <td>88</td>\n      <td>37.09</td>\n      <td>...</td>\n      <td>108</td>\n      <td>29.62</td>\n      <td>212.6</td>\n      <td>118</td>\n      <td>9.57</td>\n      <td>7.5</td>\n      <td>7</td>\n      <td>2.03</td>\n      <td>3</td>\n      <td>False.</td>\n    </tr>\n    <tr>\n      <th>7</th>\n      <td>MO</td>\n      <td>147</td>\n      <td>415</td>\n      <td>329-9001</td>\n      <td>yes</td>\n      <td>no</td>\n      <td>0</td>\n      <td>157.0</td>\n      <td>79</td>\n      <td>26.69</td>\n      <td>...</td>\n      <td>94</td>\n      <td>8.76</td>\n      <td>211.8</td>\n      <td>96</td>\n      <td>9.53</td>\n      <td>7.1</td>\n      <td>6</td>\n      <td>1.92</td>\n      <td>0</td>\n      <td>False.</td>\n    </tr>\n    <tr>\n      <th>8</th>\n      <td>LA</td>\n      <td>117</td>\n      <td>408</td>\n      <td>335-4719</td>\n      <td>no</td>\n      <td>no</td>\n      <td>0</td>\n      <td>184.5</td>\n      <td>97</td>\n      <td>31.37</td>\n      <td>...</td>\n      <td>80</td>\n      <td>29.89</td>\n      <td>215.8</td>\n      <td>90</td>\n      <td>9.71</td>\n      <td>8.7</td>\n      <td>4</td>\n      <td>2.35</td>\n      <td>1</td>\n      <td>False.</td>\n    </tr>\n    <tr>\n      <th>9</th>\n      <td>WV</td>\n      <td>141</td>\n      <td>415</td>\n      <td>330-8173</td>\n      <td>yes</td>\n      <td>yes</td>\n      <td>37</td>\n      <td>258.6</td>\n      <td>84</td>\n      <td>43.96</td>\n      <td>...</td>\n      <td>111</td>\n      <td>18.87</td>\n      <td>326.4</td>\n      <td>97</td>\n      <td>14.69</td>\n      <td>11.2</td>\n      <td>5</td>\n      <td>3.02</td>\n      <td>0</td>\n      <td>False.</td>\n    </tr>\n    <tr>\n      <th>10</th>\n      <td>IN</td>\n      <td>65</td>\n      <td>415</td>\n      <td>329-6603</td>\n      <td>no</td>\n      <td>no</td>\n      <td>0</td>\n      <td>129.1</td>\n      <td>137</td>\n      <td>21.95</td>\n      <td>...</td>\n      <td>83</td>\n      <td>19.42</td>\n      <td>208.8</td>\n      <td>111</td>\n      <td>9.40</td>\n      <td>12.7</td>\n      <td>6</td>\n      <td>3.43</td>\n      <td>4</td>\n      <td>True.</td>\n    </tr>\n    <tr>\n      <th>11</th>\n      <td>RI</td>\n      <td>74</td>\n      <td>415</td>\n      <td>344-9403</td>\n      <td>no</td>\n      <td>no</td>\n      <td>0</td>\n      <td>187.7</td>\n      <td>127</td>\n      <td>31.91</td>\n      <td>...</td>\n      <td>148</td>\n      <td>13.89</td>\n      <td>196.0</td>\n      <td>94</td>\n      <td>8.82</td>\n      <td>9.1</td>\n      <td>5</td>\n      <td>2.46</td>\n      <td>0</td>\n      <td>False.</td>\n    </tr>\n    <tr>\n      <th>12</th>\n      <td>IA</td>\n      <td>168</td>\n      <td>408</td>\n      <td>363-1107</td>\n      <td>no</td>\n      <td>no</td>\n      <td>0</td>\n      <td>128.8</td>\n      <td>96</td>\n      <td>21.90</td>\n      <td>...</td>\n      <td>71</td>\n      <td>8.92</td>\n      <td>141.1</td>\n      <td>128</td>\n      <td>6.35</td>\n      <td>11.2</td>\n      <td>2</td>\n      <td>3.02</td>\n      <td>1</td>\n      <td>False.</td>\n    </tr>\n    <tr>\n      <th>13</th>\n      <td>MT</td>\n      <td>95</td>\n      <td>510</td>\n      <td>394-8006</td>\n      <td>no</td>\n      <td>no</td>\n      <td>0</td>\n      <td>156.6</td>\n      <td>88</td>\n      <td>26.62</td>\n      <td>...</td>\n      <td>75</td>\n      <td>21.05</td>\n      <td>192.3</td>\n      <td>115</td>\n      <td>8.65</td>\n      <td>12.3</td>\n      <td>5</td>\n      <td>3.32</td>\n      <td>3</td>\n      <td>False.</td>\n    </tr>\n    <tr>\n      <th>14</th>\n      <td>IA</td>\n      <td>62</td>\n      <td>415</td>\n      <td>366-9238</td>\n      <td>no</td>\n      <td>no</td>\n      <td>0</td>\n      <td>120.7</td>\n      <td>70</td>\n      <td>20.52</td>\n      <td>...</td>\n      <td>76</td>\n      <td>26.11</td>\n      <td>203.0</td>\n      <td>99</td>\n      <td>9.14</td>\n      <td>13.1</td>\n      <td>6</td>\n      <td>3.54</td>\n      <td>4</td>\n      <td>False.</td>\n    </tr>\n    <tr>\n      <th>15</th>\n      <td>NY</td>\n      <td>161</td>\n      <td>415</td>\n      <td>351-7269</td>\n      <td>no</td>\n      <td>no</td>\n      <td>0</td>\n      <td>332.9</td>\n      <td>67</td>\n      <td>56.59</td>\n      <td>...</td>\n      <td>97</td>\n      <td>27.01</td>\n      <td>160.6</td>\n      <td>128</td>\n      <td>7.23</td>\n      <td>5.4</td>\n      <td>9</td>\n      <td>1.46</td>\n      <td>4</td>\n      <td>True.</td>\n    </tr>\n    <tr>\n      <th>16</th>\n      <td>ID</td>\n      <td>85</td>\n      <td>408</td>\n      <td>350-8884</td>\n      <td>no</td>\n      <td>yes</td>\n      <td>27</td>\n      <td>196.4</td>\n      <td>139</td>\n      <td>33.39</td>\n      <td>...</td>\n      <td>90</td>\n      <td>23.88</td>\n      <td>89.3</td>\n      <td>75</td>\n      <td>4.02</td>\n      <td>13.8</td>\n      <td>4</td>\n      <td>3.73</td>\n      <td>1</td>\n      <td>False.</td>\n    </tr>\n    <tr>\n      <th>17</th>\n      <td>VT</td>\n      <td>93</td>\n      <td>510</td>\n      <td>386-2923</td>\n      <td>no</td>\n      <td>no</td>\n      <td>0</td>\n      <td>190.7</td>\n      <td>114</td>\n      <td>32.42</td>\n      <td>...</td>\n      <td>111</td>\n      <td>18.55</td>\n      <td>129.6</td>\n      <td>121</td>\n      <td>5.83</td>\n      <td>8.1</td>\n      <td>3</td>\n      <td>2.19</td>\n      <td>3</td>\n      <td>False.</td>\n    </tr>\n    <tr>\n      <th>18</th>\n      <td>VA</td>\n      <td>76</td>\n      <td>510</td>\n      <td>356-2992</td>\n      <td>no</td>\n      <td>yes</td>\n      <td>33</td>\n      <td>189.7</td>\n      <td>66</td>\n      <td>32.25</td>\n      <td>...</td>\n      <td>65</td>\n      <td>18.09</td>\n      <td>165.7</td>\n      <td>108</td>\n      <td>7.46</td>\n      <td>10.0</td>\n      <td>5</td>\n      <td>2.70</td>\n      <td>1</td>\n      <td>False.</td>\n    </tr>\n    <tr>\n      <th>19</th>\n      <td>TX</td>\n      <td>73</td>\n      <td>415</td>\n      <td>373-2782</td>\n      <td>no</td>\n      <td>no</td>\n      <td>0</td>\n      <td>224.4</td>\n      <td>90</td>\n      <td>38.15</td>\n      <td>...</td>\n      <td>88</td>\n      <td>13.56</td>\n      <td>192.8</td>\n      <td>74</td>\n      <td>8.68</td>\n      <td>13.0</td>\n      <td>2</td>\n      <td>3.51</td>\n      <td>1</td>\n      <td>False.</td>\n    </tr>\n    <tr>\n      <th>20</th>\n      <td>FL</td>\n      <td>147</td>\n      <td>415</td>\n      <td>396-5800</td>\n      <td>no</td>\n      <td>no</td>\n      <td>0</td>\n      <td>155.1</td>\n      <td>117</td>\n      <td>26.37</td>\n      <td>...</td>\n      <td>93</td>\n      <td>20.37</td>\n      <td>208.8</td>\n      <td>133</td>\n      <td>9.40</td>\n      <td>10.6</td>\n      <td>4</td>\n      <td>2.86</td>\n      <td>0</td>\n      <td>False.</td>\n    </tr>\n    <tr>\n      <th>21</th>\n      <td>CO</td>\n      <td>77</td>\n      <td>408</td>\n      <td>393-7984</td>\n      <td>no</td>\n      <td>no</td>\n      <td>0</td>\n      <td>62.4</td>\n      <td>89</td>\n      <td>10.61</td>\n      <td>...</td>\n      <td>121</td>\n      <td>14.44</td>\n      <td>209.6</td>\n      <td>64</td>\n      <td>9.43</td>\n      <td>5.7</td>\n      <td>6</td>\n      <td>1.54</td>\n      <td>5</td>\n      <td>True.</td>\n    </tr>\n    <tr>\n      <th>22</th>\n      <td>AZ</td>\n      <td>130</td>\n      <td>415</td>\n      <td>358-1958</td>\n      <td>no</td>\n      <td>no</td>\n      <td>0</td>\n      <td>183.0</td>\n      <td>112</td>\n      <td>31.11</td>\n      <td>...</td>\n      <td>99</td>\n      <td>6.20</td>\n      <td>181.8</td>\n      <td>78</td>\n      <td>8.18</td>\n      <td>9.5</td>\n      <td>19</td>\n      <td>2.57</td>\n      <td>0</td>\n      <td>False.</td>\n    </tr>\n    <tr>\n      <th>23</th>\n      <td>SC</td>\n      <td>111</td>\n      <td>415</td>\n      <td>350-2565</td>\n      <td>no</td>\n      <td>no</td>\n      <td>0</td>\n      <td>110.4</td>\n      <td>103</td>\n      <td>18.77</td>\n      <td>...</td>\n      <td>102</td>\n      <td>11.67</td>\n      <td>189.6</td>\n      <td>105</td>\n      <td>8.53</td>\n      <td>7.7</td>\n      <td>6</td>\n      <td>2.08</td>\n      <td>2</td>\n      <td>False.</td>\n    </tr>\n    <tr>\n      <th>24</th>\n      <td>VA</td>\n      <td>132</td>\n      <td>510</td>\n      <td>343-4696</td>\n      <td>no</td>\n      <td>no</td>\n      <td>0</td>\n      <td>81.1</td>\n      <td>86</td>\n      <td>13.79</td>\n      <td>...</td>\n      <td>72</td>\n      <td>20.84</td>\n      <td>237.0</td>\n      <td>115</td>\n      <td>10.67</td>\n      <td>10.3</td>\n      <td>2</td>\n      <td>2.78</td>\n      <td>0</td>\n      <td>False.</td>\n    </tr>\n  </tbody>\n</table>\n<p>24 rows × 21 columns</p>\n</div>",
      "text/plain": "   State  Account Length  Area Code     Phone Int'l Plan VMail Plan  \\\n1     OH             107        415  371-7191         no        yes   \n2     NJ             137        415  358-1921         no         no   \n3     OH              84        408  375-9999        yes         no   \n4     OK              75        415  330-6626        yes         no   \n5     AL             118        510  391-8027        yes         no   \n6     MA             121        510  355-9993         no        yes   \n7     MO             147        415  329-9001        yes         no   \n8     LA             117        408  335-4719         no         no   \n9     WV             141        415  330-8173        yes        yes   \n10    IN              65        415  329-6603         no         no   \n11    RI              74        415  344-9403         no         no   \n12    IA             168        408  363-1107         no         no   \n13    MT              95        510  394-8006         no         no   \n14    IA              62        415  366-9238         no         no   \n15    NY             161        415  351-7269         no         no   \n16    ID              85        408  350-8884         no        yes   \n17    VT              93        510  386-2923         no         no   \n18    VA              76        510  356-2992         no        yes   \n19    TX              73        415  373-2782         no         no   \n20    FL             147        415  396-5800         no         no   \n21    CO              77        408  393-7984         no         no   \n22    AZ             130        415  358-1958         no         no   \n23    SC             111        415  350-2565         no         no   \n24    VA             132        510  343-4696         no         no   \n\n    VMail Message  Day Mins  Day Calls  Day Charge  ...  Eve Calls  \\\n1              26     161.6        123       27.47  ...        103   \n2               0     243.4        114       41.38  ...        110   \n3               0     299.4         71       50.90  ...         88   \n4               0     166.7        113       28.34  ...        122   \n5               0     223.4         98       37.98  ...        101   \n6              24     218.2         88       37.09  ...        108   \n7               0     157.0         79       26.69  ...         94   \n8               0     184.5         97       31.37  ...         80   \n9              37     258.6         84       43.96  ...        111   \n10              0     129.1        137       21.95  ...         83   \n11              0     187.7        127       31.91  ...        148   \n12              0     128.8         96       21.90  ...         71   \n13              0     156.6         88       26.62  ...         75   \n14              0     120.7         70       20.52  ...         76   \n15              0     332.9         67       56.59  ...         97   \n16             27     196.4        139       33.39  ...         90   \n17              0     190.7        114       32.42  ...        111   \n18             33     189.7         66       32.25  ...         65   \n19              0     224.4         90       38.15  ...         88   \n20              0     155.1        117       26.37  ...         93   \n21              0      62.4         89       10.61  ...        121   \n22              0     183.0        112       31.11  ...         99   \n23              0     110.4        103       18.77  ...        102   \n24              0      81.1         86       13.79  ...         72   \n\n    Eve Charge  Night Mins  Night Calls  Night Charge  Intl Mins  Intl Calls  \\\n1        16.62       254.4          103         11.45       13.7           3   \n2        10.30       162.6          104          7.32       12.2           5   \n3         5.26       196.9           89          8.86        6.6           7   \n4        12.61       186.9          121          8.41       10.1           3   \n5        18.75       203.9          118          9.18        6.3           6   \n6        29.62       212.6          118          9.57        7.5           7   \n7         8.76       211.8           96          9.53        7.1           6   \n8        29.89       215.8           90          9.71        8.7           4   \n9        18.87       326.4           97         14.69       11.2           5   \n10       19.42       208.8          111          9.40       12.7           6   \n11       13.89       196.0           94          8.82        9.1           5   \n12        8.92       141.1          128          6.35       11.2           2   \n13       21.05       192.3          115          8.65       12.3           5   \n14       26.11       203.0           99          9.14       13.1           6   \n15       27.01       160.6          128          7.23        5.4           9   \n16       23.88        89.3           75          4.02       13.8           4   \n17       18.55       129.6          121          5.83        8.1           3   \n18       18.09       165.7          108          7.46       10.0           5   \n19       13.56       192.8           74          8.68       13.0           2   \n20       20.37       208.8          133          9.40       10.6           4   \n21       14.44       209.6           64          9.43        5.7           6   \n22        6.20       181.8           78          8.18        9.5          19   \n23       11.67       189.6          105          8.53        7.7           6   \n24       20.84       237.0          115         10.67       10.3           2   \n\n    Intl Charge  CustServ Calls  Churn?  \n1          3.70               1  False.  \n2          3.29               0  False.  \n3          1.78               2  False.  \n4          2.73               3  False.  \n5          1.70               0  False.  \n6          2.03               3  False.  \n7          1.92               0  False.  \n8          2.35               1  False.  \n9          3.02               0  False.  \n10         3.43               4   True.  \n11         2.46               0  False.  \n12         3.02               1  False.  \n13         3.32               3  False.  \n14         3.54               4  False.  \n15         1.46               4   True.  \n16         3.73               1  False.  \n17         2.19               3  False.  \n18         2.70               1  False.  \n19         3.51               1  False.  \n20         2.86               0  False.  \n21         1.54               5   True.  \n22         2.57               0  False.  \n23         2.08               2  False.  \n24         2.78               0  False.  \n\n[24 rows x 21 columns]"
     },
     "execution_count": 150,
     "metadata": {},
     "output_type": "execute_result"
    }
   ],
   "source": [
    "data[1:25]"
   ]
  },
  {
   "cell_type": "code",
   "execution_count": 151,
   "metadata": {},
   "outputs": [
    {
     "data": {
      "text/html": "<div>\n<style scoped>\n    .dataframe tbody tr th:only-of-type {\n        vertical-align: middle;\n    }\n\n    .dataframe tbody tr th {\n        vertical-align: top;\n    }\n\n    .dataframe thead th {\n        text-align: right;\n    }\n</style>\n<table border=\"1\" class=\"dataframe\">\n  <thead>\n    <tr style=\"text-align: right;\">\n      <th></th>\n      <th>State</th>\n      <th>Account Length</th>\n      <th>Area Code</th>\n      <th>Phone</th>\n      <th>Int'l Plan</th>\n      <th>VMail Plan</th>\n      <th>VMail Message</th>\n      <th>Day Mins</th>\n      <th>Day Calls</th>\n      <th>Day Charge</th>\n      <th>...</th>\n      <th>Eve Calls</th>\n      <th>Eve Charge</th>\n      <th>Night Mins</th>\n      <th>Night Calls</th>\n      <th>Night Charge</th>\n      <th>Intl Mins</th>\n      <th>Intl Calls</th>\n      <th>Intl Charge</th>\n      <th>CustServ Calls</th>\n      <th>Churn?</th>\n    </tr>\n  </thead>\n  <tbody>\n    <tr>\n      <th>10</th>\n      <td>IN</td>\n      <td>65</td>\n      <td>415</td>\n      <td>329-6603</td>\n      <td>no</td>\n      <td>no</td>\n      <td>0</td>\n      <td>129.1</td>\n      <td>137</td>\n      <td>21.95</td>\n      <td>...</td>\n      <td>83</td>\n      <td>19.42</td>\n      <td>208.8</td>\n      <td>111</td>\n      <td>9.40</td>\n      <td>12.7</td>\n      <td>6</td>\n      <td>3.43</td>\n      <td>4</td>\n      <td>True.</td>\n    </tr>\n    <tr>\n      <th>11</th>\n      <td>RI</td>\n      <td>74</td>\n      <td>415</td>\n      <td>344-9403</td>\n      <td>no</td>\n      <td>no</td>\n      <td>0</td>\n      <td>187.7</td>\n      <td>127</td>\n      <td>31.91</td>\n      <td>...</td>\n      <td>148</td>\n      <td>13.89</td>\n      <td>196.0</td>\n      <td>94</td>\n      <td>8.82</td>\n      <td>9.1</td>\n      <td>5</td>\n      <td>2.46</td>\n      <td>0</td>\n      <td>False.</td>\n    </tr>\n    <tr>\n      <th>12</th>\n      <td>IA</td>\n      <td>168</td>\n      <td>408</td>\n      <td>363-1107</td>\n      <td>no</td>\n      <td>no</td>\n      <td>0</td>\n      <td>128.8</td>\n      <td>96</td>\n      <td>21.90</td>\n      <td>...</td>\n      <td>71</td>\n      <td>8.92</td>\n      <td>141.1</td>\n      <td>128</td>\n      <td>6.35</td>\n      <td>11.2</td>\n      <td>2</td>\n      <td>3.02</td>\n      <td>1</td>\n      <td>False.</td>\n    </tr>\n    <tr>\n      <th>13</th>\n      <td>MT</td>\n      <td>95</td>\n      <td>510</td>\n      <td>394-8006</td>\n      <td>no</td>\n      <td>no</td>\n      <td>0</td>\n      <td>156.6</td>\n      <td>88</td>\n      <td>26.62</td>\n      <td>...</td>\n      <td>75</td>\n      <td>21.05</td>\n      <td>192.3</td>\n      <td>115</td>\n      <td>8.65</td>\n      <td>12.3</td>\n      <td>5</td>\n      <td>3.32</td>\n      <td>3</td>\n      <td>False.</td>\n    </tr>\n    <tr>\n      <th>14</th>\n      <td>IA</td>\n      <td>62</td>\n      <td>415</td>\n      <td>366-9238</td>\n      <td>no</td>\n      <td>no</td>\n      <td>0</td>\n      <td>120.7</td>\n      <td>70</td>\n      <td>20.52</td>\n      <td>...</td>\n      <td>76</td>\n      <td>26.11</td>\n      <td>203.0</td>\n      <td>99</td>\n      <td>9.14</td>\n      <td>13.1</td>\n      <td>6</td>\n      <td>3.54</td>\n      <td>4</td>\n      <td>False.</td>\n    </tr>\n    <tr>\n      <th>15</th>\n      <td>NY</td>\n      <td>161</td>\n      <td>415</td>\n      <td>351-7269</td>\n      <td>no</td>\n      <td>no</td>\n      <td>0</td>\n      <td>332.9</td>\n      <td>67</td>\n      <td>56.59</td>\n      <td>...</td>\n      <td>97</td>\n      <td>27.01</td>\n      <td>160.6</td>\n      <td>128</td>\n      <td>7.23</td>\n      <td>5.4</td>\n      <td>9</td>\n      <td>1.46</td>\n      <td>4</td>\n      <td>True.</td>\n    </tr>\n    <tr>\n      <th>16</th>\n      <td>ID</td>\n      <td>85</td>\n      <td>408</td>\n      <td>350-8884</td>\n      <td>no</td>\n      <td>yes</td>\n      <td>27</td>\n      <td>196.4</td>\n      <td>139</td>\n      <td>33.39</td>\n      <td>...</td>\n      <td>90</td>\n      <td>23.88</td>\n      <td>89.3</td>\n      <td>75</td>\n      <td>4.02</td>\n      <td>13.8</td>\n      <td>4</td>\n      <td>3.73</td>\n      <td>1</td>\n      <td>False.</td>\n    </tr>\n    <tr>\n      <th>17</th>\n      <td>VT</td>\n      <td>93</td>\n      <td>510</td>\n      <td>386-2923</td>\n      <td>no</td>\n      <td>no</td>\n      <td>0</td>\n      <td>190.7</td>\n      <td>114</td>\n      <td>32.42</td>\n      <td>...</td>\n      <td>111</td>\n      <td>18.55</td>\n      <td>129.6</td>\n      <td>121</td>\n      <td>5.83</td>\n      <td>8.1</td>\n      <td>3</td>\n      <td>2.19</td>\n      <td>3</td>\n      <td>False.</td>\n    </tr>\n    <tr>\n      <th>18</th>\n      <td>VA</td>\n      <td>76</td>\n      <td>510</td>\n      <td>356-2992</td>\n      <td>no</td>\n      <td>yes</td>\n      <td>33</td>\n      <td>189.7</td>\n      <td>66</td>\n      <td>32.25</td>\n      <td>...</td>\n      <td>65</td>\n      <td>18.09</td>\n      <td>165.7</td>\n      <td>108</td>\n      <td>7.46</td>\n      <td>10.0</td>\n      <td>5</td>\n      <td>2.70</td>\n      <td>1</td>\n      <td>False.</td>\n    </tr>\n    <tr>\n      <th>19</th>\n      <td>TX</td>\n      <td>73</td>\n      <td>415</td>\n      <td>373-2782</td>\n      <td>no</td>\n      <td>no</td>\n      <td>0</td>\n      <td>224.4</td>\n      <td>90</td>\n      <td>38.15</td>\n      <td>...</td>\n      <td>88</td>\n      <td>13.56</td>\n      <td>192.8</td>\n      <td>74</td>\n      <td>8.68</td>\n      <td>13.0</td>\n      <td>2</td>\n      <td>3.51</td>\n      <td>1</td>\n      <td>False.</td>\n    </tr>\n    <tr>\n      <th>20</th>\n      <td>FL</td>\n      <td>147</td>\n      <td>415</td>\n      <td>396-5800</td>\n      <td>no</td>\n      <td>no</td>\n      <td>0</td>\n      <td>155.1</td>\n      <td>117</td>\n      <td>26.37</td>\n      <td>...</td>\n      <td>93</td>\n      <td>20.37</td>\n      <td>208.8</td>\n      <td>133</td>\n      <td>9.40</td>\n      <td>10.6</td>\n      <td>4</td>\n      <td>2.86</td>\n      <td>0</td>\n      <td>False.</td>\n    </tr>\n    <tr>\n      <th>21</th>\n      <td>CO</td>\n      <td>77</td>\n      <td>408</td>\n      <td>393-7984</td>\n      <td>no</td>\n      <td>no</td>\n      <td>0</td>\n      <td>62.4</td>\n      <td>89</td>\n      <td>10.61</td>\n      <td>...</td>\n      <td>121</td>\n      <td>14.44</td>\n      <td>209.6</td>\n      <td>64</td>\n      <td>9.43</td>\n      <td>5.7</td>\n      <td>6</td>\n      <td>1.54</td>\n      <td>5</td>\n      <td>True.</td>\n    </tr>\n    <tr>\n      <th>22</th>\n      <td>AZ</td>\n      <td>130</td>\n      <td>415</td>\n      <td>358-1958</td>\n      <td>no</td>\n      <td>no</td>\n      <td>0</td>\n      <td>183.0</td>\n      <td>112</td>\n      <td>31.11</td>\n      <td>...</td>\n      <td>99</td>\n      <td>6.20</td>\n      <td>181.8</td>\n      <td>78</td>\n      <td>8.18</td>\n      <td>9.5</td>\n      <td>19</td>\n      <td>2.57</td>\n      <td>0</td>\n      <td>False.</td>\n    </tr>\n    <tr>\n      <th>23</th>\n      <td>SC</td>\n      <td>111</td>\n      <td>415</td>\n      <td>350-2565</td>\n      <td>no</td>\n      <td>no</td>\n      <td>0</td>\n      <td>110.4</td>\n      <td>103</td>\n      <td>18.77</td>\n      <td>...</td>\n      <td>102</td>\n      <td>11.67</td>\n      <td>189.6</td>\n      <td>105</td>\n      <td>8.53</td>\n      <td>7.7</td>\n      <td>6</td>\n      <td>2.08</td>\n      <td>2</td>\n      <td>False.</td>\n    </tr>\n    <tr>\n      <th>24</th>\n      <td>VA</td>\n      <td>132</td>\n      <td>510</td>\n      <td>343-4696</td>\n      <td>no</td>\n      <td>no</td>\n      <td>0</td>\n      <td>81.1</td>\n      <td>86</td>\n      <td>13.79</td>\n      <td>...</td>\n      <td>72</td>\n      <td>20.84</td>\n      <td>237.0</td>\n      <td>115</td>\n      <td>10.67</td>\n      <td>10.3</td>\n      <td>2</td>\n      <td>2.78</td>\n      <td>0</td>\n      <td>False.</td>\n    </tr>\n  </tbody>\n</table>\n<p>15 rows × 21 columns</p>\n</div>",
      "text/plain": "   State  Account Length  Area Code     Phone Int'l Plan VMail Plan  \\\n10    IN              65        415  329-6603         no         no   \n11    RI              74        415  344-9403         no         no   \n12    IA             168        408  363-1107         no         no   \n13    MT              95        510  394-8006         no         no   \n14    IA              62        415  366-9238         no         no   \n15    NY             161        415  351-7269         no         no   \n16    ID              85        408  350-8884         no        yes   \n17    VT              93        510  386-2923         no         no   \n18    VA              76        510  356-2992         no        yes   \n19    TX              73        415  373-2782         no         no   \n20    FL             147        415  396-5800         no         no   \n21    CO              77        408  393-7984         no         no   \n22    AZ             130        415  358-1958         no         no   \n23    SC             111        415  350-2565         no         no   \n24    VA             132        510  343-4696         no         no   \n\n    VMail Message  Day Mins  Day Calls  Day Charge  ...  Eve Calls  \\\n10              0     129.1        137       21.95  ...         83   \n11              0     187.7        127       31.91  ...        148   \n12              0     128.8         96       21.90  ...         71   \n13              0     156.6         88       26.62  ...         75   \n14              0     120.7         70       20.52  ...         76   \n15              0     332.9         67       56.59  ...         97   \n16             27     196.4        139       33.39  ...         90   \n17              0     190.7        114       32.42  ...        111   \n18             33     189.7         66       32.25  ...         65   \n19              0     224.4         90       38.15  ...         88   \n20              0     155.1        117       26.37  ...         93   \n21              0      62.4         89       10.61  ...        121   \n22              0     183.0        112       31.11  ...         99   \n23              0     110.4        103       18.77  ...        102   \n24              0      81.1         86       13.79  ...         72   \n\n    Eve Charge  Night Mins  Night Calls  Night Charge  Intl Mins  Intl Calls  \\\n10       19.42       208.8          111          9.40       12.7           6   \n11       13.89       196.0           94          8.82        9.1           5   \n12        8.92       141.1          128          6.35       11.2           2   \n13       21.05       192.3          115          8.65       12.3           5   \n14       26.11       203.0           99          9.14       13.1           6   \n15       27.01       160.6          128          7.23        5.4           9   \n16       23.88        89.3           75          4.02       13.8           4   \n17       18.55       129.6          121          5.83        8.1           3   \n18       18.09       165.7          108          7.46       10.0           5   \n19       13.56       192.8           74          8.68       13.0           2   \n20       20.37       208.8          133          9.40       10.6           4   \n21       14.44       209.6           64          9.43        5.7           6   \n22        6.20       181.8           78          8.18        9.5          19   \n23       11.67       189.6          105          8.53        7.7           6   \n24       20.84       237.0          115         10.67       10.3           2   \n\n    Intl Charge  CustServ Calls  Churn?  \n10         3.43               4   True.  \n11         2.46               0  False.  \n12         3.02               1  False.  \n13         3.32               3  False.  \n14         3.54               4  False.  \n15         1.46               4   True.  \n16         3.73               1  False.  \n17         2.19               3  False.  \n18         2.70               1  False.  \n19         3.51               1  False.  \n20         2.86               0  False.  \n21         1.54               5   True.  \n22         2.57               0  False.  \n23         2.08               2  False.  \n24         2.78               0  False.  \n\n[15 rows x 21 columns]"
     },
     "execution_count": 151,
     "metadata": {},
     "output_type": "execute_result"
    }
   ],
   "source": [
    "data[10:25]"
   ]
  },
  {
   "cell_type": "code",
   "execution_count": 152,
   "metadata": {},
   "outputs": [
    {
     "data": {
      "text/html": "<div>\n<style scoped>\n    .dataframe tbody tr th:only-of-type {\n        vertical-align: middle;\n    }\n\n    .dataframe tbody tr th {\n        vertical-align: top;\n    }\n\n    .dataframe thead th {\n        text-align: right;\n    }\n</style>\n<table border=\"1\" class=\"dataframe\">\n  <thead>\n    <tr style=\"text-align: right;\">\n      <th></th>\n      <th>State</th>\n      <th>Account Length</th>\n      <th>Area Code</th>\n      <th>Phone</th>\n      <th>Int'l Plan</th>\n      <th>VMail Plan</th>\n      <th>VMail Message</th>\n      <th>Day Mins</th>\n      <th>Day Calls</th>\n      <th>Day Charge</th>\n      <th>...</th>\n      <th>Eve Calls</th>\n      <th>Eve Charge</th>\n      <th>Night Mins</th>\n      <th>Night Calls</th>\n      <th>Night Charge</th>\n      <th>Intl Mins</th>\n      <th>Intl Calls</th>\n      <th>Intl Charge</th>\n      <th>CustServ Calls</th>\n      <th>Churn?</th>\n    </tr>\n  </thead>\n  <tbody>\n    <tr>\n      <th>0</th>\n      <td>KS</td>\n      <td>128</td>\n      <td>415</td>\n      <td>382-4657</td>\n      <td>no</td>\n      <td>yes</td>\n      <td>25</td>\n      <td>265.1</td>\n      <td>110</td>\n      <td>45.07</td>\n      <td>...</td>\n      <td>99</td>\n      <td>16.78</td>\n      <td>244.7</td>\n      <td>91</td>\n      <td>11.01</td>\n      <td>10.0</td>\n      <td>3</td>\n      <td>2.70</td>\n      <td>1</td>\n      <td>False.</td>\n    </tr>\n    <tr>\n      <th>1</th>\n      <td>OH</td>\n      <td>107</td>\n      <td>415</td>\n      <td>371-7191</td>\n      <td>no</td>\n      <td>yes</td>\n      <td>26</td>\n      <td>161.6</td>\n      <td>123</td>\n      <td>27.47</td>\n      <td>...</td>\n      <td>103</td>\n      <td>16.62</td>\n      <td>254.4</td>\n      <td>103</td>\n      <td>11.45</td>\n      <td>13.7</td>\n      <td>3</td>\n      <td>3.70</td>\n      <td>1</td>\n      <td>False.</td>\n    </tr>\n    <tr>\n      <th>2</th>\n      <td>NJ</td>\n      <td>137</td>\n      <td>415</td>\n      <td>358-1921</td>\n      <td>no</td>\n      <td>no</td>\n      <td>0</td>\n      <td>243.4</td>\n      <td>114</td>\n      <td>41.38</td>\n      <td>...</td>\n      <td>110</td>\n      <td>10.30</td>\n      <td>162.6</td>\n      <td>104</td>\n      <td>7.32</td>\n      <td>12.2</td>\n      <td>5</td>\n      <td>3.29</td>\n      <td>0</td>\n      <td>False.</td>\n    </tr>\n    <tr>\n      <th>3</th>\n      <td>OH</td>\n      <td>84</td>\n      <td>408</td>\n      <td>375-9999</td>\n      <td>yes</td>\n      <td>no</td>\n      <td>0</td>\n      <td>299.4</td>\n      <td>71</td>\n      <td>50.90</td>\n      <td>...</td>\n      <td>88</td>\n      <td>5.26</td>\n      <td>196.9</td>\n      <td>89</td>\n      <td>8.86</td>\n      <td>6.6</td>\n      <td>7</td>\n      <td>1.78</td>\n      <td>2</td>\n      <td>False.</td>\n    </tr>\n    <tr>\n      <th>4</th>\n      <td>OK</td>\n      <td>75</td>\n      <td>415</td>\n      <td>330-6626</td>\n      <td>yes</td>\n      <td>no</td>\n      <td>0</td>\n      <td>166.7</td>\n      <td>113</td>\n      <td>28.34</td>\n      <td>...</td>\n      <td>122</td>\n      <td>12.61</td>\n      <td>186.9</td>\n      <td>121</td>\n      <td>8.41</td>\n      <td>10.1</td>\n      <td>3</td>\n      <td>2.73</td>\n      <td>3</td>\n      <td>False.</td>\n    </tr>\n    <tr>\n      <th>5</th>\n      <td>AL</td>\n      <td>118</td>\n      <td>510</td>\n      <td>391-8027</td>\n      <td>yes</td>\n      <td>no</td>\n      <td>0</td>\n      <td>223.4</td>\n      <td>98</td>\n      <td>37.98</td>\n      <td>...</td>\n      <td>101</td>\n      <td>18.75</td>\n      <td>203.9</td>\n      <td>118</td>\n      <td>9.18</td>\n      <td>6.3</td>\n      <td>6</td>\n      <td>1.70</td>\n      <td>0</td>\n      <td>False.</td>\n    </tr>\n    <tr>\n      <th>6</th>\n      <td>MA</td>\n      <td>121</td>\n      <td>510</td>\n      <td>355-9993</td>\n      <td>no</td>\n      <td>yes</td>\n      <td>24</td>\n      <td>218.2</td>\n      <td>88</td>\n      <td>37.09</td>\n      <td>...</td>\n      <td>108</td>\n      <td>29.62</td>\n      <td>212.6</td>\n      <td>118</td>\n      <td>9.57</td>\n      <td>7.5</td>\n      <td>7</td>\n      <td>2.03</td>\n      <td>3</td>\n      <td>False.</td>\n    </tr>\n    <tr>\n      <th>7</th>\n      <td>MO</td>\n      <td>147</td>\n      <td>415</td>\n      <td>329-9001</td>\n      <td>yes</td>\n      <td>no</td>\n      <td>0</td>\n      <td>157.0</td>\n      <td>79</td>\n      <td>26.69</td>\n      <td>...</td>\n      <td>94</td>\n      <td>8.76</td>\n      <td>211.8</td>\n      <td>96</td>\n      <td>9.53</td>\n      <td>7.1</td>\n      <td>6</td>\n      <td>1.92</td>\n      <td>0</td>\n      <td>False.</td>\n    </tr>\n  </tbody>\n</table>\n<p>8 rows × 21 columns</p>\n</div>",
      "text/plain": "  State  Account Length  Area Code     Phone Int'l Plan VMail Plan  \\\n0    KS             128        415  382-4657         no        yes   \n1    OH             107        415  371-7191         no        yes   \n2    NJ             137        415  358-1921         no         no   \n3    OH              84        408  375-9999        yes         no   \n4    OK              75        415  330-6626        yes         no   \n5    AL             118        510  391-8027        yes         no   \n6    MA             121        510  355-9993         no        yes   \n7    MO             147        415  329-9001        yes         no   \n\n   VMail Message  Day Mins  Day Calls  Day Charge  ...  Eve Calls  Eve Charge  \\\n0             25     265.1        110       45.07  ...         99       16.78   \n1             26     161.6        123       27.47  ...        103       16.62   \n2              0     243.4        114       41.38  ...        110       10.30   \n3              0     299.4         71       50.90  ...         88        5.26   \n4              0     166.7        113       28.34  ...        122       12.61   \n5              0     223.4         98       37.98  ...        101       18.75   \n6             24     218.2         88       37.09  ...        108       29.62   \n7              0     157.0         79       26.69  ...         94        8.76   \n\n   Night Mins  Night Calls  Night Charge  Intl Mins  Intl Calls  Intl Charge  \\\n0       244.7           91         11.01       10.0           3         2.70   \n1       254.4          103         11.45       13.7           3         3.70   \n2       162.6          104          7.32       12.2           5         3.29   \n3       196.9           89          8.86        6.6           7         1.78   \n4       186.9          121          8.41       10.1           3         2.73   \n5       203.9          118          9.18        6.3           6         1.70   \n6       212.6          118          9.57        7.5           7         2.03   \n7       211.8           96          9.53        7.1           6         1.92   \n\n   CustServ Calls  Churn?  \n0               1  False.  \n1               1  False.  \n2               0  False.  \n3               2  False.  \n4               3  False.  \n5               0  False.  \n6               3  False.  \n7               0  False.  \n\n[8 rows x 21 columns]"
     },
     "execution_count": 152,
     "metadata": {},
     "output_type": "execute_result"
    }
   ],
   "source": [
    " data[:8] #= data[1:8]"
   ]
  },
  {
   "cell_type": "code",
   "execution_count": 153,
   "metadata": {},
   "outputs": [
    {
     "data": {
      "text/html": "<div>\n<style scoped>\n    .dataframe tbody tr th:only-of-type {\n        vertical-align: middle;\n    }\n\n    .dataframe tbody tr th {\n        vertical-align: top;\n    }\n\n    .dataframe thead th {\n        text-align: right;\n    }\n</style>\n<table border=\"1\" class=\"dataframe\">\n  <thead>\n    <tr style=\"text-align: right;\">\n      <th></th>\n      <th>State</th>\n      <th>Account Length</th>\n      <th>Area Code</th>\n      <th>Phone</th>\n      <th>Int'l Plan</th>\n      <th>VMail Plan</th>\n      <th>VMail Message</th>\n      <th>Day Mins</th>\n      <th>Day Calls</th>\n      <th>Day Charge</th>\n      <th>...</th>\n      <th>Eve Calls</th>\n      <th>Eve Charge</th>\n      <th>Night Mins</th>\n      <th>Night Calls</th>\n      <th>Night Charge</th>\n      <th>Intl Mins</th>\n      <th>Intl Calls</th>\n      <th>Intl Charge</th>\n      <th>CustServ Calls</th>\n      <th>Churn?</th>\n    </tr>\n  </thead>\n  <tbody>\n    <tr>\n      <th>3320</th>\n      <td>GA</td>\n      <td>122</td>\n      <td>510</td>\n      <td>411-5677</td>\n      <td>yes</td>\n      <td>no</td>\n      <td>0</td>\n      <td>140.0</td>\n      <td>101</td>\n      <td>23.80</td>\n      <td>...</td>\n      <td>77</td>\n      <td>16.69</td>\n      <td>120.1</td>\n      <td>133</td>\n      <td>5.40</td>\n      <td>9.7</td>\n      <td>4</td>\n      <td>2.62</td>\n      <td>4</td>\n      <td>True.</td>\n    </tr>\n    <tr>\n      <th>3321</th>\n      <td>VT</td>\n      <td>60</td>\n      <td>415</td>\n      <td>400-2738</td>\n      <td>no</td>\n      <td>no</td>\n      <td>0</td>\n      <td>193.9</td>\n      <td>118</td>\n      <td>32.96</td>\n      <td>...</td>\n      <td>110</td>\n      <td>7.23</td>\n      <td>210.1</td>\n      <td>134</td>\n      <td>9.45</td>\n      <td>13.2</td>\n      <td>8</td>\n      <td>3.56</td>\n      <td>3</td>\n      <td>False.</td>\n    </tr>\n    <tr>\n      <th>3322</th>\n      <td>MD</td>\n      <td>62</td>\n      <td>408</td>\n      <td>409-1856</td>\n      <td>no</td>\n      <td>no</td>\n      <td>0</td>\n      <td>321.1</td>\n      <td>105</td>\n      <td>54.59</td>\n      <td>...</td>\n      <td>122</td>\n      <td>22.57</td>\n      <td>180.5</td>\n      <td>72</td>\n      <td>8.12</td>\n      <td>11.5</td>\n      <td>2</td>\n      <td>3.11</td>\n      <td>4</td>\n      <td>True.</td>\n    </tr>\n    <tr>\n      <th>3323</th>\n      <td>IN</td>\n      <td>117</td>\n      <td>415</td>\n      <td>362-5899</td>\n      <td>no</td>\n      <td>no</td>\n      <td>0</td>\n      <td>118.4</td>\n      <td>126</td>\n      <td>20.13</td>\n      <td>...</td>\n      <td>97</td>\n      <td>21.19</td>\n      <td>227.0</td>\n      <td>56</td>\n      <td>10.22</td>\n      <td>13.6</td>\n      <td>3</td>\n      <td>3.67</td>\n      <td>5</td>\n      <td>True.</td>\n    </tr>\n    <tr>\n      <th>3324</th>\n      <td>WV</td>\n      <td>159</td>\n      <td>415</td>\n      <td>377-1164</td>\n      <td>no</td>\n      <td>no</td>\n      <td>0</td>\n      <td>169.8</td>\n      <td>114</td>\n      <td>28.87</td>\n      <td>...</td>\n      <td>105</td>\n      <td>16.80</td>\n      <td>193.7</td>\n      <td>82</td>\n      <td>8.72</td>\n      <td>11.6</td>\n      <td>4</td>\n      <td>3.13</td>\n      <td>1</td>\n      <td>False.</td>\n    </tr>\n    <tr>\n      <th>3325</th>\n      <td>OH</td>\n      <td>78</td>\n      <td>408</td>\n      <td>368-8555</td>\n      <td>no</td>\n      <td>no</td>\n      <td>0</td>\n      <td>193.4</td>\n      <td>99</td>\n      <td>32.88</td>\n      <td>...</td>\n      <td>88</td>\n      <td>9.94</td>\n      <td>243.3</td>\n      <td>109</td>\n      <td>10.95</td>\n      <td>9.3</td>\n      <td>4</td>\n      <td>2.51</td>\n      <td>2</td>\n      <td>False.</td>\n    </tr>\n    <tr>\n      <th>3326</th>\n      <td>OH</td>\n      <td>96</td>\n      <td>415</td>\n      <td>347-6812</td>\n      <td>no</td>\n      <td>no</td>\n      <td>0</td>\n      <td>106.6</td>\n      <td>128</td>\n      <td>18.12</td>\n      <td>...</td>\n      <td>87</td>\n      <td>24.21</td>\n      <td>178.9</td>\n      <td>92</td>\n      <td>8.05</td>\n      <td>14.9</td>\n      <td>7</td>\n      <td>4.02</td>\n      <td>1</td>\n      <td>False.</td>\n    </tr>\n    <tr>\n      <th>3327</th>\n      <td>SC</td>\n      <td>79</td>\n      <td>415</td>\n      <td>348-3830</td>\n      <td>no</td>\n      <td>no</td>\n      <td>0</td>\n      <td>134.7</td>\n      <td>98</td>\n      <td>22.90</td>\n      <td>...</td>\n      <td>68</td>\n      <td>16.12</td>\n      <td>221.4</td>\n      <td>128</td>\n      <td>9.96</td>\n      <td>11.8</td>\n      <td>5</td>\n      <td>3.19</td>\n      <td>2</td>\n      <td>False.</td>\n    </tr>\n    <tr>\n      <th>3328</th>\n      <td>AZ</td>\n      <td>192</td>\n      <td>415</td>\n      <td>414-4276</td>\n      <td>no</td>\n      <td>yes</td>\n      <td>36</td>\n      <td>156.2</td>\n      <td>77</td>\n      <td>26.55</td>\n      <td>...</td>\n      <td>126</td>\n      <td>18.32</td>\n      <td>279.1</td>\n      <td>83</td>\n      <td>12.56</td>\n      <td>9.9</td>\n      <td>6</td>\n      <td>2.67</td>\n      <td>2</td>\n      <td>False.</td>\n    </tr>\n    <tr>\n      <th>3329</th>\n      <td>WV</td>\n      <td>68</td>\n      <td>415</td>\n      <td>370-3271</td>\n      <td>no</td>\n      <td>no</td>\n      <td>0</td>\n      <td>231.1</td>\n      <td>57</td>\n      <td>39.29</td>\n      <td>...</td>\n      <td>55</td>\n      <td>13.04</td>\n      <td>191.3</td>\n      <td>123</td>\n      <td>8.61</td>\n      <td>9.6</td>\n      <td>4</td>\n      <td>2.59</td>\n      <td>3</td>\n      <td>False.</td>\n    </tr>\n    <tr>\n      <th>3330</th>\n      <td>RI</td>\n      <td>28</td>\n      <td>510</td>\n      <td>328-8230</td>\n      <td>no</td>\n      <td>no</td>\n      <td>0</td>\n      <td>180.8</td>\n      <td>109</td>\n      <td>30.74</td>\n      <td>...</td>\n      <td>58</td>\n      <td>24.55</td>\n      <td>191.9</td>\n      <td>91</td>\n      <td>8.64</td>\n      <td>14.1</td>\n      <td>6</td>\n      <td>3.81</td>\n      <td>2</td>\n      <td>False.</td>\n    </tr>\n    <tr>\n      <th>3331</th>\n      <td>CT</td>\n      <td>184</td>\n      <td>510</td>\n      <td>364-6381</td>\n      <td>yes</td>\n      <td>no</td>\n      <td>0</td>\n      <td>213.8</td>\n      <td>105</td>\n      <td>36.35</td>\n      <td>...</td>\n      <td>84</td>\n      <td>13.57</td>\n      <td>139.2</td>\n      <td>137</td>\n      <td>6.26</td>\n      <td>5.0</td>\n      <td>10</td>\n      <td>1.35</td>\n      <td>2</td>\n      <td>False.</td>\n    </tr>\n    <tr>\n      <th>3332</th>\n      <td>TN</td>\n      <td>74</td>\n      <td>415</td>\n      <td>400-4344</td>\n      <td>no</td>\n      <td>yes</td>\n      <td>25</td>\n      <td>234.4</td>\n      <td>113</td>\n      <td>39.85</td>\n      <td>...</td>\n      <td>82</td>\n      <td>22.60</td>\n      <td>241.4</td>\n      <td>77</td>\n      <td>10.86</td>\n      <td>13.7</td>\n      <td>4</td>\n      <td>3.70</td>\n      <td>0</td>\n      <td>False.</td>\n    </tr>\n  </tbody>\n</table>\n<p>13 rows × 21 columns</p>\n</div>",
      "text/plain": "     State  Account Length  Area Code     Phone Int'l Plan VMail Plan  \\\n3320    GA             122        510  411-5677        yes         no   \n3321    VT              60        415  400-2738         no         no   \n3322    MD              62        408  409-1856         no         no   \n3323    IN             117        415  362-5899         no         no   \n3324    WV             159        415  377-1164         no         no   \n3325    OH              78        408  368-8555         no         no   \n3326    OH              96        415  347-6812         no         no   \n3327    SC              79        415  348-3830         no         no   \n3328    AZ             192        415  414-4276         no        yes   \n3329    WV              68        415  370-3271         no         no   \n3330    RI              28        510  328-8230         no         no   \n3331    CT             184        510  364-6381        yes         no   \n3332    TN              74        415  400-4344         no        yes   \n\n      VMail Message  Day Mins  Day Calls  Day Charge  ...  Eve Calls  \\\n3320              0     140.0        101       23.80  ...         77   \n3321              0     193.9        118       32.96  ...        110   \n3322              0     321.1        105       54.59  ...        122   \n3323              0     118.4        126       20.13  ...         97   \n3324              0     169.8        114       28.87  ...        105   \n3325              0     193.4         99       32.88  ...         88   \n3326              0     106.6        128       18.12  ...         87   \n3327              0     134.7         98       22.90  ...         68   \n3328             36     156.2         77       26.55  ...        126   \n3329              0     231.1         57       39.29  ...         55   \n3330              0     180.8        109       30.74  ...         58   \n3331              0     213.8        105       36.35  ...         84   \n3332             25     234.4        113       39.85  ...         82   \n\n      Eve Charge  Night Mins  Night Calls  Night Charge  Intl Mins  \\\n3320       16.69       120.1          133          5.40        9.7   \n3321        7.23       210.1          134          9.45       13.2   \n3322       22.57       180.5           72          8.12       11.5   \n3323       21.19       227.0           56         10.22       13.6   \n3324       16.80       193.7           82          8.72       11.6   \n3325        9.94       243.3          109         10.95        9.3   \n3326       24.21       178.9           92          8.05       14.9   \n3327       16.12       221.4          128          9.96       11.8   \n3328       18.32       279.1           83         12.56        9.9   \n3329       13.04       191.3          123          8.61        9.6   \n3330       24.55       191.9           91          8.64       14.1   \n3331       13.57       139.2          137          6.26        5.0   \n3332       22.60       241.4           77         10.86       13.7   \n\n      Intl Calls  Intl Charge  CustServ Calls  Churn?  \n3320           4         2.62               4   True.  \n3321           8         3.56               3  False.  \n3322           2         3.11               4   True.  \n3323           3         3.67               5   True.  \n3324           4         3.13               1  False.  \n3325           4         2.51               2  False.  \n3326           7         4.02               1  False.  \n3327           5         3.19               2  False.  \n3328           6         2.67               2  False.  \n3329           4         2.59               3  False.  \n3330           6         3.81               2  False.  \n3331          10         1.35               2  False.  \n3332           4         3.70               0  False.  \n\n[13 rows x 21 columns]"
     },
     "execution_count": 153,
     "metadata": {},
     "output_type": "execute_result"
    }
   ],
   "source": [
    "data[3320:]"
   ]
  },
  {
   "cell_type": "code",
   "execution_count": 154,
   "metadata": {},
   "outputs": [
    {
     "data": {
      "text/plain": "(43, 21)"
     },
     "execution_count": 154,
     "metadata": {},
     "output_type": "execute_result"
    }
   ],
   "source": [
    "##Usuarios con total Mins>200\n",
    "data1= data[data[\"Day Mins\"]>300]\n",
    "data1.shape"
   ]
  },
  {
   "cell_type": "code",
   "execution_count": 155,
   "metadata": {},
   "outputs": [
    {
     "data": {
      "text/plain": "(83, 21)"
     },
     "execution_count": 155,
     "metadata": {},
     "output_type": "execute_result"
    }
   ],
   "source": [
    "##Usuarios En New York\n",
    "data2= data[data[\"State\"]==\"NY\"]\n",
    "data2.shape"
   ]
  },
  {
   "cell_type": "code",
   "execution_count": 156,
   "metadata": {},
   "outputs": [
    {
     "data": {
      "text/plain": "(2, 21)"
     },
     "execution_count": 156,
     "metadata": {},
     "output_type": "execute_result"
    }
   ],
   "source": [
    "##AND & \n",
    "data3= data[(data[\"Day Mins\"]>300) & (data[\"State\"]==\"NY\")]\n",
    "data3.shape"
   ]
  },
  {
   "cell_type": "code",
   "execution_count": 157,
   "metadata": {},
   "outputs": [
    {
     "data": {
      "text/plain": "(124, 21)"
     },
     "execution_count": 157,
     "metadata": {},
     "output_type": "execute_result"
    }
   ],
   "source": [
    "#OR | \n",
    "data4= data[(data[\"Day Mins\"]>300) | (data[\"State\"]==\"NY\")]\n",
    "data4.shape"
   ]
  },
  {
   "cell_type": "code",
   "execution_count": 161,
   "metadata": {},
   "outputs": [
    {
     "data": {
      "text/plain": "(1626, 21)"
     },
     "execution_count": 161,
     "metadata": {},
     "output_type": "execute_result"
    }
   ],
   "source": [
    "data4= data[data[\"Day Calls\"] < data[\"Night Calls\"]]\n",
    "data4.shape"
   ]
  },
  {
   "cell_type": "code",
   "execution_count": 163,
   "metadata": {},
   "outputs": [
    {
     "data": {
      "text/plain": "(50, 3)"
     },
     "execution_count": 163,
     "metadata": {},
     "output_type": "execute_result"
    }
   ],
   "source": [
    "## Minutos de dia, de noche y longitud de la cuenta de los primeros 50 individuos\n",
    "subset_first_50=data[[\"Day Mins\",\"Night Mins\",\"Account Length\"]][:50]\n",
    "subset_first_50.shape"
   ]
  },
  {
   "cell_type": "code",
   "execution_count": 165,
   "metadata": {},
   "outputs": [
    {
     "data": {
      "text/html": "<div>\n<style scoped>\n    .dataframe tbody tr th:only-of-type {\n        vertical-align: middle;\n    }\n\n    .dataframe tbody tr th {\n        vertical-align: top;\n    }\n\n    .dataframe thead th {\n        text-align: right;\n    }\n</style>\n<table border=\"1\" class=\"dataframe\">\n  <thead>\n    <tr style=\"text-align: right;\">\n      <th></th>\n      <th>Phone</th>\n      <th>Int'l Plan</th>\n      <th>VMail Plan</th>\n    </tr>\n  </thead>\n  <tbody>\n    <tr>\n      <th>1</th>\n      <td>371-7191</td>\n      <td>no</td>\n      <td>yes</td>\n    </tr>\n    <tr>\n      <th>2</th>\n      <td>358-1921</td>\n      <td>no</td>\n      <td>no</td>\n    </tr>\n    <tr>\n      <th>3</th>\n      <td>375-9999</td>\n      <td>yes</td>\n      <td>no</td>\n    </tr>\n    <tr>\n      <th>4</th>\n      <td>330-6626</td>\n      <td>yes</td>\n      <td>no</td>\n    </tr>\n    <tr>\n      <th>5</th>\n      <td>391-8027</td>\n      <td>yes</td>\n      <td>no</td>\n    </tr>\n    <tr>\n      <th>6</th>\n      <td>355-9993</td>\n      <td>no</td>\n      <td>yes</td>\n    </tr>\n    <tr>\n      <th>7</th>\n      <td>329-9001</td>\n      <td>yes</td>\n      <td>no</td>\n    </tr>\n    <tr>\n      <th>8</th>\n      <td>335-4719</td>\n      <td>no</td>\n      <td>no</td>\n    </tr>\n    <tr>\n      <th>9</th>\n      <td>330-8173</td>\n      <td>yes</td>\n      <td>yes</td>\n    </tr>\n  </tbody>\n</table>\n</div>",
      "text/plain": "      Phone Int'l Plan VMail Plan\n1  371-7191         no        yes\n2  358-1921         no         no\n3  375-9999        yes         no\n4  330-6626        yes         no\n5  391-8027        yes         no\n6  355-9993         no        yes\n7  329-9001        yes         no\n8  335-4719         no         no\n9  330-8173        yes        yes"
     },
     "execution_count": 165,
     "metadata": {},
     "output_type": "execute_result"
    }
   ],
   "source": [
    "data.iloc[1:10, 3:6] #10filas 3-6columns"
   ]
  },
  {
   "cell_type": "code",
   "execution_count": 166,
   "metadata": {},
   "outputs": [
    {
     "data": {
      "text/plain": "(3333, 21)"
     },
     "execution_count": 166,
     "metadata": {},
     "output_type": "execute_result"
    }
   ],
   "source": [
    "data.iloc[:, 3:6] #all filas 3-6columns\n",
    "data.iloc[:10, :] #1-10 filas all columns\n",
    "data.shape"
   ]
  },
  {
   "cell_type": "code",
   "execution_count": 167,
   "metadata": {},
   "outputs": [
    {
     "data": {
      "text/html": "<div>\n<style scoped>\n    .dataframe tbody tr th:only-of-type {\n        vertical-align: middle;\n    }\n\n    .dataframe tbody tr th {\n        vertical-align: top;\n    }\n\n    .dataframe thead th {\n        text-align: right;\n    }\n</style>\n<table border=\"1\" class=\"dataframe\">\n  <thead>\n    <tr style=\"text-align: right;\">\n      <th></th>\n      <th>Area Code</th>\n      <th>VMail Plan</th>\n      <th>Day Mins</th>\n    </tr>\n  </thead>\n  <tbody>\n    <tr>\n      <th>1</th>\n      <td>415</td>\n      <td>yes</td>\n      <td>161.6</td>\n    </tr>\n    <tr>\n      <th>2</th>\n      <td>415</td>\n      <td>no</td>\n      <td>243.4</td>\n    </tr>\n    <tr>\n      <th>3</th>\n      <td>408</td>\n      <td>no</td>\n      <td>299.4</td>\n    </tr>\n    <tr>\n      <th>4</th>\n      <td>415</td>\n      <td>no</td>\n      <td>166.7</td>\n    </tr>\n    <tr>\n      <th>5</th>\n      <td>510</td>\n      <td>no</td>\n      <td>223.4</td>\n    </tr>\n    <tr>\n      <th>6</th>\n      <td>510</td>\n      <td>yes</td>\n      <td>218.2</td>\n    </tr>\n    <tr>\n      <th>7</th>\n      <td>415</td>\n      <td>no</td>\n      <td>157.0</td>\n    </tr>\n    <tr>\n      <th>8</th>\n      <td>408</td>\n      <td>no</td>\n      <td>184.5</td>\n    </tr>\n    <tr>\n      <th>9</th>\n      <td>415</td>\n      <td>yes</td>\n      <td>258.6</td>\n    </tr>\n  </tbody>\n</table>\n</div>",
      "text/plain": "   Area Code VMail Plan  Day Mins\n1        415        yes     161.6\n2        415         no     243.4\n3        408         no     299.4\n4        415         no     166.7\n5        510         no     223.4\n6        510        yes     218.2\n7        415         no     157.0\n8        408         no     184.5\n9        415        yes     258.6"
     },
     "execution_count": 167,
     "metadata": {},
     "output_type": "execute_result"
    }
   ],
   "source": [
    "data.iloc[1:10, [2,5,7]]"
   ]
  },
  {
   "cell_type": "code",
   "execution_count": 169,
   "metadata": {},
   "outputs": [
    {
     "data": {
      "text/html": "<div>\n<style scoped>\n    .dataframe tbody tr th:only-of-type {\n        vertical-align: middle;\n    }\n\n    .dataframe tbody tr th {\n        vertical-align: top;\n    }\n\n    .dataframe thead th {\n        text-align: right;\n    }\n</style>\n<table border=\"1\" class=\"dataframe\">\n  <thead>\n    <tr style=\"text-align: right;\">\n      <th></th>\n      <th>Area Code</th>\n      <th>VMail Plan</th>\n      <th>Day Mins</th>\n    </tr>\n  </thead>\n  <tbody>\n    <tr>\n      <th>1</th>\n      <td>415</td>\n      <td>yes</td>\n      <td>161.6</td>\n    </tr>\n    <tr>\n      <th>5</th>\n      <td>510</td>\n      <td>no</td>\n      <td>223.4</td>\n    </tr>\n    <tr>\n      <th>8</th>\n      <td>408</td>\n      <td>no</td>\n      <td>184.5</td>\n    </tr>\n    <tr>\n      <th>36</th>\n      <td>408</td>\n      <td>yes</td>\n      <td>146.3</td>\n    </tr>\n  </tbody>\n</table>\n</div>",
      "text/plain": "    Area Code VMail Plan  Day Mins\n1         415        yes     161.6\n5         510         no     223.4\n8         408         no     184.5\n36        408        yes     146.3"
     },
     "execution_count": 169,
     "metadata": {},
     "output_type": "execute_result"
    }
   ],
   "source": [
    "data.iloc[[1,5,8,36], [2,5,7]]"
   ]
  },
  {
   "cell_type": "code",
   "execution_count": 170,
   "metadata": {},
   "outputs": [
    {
     "data": {
      "text/html": "<div>\n<style scoped>\n    .dataframe tbody tr th:only-of-type {\n        vertical-align: middle;\n    }\n\n    .dataframe tbody tr th {\n        vertical-align: top;\n    }\n\n    .dataframe thead th {\n        text-align: right;\n    }\n</style>\n<table border=\"1\" class=\"dataframe\">\n  <thead>\n    <tr style=\"text-align: right;\">\n      <th></th>\n      <th>Area Code</th>\n      <th>VMail Plan</th>\n      <th>Day Mins</th>\n    </tr>\n  </thead>\n  <tbody>\n    <tr>\n      <th>1</th>\n      <td>415</td>\n      <td>yes</td>\n      <td>161.6</td>\n    </tr>\n    <tr>\n      <th>5</th>\n      <td>510</td>\n      <td>no</td>\n      <td>223.4</td>\n    </tr>\n    <tr>\n      <th>8</th>\n      <td>408</td>\n      <td>no</td>\n      <td>184.5</td>\n    </tr>\n    <tr>\n      <th>36</th>\n      <td>408</td>\n      <td>yes</td>\n      <td>146.3</td>\n    </tr>\n  </tbody>\n</table>\n</div>",
      "text/plain": "    Area Code VMail Plan  Day Mins\n1         415        yes     161.6\n5         510         no     223.4\n8         408         no     184.5\n36        408        yes     146.3"
     },
     "execution_count": 170,
     "metadata": {},
     "output_type": "execute_result"
    }
   ],
   "source": [
    "data.loc[[1,5,8,36], [\"Area Code\", \"VMail Plan\", \"Day Mins\"]]"
   ]
  },
  {
   "cell_type": "code",
   "execution_count": 171,
   "metadata": {},
   "outputs": [],
   "source": [
    "data[\"Total Mins\"]= data[\"Day Mins\"] + data[\"Night Mins\"] + data[\"Eve Mins\"]"
   ]
  },
  {
   "cell_type": "code",
   "execution_count": 172,
   "metadata": {},
   "outputs": [
    {
     "data": {
      "text/plain": "0    707.2\n1    611.5\n2    527.2\n3    558.2\n4    501.9\nName: Total Mins, dtype: float64"
     },
     "execution_count": 172,
     "metadata": {},
     "output_type": "execute_result"
    }
   ],
   "source": [
    "data[\"Total Mins\"].head()"
   ]
  },
  {
   "cell_type": "code",
   "execution_count": 173,
   "metadata": {},
   "outputs": [
    {
     "data": {
      "text/plain": "0    300\n1    329\n2    328\n3    248\n4    356\nName: Total Calls, dtype: int64"
     },
     "execution_count": 173,
     "metadata": {},
     "output_type": "execute_result"
    }
   ],
   "source": [
    "data[\"Total Calls\"]= data[\"Day Calls\"] + data[\"Night Calls\"] + data[\"Eve Calls\"]\n",
    "data[\"Total Calls\"].head()"
   ]
  },
  {
   "cell_type": "code",
   "execution_count": 174,
   "metadata": {},
   "outputs": [
    {
     "data": {
      "text/plain": "(3333, 23)"
     },
     "execution_count": 174,
     "metadata": {},
     "output_type": "execute_result"
    }
   ],
   "source": [
    "data.shape"
   ]
  },
  {
   "cell_type": "code",
   "execution_count": 175,
   "metadata": {},
   "outputs": [
    {
     "data": {
      "text/html": "<div>\n<style scoped>\n    .dataframe tbody tr th:only-of-type {\n        vertical-align: middle;\n    }\n\n    .dataframe tbody tr th {\n        vertical-align: top;\n    }\n\n    .dataframe thead th {\n        text-align: right;\n    }\n</style>\n<table border=\"1\" class=\"dataframe\">\n  <thead>\n    <tr style=\"text-align: right;\">\n      <th></th>\n      <th>State</th>\n      <th>Account Length</th>\n      <th>Area Code</th>\n      <th>Phone</th>\n      <th>Int'l Plan</th>\n      <th>VMail Plan</th>\n      <th>VMail Message</th>\n      <th>Day Mins</th>\n      <th>Day Calls</th>\n      <th>Day Charge</th>\n      <th>...</th>\n      <th>Night Mins</th>\n      <th>Night Calls</th>\n      <th>Night Charge</th>\n      <th>Intl Mins</th>\n      <th>Intl Calls</th>\n      <th>Intl Charge</th>\n      <th>CustServ Calls</th>\n      <th>Churn?</th>\n      <th>Total Mins</th>\n      <th>Total Calls</th>\n    </tr>\n  </thead>\n  <tbody>\n    <tr>\n      <th>0</th>\n      <td>KS</td>\n      <td>128</td>\n      <td>415</td>\n      <td>382-4657</td>\n      <td>no</td>\n      <td>yes</td>\n      <td>25</td>\n      <td>265.1</td>\n      <td>110</td>\n      <td>45.07</td>\n      <td>...</td>\n      <td>244.7</td>\n      <td>91</td>\n      <td>11.01</td>\n      <td>10.0</td>\n      <td>3</td>\n      <td>2.70</td>\n      <td>1</td>\n      <td>False.</td>\n      <td>707.2</td>\n      <td>300</td>\n    </tr>\n    <tr>\n      <th>1</th>\n      <td>OH</td>\n      <td>107</td>\n      <td>415</td>\n      <td>371-7191</td>\n      <td>no</td>\n      <td>yes</td>\n      <td>26</td>\n      <td>161.6</td>\n      <td>123</td>\n      <td>27.47</td>\n      <td>...</td>\n      <td>254.4</td>\n      <td>103</td>\n      <td>11.45</td>\n      <td>13.7</td>\n      <td>3</td>\n      <td>3.70</td>\n      <td>1</td>\n      <td>False.</td>\n      <td>611.5</td>\n      <td>329</td>\n    </tr>\n    <tr>\n      <th>2</th>\n      <td>NJ</td>\n      <td>137</td>\n      <td>415</td>\n      <td>358-1921</td>\n      <td>no</td>\n      <td>no</td>\n      <td>0</td>\n      <td>243.4</td>\n      <td>114</td>\n      <td>41.38</td>\n      <td>...</td>\n      <td>162.6</td>\n      <td>104</td>\n      <td>7.32</td>\n      <td>12.2</td>\n      <td>5</td>\n      <td>3.29</td>\n      <td>0</td>\n      <td>False.</td>\n      <td>527.2</td>\n      <td>328</td>\n    </tr>\n    <tr>\n      <th>3</th>\n      <td>OH</td>\n      <td>84</td>\n      <td>408</td>\n      <td>375-9999</td>\n      <td>yes</td>\n      <td>no</td>\n      <td>0</td>\n      <td>299.4</td>\n      <td>71</td>\n      <td>50.90</td>\n      <td>...</td>\n      <td>196.9</td>\n      <td>89</td>\n      <td>8.86</td>\n      <td>6.6</td>\n      <td>7</td>\n      <td>1.78</td>\n      <td>2</td>\n      <td>False.</td>\n      <td>558.2</td>\n      <td>248</td>\n    </tr>\n    <tr>\n      <th>4</th>\n      <td>OK</td>\n      <td>75</td>\n      <td>415</td>\n      <td>330-6626</td>\n      <td>yes</td>\n      <td>no</td>\n      <td>0</td>\n      <td>166.7</td>\n      <td>113</td>\n      <td>28.34</td>\n      <td>...</td>\n      <td>186.9</td>\n      <td>121</td>\n      <td>8.41</td>\n      <td>10.1</td>\n      <td>3</td>\n      <td>2.73</td>\n      <td>3</td>\n      <td>False.</td>\n      <td>501.9</td>\n      <td>356</td>\n    </tr>\n  </tbody>\n</table>\n<p>5 rows × 23 columns</p>\n</div>",
      "text/plain": "  State  Account Length  Area Code     Phone Int'l Plan VMail Plan  \\\n0    KS             128        415  382-4657         no        yes   \n1    OH             107        415  371-7191         no        yes   \n2    NJ             137        415  358-1921         no         no   \n3    OH              84        408  375-9999        yes         no   \n4    OK              75        415  330-6626        yes         no   \n\n   VMail Message  Day Mins  Day Calls  Day Charge  ...  Night Mins  \\\n0             25     265.1        110       45.07  ...       244.7   \n1             26     161.6        123       27.47  ...       254.4   \n2              0     243.4        114       41.38  ...       162.6   \n3              0     299.4         71       50.90  ...       196.9   \n4              0     166.7        113       28.34  ...       186.9   \n\n   Night Calls  Night Charge  Intl Mins  Intl Calls  Intl Charge  \\\n0           91         11.01       10.0           3         2.70   \n1          103         11.45       13.7           3         3.70   \n2          104          7.32       12.2           5         3.29   \n3           89          8.86        6.6           7         1.78   \n4          121          8.41       10.1           3         2.73   \n\n   CustServ Calls  Churn?  Total Mins  Total Calls  \n0               1  False.       707.2          300  \n1               1  False.       611.5          329  \n2               0  False.       527.2          328  \n3               2  False.       558.2          248  \n4               3  False.       501.9          356  \n\n[5 rows x 23 columns]"
     },
     "execution_count": 175,
     "metadata": {},
     "output_type": "execute_result"
    }
   ],
   "source": [
    "data.head()"
   ]
  },
  {
   "cell_type": "markdown",
   "execution_count": null,
   "metadata": {},
   "outputs": [],
   "source": [
    "## Generacion aleatoria de numeros"
   ]
  },
  {
   "cell_type": "code",
   "execution_count": 179,
   "metadata": {},
   "outputs": [],
   "source": [
    "import numpy as np"
   ]
  },
  {
   "cell_type": "code",
   "execution_count": 200,
   "metadata": {},
   "outputs": [
    {
     "data": {
      "text/plain": "89"
     },
     "execution_count": 200,
     "metadata": {},
     "output_type": "execute_result"
    }
   ],
   "source": [
    "# Generar numero aleatorio 1-100\n",
    "np.random.randint(1,100)"
   ]
  },
  {
   "cell_type": "code",
   "execution_count": 214,
   "metadata": {},
   "outputs": [
    {
     "data": {
      "text/plain": "0.9907256455088483"
     },
     "execution_count": 214,
     "metadata": {},
     "output_type": "execute_result"
    }
   ],
   "source": [
    "## la forma mas clasica de generar un numero aleatorio es entre 0 y 1 (con decimales)\n",
    "np.random.random()"
   ]
  },
  {
   "cell_type": "code",
   "execution_count": 217,
   "metadata": {},
   "outputs": [],
   "source": [
    "## Funcion que genera una lista de n numeros aleatorios enteros dentro del intervalo[a,b]\n",
    "def randint_list(n, a, b):\n",
    "    x=[]\n",
    "    for i in range(n):\n",
    "        x.append(np.random.randint(a,b))\n",
    "    return x\n",
    "    "
   ]
  },
  {
   "cell_type": "code",
   "execution_count": 218,
   "metadata": {},
   "outputs": [
    {
     "data": {
      "text/plain": "[12,\n 37,\n 3,\n 11,\n 18,\n 18,\n 12,\n 41,\n 25,\n 38,\n 18,\n 38,\n 30,\n 9,\n 33,\n 10,\n 39,\n 10,\n 37,\n 9,\n 23,\n 40,\n 2,\n 38,\n 28]"
     },
     "execution_count": 218,
     "metadata": {},
     "output_type": "execute_result"
    }
   ],
   "source": [
    "randint_list(25, 1, 50)"
   ]
  },
  {
   "cell_type": "code",
   "execution_count": 219,
   "metadata": {},
   "outputs": [],
   "source": [
    "import random"
   ]
  },
  {
   "cell_type": "code",
   "execution_count": 227,
   "metadata": {},
   "outputs": [
    {
     "name": "stdout",
     "output_type": "stream",
     "text": "8\n64\n40\n56\n56\n48\n96\n8\n56\n80\n"
    }
   ],
   "source": [
    "for i in range(10):\n",
    "    print(random.randrange(0, 100,8))"
   ]
  },
  {
   "cell_type": "markdown",
   "execution_count": null,
   "metadata": {},
   "outputs": [],
   "source": [
    "## shuffling"
   ]
  },
  {
   "cell_type": "code",
   "execution_count": 230,
   "metadata": {},
   "outputs": [
    {
     "data": {
      "text/plain": "array([ 0,  1,  2,  3,  4,  5,  6,  7,  8,  9, 10, 11, 12, 13, 14, 15, 16,\n       17, 18, 19, 20, 21, 22, 23, 24, 25, 26, 27, 28, 29, 30, 31, 32, 33,\n       34, 35, 36, 37, 38, 39, 40, 41, 42, 43, 44, 45, 46, 47, 48, 49, 50,\n       51, 52, 53, 54, 55, 56, 57, 58, 59, 60, 61, 62, 63, 64, 65, 66, 67,\n       68, 69, 70, 71, 72, 73, 74, 75, 76, 77, 78, 79, 80, 81, 82, 83, 84,\n       85, 86, 87, 88, 89, 90, 91, 92, 93, 94, 95, 96, 97, 98, 99])"
     },
     "execution_count": 230,
     "metadata": {},
     "output_type": "execute_result"
    }
   ],
   "source": [
    "a = np.arange(100)\n",
    "a"
   ]
  },
  {
   "cell_type": "code",
   "execution_count": 231,
   "metadata": {},
   "outputs": [
    {
     "data": {
      "text/plain": "array([20, 76, 82, 54, 53, 85, 90, 89, 63, 50, 79, 21, 59, 23, 43, 56, 40,\n       33, 68, 29, 80, 71,  3, 81, 36, 27, 42, 41, 46, 31, 30, 75, 44, 52,\n       99,  6, 14, 47, 61, 58, 98, 22, 28, 25, 51, 77, 69, 48, 92, 24, 88,\n       70, 17, 39, 37, 11,  8, 66, 32, 84, 87, 97, 49, 45, 34, 18,  0, 91,\n        7, 94, 96,  2, 13, 35, 12, 64, 65, 10, 95,  9, 15, 93, 26,  4, 19,\n       72, 67, 60,  5, 78, 86, 62, 55, 16, 73,  1, 83, 38, 74, 57])"
     },
     "execution_count": 231,
     "metadata": {},
     "output_type": "execute_result"
    }
   ],
   "source": [
    "np.random.shuffle(a)\n",
    "a"
   ]
  },
  {
   "cell_type": "code",
   "execution_count": 233,
   "metadata": {},
   "outputs": [
    {
     "data": {
      "text/html": "<div>\n<style scoped>\n    .dataframe tbody tr th:only-of-type {\n        vertical-align: middle;\n    }\n\n    .dataframe tbody tr th {\n        vertical-align: top;\n    }\n\n    .dataframe thead th {\n        text-align: right;\n    }\n</style>\n<table border=\"1\" class=\"dataframe\">\n  <thead>\n    <tr style=\"text-align: right;\">\n      <th></th>\n      <th>State</th>\n      <th>Account Length</th>\n      <th>Area Code</th>\n      <th>Phone</th>\n      <th>Int'l Plan</th>\n      <th>VMail Plan</th>\n      <th>VMail Message</th>\n      <th>Day Mins</th>\n      <th>Day Calls</th>\n      <th>Day Charge</th>\n      <th>...</th>\n      <th>Night Mins</th>\n      <th>Night Calls</th>\n      <th>Night Charge</th>\n      <th>Intl Mins</th>\n      <th>Intl Calls</th>\n      <th>Intl Charge</th>\n      <th>CustServ Calls</th>\n      <th>Churn?</th>\n      <th>Total Mins</th>\n      <th>Total Calls</th>\n    </tr>\n  </thead>\n  <tbody>\n    <tr>\n      <th>0</th>\n      <td>KS</td>\n      <td>128</td>\n      <td>415</td>\n      <td>382-4657</td>\n      <td>no</td>\n      <td>yes</td>\n      <td>25</td>\n      <td>265.1</td>\n      <td>110</td>\n      <td>45.07</td>\n      <td>...</td>\n      <td>244.7</td>\n      <td>91</td>\n      <td>11.01</td>\n      <td>10.0</td>\n      <td>3</td>\n      <td>2.70</td>\n      <td>1</td>\n      <td>False.</td>\n      <td>707.2</td>\n      <td>300</td>\n    </tr>\n    <tr>\n      <th>1</th>\n      <td>OH</td>\n      <td>107</td>\n      <td>415</td>\n      <td>371-7191</td>\n      <td>no</td>\n      <td>yes</td>\n      <td>26</td>\n      <td>161.6</td>\n      <td>123</td>\n      <td>27.47</td>\n      <td>...</td>\n      <td>254.4</td>\n      <td>103</td>\n      <td>11.45</td>\n      <td>13.7</td>\n      <td>3</td>\n      <td>3.70</td>\n      <td>1</td>\n      <td>False.</td>\n      <td>611.5</td>\n      <td>329</td>\n    </tr>\n    <tr>\n      <th>2</th>\n      <td>NJ</td>\n      <td>137</td>\n      <td>415</td>\n      <td>358-1921</td>\n      <td>no</td>\n      <td>no</td>\n      <td>0</td>\n      <td>243.4</td>\n      <td>114</td>\n      <td>41.38</td>\n      <td>...</td>\n      <td>162.6</td>\n      <td>104</td>\n      <td>7.32</td>\n      <td>12.2</td>\n      <td>5</td>\n      <td>3.29</td>\n      <td>0</td>\n      <td>False.</td>\n      <td>527.2</td>\n      <td>328</td>\n    </tr>\n    <tr>\n      <th>3</th>\n      <td>OH</td>\n      <td>84</td>\n      <td>408</td>\n      <td>375-9999</td>\n      <td>yes</td>\n      <td>no</td>\n      <td>0</td>\n      <td>299.4</td>\n      <td>71</td>\n      <td>50.90</td>\n      <td>...</td>\n      <td>196.9</td>\n      <td>89</td>\n      <td>8.86</td>\n      <td>6.6</td>\n      <td>7</td>\n      <td>1.78</td>\n      <td>2</td>\n      <td>False.</td>\n      <td>558.2</td>\n      <td>248</td>\n    </tr>\n    <tr>\n      <th>4</th>\n      <td>OK</td>\n      <td>75</td>\n      <td>415</td>\n      <td>330-6626</td>\n      <td>yes</td>\n      <td>no</td>\n      <td>0</td>\n      <td>166.7</td>\n      <td>113</td>\n      <td>28.34</td>\n      <td>...</td>\n      <td>186.9</td>\n      <td>121</td>\n      <td>8.41</td>\n      <td>10.1</td>\n      <td>3</td>\n      <td>2.73</td>\n      <td>3</td>\n      <td>False.</td>\n      <td>501.9</td>\n      <td>356</td>\n    </tr>\n  </tbody>\n</table>\n<p>5 rows × 23 columns</p>\n</div>",
      "text/plain": "  State  Account Length  Area Code     Phone Int'l Plan VMail Plan  \\\n0    KS             128        415  382-4657         no        yes   \n1    OH             107        415  371-7191         no        yes   \n2    NJ             137        415  358-1921         no         no   \n3    OH              84        408  375-9999        yes         no   \n4    OK              75        415  330-6626        yes         no   \n\n   VMail Message  Day Mins  Day Calls  Day Charge  ...  Night Mins  \\\n0             25     265.1        110       45.07  ...       244.7   \n1             26     161.6        123       27.47  ...       254.4   \n2              0     243.4        114       41.38  ...       162.6   \n3              0     299.4         71       50.90  ...       196.9   \n4              0     166.7        113       28.34  ...       186.9   \n\n   Night Calls  Night Charge  Intl Mins  Intl Calls  Intl Charge  \\\n0           91         11.01       10.0           3         2.70   \n1          103         11.45       13.7           3         3.70   \n2          104          7.32       12.2           5         3.29   \n3           89          8.86        6.6           7         1.78   \n4          121          8.41       10.1           3         2.73   \n\n   CustServ Calls  Churn?  Total Mins  Total Calls  \n0               1  False.       707.2          300  \n1               1  False.       611.5          329  \n2               0  False.       527.2          328  \n3               2  False.       558.2          248  \n4               3  False.       501.9          356  \n\n[5 rows x 23 columns]"
     },
     "execution_count": 233,
     "metadata": {},
     "output_type": "execute_result"
    }
   ],
   "source": [
    "data.head()"
   ]
  },
  {
   "cell_type": "code",
   "execution_count": 234,
   "metadata": {},
   "outputs": [
    {
     "data": {
      "text/plain": "(3333, 23)"
     },
     "execution_count": 234,
     "metadata": {},
     "output_type": "execute_result"
    }
   ],
   "source": [
    "data.shape"
   ]
  },
  {
   "cell_type": "code",
   "execution_count": 238,
   "metadata": {},
   "outputs": [
    {
     "data": {
      "text/plain": "['State',\n 'Account Length',\n 'Area Code',\n 'Phone',\n \"Int'l Plan\",\n 'VMail Plan',\n 'VMail Message',\n 'Day Mins',\n 'Day Calls',\n 'Day Charge',\n 'Eve Mins',\n 'Eve Calls',\n 'Eve Charge',\n 'Night Mins',\n 'Night Calls',\n 'Night Charge',\n 'Intl Mins',\n 'Intl Calls',\n 'Intl Charge',\n 'CustServ Calls',\n 'Churn?',\n 'Total Mins',\n 'Total Calls']"
     },
     "execution_count": 238,
     "metadata": {},
     "output_type": "execute_result"
    }
   ],
   "source": [
    "column_list=data.columns.values.tolist()\n",
    "column_list"
   ]
  },
  {
   "cell_type": "code",
   "execution_count": 253,
   "metadata": {},
   "outputs": [
    {
     "data": {
      "text/plain": "'State'"
     },
     "execution_count": 253,
     "metadata": {},
     "output_type": "execute_result"
    }
   ],
   "source": [
    "np.random.choice(column_list)"
   ]
  },
  {
   "cell_type": "markdown",
   "execution_count": null,
   "metadata": {},
   "outputs": [],
   "source": [
    "## Seed"
   ]
  },
  {
   "cell_type": "code",
   "execution_count": 260,
   "metadata": {},
   "outputs": [
    {
     "name": "stdout",
     "output_type": "stream",
     "text": "0.8823493117539459\n0.10432773786047767\n0.9070093335163405\n0.3063988986063515\n0.446408872427422\n"
    }
   ],
   "source": [
    "# Semilla repetir el experimento...\n",
    "np.random.seed(2018)\n",
    "for i in range(5):\n",
    "    print(np.random.random())"
   ]
  },
  {
   "cell_type": "code",
   "execution_count": null,
   "metadata": {},
   "outputs": [],
   "source": []
  }
 ]
}