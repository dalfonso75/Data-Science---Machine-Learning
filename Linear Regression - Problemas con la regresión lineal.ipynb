{
 "nbformat": 4,
 "nbformat_minor": 2,
 "metadata": {
  "language_info": {
   "name": "python",
   "codemirror_mode": {
    "name": "ipython",
    "version": 3
   },
   "version": "3.8.2-final"
  },
  "orig_nbformat": 2,
  "file_extension": ".py",
  "mimetype": "text/x-python",
  "name": "python",
  "npconvert_exporter": "python",
  "pygments_lexer": "ipython3",
  "version": 3,
  "kernelspec": {
   "name": "python38232bit188f1c2ff6564de2969c3c8d74de97f9",
   "display_name": "Python 3.8.2 32-bit"
  }
 },
 "cells": [
  {
   "cell_type": "code",
   "execution_count": 4,
   "metadata": {},
   "outputs": [],
   "source": [
    "import pandas as pd\n",
    "import numpy as np\n",
    "from sklearn.linear_model import LinearRegression"
   ]
  },
  {
   "cell_type": "code",
   "execution_count": 5,
   "metadata": {},
   "outputs": [
    {
     "output_type": "execute_result",
     "data": {
      "text/plain": "  Transaction ID  Age    Items   Monthly Income  Transaction Time  Record  \\\n0         TXN001    42       10            7313        627.668127       5   \n1         TXN002    24        8           17747        126.904567       3   \n2         TXN003    47       11           22845        873.469701       2   \n3         TXN004    50       11           18552        380.219428       7   \n4         TXN005    60        2           14439        403.374223       2   \n\n   Gender City Tier  Total Spend  \n0  Female    Tier 1  4198.385084  \n1  Female    Tier 2  4134.976648  \n2    Male    Tier 2  5166.614455  \n3  Female    Tier 1  7784.447676  \n4  Female    Tier 2  3254.160485  ",
      "text/html": "<div>\n<style scoped>\n    .dataframe tbody tr th:only-of-type {\n        vertical-align: middle;\n    }\n\n    .dataframe tbody tr th {\n        vertical-align: top;\n    }\n\n    .dataframe thead th {\n        text-align: right;\n    }\n</style>\n<table border=\"1\" class=\"dataframe\">\n  <thead>\n    <tr style=\"text-align: right;\">\n      <th></th>\n      <th>Transaction ID</th>\n      <th>Age</th>\n      <th>Items</th>\n      <th>Monthly Income</th>\n      <th>Transaction Time</th>\n      <th>Record</th>\n      <th>Gender</th>\n      <th>City Tier</th>\n      <th>Total Spend</th>\n    </tr>\n  </thead>\n  <tbody>\n    <tr>\n      <th>0</th>\n      <td>TXN001</td>\n      <td>42</td>\n      <td>10</td>\n      <td>7313</td>\n      <td>627.668127</td>\n      <td>5</td>\n      <td>Female</td>\n      <td>Tier 1</td>\n      <td>4198.385084</td>\n    </tr>\n    <tr>\n      <th>1</th>\n      <td>TXN002</td>\n      <td>24</td>\n      <td>8</td>\n      <td>17747</td>\n      <td>126.904567</td>\n      <td>3</td>\n      <td>Female</td>\n      <td>Tier 2</td>\n      <td>4134.976648</td>\n    </tr>\n    <tr>\n      <th>2</th>\n      <td>TXN003</td>\n      <td>47</td>\n      <td>11</td>\n      <td>22845</td>\n      <td>873.469701</td>\n      <td>2</td>\n      <td>Male</td>\n      <td>Tier 2</td>\n      <td>5166.614455</td>\n    </tr>\n    <tr>\n      <th>3</th>\n      <td>TXN004</td>\n      <td>50</td>\n      <td>11</td>\n      <td>18552</td>\n      <td>380.219428</td>\n      <td>7</td>\n      <td>Female</td>\n      <td>Tier 1</td>\n      <td>7784.447676</td>\n    </tr>\n    <tr>\n      <th>4</th>\n      <td>TXN005</td>\n      <td>60</td>\n      <td>2</td>\n      <td>14439</td>\n      <td>403.374223</td>\n      <td>2</td>\n      <td>Female</td>\n      <td>Tier 2</td>\n      <td>3254.160485</td>\n    </tr>\n  </tbody>\n</table>\n</div>"
     },
     "metadata": {},
     "execution_count": 5
    }
   ],
   "source": [
    "mainpath= \"d:/python-ml-course-master/datasets\"\n",
    "filename= \"ecom-expense/Ecom Expense.csv\"\n",
    "fullpath =os.path.join(mainpath, filename)\n",
    "df = pd.read_csv(fullpath)\n",
    "df.head()"
   ]
  },
  {
   "cell_type": "code",
   "execution_count": 6,
   "metadata": {},
   "outputs": [],
   "source": [
    "dummy_gender = pd.get_dummies(df[\"Gender\"], prefix = \"Gender\")\n",
    "dummy_city_tier = pd.get_dummies(df[\"City Tier\"], prefix= \"City\") "
   ]
  },
  {
   "cell_type": "code",
   "execution_count": 7,
   "metadata": {},
   "outputs": [
    {
     "output_type": "execute_result",
     "data": {
      "text/plain": "   Gender_Female  Gender_Male\n0              1            0\n1              1            0\n2              0            1\n3              1            0\n4              1            0",
      "text/html": "<div>\n<style scoped>\n    .dataframe tbody tr th:only-of-type {\n        vertical-align: middle;\n    }\n\n    .dataframe tbody tr th {\n        vertical-align: top;\n    }\n\n    .dataframe thead th {\n        text-align: right;\n    }\n</style>\n<table border=\"1\" class=\"dataframe\">\n  <thead>\n    <tr style=\"text-align: right;\">\n      <th></th>\n      <th>Gender_Female</th>\n      <th>Gender_Male</th>\n    </tr>\n  </thead>\n  <tbody>\n    <tr>\n      <th>0</th>\n      <td>1</td>\n      <td>0</td>\n    </tr>\n    <tr>\n      <th>1</th>\n      <td>1</td>\n      <td>0</td>\n    </tr>\n    <tr>\n      <th>2</th>\n      <td>0</td>\n      <td>1</td>\n    </tr>\n    <tr>\n      <th>3</th>\n      <td>1</td>\n      <td>0</td>\n    </tr>\n    <tr>\n      <th>4</th>\n      <td>1</td>\n      <td>0</td>\n    </tr>\n  </tbody>\n</table>\n</div>"
     },
     "metadata": {},
     "execution_count": 7
    }
   ],
   "source": [
    "dummy_gender.head()"
   ]
  },
  {
   "cell_type": "code",
   "execution_count": 8,
   "metadata": {},
   "outputs": [
    {
     "output_type": "execute_result",
     "data": {
      "text/plain": "   City_Tier 1  City_Tier 2  City_Tier 3\n0            1            0            0\n1            0            1            0\n2            0            1            0\n3            1            0            0\n4            0            1            0",
      "text/html": "<div>\n<style scoped>\n    .dataframe tbody tr th:only-of-type {\n        vertical-align: middle;\n    }\n\n    .dataframe tbody tr th {\n        vertical-align: top;\n    }\n\n    .dataframe thead th {\n        text-align: right;\n    }\n</style>\n<table border=\"1\" class=\"dataframe\">\n  <thead>\n    <tr style=\"text-align: right;\">\n      <th></th>\n      <th>City_Tier 1</th>\n      <th>City_Tier 2</th>\n      <th>City_Tier 3</th>\n    </tr>\n  </thead>\n  <tbody>\n    <tr>\n      <th>0</th>\n      <td>1</td>\n      <td>0</td>\n      <td>0</td>\n    </tr>\n    <tr>\n      <th>1</th>\n      <td>0</td>\n      <td>1</td>\n      <td>0</td>\n    </tr>\n    <tr>\n      <th>2</th>\n      <td>0</td>\n      <td>1</td>\n      <td>0</td>\n    </tr>\n    <tr>\n      <th>3</th>\n      <td>1</td>\n      <td>0</td>\n      <td>0</td>\n    </tr>\n    <tr>\n      <th>4</th>\n      <td>0</td>\n      <td>1</td>\n      <td>0</td>\n    </tr>\n  </tbody>\n</table>\n</div>"
     },
     "metadata": {},
     "execution_count": 8
    }
   ],
   "source": [
    "dummy_city_tier.head()"
   ]
  },
  {
   "cell_type": "code",
   "execution_count": 9,
   "metadata": {},
   "outputs": [
    {
     "output_type": "execute_result",
     "data": {
      "text/plain": "['Transaction ID',\n 'Age ',\n ' Items ',\n 'Monthly Income',\n 'Transaction Time',\n 'Record',\n 'Gender',\n 'City Tier',\n 'Total Spend']"
     },
     "metadata": {},
     "execution_count": 9
    }
   ],
   "source": [
    "column_names = df.columns.values.tolist()\n",
    "column_names"
   ]
  },
  {
   "cell_type": "code",
   "execution_count": 10,
   "metadata": {},
   "outputs": [
    {
     "output_type": "execute_result",
     "data": {
      "text/plain": "  Transaction ID  Age    Items   Monthly Income  Transaction Time  Record  \\\n0         TXN001    42       10            7313        627.668127       5   \n1         TXN002    24        8           17747        126.904567       3   \n2         TXN003    47       11           22845        873.469701       2   \n3         TXN004    50       11           18552        380.219428       7   \n4         TXN005    60        2           14439        403.374223       2   \n\n   Gender City Tier  Total Spend  Gender_Female  Gender_Male  \n0  Female    Tier 1  4198.385084              1            0  \n1  Female    Tier 2  4134.976648              1            0  \n2    Male    Tier 2  5166.614455              0            1  \n3  Female    Tier 1  7784.447676              1            0  \n4  Female    Tier 2  3254.160485              1            0  ",
      "text/html": "<div>\n<style scoped>\n    .dataframe tbody tr th:only-of-type {\n        vertical-align: middle;\n    }\n\n    .dataframe tbody tr th {\n        vertical-align: top;\n    }\n\n    .dataframe thead th {\n        text-align: right;\n    }\n</style>\n<table border=\"1\" class=\"dataframe\">\n  <thead>\n    <tr style=\"text-align: right;\">\n      <th></th>\n      <th>Transaction ID</th>\n      <th>Age</th>\n      <th>Items</th>\n      <th>Monthly Income</th>\n      <th>Transaction Time</th>\n      <th>Record</th>\n      <th>Gender</th>\n      <th>City Tier</th>\n      <th>Total Spend</th>\n      <th>Gender_Female</th>\n      <th>Gender_Male</th>\n    </tr>\n  </thead>\n  <tbody>\n    <tr>\n      <th>0</th>\n      <td>TXN001</td>\n      <td>42</td>\n      <td>10</td>\n      <td>7313</td>\n      <td>627.668127</td>\n      <td>5</td>\n      <td>Female</td>\n      <td>Tier 1</td>\n      <td>4198.385084</td>\n      <td>1</td>\n      <td>0</td>\n    </tr>\n    <tr>\n      <th>1</th>\n      <td>TXN002</td>\n      <td>24</td>\n      <td>8</td>\n      <td>17747</td>\n      <td>126.904567</td>\n      <td>3</td>\n      <td>Female</td>\n      <td>Tier 2</td>\n      <td>4134.976648</td>\n      <td>1</td>\n      <td>0</td>\n    </tr>\n    <tr>\n      <th>2</th>\n      <td>TXN003</td>\n      <td>47</td>\n      <td>11</td>\n      <td>22845</td>\n      <td>873.469701</td>\n      <td>2</td>\n      <td>Male</td>\n      <td>Tier 2</td>\n      <td>5166.614455</td>\n      <td>0</td>\n      <td>1</td>\n    </tr>\n    <tr>\n      <th>3</th>\n      <td>TXN004</td>\n      <td>50</td>\n      <td>11</td>\n      <td>18552</td>\n      <td>380.219428</td>\n      <td>7</td>\n      <td>Female</td>\n      <td>Tier 1</td>\n      <td>7784.447676</td>\n      <td>1</td>\n      <td>0</td>\n    </tr>\n    <tr>\n      <th>4</th>\n      <td>TXN005</td>\n      <td>60</td>\n      <td>2</td>\n      <td>14439</td>\n      <td>403.374223</td>\n      <td>2</td>\n      <td>Female</td>\n      <td>Tier 2</td>\n      <td>3254.160485</td>\n      <td>1</td>\n      <td>0</td>\n    </tr>\n  </tbody>\n</table>\n</div>"
     },
     "metadata": {},
     "execution_count": 10
    }
   ],
   "source": [
    "df_new = df[column_names].join(dummy_gender)\n",
    "column_names = df_new.columns.values.tolist()\n",
    "df_new.head()"
   ]
  },
  {
   "cell_type": "code",
   "execution_count": 11,
   "metadata": {},
   "outputs": [
    {
     "output_type": "execute_result",
     "data": {
      "text/plain": "  Transaction ID  Age    Items   Monthly Income  Transaction Time  Record  \\\n0         TXN001    42       10            7313        627.668127       5   \n1         TXN002    24        8           17747        126.904567       3   \n2         TXN003    47       11           22845        873.469701       2   \n3         TXN004    50       11           18552        380.219428       7   \n4         TXN005    60        2           14439        403.374223       2   \n\n   Gender City Tier  Total Spend  Gender_Female  Gender_Male  City_Tier 1  \\\n0  Female    Tier 1  4198.385084              1            0            1   \n1  Female    Tier 2  4134.976648              1            0            0   \n2    Male    Tier 2  5166.614455              0            1            0   \n3  Female    Tier 1  7784.447676              1            0            1   \n4  Female    Tier 2  3254.160485              1            0            0   \n\n   City_Tier 2  City_Tier 3  \n0            0            0  \n1            1            0  \n2            1            0  \n3            0            0  \n4            1            0  ",
      "text/html": "<div>\n<style scoped>\n    .dataframe tbody tr th:only-of-type {\n        vertical-align: middle;\n    }\n\n    .dataframe tbody tr th {\n        vertical-align: top;\n    }\n\n    .dataframe thead th {\n        text-align: right;\n    }\n</style>\n<table border=\"1\" class=\"dataframe\">\n  <thead>\n    <tr style=\"text-align: right;\">\n      <th></th>\n      <th>Transaction ID</th>\n      <th>Age</th>\n      <th>Items</th>\n      <th>Monthly Income</th>\n      <th>Transaction Time</th>\n      <th>Record</th>\n      <th>Gender</th>\n      <th>City Tier</th>\n      <th>Total Spend</th>\n      <th>Gender_Female</th>\n      <th>Gender_Male</th>\n      <th>City_Tier 1</th>\n      <th>City_Tier 2</th>\n      <th>City_Tier 3</th>\n    </tr>\n  </thead>\n  <tbody>\n    <tr>\n      <th>0</th>\n      <td>TXN001</td>\n      <td>42</td>\n      <td>10</td>\n      <td>7313</td>\n      <td>627.668127</td>\n      <td>5</td>\n      <td>Female</td>\n      <td>Tier 1</td>\n      <td>4198.385084</td>\n      <td>1</td>\n      <td>0</td>\n      <td>1</td>\n      <td>0</td>\n      <td>0</td>\n    </tr>\n    <tr>\n      <th>1</th>\n      <td>TXN002</td>\n      <td>24</td>\n      <td>8</td>\n      <td>17747</td>\n      <td>126.904567</td>\n      <td>3</td>\n      <td>Female</td>\n      <td>Tier 2</td>\n      <td>4134.976648</td>\n      <td>1</td>\n      <td>0</td>\n      <td>0</td>\n      <td>1</td>\n      <td>0</td>\n    </tr>\n    <tr>\n      <th>2</th>\n      <td>TXN003</td>\n      <td>47</td>\n      <td>11</td>\n      <td>22845</td>\n      <td>873.469701</td>\n      <td>2</td>\n      <td>Male</td>\n      <td>Tier 2</td>\n      <td>5166.614455</td>\n      <td>0</td>\n      <td>1</td>\n      <td>0</td>\n      <td>1</td>\n      <td>0</td>\n    </tr>\n    <tr>\n      <th>3</th>\n      <td>TXN004</td>\n      <td>50</td>\n      <td>11</td>\n      <td>18552</td>\n      <td>380.219428</td>\n      <td>7</td>\n      <td>Female</td>\n      <td>Tier 1</td>\n      <td>7784.447676</td>\n      <td>1</td>\n      <td>0</td>\n      <td>1</td>\n      <td>0</td>\n      <td>0</td>\n    </tr>\n    <tr>\n      <th>4</th>\n      <td>TXN005</td>\n      <td>60</td>\n      <td>2</td>\n      <td>14439</td>\n      <td>403.374223</td>\n      <td>2</td>\n      <td>Female</td>\n      <td>Tier 2</td>\n      <td>3254.160485</td>\n      <td>1</td>\n      <td>0</td>\n      <td>0</td>\n      <td>1</td>\n      <td>0</td>\n    </tr>\n  </tbody>\n</table>\n</div>"
     },
     "metadata": {},
     "execution_count": 11
    }
   ],
   "source": [
    "df_new = df_new[column_names].join(dummy_city_tier)\n",
    "df_new.head()"
   ]
  },
  {
   "cell_type": "code",
   "execution_count": 12,
   "metadata": {},
   "outputs": [],
   "source": [
    "features_cols = [\"Monthly Income\", \"Transaction Time\", \"Gender_Female\", \"Gender_Male\", \"City_Tier 1\", \"City_Tier 2\", \"City_Tier 3\"]"
   ]
  },
  {
   "cell_type": "code",
   "execution_count": 13,
   "metadata": {},
   "outputs": [],
   "source": [
    "x = df_new[features_cols]\n",
    "y = df_new[\"Total Spend\"]"
   ]
  },
  {
   "cell_type": "code",
   "execution_count": 14,
   "metadata": {},
   "outputs": [
    {
     "output_type": "execute_result",
     "data": {
      "text/plain": "LinearRegression(copy_X=True, fit_intercept=True, n_jobs=None, normalize=False)"
     },
     "metadata": {},
     "execution_count": 14
    }
   ],
   "source": [
    "lm = LinearRegression()\n",
    "lm.fit(x,y) "
   ]
  },
  {
   "cell_type": "code",
   "execution_count": 15,
   "metadata": {},
   "outputs": [
    {
     "output_type": "execute_result",
     "data": {
      "text/plain": "(3655.7294076906564,\n array([   0.15297825,    0.12372609,  -94.15779883,   94.15779883,\n         119.6632516 ,  -16.67901801, -102.9842336 ]))"
     },
     "metadata": {},
     "execution_count": 15
    }
   ],
   "source": [
    "lm.intercept_, lm.coef_"
   ]
  },
  {
   "cell_type": "code",
   "execution_count": 16,
   "metadata": {},
   "outputs": [
    {
     "output_type": "execute_result",
     "data": {
      "text/plain": "[('Monthly Income', 0.15297824609320496),\n ('Transaction Time', 0.12372608642619928),\n ('Gender_Female', -94.15779883031988),\n ('Gender_Male', 94.15779883031993),\n ('City_Tier 1', 119.66325160390109),\n ('City_Tier 2', -16.679018007990035),\n ('City_Tier 3', -102.984233595911)]"
     },
     "metadata": {},
     "execution_count": 16
    }
   ],
   "source": [
    "list(zip(features_cols, lm.coef_))"
   ]
  },
  {
   "cell_type": "code",
   "execution_count": 17,
   "metadata": {},
   "outputs": [
    {
     "output_type": "execute_result",
     "data": {
      "text/plain": "0.19478920552885381"
     },
     "metadata": {},
     "execution_count": 17
    }
   ],
   "source": [
    "lm.score(x,y)"
   ]
  },
  {
   "cell_type": "markdown",
   "metadata": {},
   "source": [
    "## Añadir otra columna \n"
   ]
  },
  {
   "cell_type": "code",
   "execution_count": 18,
   "metadata": {},
   "outputs": [],
   "source": [
    "features_cols = [\"Monthly Income\", \"Transaction Time\", \"Gender_Female\", \"Gender_Male\", \"City_Tier 1\", \"City_Tier 2\", \"City_Tier 3\", \"Record\", \"Age \"]"
   ]
  },
  {
   "cell_type": "code",
   "execution_count": 19,
   "metadata": {},
   "outputs": [],
   "source": [
    "x = df_new[features_cols]\n",
    "y = df_new[\"Total Spend\"]"
   ]
  },
  {
   "cell_type": "code",
   "execution_count": 20,
   "metadata": {},
   "outputs": [
    {
     "output_type": "execute_result",
     "data": {
      "text/plain": "LinearRegression(copy_X=True, fit_intercept=True, n_jobs=None, normalize=False)"
     },
     "metadata": {},
     "execution_count": 20
    }
   ],
   "source": [
    "lm = LinearRegression()\n",
    "lm.fit(x,y) "
   ]
  },
  {
   "cell_type": "code",
   "execution_count": 21,
   "metadata": {},
   "outputs": [
    {
     "output_type": "execute_result",
     "data": {
      "text/plain": "(-335.7380017453761,\n array([ 1.47442269e-01,  1.56391583e-01, -1.33088707e+02,  1.33088707e+02,\n         7.83785050e+01,  5.20259633e+01, -1.30404468e+02,  7.72149205e+02,\n         6.42429817e+00]))"
     },
     "metadata": {},
     "execution_count": 21
    }
   ],
   "source": [
    "lm.intercept_, lm.coef_"
   ]
  },
  {
   "cell_type": "code",
   "execution_count": 22,
   "metadata": {},
   "outputs": [
    {
     "output_type": "execute_result",
     "data": {
      "text/plain": "[('Monthly Income', 0.1474422689744857),\n ('Transaction Time', 0.1563915830636624),\n ('Gender_Female', -133.08870663170518),\n ('Gender_Male', 133.08870663170535),\n ('City_Tier 1', 78.37850497640348),\n ('City_Tier 2', 52.0259633443191),\n ('City_Tier 3', -130.4044683207225),\n ('Record', 772.1492053631356),\n ('Age ', 6.424298167613064)]"
     },
     "metadata": {},
     "execution_count": 22
    }
   ],
   "source": [
    "list(zip(features_cols, lm.coef_))"
   ]
  },
  {
   "cell_type": "code",
   "execution_count": 23,
   "metadata": {},
   "outputs": [
    {
     "output_type": "execute_result",
     "data": {
      "text/plain": "0.9187458997709432"
     },
     "metadata": {},
     "execution_count": 23
    }
   ],
   "source": [
    "lm.score(x,y)"
   ]
  },
  {
   "cell_type": "markdown",
   "metadata": {},
   "source": [
    "EL modelo puede ser escrito como:\n",
    "\n",
    "* Total_Spend = -335.7380017453761 + Monthly Income * 0.1474422689744857 + Transaction Time * 0.1563915830636624 + Gender_Female * -133.08870663170518 + Gender_Male * 133.08870663170535 + City_Tier 1 * 78.37850497640348 + City_Tier 2 * 52.0259633443191 + City_Tier 3 * -130.4044683207225 + Record * 772.1492053631356 + Age * 6.424298167613064\n",
    "\n",
    "    * Si es hombre y vive en CT1: -335.7380017453761 + Monthly Income * 0.1474422689744857 + Transaction Time * 0.1563915830636624 + 133.08870663170535 + 78.37850497640348 + Record * 772.1492053631356 + Age * 6.424298167613064\n",
    "    \n",
    "* Se Genera 6 modelos Difentes dependiendo de las condiciones de genero y ciudad.\n"
   ]
  },
  {
   "cell_type": "code",
   "execution_count": 24,
   "metadata": {},
   "outputs": [],
   "source": [
    "df_new[\"prediction\"] = -335.7380017453761 + df_new[\"Monthly Income\"] * 0.1474422689744857 + df_new[\"Transaction Time\"] * 0.1563915830636624 + df_new[\"Gender_Female\"] * -133.08870663170518 + df_new[\"Gender_Male\"] * 133.08870663170535 + df_new[\"City_Tier 1\"] * 78.37850497640348 + df_new[\"City_Tier 2\"] * 52.0259633443191 + df_new[\"City_Tier 3\"] * -130.4044683207225 + df_new[\"Record\"] * 772.1492053631356 + df_new[\"Age \"] * 6.424298167613064"
   ]
  },
  {
   "cell_type": "code",
   "execution_count": 25,
   "metadata": {},
   "outputs": [],
   "source": [
    "df_new[\"prediction\"]= lm.predict(pd.DataFrame(df_new[features_cols]))"
   ]
  },
  {
   "cell_type": "code",
   "execution_count": 26,
   "metadata": {},
   "outputs": [
    {
     "output_type": "execute_result",
     "data": {
      "text/plain": "  Transaction ID  Age    Items   Monthly Income  Transaction Time  Record  \\\n0         TXN001    42       10            7313        627.668127       5   \n1         TXN002    24        8           17747        126.904567       3   \n2         TXN003    47       11           22845        873.469701       2   \n3         TXN004    50       11           18552        380.219428       7   \n4         TXN005    60        2           14439        403.374223       2   \n\n   Gender City Tier  Total Spend  Gender_Female  Gender_Male  City_Tier 1  \\\n0  Female    Tier 1  4198.385084              1            0            1   \n1  Female    Tier 2  4134.976648              1            0            0   \n2    Male    Tier 2  5166.614455              0            1            0   \n3  Female    Tier 1  7784.447676              1            0            1   \n4  Female    Tier 2  3254.160485              1            0            0   \n\n   City_Tier 2  City_Tier 3   prediction  \n0            0            0  4916.525671  \n1            1            0  4690.334781  \n2            1            0  5200.539037  \n3            0            0  8130.623235  \n4            1            0  3704.958811  ",
      "text/html": "<div>\n<style scoped>\n    .dataframe tbody tr th:only-of-type {\n        vertical-align: middle;\n    }\n\n    .dataframe tbody tr th {\n        vertical-align: top;\n    }\n\n    .dataframe thead th {\n        text-align: right;\n    }\n</style>\n<table border=\"1\" class=\"dataframe\">\n  <thead>\n    <tr style=\"text-align: right;\">\n      <th></th>\n      <th>Transaction ID</th>\n      <th>Age</th>\n      <th>Items</th>\n      <th>Monthly Income</th>\n      <th>Transaction Time</th>\n      <th>Record</th>\n      <th>Gender</th>\n      <th>City Tier</th>\n      <th>Total Spend</th>\n      <th>Gender_Female</th>\n      <th>Gender_Male</th>\n      <th>City_Tier 1</th>\n      <th>City_Tier 2</th>\n      <th>City_Tier 3</th>\n      <th>prediction</th>\n    </tr>\n  </thead>\n  <tbody>\n    <tr>\n      <th>0</th>\n      <td>TXN001</td>\n      <td>42</td>\n      <td>10</td>\n      <td>7313</td>\n      <td>627.668127</td>\n      <td>5</td>\n      <td>Female</td>\n      <td>Tier 1</td>\n      <td>4198.385084</td>\n      <td>1</td>\n      <td>0</td>\n      <td>1</td>\n      <td>0</td>\n      <td>0</td>\n      <td>4916.525671</td>\n    </tr>\n    <tr>\n      <th>1</th>\n      <td>TXN002</td>\n      <td>24</td>\n      <td>8</td>\n      <td>17747</td>\n      <td>126.904567</td>\n      <td>3</td>\n      <td>Female</td>\n      <td>Tier 2</td>\n      <td>4134.976648</td>\n      <td>1</td>\n      <td>0</td>\n      <td>0</td>\n      <td>1</td>\n      <td>0</td>\n      <td>4690.334781</td>\n    </tr>\n    <tr>\n      <th>2</th>\n      <td>TXN003</td>\n      <td>47</td>\n      <td>11</td>\n      <td>22845</td>\n      <td>873.469701</td>\n      <td>2</td>\n      <td>Male</td>\n      <td>Tier 2</td>\n      <td>5166.614455</td>\n      <td>0</td>\n      <td>1</td>\n      <td>0</td>\n      <td>1</td>\n      <td>0</td>\n      <td>5200.539037</td>\n    </tr>\n    <tr>\n      <th>3</th>\n      <td>TXN004</td>\n      <td>50</td>\n      <td>11</td>\n      <td>18552</td>\n      <td>380.219428</td>\n      <td>7</td>\n      <td>Female</td>\n      <td>Tier 1</td>\n      <td>7784.447676</td>\n      <td>1</td>\n      <td>0</td>\n      <td>1</td>\n      <td>0</td>\n      <td>0</td>\n      <td>8130.623235</td>\n    </tr>\n    <tr>\n      <th>4</th>\n      <td>TXN005</td>\n      <td>60</td>\n      <td>2</td>\n      <td>14439</td>\n      <td>403.374223</td>\n      <td>2</td>\n      <td>Female</td>\n      <td>Tier 2</td>\n      <td>3254.160485</td>\n      <td>1</td>\n      <td>0</td>\n      <td>0</td>\n      <td>1</td>\n      <td>0</td>\n      <td>3704.958811</td>\n    </tr>\n  </tbody>\n</table>\n</div>"
     },
     "metadata": {},
     "execution_count": 26
    }
   ],
   "source": [
    "df_new.head()"
   ]
  },
  {
   "cell_type": "code",
   "execution_count": 27,
   "metadata": {},
   "outputs": [
    {
     "output_type": "execute_result",
     "data": {
      "text/plain": "1503788028.5340147"
     },
     "metadata": {},
     "execution_count": 27
    }
   ],
   "source": [
    "SSD = np.sum((df_new[\"prediction\"] - df_new[\"Total Spend\"])**2)\n",
    "SSD"
   ]
  },
  {
   "cell_type": "code",
   "execution_count": 28,
   "metadata": {},
   "outputs": [
    {
     "output_type": "execute_result",
     "data": {
      "text/plain": "799.6034382056597"
     },
     "metadata": {},
     "execution_count": 28
    }
   ],
   "source": [
    "RSE = np.sqrt(SSD/(len(df_new)-len(features_cols)-1))\n",
    "RSE"
   ]
  },
  {
   "cell_type": "code",
   "execution_count": 29,
   "metadata": {},
   "outputs": [
    {
     "output_type": "execute_result",
     "data": {
      "text/plain": "6163.176415976715"
     },
     "metadata": {},
     "execution_count": 29
    }
   ],
   "source": [
    "sales_mean = np.mean(df_new[\"Total Spend\"])\n",
    "sales_mean"
   ]
  },
  {
   "cell_type": "code",
   "execution_count": 30,
   "metadata": {},
   "outputs": [],
   "source": [
    "error = RSE/sales_mean"
   ]
  },
  {
   "cell_type": "code",
   "execution_count": 31,
   "metadata": {},
   "outputs": [
    {
     "output_type": "execute_result",
     "data": {
      "text/plain": "0.12973885286373743"
     },
     "metadata": {},
     "execution_count": 31
    }
   ],
   "source": [
    "error"
   ]
  },
  {
   "cell_type": "markdown",
   "metadata": {},
   "source": [
    "## Eliminar varibales Dummy redundantes"
   ]
  },
  {
   "cell_type": "code",
   "execution_count": 32,
   "metadata": {},
   "outputs": [
    {
     "output_type": "execute_result",
     "data": {
      "text/plain": "   Gender_Male\n0            0\n1            0\n2            1\n3            0\n4            0",
      "text/html": "<div>\n<style scoped>\n    .dataframe tbody tr th:only-of-type {\n        vertical-align: middle;\n    }\n\n    .dataframe tbody tr th {\n        vertical-align: top;\n    }\n\n    .dataframe thead th {\n        text-align: right;\n    }\n</style>\n<table border=\"1\" class=\"dataframe\">\n  <thead>\n    <tr style=\"text-align: right;\">\n      <th></th>\n      <th>Gender_Male</th>\n    </tr>\n  </thead>\n  <tbody>\n    <tr>\n      <th>0</th>\n      <td>0</td>\n    </tr>\n    <tr>\n      <th>1</th>\n      <td>0</td>\n    </tr>\n    <tr>\n      <th>2</th>\n      <td>1</td>\n    </tr>\n    <tr>\n      <th>3</th>\n      <td>0</td>\n    </tr>\n    <tr>\n      <th>4</th>\n      <td>0</td>\n    </tr>\n  </tbody>\n</table>\n</div>"
     },
     "metadata": {},
     "execution_count": 32
    }
   ],
   "source": [
    "dummy_gender = pd.get_dummies(df[\"Gender\"], prefix=\"Gender\").iloc[:,1:]\n",
    "dummy_gender.head()"
   ]
  },
  {
   "cell_type": "code",
   "execution_count": 33,
   "metadata": {},
   "outputs": [
    {
     "output_type": "execute_result",
     "data": {
      "text/plain": "      City_Tier 2  City_Tier 3\n0               0            0\n1               1            0\n2               1            0\n3               0            0\n4               1            0\n...           ...          ...\n2357            1            0\n2358            1            0\n2359            0            1\n2360            0            0\n2361            0            0\n\n[2362 rows x 2 columns]",
      "text/html": "<div>\n<style scoped>\n    .dataframe tbody tr th:only-of-type {\n        vertical-align: middle;\n    }\n\n    .dataframe tbody tr th {\n        vertical-align: top;\n    }\n\n    .dataframe thead th {\n        text-align: right;\n    }\n</style>\n<table border=\"1\" class=\"dataframe\">\n  <thead>\n    <tr style=\"text-align: right;\">\n      <th></th>\n      <th>City_Tier 2</th>\n      <th>City_Tier 3</th>\n    </tr>\n  </thead>\n  <tbody>\n    <tr>\n      <th>0</th>\n      <td>0</td>\n      <td>0</td>\n    </tr>\n    <tr>\n      <th>1</th>\n      <td>1</td>\n      <td>0</td>\n    </tr>\n    <tr>\n      <th>2</th>\n      <td>1</td>\n      <td>0</td>\n    </tr>\n    <tr>\n      <th>3</th>\n      <td>0</td>\n      <td>0</td>\n    </tr>\n    <tr>\n      <th>4</th>\n      <td>1</td>\n      <td>0</td>\n    </tr>\n    <tr>\n      <th>...</th>\n      <td>...</td>\n      <td>...</td>\n    </tr>\n    <tr>\n      <th>2357</th>\n      <td>1</td>\n      <td>0</td>\n    </tr>\n    <tr>\n      <th>2358</th>\n      <td>1</td>\n      <td>0</td>\n    </tr>\n    <tr>\n      <th>2359</th>\n      <td>0</td>\n      <td>1</td>\n    </tr>\n    <tr>\n      <th>2360</th>\n      <td>0</td>\n      <td>0</td>\n    </tr>\n    <tr>\n      <th>2361</th>\n      <td>0</td>\n      <td>0</td>\n    </tr>\n  </tbody>\n</table>\n<p>2362 rows × 2 columns</p>\n</div>"
     },
     "metadata": {},
     "execution_count": 33
    }
   ],
   "source": [
    "dummy_city_tier = pd.get_dummies(df[\"City Tier\"], prefix=\"City\").iloc[:,1:]\n",
    "dummy_city_tier"
   ]
  },
  {
   "cell_type": "code",
   "execution_count": 34,
   "metadata": {},
   "outputs": [
    {
     "output_type": "execute_result",
     "data": {
      "text/plain": "  Transaction ID  Age    Items   Monthly Income  Transaction Time  Record  \\\n0         TXN001    42       10            7313        627.668127       5   \n1         TXN002    24        8           17747        126.904567       3   \n2         TXN003    47       11           22845        873.469701       2   \n3         TXN004    50       11           18552        380.219428       7   \n4         TXN005    60        2           14439        403.374223       2   \n\n   Gender City Tier  Total Spend  Gender_Male  City_Tier 2  City_Tier 3  \n0  Female    Tier 1  4198.385084            0            0            0  \n1  Female    Tier 2  4134.976648            0            1            0  \n2    Male    Tier 2  5166.614455            1            1            0  \n3  Female    Tier 1  7784.447676            0            0            0  \n4  Female    Tier 2  3254.160485            0            1            0  ",
      "text/html": "<div>\n<style scoped>\n    .dataframe tbody tr th:only-of-type {\n        vertical-align: middle;\n    }\n\n    .dataframe tbody tr th {\n        vertical-align: top;\n    }\n\n    .dataframe thead th {\n        text-align: right;\n    }\n</style>\n<table border=\"1\" class=\"dataframe\">\n  <thead>\n    <tr style=\"text-align: right;\">\n      <th></th>\n      <th>Transaction ID</th>\n      <th>Age</th>\n      <th>Items</th>\n      <th>Monthly Income</th>\n      <th>Transaction Time</th>\n      <th>Record</th>\n      <th>Gender</th>\n      <th>City Tier</th>\n      <th>Total Spend</th>\n      <th>Gender_Male</th>\n      <th>City_Tier 2</th>\n      <th>City_Tier 3</th>\n    </tr>\n  </thead>\n  <tbody>\n    <tr>\n      <th>0</th>\n      <td>TXN001</td>\n      <td>42</td>\n      <td>10</td>\n      <td>7313</td>\n      <td>627.668127</td>\n      <td>5</td>\n      <td>Female</td>\n      <td>Tier 1</td>\n      <td>4198.385084</td>\n      <td>0</td>\n      <td>0</td>\n      <td>0</td>\n    </tr>\n    <tr>\n      <th>1</th>\n      <td>TXN002</td>\n      <td>24</td>\n      <td>8</td>\n      <td>17747</td>\n      <td>126.904567</td>\n      <td>3</td>\n      <td>Female</td>\n      <td>Tier 2</td>\n      <td>4134.976648</td>\n      <td>0</td>\n      <td>1</td>\n      <td>0</td>\n    </tr>\n    <tr>\n      <th>2</th>\n      <td>TXN003</td>\n      <td>47</td>\n      <td>11</td>\n      <td>22845</td>\n      <td>873.469701</td>\n      <td>2</td>\n      <td>Male</td>\n      <td>Tier 2</td>\n      <td>5166.614455</td>\n      <td>1</td>\n      <td>1</td>\n      <td>0</td>\n    </tr>\n    <tr>\n      <th>3</th>\n      <td>TXN004</td>\n      <td>50</td>\n      <td>11</td>\n      <td>18552</td>\n      <td>380.219428</td>\n      <td>7</td>\n      <td>Female</td>\n      <td>Tier 1</td>\n      <td>7784.447676</td>\n      <td>0</td>\n      <td>0</td>\n      <td>0</td>\n    </tr>\n    <tr>\n      <th>4</th>\n      <td>TXN005</td>\n      <td>60</td>\n      <td>2</td>\n      <td>14439</td>\n      <td>403.374223</td>\n      <td>2</td>\n      <td>Female</td>\n      <td>Tier 2</td>\n      <td>3254.160485</td>\n      <td>0</td>\n      <td>1</td>\n      <td>0</td>\n    </tr>\n  </tbody>\n</table>\n</div>"
     },
     "metadata": {},
     "execution_count": 34
    }
   ],
   "source": [
    "column_names = df.columns.values.tolist()\n",
    "df_new = df[column_names].join(dummy_gender)\n",
    "column_names = df_new.columns.values.tolist()\n",
    "df_new = df_new[column_names].join(dummy_city_tier)\n",
    "df_new.head()"
   ]
  },
  {
   "cell_type": "code",
   "execution_count": 35,
   "metadata": {},
   "outputs": [
    {
     "output_type": "execute_result",
     "data": {
      "text/plain": "LinearRegression(copy_X=True, fit_intercept=True, n_jobs=None, normalize=False)"
     },
     "metadata": {},
     "execution_count": 35
    }
   ],
   "source": [
    "features_cols = [\"Monthly Income\", \"Transaction Time\", \"Gender_Male\", \"City_Tier 2\", \"City_Tier 3\", \"Record\", \"Age \"]\n",
    "x = df_new[features_cols]\n",
    "y = df_new[\"Total Spend\"]\n",
    "lm = LinearRegression()\n",
    "lm.fit(x,y)"
   ]
  },
  {
   "cell_type": "code",
   "execution_count": 36,
   "metadata": {},
   "outputs": [
    {
     "output_type": "execute_result",
     "data": {
      "text/plain": "(-390.44820340067236,\n array([ 1.47442269e-01,  1.56391583e-01,  2.66177413e+02, -2.63525416e+01,\n        -2.08782973e+02,  7.72149205e+02,  6.42429817e+00]))"
     },
     "metadata": {},
     "execution_count": 36
    }
   ],
   "source": [
    "lm.intercept_, lm.coef_"
   ]
  },
  {
   "cell_type": "code",
   "execution_count": 37,
   "metadata": {},
   "outputs": [
    {
     "output_type": "execute_result",
     "data": {
      "text/plain": "[('Monthly Income', 0.1474422689744857),\n ('Transaction Time', 0.1563915830636624),\n ('Gender_Male', 266.1774132634125),\n ('City_Tier 2', -26.352541632086588),\n ('City_Tier 3', -208.7829732971258),\n ('Record', 772.1492053631359),\n ('Age ', 6.424298167612855)]"
     },
     "metadata": {},
     "execution_count": 37
    }
   ],
   "source": [
    "list(zip(features_cols, lm.coef_))"
   ]
  },
  {
   "cell_type": "code",
   "execution_count": 38,
   "metadata": {},
   "outputs": [
    {
     "output_type": "execute_result",
     "data": {
      "text/plain": "0.9187458997709432"
     },
     "metadata": {},
     "execution_count": 38
    }
   ],
   "source": [
    "lm.score(x,y) # El resultado no cambia.. La ventaja reduce las variables."
   ]
  },
  {
   "cell_type": "markdown",
   "metadata": {},
   "source": [
    "### Coeficientes con todas las variables en el modeo.\n",
    "* ('Monthly Income', 0.1474422689744857),\n",
    "\n",
    "* ('Transaction Time', 0.1563915830636624),\n",
    "\n",
    "* ('Gender_Female', -133.08870663170518),\n",
    "\n",
    "* ('Gender_Male', 133.08870663170535),\n",
    "\n",
    "* ('City_Tier 1', 78.37850497640348),\n",
    "\n",
    "* ('City_Tier 2', 52.0259633443191),\n",
    "\n",
    "* ('City_Tier 3', -130.4044683207225),\n",
    "\n",
    "* ('Record', 772.1492053631356),\n",
    "\n",
    "* ('Age ', 6.424298167613064)\n",
    "\n",
    "### Coeficientes tras enmascarar las variables dummy pertinentes.\n",
    "* ('Monthly Income', 0.1474422689744857),\n",
    "\n",
    "* ('Transaction Time', 0.1563915830636624),\n",
    "\n",
    "* ('Gender_Male', 266.1774132634125),\n",
    "\n",
    "* ('City_Tier 2', -26.352541632086588),\n",
    "\n",
    "* ('City_Tier 3', -208.7829732971258),\n",
    "\n",
    "* ('Record', 772.1492053631359),\n",
    "\n",
    "* ('Age ', 6.424298167612855)\n",
    "\n",
    "### Los Cambios se reflejan en \n",
    "    \n",
    "* Gender_Male : antes -> 133.08, después -> 266.17 = (133.08 - (-133.08))\n",
    "* Gender_Female : antes -> -133.08, después -> 0\n",
    "* CT1 : antes -> 78.37, después -> 0\n",
    "* CT2 : antes -> 52.02 después -> -26.35 = (52.02 - 78.37)\n",
    "* CT3 : antes -> -130.40 después -> -208.78 = (-130.40 - 78.37)"
   ]
  },
  {
   "cell_type": "markdown",
   "metadata": {},
   "source": [
    "# Transformación de variables para conseguir una relación no lineal"
   ]
  },
  {
   "cell_type": "code",
   "execution_count": 39,
   "metadata": {},
   "outputs": [],
   "source": [
    "import pandas as pd"
   ]
  },
  {
   "cell_type": "code",
   "execution_count": 40,
   "metadata": {},
   "outputs": [
    {
     "output_type": "execute_result",
     "data": {
      "text/plain": "    mpg  cylinders  displacement  horsepower  weight  acceleration  \\\n0  18.0          8         307.0       130.0    3504          12.0   \n1  15.0          8         350.0       165.0    3693          11.5   \n2  18.0          8         318.0       150.0    3436          11.0   \n3  16.0          8         304.0       150.0    3433          12.0   \n4  17.0          8         302.0       140.0    3449          10.5   \n\n   model year  origin                   car name  \n0          70       1  chevrolet chevelle malibu  \n1          70       1          buick skylark 320  \n2          70       1         plymouth satellite  \n3          70       1              amc rebel sst  \n4          70       1                ford torino  ",
      "text/html": "<div>\n<style scoped>\n    .dataframe tbody tr th:only-of-type {\n        vertical-align: middle;\n    }\n\n    .dataframe tbody tr th {\n        vertical-align: top;\n    }\n\n    .dataframe thead th {\n        text-align: right;\n    }\n</style>\n<table border=\"1\" class=\"dataframe\">\n  <thead>\n    <tr style=\"text-align: right;\">\n      <th></th>\n      <th>mpg</th>\n      <th>cylinders</th>\n      <th>displacement</th>\n      <th>horsepower</th>\n      <th>weight</th>\n      <th>acceleration</th>\n      <th>model year</th>\n      <th>origin</th>\n      <th>car name</th>\n    </tr>\n  </thead>\n  <tbody>\n    <tr>\n      <th>0</th>\n      <td>18.0</td>\n      <td>8</td>\n      <td>307.0</td>\n      <td>130.0</td>\n      <td>3504</td>\n      <td>12.0</td>\n      <td>70</td>\n      <td>1</td>\n      <td>chevrolet chevelle malibu</td>\n    </tr>\n    <tr>\n      <th>1</th>\n      <td>15.0</td>\n      <td>8</td>\n      <td>350.0</td>\n      <td>165.0</td>\n      <td>3693</td>\n      <td>11.5</td>\n      <td>70</td>\n      <td>1</td>\n      <td>buick skylark 320</td>\n    </tr>\n    <tr>\n      <th>2</th>\n      <td>18.0</td>\n      <td>8</td>\n      <td>318.0</td>\n      <td>150.0</td>\n      <td>3436</td>\n      <td>11.0</td>\n      <td>70</td>\n      <td>1</td>\n      <td>plymouth satellite</td>\n    </tr>\n    <tr>\n      <th>3</th>\n      <td>16.0</td>\n      <td>8</td>\n      <td>304.0</td>\n      <td>150.0</td>\n      <td>3433</td>\n      <td>12.0</td>\n      <td>70</td>\n      <td>1</td>\n      <td>amc rebel sst</td>\n    </tr>\n    <tr>\n      <th>4</th>\n      <td>17.0</td>\n      <td>8</td>\n      <td>302.0</td>\n      <td>140.0</td>\n      <td>3449</td>\n      <td>10.5</td>\n      <td>70</td>\n      <td>1</td>\n      <td>ford torino</td>\n    </tr>\n  </tbody>\n</table>\n</div>"
     },
     "metadata": {},
     "execution_count": 40
    }
   ],
   "source": [
    "mainpath= \"d:/python-ml-course-master/datasets\"\n",
    "filename= \"auto/auto-mpg.csv\"\n",
    "fullpath =os.path.join(mainpath, filename)\n",
    "data_auto = pd.read_csv(fullpath)\n",
    "data_auto.head()"
   ]
  },
  {
   "cell_type": "code",
   "execution_count": 41,
   "metadata": {},
   "outputs": [
    {
     "output_type": "execute_result",
     "data": {
      "text/plain": "(406, 9)"
     },
     "metadata": {},
     "execution_count": 41
    }
   ],
   "source": [
    "data_auto.shape"
   ]
  },
  {
   "cell_type": "code",
   "execution_count": 42,
   "metadata": {},
   "outputs": [],
   "source": [
    "import matplotlib.pyplot as plt"
   ]
  },
  {
   "cell_type": "code",
   "execution_count": 45,
   "metadata": {},
   "outputs": [
    {
     "output_type": "execute_result",
     "data": {
      "text/plain": "Text(0.5, 1.0, 'CV vs MPG')"
     },
     "metadata": {},
     "execution_count": 45
    },
    {
     "output_type": "display_data",
     "data": {
      "text/plain": "<Figure size 432x288 with 1 Axes>",
      "image/svg+xml": "<?xml version=\"1.0\" encoding=\"utf-8\" standalone=\"no\"?>\r\n<!DOCTYPE svg PUBLIC \"-//W3C//DTD SVG 1.1//EN\"\r\n  \"http://www.w3.org/Graphics/SVG/1.1/DTD/svg11.dtd\">\r\n<!-- Created with matplotlib (https://matplotlib.org/) -->\r\n<svg height=\"277.314375pt\" version=\"1.1\" viewBox=\"0 0 382.603125 277.314375\" width=\"382.603125pt\" xmlns=\"http://www.w3.org/2000/svg\" xmlns:xlink=\"http://www.w3.org/1999/xlink\">\r\n <defs>\r\n  <style type=\"text/css\">\r\n*{stroke-linecap:butt;stroke-linejoin:round;}\r\n  </style>\r\n </defs>\r\n <g id=\"figure_1\">\r\n  <g id=\"patch_1\">\r\n   <path d=\"M 0 277.314375 \r\nL 382.603125 277.314375 \r\nL 382.603125 0 \r\nL 0 0 \r\nz\r\n\" style=\"fill:none;\"/>\r\n  </g>\r\n  <g id=\"axes_1\">\r\n   <g id=\"patch_2\">\r\n    <path d=\"M 40.603125 239.758125 \r\nL 375.403125 239.758125 \r\nL 375.403125 22.318125 \r\nL 40.603125 22.318125 \r\nz\r\n\" style=\"fill:#ffffff;\"/>\r\n   </g>\r\n   <g id=\"matplotlib.axis_1\">\r\n    <g id=\"xtick_1\">\r\n     <g id=\"line2d_1\">\r\n      <defs>\r\n       <path d=\"M 0 0 \r\nL 0 3.5 \r\n\" id=\"m771de96e9b\" style=\"stroke:#000000;stroke-width:0.8;\"/>\r\n      </defs>\r\n      <g>\r\n       <use style=\"stroke:#000000;stroke-width:0.8;\" x=\"62.437908\" xlink:href=\"#m771de96e9b\" y=\"239.758125\"/>\r\n      </g>\r\n     </g>\r\n     <g id=\"text_1\">\r\n      <!-- 50 -->\r\n      <defs>\r\n       <path d=\"M 10.796875 72.90625 \r\nL 49.515625 72.90625 \r\nL 49.515625 64.59375 \r\nL 19.828125 64.59375 \r\nL 19.828125 46.734375 \r\nQ 21.96875 47.46875 24.109375 47.828125 \r\nQ 26.265625 48.1875 28.421875 48.1875 \r\nQ 40.625 48.1875 47.75 41.5 \r\nQ 54.890625 34.8125 54.890625 23.390625 \r\nQ 54.890625 11.625 47.5625 5.09375 \r\nQ 40.234375 -1.421875 26.90625 -1.421875 \r\nQ 22.3125 -1.421875 17.546875 -0.640625 \r\nQ 12.796875 0.140625 7.71875 1.703125 \r\nL 7.71875 11.625 \r\nQ 12.109375 9.234375 16.796875 8.0625 \r\nQ 21.484375 6.890625 26.703125 6.890625 \r\nQ 35.15625 6.890625 40.078125 11.328125 \r\nQ 45.015625 15.765625 45.015625 23.390625 \r\nQ 45.015625 31 40.078125 35.4375 \r\nQ 35.15625 39.890625 26.703125 39.890625 \r\nQ 22.75 39.890625 18.8125 39.015625 \r\nQ 14.890625 38.140625 10.796875 36.28125 \r\nz\r\n\" id=\"DejaVuSans-53\"/>\r\n       <path d=\"M 31.78125 66.40625 \r\nQ 24.171875 66.40625 20.328125 58.90625 \r\nQ 16.5 51.421875 16.5 36.375 \r\nQ 16.5 21.390625 20.328125 13.890625 \r\nQ 24.171875 6.390625 31.78125 6.390625 \r\nQ 39.453125 6.390625 43.28125 13.890625 \r\nQ 47.125 21.390625 47.125 36.375 \r\nQ 47.125 51.421875 43.28125 58.90625 \r\nQ 39.453125 66.40625 31.78125 66.40625 \r\nz\r\nM 31.78125 74.21875 \r\nQ 44.046875 74.21875 50.515625 64.515625 \r\nQ 56.984375 54.828125 56.984375 36.375 \r\nQ 56.984375 17.96875 50.515625 8.265625 \r\nQ 44.046875 -1.421875 31.78125 -1.421875 \r\nQ 19.53125 -1.421875 13.0625 8.265625 \r\nQ 6.59375 17.96875 6.59375 36.375 \r\nQ 6.59375 54.828125 13.0625 64.515625 \r\nQ 19.53125 74.21875 31.78125 74.21875 \r\nz\r\n\" id=\"DejaVuSans-48\"/>\r\n      </defs>\r\n      <g transform=\"translate(56.075408 254.356562)scale(0.1 -0.1)\">\r\n       <use xlink:href=\"#DejaVuSans-53\"/>\r\n       <use x=\"63.623047\" xlink:href=\"#DejaVuSans-48\"/>\r\n      </g>\r\n     </g>\r\n    </g>\r\n    <g id=\"xtick_2\">\r\n     <g id=\"line2d_2\">\r\n      <g>\r\n       <use style=\"stroke:#000000;stroke-width:0.8;\" x=\"103.791663\" xlink:href=\"#m771de96e9b\" y=\"239.758125\"/>\r\n      </g>\r\n     </g>\r\n     <g id=\"text_2\">\r\n      <!-- 75 -->\r\n      <defs>\r\n       <path d=\"M 8.203125 72.90625 \r\nL 55.078125 72.90625 \r\nL 55.078125 68.703125 \r\nL 28.609375 0 \r\nL 18.3125 0 \r\nL 43.21875 64.59375 \r\nL 8.203125 64.59375 \r\nz\r\n\" id=\"DejaVuSans-55\"/>\r\n      </defs>\r\n      <g transform=\"translate(97.429163 254.356562)scale(0.1 -0.1)\">\r\n       <use xlink:href=\"#DejaVuSans-55\"/>\r\n       <use x=\"63.623047\" xlink:href=\"#DejaVuSans-53\"/>\r\n      </g>\r\n     </g>\r\n    </g>\r\n    <g id=\"xtick_3\">\r\n     <g id=\"line2d_3\">\r\n      <g>\r\n       <use style=\"stroke:#000000;stroke-width:0.8;\" x=\"145.145417\" xlink:href=\"#m771de96e9b\" y=\"239.758125\"/>\r\n      </g>\r\n     </g>\r\n     <g id=\"text_3\">\r\n      <!-- 100 -->\r\n      <defs>\r\n       <path d=\"M 12.40625 8.296875 \r\nL 28.515625 8.296875 \r\nL 28.515625 63.921875 \r\nL 10.984375 60.40625 \r\nL 10.984375 69.390625 \r\nL 28.421875 72.90625 \r\nL 38.28125 72.90625 \r\nL 38.28125 8.296875 \r\nL 54.390625 8.296875 \r\nL 54.390625 0 \r\nL 12.40625 0 \r\nz\r\n\" id=\"DejaVuSans-49\"/>\r\n      </defs>\r\n      <g transform=\"translate(135.601667 254.356562)scale(0.1 -0.1)\">\r\n       <use xlink:href=\"#DejaVuSans-49\"/>\r\n       <use x=\"63.623047\" xlink:href=\"#DejaVuSans-48\"/>\r\n       <use x=\"127.246094\" xlink:href=\"#DejaVuSans-48\"/>\r\n      </g>\r\n     </g>\r\n    </g>\r\n    <g id=\"xtick_4\">\r\n     <g id=\"line2d_4\">\r\n      <g>\r\n       <use style=\"stroke:#000000;stroke-width:0.8;\" x=\"186.499172\" xlink:href=\"#m771de96e9b\" y=\"239.758125\"/>\r\n      </g>\r\n     </g>\r\n     <g id=\"text_4\">\r\n      <!-- 125 -->\r\n      <defs>\r\n       <path d=\"M 19.1875 8.296875 \r\nL 53.609375 8.296875 \r\nL 53.609375 0 \r\nL 7.328125 0 \r\nL 7.328125 8.296875 \r\nQ 12.9375 14.109375 22.625 23.890625 \r\nQ 32.328125 33.6875 34.8125 36.53125 \r\nQ 39.546875 41.84375 41.421875 45.53125 \r\nQ 43.3125 49.21875 43.3125 52.78125 \r\nQ 43.3125 58.59375 39.234375 62.25 \r\nQ 35.15625 65.921875 28.609375 65.921875 \r\nQ 23.96875 65.921875 18.8125 64.3125 \r\nQ 13.671875 62.703125 7.8125 59.421875 \r\nL 7.8125 69.390625 \r\nQ 13.765625 71.78125 18.9375 73 \r\nQ 24.125 74.21875 28.421875 74.21875 \r\nQ 39.75 74.21875 46.484375 68.546875 \r\nQ 53.21875 62.890625 53.21875 53.421875 \r\nQ 53.21875 48.921875 51.53125 44.890625 \r\nQ 49.859375 40.875 45.40625 35.40625 \r\nQ 44.1875 33.984375 37.640625 27.21875 \r\nQ 31.109375 20.453125 19.1875 8.296875 \r\nz\r\n\" id=\"DejaVuSans-50\"/>\r\n      </defs>\r\n      <g transform=\"translate(176.955422 254.356562)scale(0.1 -0.1)\">\r\n       <use xlink:href=\"#DejaVuSans-49\"/>\r\n       <use x=\"63.623047\" xlink:href=\"#DejaVuSans-50\"/>\r\n       <use x=\"127.246094\" xlink:href=\"#DejaVuSans-53\"/>\r\n      </g>\r\n     </g>\r\n    </g>\r\n    <g id=\"xtick_5\">\r\n     <g id=\"line2d_5\">\r\n      <g>\r\n       <use style=\"stroke:#000000;stroke-width:0.8;\" x=\"227.852927\" xlink:href=\"#m771de96e9b\" y=\"239.758125\"/>\r\n      </g>\r\n     </g>\r\n     <g id=\"text_5\">\r\n      <!-- 150 -->\r\n      <g transform=\"translate(218.309177 254.356562)scale(0.1 -0.1)\">\r\n       <use xlink:href=\"#DejaVuSans-49\"/>\r\n       <use x=\"63.623047\" xlink:href=\"#DejaVuSans-53\"/>\r\n       <use x=\"127.246094\" xlink:href=\"#DejaVuSans-48\"/>\r\n      </g>\r\n     </g>\r\n    </g>\r\n    <g id=\"xtick_6\">\r\n     <g id=\"line2d_6\">\r\n      <g>\r\n       <use style=\"stroke:#000000;stroke-width:0.8;\" x=\"269.206682\" xlink:href=\"#m771de96e9b\" y=\"239.758125\"/>\r\n      </g>\r\n     </g>\r\n     <g id=\"text_6\">\r\n      <!-- 175 -->\r\n      <g transform=\"translate(259.662932 254.356562)scale(0.1 -0.1)\">\r\n       <use xlink:href=\"#DejaVuSans-49\"/>\r\n       <use x=\"63.623047\" xlink:href=\"#DejaVuSans-55\"/>\r\n       <use x=\"127.246094\" xlink:href=\"#DejaVuSans-53\"/>\r\n      </g>\r\n     </g>\r\n    </g>\r\n    <g id=\"xtick_7\">\r\n     <g id=\"line2d_7\">\r\n      <g>\r\n       <use style=\"stroke:#000000;stroke-width:0.8;\" x=\"310.560437\" xlink:href=\"#m771de96e9b\" y=\"239.758125\"/>\r\n      </g>\r\n     </g>\r\n     <g id=\"text_7\">\r\n      <!-- 200 -->\r\n      <g transform=\"translate(301.016687 254.356562)scale(0.1 -0.1)\">\r\n       <use xlink:href=\"#DejaVuSans-50\"/>\r\n       <use x=\"63.623047\" xlink:href=\"#DejaVuSans-48\"/>\r\n       <use x=\"127.246094\" xlink:href=\"#DejaVuSans-48\"/>\r\n      </g>\r\n     </g>\r\n    </g>\r\n    <g id=\"xtick_8\">\r\n     <g id=\"line2d_8\">\r\n      <g>\r\n       <use style=\"stroke:#000000;stroke-width:0.8;\" x=\"351.914192\" xlink:href=\"#m771de96e9b\" y=\"239.758125\"/>\r\n      </g>\r\n     </g>\r\n     <g id=\"text_8\">\r\n      <!-- 225 -->\r\n      <g transform=\"translate(342.370442 254.356562)scale(0.1 -0.1)\">\r\n       <use xlink:href=\"#DejaVuSans-50\"/>\r\n       <use x=\"63.623047\" xlink:href=\"#DejaVuSans-50\"/>\r\n       <use x=\"127.246094\" xlink:href=\"#DejaVuSans-53\"/>\r\n      </g>\r\n     </g>\r\n    </g>\r\n    <g id=\"text_9\">\r\n     <!-- Horse Power -->\r\n     <defs>\r\n      <path d=\"M 9.8125 72.90625 \r\nL 19.671875 72.90625 \r\nL 19.671875 43.015625 \r\nL 55.515625 43.015625 \r\nL 55.515625 72.90625 \r\nL 65.375 72.90625 \r\nL 65.375 0 \r\nL 55.515625 0 \r\nL 55.515625 34.71875 \r\nL 19.671875 34.71875 \r\nL 19.671875 0 \r\nL 9.8125 0 \r\nz\r\n\" id=\"DejaVuSans-72\"/>\r\n      <path d=\"M 30.609375 48.390625 \r\nQ 23.390625 48.390625 19.1875 42.75 \r\nQ 14.984375 37.109375 14.984375 27.296875 \r\nQ 14.984375 17.484375 19.15625 11.84375 \r\nQ 23.34375 6.203125 30.609375 6.203125 \r\nQ 37.796875 6.203125 41.984375 11.859375 \r\nQ 46.1875 17.53125 46.1875 27.296875 \r\nQ 46.1875 37.015625 41.984375 42.703125 \r\nQ 37.796875 48.390625 30.609375 48.390625 \r\nz\r\nM 30.609375 56 \r\nQ 42.328125 56 49.015625 48.375 \r\nQ 55.71875 40.765625 55.71875 27.296875 \r\nQ 55.71875 13.875 49.015625 6.21875 \r\nQ 42.328125 -1.421875 30.609375 -1.421875 \r\nQ 18.84375 -1.421875 12.171875 6.21875 \r\nQ 5.515625 13.875 5.515625 27.296875 \r\nQ 5.515625 40.765625 12.171875 48.375 \r\nQ 18.84375 56 30.609375 56 \r\nz\r\n\" id=\"DejaVuSans-111\"/>\r\n      <path d=\"M 41.109375 46.296875 \r\nQ 39.59375 47.171875 37.8125 47.578125 \r\nQ 36.03125 48 33.890625 48 \r\nQ 26.265625 48 22.1875 43.046875 \r\nQ 18.109375 38.09375 18.109375 28.8125 \r\nL 18.109375 0 \r\nL 9.078125 0 \r\nL 9.078125 54.6875 \r\nL 18.109375 54.6875 \r\nL 18.109375 46.1875 \r\nQ 20.953125 51.171875 25.484375 53.578125 \r\nQ 30.03125 56 36.53125 56 \r\nQ 37.453125 56 38.578125 55.875 \r\nQ 39.703125 55.765625 41.0625 55.515625 \r\nz\r\n\" id=\"DejaVuSans-114\"/>\r\n      <path d=\"M 44.28125 53.078125 \r\nL 44.28125 44.578125 \r\nQ 40.484375 46.53125 36.375 47.5 \r\nQ 32.28125 48.484375 27.875 48.484375 \r\nQ 21.1875 48.484375 17.84375 46.4375 \r\nQ 14.5 44.390625 14.5 40.28125 \r\nQ 14.5 37.15625 16.890625 35.375 \r\nQ 19.28125 33.59375 26.515625 31.984375 \r\nL 29.59375 31.296875 \r\nQ 39.15625 29.25 43.1875 25.515625 \r\nQ 47.21875 21.78125 47.21875 15.09375 \r\nQ 47.21875 7.46875 41.1875 3.015625 \r\nQ 35.15625 -1.421875 24.609375 -1.421875 \r\nQ 20.21875 -1.421875 15.453125 -0.5625 \r\nQ 10.6875 0.296875 5.421875 2 \r\nL 5.421875 11.28125 \r\nQ 10.40625 8.6875 15.234375 7.390625 \r\nQ 20.0625 6.109375 24.8125 6.109375 \r\nQ 31.15625 6.109375 34.5625 8.28125 \r\nQ 37.984375 10.453125 37.984375 14.40625 \r\nQ 37.984375 18.0625 35.515625 20.015625 \r\nQ 33.0625 21.96875 24.703125 23.78125 \r\nL 21.578125 24.515625 \r\nQ 13.234375 26.265625 9.515625 29.90625 \r\nQ 5.8125 33.546875 5.8125 39.890625 \r\nQ 5.8125 47.609375 11.28125 51.796875 \r\nQ 16.75 56 26.8125 56 \r\nQ 31.78125 56 36.171875 55.265625 \r\nQ 40.578125 54.546875 44.28125 53.078125 \r\nz\r\n\" id=\"DejaVuSans-115\"/>\r\n      <path d=\"M 56.203125 29.59375 \r\nL 56.203125 25.203125 \r\nL 14.890625 25.203125 \r\nQ 15.484375 15.921875 20.484375 11.0625 \r\nQ 25.484375 6.203125 34.421875 6.203125 \r\nQ 39.59375 6.203125 44.453125 7.46875 \r\nQ 49.3125 8.734375 54.109375 11.28125 \r\nL 54.109375 2.78125 \r\nQ 49.265625 0.734375 44.1875 -0.34375 \r\nQ 39.109375 -1.421875 33.890625 -1.421875 \r\nQ 20.796875 -1.421875 13.15625 6.1875 \r\nQ 5.515625 13.8125 5.515625 26.8125 \r\nQ 5.515625 40.234375 12.765625 48.109375 \r\nQ 20.015625 56 32.328125 56 \r\nQ 43.359375 56 49.78125 48.890625 \r\nQ 56.203125 41.796875 56.203125 29.59375 \r\nz\r\nM 47.21875 32.234375 \r\nQ 47.125 39.59375 43.09375 43.984375 \r\nQ 39.0625 48.390625 32.421875 48.390625 \r\nQ 24.90625 48.390625 20.390625 44.140625 \r\nQ 15.875 39.890625 15.1875 32.171875 \r\nz\r\n\" id=\"DejaVuSans-101\"/>\r\n      <path id=\"DejaVuSans-32\"/>\r\n      <path d=\"M 19.671875 64.796875 \r\nL 19.671875 37.40625 \r\nL 32.078125 37.40625 \r\nQ 38.96875 37.40625 42.71875 40.96875 \r\nQ 46.484375 44.53125 46.484375 51.125 \r\nQ 46.484375 57.671875 42.71875 61.234375 \r\nQ 38.96875 64.796875 32.078125 64.796875 \r\nz\r\nM 9.8125 72.90625 \r\nL 32.078125 72.90625 \r\nQ 44.34375 72.90625 50.609375 67.359375 \r\nQ 56.890625 61.8125 56.890625 51.125 \r\nQ 56.890625 40.328125 50.609375 34.8125 \r\nQ 44.34375 29.296875 32.078125 29.296875 \r\nL 19.671875 29.296875 \r\nL 19.671875 0 \r\nL 9.8125 0 \r\nz\r\n\" id=\"DejaVuSans-80\"/>\r\n      <path d=\"M 4.203125 54.6875 \r\nL 13.1875 54.6875 \r\nL 24.421875 12.015625 \r\nL 35.59375 54.6875 \r\nL 46.1875 54.6875 \r\nL 57.421875 12.015625 \r\nL 68.609375 54.6875 \r\nL 77.59375 54.6875 \r\nL 63.28125 0 \r\nL 52.6875 0 \r\nL 40.921875 44.828125 \r\nL 29.109375 0 \r\nL 18.5 0 \r\nz\r\n\" id=\"DejaVuSans-119\"/>\r\n     </defs>\r\n     <g transform=\"translate(176.74375 268.034687)scale(0.1 -0.1)\">\r\n      <use xlink:href=\"#DejaVuSans-72\"/>\r\n      <use x=\"75.195312\" xlink:href=\"#DejaVuSans-111\"/>\r\n      <use x=\"136.376953\" xlink:href=\"#DejaVuSans-114\"/>\r\n      <use x=\"177.490234\" xlink:href=\"#DejaVuSans-115\"/>\r\n      <use x=\"229.589844\" xlink:href=\"#DejaVuSans-101\"/>\r\n      <use x=\"291.113281\" xlink:href=\"#DejaVuSans-32\"/>\r\n      <use x=\"322.900391\" xlink:href=\"#DejaVuSans-80\"/>\r\n      <use x=\"379.578125\" xlink:href=\"#DejaVuSans-111\"/>\r\n      <use x=\"440.759766\" xlink:href=\"#DejaVuSans-119\"/>\r\n      <use x=\"522.546875\" xlink:href=\"#DejaVuSans-101\"/>\r\n      <use x=\"584.070312\" xlink:href=\"#DejaVuSans-114\"/>\r\n     </g>\r\n    </g>\r\n   </g>\r\n   <g id=\"matplotlib.axis_2\">\r\n    <g id=\"ytick_1\">\r\n     <g id=\"line2d_9\">\r\n      <defs>\r\n       <path d=\"M 0 0 \r\nL -3.5 0 \r\n\" id=\"m7fa2f1544e\" style=\"stroke:#000000;stroke-width:0.8;\"/>\r\n      </defs>\r\n      <g>\r\n       <use style=\"stroke:#000000;stroke-width:0.8;\" x=\"40.603125\" xlink:href=\"#m7fa2f1544e\" y=\"224.617235\"/>\r\n      </g>\r\n     </g>\r\n     <g id=\"text_10\">\r\n      <!-- 10 -->\r\n      <g transform=\"translate(20.878125 228.416454)scale(0.1 -0.1)\">\r\n       <use xlink:href=\"#DejaVuSans-49\"/>\r\n       <use x=\"63.623047\" xlink:href=\"#DejaVuSans-48\"/>\r\n      </g>\r\n     </g>\r\n    </g>\r\n    <g id=\"ytick_2\">\r\n     <g id=\"line2d_10\">\r\n      <g>\r\n       <use style=\"stroke:#000000;stroke-width:0.8;\" x=\"40.603125\" xlink:href=\"#m7fa2f1544e\" y=\"198.330968\"/>\r\n      </g>\r\n     </g>\r\n     <g id=\"text_11\">\r\n      <!-- 15 -->\r\n      <g transform=\"translate(20.878125 202.130187)scale(0.1 -0.1)\">\r\n       <use xlink:href=\"#DejaVuSans-49\"/>\r\n       <use x=\"63.623047\" xlink:href=\"#DejaVuSans-53\"/>\r\n      </g>\r\n     </g>\r\n    </g>\r\n    <g id=\"ytick_3\">\r\n     <g id=\"line2d_11\">\r\n      <g>\r\n       <use style=\"stroke:#000000;stroke-width:0.8;\" x=\"40.603125\" xlink:href=\"#m7fa2f1544e\" y=\"172.044701\"/>\r\n      </g>\r\n     </g>\r\n     <g id=\"text_12\">\r\n      <!-- 20 -->\r\n      <g transform=\"translate(20.878125 175.84392)scale(0.1 -0.1)\">\r\n       <use xlink:href=\"#DejaVuSans-50\"/>\r\n       <use x=\"63.623047\" xlink:href=\"#DejaVuSans-48\"/>\r\n      </g>\r\n     </g>\r\n    </g>\r\n    <g id=\"ytick_4\">\r\n     <g id=\"line2d_12\">\r\n      <g>\r\n       <use style=\"stroke:#000000;stroke-width:0.8;\" x=\"40.603125\" xlink:href=\"#m7fa2f1544e\" y=\"145.758434\"/>\r\n      </g>\r\n     </g>\r\n     <g id=\"text_13\">\r\n      <!-- 25 -->\r\n      <g transform=\"translate(20.878125 149.557653)scale(0.1 -0.1)\">\r\n       <use xlink:href=\"#DejaVuSans-50\"/>\r\n       <use x=\"63.623047\" xlink:href=\"#DejaVuSans-53\"/>\r\n      </g>\r\n     </g>\r\n    </g>\r\n    <g id=\"ytick_5\">\r\n     <g id=\"line2d_13\">\r\n      <g>\r\n       <use style=\"stroke:#000000;stroke-width:0.8;\" x=\"40.603125\" xlink:href=\"#m7fa2f1544e\" y=\"119.472168\"/>\r\n      </g>\r\n     </g>\r\n     <g id=\"text_14\">\r\n      <!-- 30 -->\r\n      <defs>\r\n       <path d=\"M 40.578125 39.3125 \r\nQ 47.65625 37.796875 51.625 33 \r\nQ 55.609375 28.21875 55.609375 21.1875 \r\nQ 55.609375 10.40625 48.1875 4.484375 \r\nQ 40.765625 -1.421875 27.09375 -1.421875 \r\nQ 22.515625 -1.421875 17.65625 -0.515625 \r\nQ 12.796875 0.390625 7.625 2.203125 \r\nL 7.625 11.71875 \r\nQ 11.71875 9.328125 16.59375 8.109375 \r\nQ 21.484375 6.890625 26.8125 6.890625 \r\nQ 36.078125 6.890625 40.9375 10.546875 \r\nQ 45.796875 14.203125 45.796875 21.1875 \r\nQ 45.796875 27.640625 41.28125 31.265625 \r\nQ 36.765625 34.90625 28.71875 34.90625 \r\nL 20.21875 34.90625 \r\nL 20.21875 43.015625 \r\nL 29.109375 43.015625 \r\nQ 36.375 43.015625 40.234375 45.921875 \r\nQ 44.09375 48.828125 44.09375 54.296875 \r\nQ 44.09375 59.90625 40.109375 62.90625 \r\nQ 36.140625 65.921875 28.71875 65.921875 \r\nQ 24.65625 65.921875 20.015625 65.03125 \r\nQ 15.375 64.15625 9.8125 62.3125 \r\nL 9.8125 71.09375 \r\nQ 15.4375 72.65625 20.34375 73.4375 \r\nQ 25.25 74.21875 29.59375 74.21875 \r\nQ 40.828125 74.21875 47.359375 69.109375 \r\nQ 53.90625 64.015625 53.90625 55.328125 \r\nQ 53.90625 49.265625 50.4375 45.09375 \r\nQ 46.96875 40.921875 40.578125 39.3125 \r\nz\r\n\" id=\"DejaVuSans-51\"/>\r\n      </defs>\r\n      <g transform=\"translate(20.878125 123.271386)scale(0.1 -0.1)\">\r\n       <use xlink:href=\"#DejaVuSans-51\"/>\r\n       <use x=\"63.623047\" xlink:href=\"#DejaVuSans-48\"/>\r\n      </g>\r\n     </g>\r\n    </g>\r\n    <g id=\"ytick_6\">\r\n     <g id=\"line2d_14\">\r\n      <g>\r\n       <use style=\"stroke:#000000;stroke-width:0.8;\" x=\"40.603125\" xlink:href=\"#m7fa2f1544e\" y=\"93.185901\"/>\r\n      </g>\r\n     </g>\r\n     <g id=\"text_15\">\r\n      <!-- 35 -->\r\n      <g transform=\"translate(20.878125 96.985119)scale(0.1 -0.1)\">\r\n       <use xlink:href=\"#DejaVuSans-51\"/>\r\n       <use x=\"63.623047\" xlink:href=\"#DejaVuSans-53\"/>\r\n      </g>\r\n     </g>\r\n    </g>\r\n    <g id=\"ytick_7\">\r\n     <g id=\"line2d_15\">\r\n      <g>\r\n       <use style=\"stroke:#000000;stroke-width:0.8;\" x=\"40.603125\" xlink:href=\"#m7fa2f1544e\" y=\"66.899634\"/>\r\n      </g>\r\n     </g>\r\n     <g id=\"text_16\">\r\n      <!-- 40 -->\r\n      <defs>\r\n       <path d=\"M 37.796875 64.3125 \r\nL 12.890625 25.390625 \r\nL 37.796875 25.390625 \r\nz\r\nM 35.203125 72.90625 \r\nL 47.609375 72.90625 \r\nL 47.609375 25.390625 \r\nL 58.015625 25.390625 \r\nL 58.015625 17.1875 \r\nL 47.609375 17.1875 \r\nL 47.609375 0 \r\nL 37.796875 0 \r\nL 37.796875 17.1875 \r\nL 4.890625 17.1875 \r\nL 4.890625 26.703125 \r\nz\r\n\" id=\"DejaVuSans-52\"/>\r\n      </defs>\r\n      <g transform=\"translate(20.878125 70.698852)scale(0.1 -0.1)\">\r\n       <use xlink:href=\"#DejaVuSans-52\"/>\r\n       <use x=\"63.623047\" xlink:href=\"#DejaVuSans-48\"/>\r\n      </g>\r\n     </g>\r\n    </g>\r\n    <g id=\"ytick_8\">\r\n     <g id=\"line2d_16\">\r\n      <g>\r\n       <use style=\"stroke:#000000;stroke-width:0.8;\" x=\"40.603125\" xlink:href=\"#m7fa2f1544e\" y=\"40.613367\"/>\r\n      </g>\r\n     </g>\r\n     <g id=\"text_17\">\r\n      <!-- 45 -->\r\n      <g transform=\"translate(20.878125 44.412586)scale(0.1 -0.1)\">\r\n       <use xlink:href=\"#DejaVuSans-52\"/>\r\n       <use x=\"63.623047\" xlink:href=\"#DejaVuSans-53\"/>\r\n      </g>\r\n     </g>\r\n    </g>\r\n    <g id=\"text_18\">\r\n     <!-- Consumo (mpg) -->\r\n     <defs>\r\n      <path d=\"M 64.40625 67.28125 \r\nL 64.40625 56.890625 \r\nQ 59.421875 61.53125 53.78125 63.8125 \r\nQ 48.140625 66.109375 41.796875 66.109375 \r\nQ 29.296875 66.109375 22.65625 58.46875 \r\nQ 16.015625 50.828125 16.015625 36.375 \r\nQ 16.015625 21.96875 22.65625 14.328125 \r\nQ 29.296875 6.6875 41.796875 6.6875 \r\nQ 48.140625 6.6875 53.78125 8.984375 \r\nQ 59.421875 11.28125 64.40625 15.921875 \r\nL 64.40625 5.609375 \r\nQ 59.234375 2.09375 53.4375 0.328125 \r\nQ 47.65625 -1.421875 41.21875 -1.421875 \r\nQ 24.65625 -1.421875 15.125 8.703125 \r\nQ 5.609375 18.84375 5.609375 36.375 \r\nQ 5.609375 53.953125 15.125 64.078125 \r\nQ 24.65625 74.21875 41.21875 74.21875 \r\nQ 47.75 74.21875 53.53125 72.484375 \r\nQ 59.328125 70.75 64.40625 67.28125 \r\nz\r\n\" id=\"DejaVuSans-67\"/>\r\n      <path d=\"M 54.890625 33.015625 \r\nL 54.890625 0 \r\nL 45.90625 0 \r\nL 45.90625 32.71875 \r\nQ 45.90625 40.484375 42.875 44.328125 \r\nQ 39.84375 48.1875 33.796875 48.1875 \r\nQ 26.515625 48.1875 22.3125 43.546875 \r\nQ 18.109375 38.921875 18.109375 30.90625 \r\nL 18.109375 0 \r\nL 9.078125 0 \r\nL 9.078125 54.6875 \r\nL 18.109375 54.6875 \r\nL 18.109375 46.1875 \r\nQ 21.34375 51.125 25.703125 53.5625 \r\nQ 30.078125 56 35.796875 56 \r\nQ 45.21875 56 50.046875 50.171875 \r\nQ 54.890625 44.34375 54.890625 33.015625 \r\nz\r\n\" id=\"DejaVuSans-110\"/>\r\n      <path d=\"M 8.5 21.578125 \r\nL 8.5 54.6875 \r\nL 17.484375 54.6875 \r\nL 17.484375 21.921875 \r\nQ 17.484375 14.15625 20.5 10.265625 \r\nQ 23.53125 6.390625 29.59375 6.390625 \r\nQ 36.859375 6.390625 41.078125 11.03125 \r\nQ 45.3125 15.671875 45.3125 23.6875 \r\nL 45.3125 54.6875 \r\nL 54.296875 54.6875 \r\nL 54.296875 0 \r\nL 45.3125 0 \r\nL 45.3125 8.40625 \r\nQ 42.046875 3.421875 37.71875 1 \r\nQ 33.40625 -1.421875 27.6875 -1.421875 \r\nQ 18.265625 -1.421875 13.375 4.4375 \r\nQ 8.5 10.296875 8.5 21.578125 \r\nz\r\nM 31.109375 56 \r\nz\r\n\" id=\"DejaVuSans-117\"/>\r\n      <path d=\"M 52 44.1875 \r\nQ 55.375 50.25 60.0625 53.125 \r\nQ 64.75 56 71.09375 56 \r\nQ 79.640625 56 84.28125 50.015625 \r\nQ 88.921875 44.046875 88.921875 33.015625 \r\nL 88.921875 0 \r\nL 79.890625 0 \r\nL 79.890625 32.71875 \r\nQ 79.890625 40.578125 77.09375 44.375 \r\nQ 74.3125 48.1875 68.609375 48.1875 \r\nQ 61.625 48.1875 57.5625 43.546875 \r\nQ 53.515625 38.921875 53.515625 30.90625 \r\nL 53.515625 0 \r\nL 44.484375 0 \r\nL 44.484375 32.71875 \r\nQ 44.484375 40.625 41.703125 44.40625 \r\nQ 38.921875 48.1875 33.109375 48.1875 \r\nQ 26.21875 48.1875 22.15625 43.53125 \r\nQ 18.109375 38.875 18.109375 30.90625 \r\nL 18.109375 0 \r\nL 9.078125 0 \r\nL 9.078125 54.6875 \r\nL 18.109375 54.6875 \r\nL 18.109375 46.1875 \r\nQ 21.1875 51.21875 25.484375 53.609375 \r\nQ 29.78125 56 35.6875 56 \r\nQ 41.65625 56 45.828125 52.96875 \r\nQ 50 49.953125 52 44.1875 \r\nz\r\n\" id=\"DejaVuSans-109\"/>\r\n      <path d=\"M 31 75.875 \r\nQ 24.46875 64.65625 21.28125 53.65625 \r\nQ 18.109375 42.671875 18.109375 31.390625 \r\nQ 18.109375 20.125 21.3125 9.0625 \r\nQ 24.515625 -2 31 -13.1875 \r\nL 23.1875 -13.1875 \r\nQ 15.875 -1.703125 12.234375 9.375 \r\nQ 8.59375 20.453125 8.59375 31.390625 \r\nQ 8.59375 42.28125 12.203125 53.3125 \r\nQ 15.828125 64.359375 23.1875 75.875 \r\nz\r\n\" id=\"DejaVuSans-40\"/>\r\n      <path d=\"M 18.109375 8.203125 \r\nL 18.109375 -20.796875 \r\nL 9.078125 -20.796875 \r\nL 9.078125 54.6875 \r\nL 18.109375 54.6875 \r\nL 18.109375 46.390625 \r\nQ 20.953125 51.265625 25.265625 53.625 \r\nQ 29.59375 56 35.59375 56 \r\nQ 45.5625 56 51.78125 48.09375 \r\nQ 58.015625 40.1875 58.015625 27.296875 \r\nQ 58.015625 14.40625 51.78125 6.484375 \r\nQ 45.5625 -1.421875 35.59375 -1.421875 \r\nQ 29.59375 -1.421875 25.265625 0.953125 \r\nQ 20.953125 3.328125 18.109375 8.203125 \r\nz\r\nM 48.6875 27.296875 \r\nQ 48.6875 37.203125 44.609375 42.84375 \r\nQ 40.53125 48.484375 33.40625 48.484375 \r\nQ 26.265625 48.484375 22.1875 42.84375 \r\nQ 18.109375 37.203125 18.109375 27.296875 \r\nQ 18.109375 17.390625 22.1875 11.75 \r\nQ 26.265625 6.109375 33.40625 6.109375 \r\nQ 40.53125 6.109375 44.609375 11.75 \r\nQ 48.6875 17.390625 48.6875 27.296875 \r\nz\r\n\" id=\"DejaVuSans-112\"/>\r\n      <path d=\"M 45.40625 27.984375 \r\nQ 45.40625 37.75 41.375 43.109375 \r\nQ 37.359375 48.484375 30.078125 48.484375 \r\nQ 22.859375 48.484375 18.828125 43.109375 \r\nQ 14.796875 37.75 14.796875 27.984375 \r\nQ 14.796875 18.265625 18.828125 12.890625 \r\nQ 22.859375 7.515625 30.078125 7.515625 \r\nQ 37.359375 7.515625 41.375 12.890625 \r\nQ 45.40625 18.265625 45.40625 27.984375 \r\nz\r\nM 54.390625 6.78125 \r\nQ 54.390625 -7.171875 48.1875 -13.984375 \r\nQ 42 -20.796875 29.203125 -20.796875 \r\nQ 24.46875 -20.796875 20.265625 -20.09375 \r\nQ 16.0625 -19.390625 12.109375 -17.921875 \r\nL 12.109375 -9.1875 \r\nQ 16.0625 -11.328125 19.921875 -12.34375 \r\nQ 23.78125 -13.375 27.78125 -13.375 \r\nQ 36.625 -13.375 41.015625 -8.765625 \r\nQ 45.40625 -4.15625 45.40625 5.171875 \r\nL 45.40625 9.625 \r\nQ 42.625 4.78125 38.28125 2.390625 \r\nQ 33.9375 0 27.875 0 \r\nQ 17.828125 0 11.671875 7.65625 \r\nQ 5.515625 15.328125 5.515625 27.984375 \r\nQ 5.515625 40.671875 11.671875 48.328125 \r\nQ 17.828125 56 27.875 56 \r\nQ 33.9375 56 38.28125 53.609375 \r\nQ 42.625 51.21875 45.40625 46.390625 \r\nL 45.40625 54.6875 \r\nL 54.390625 54.6875 \r\nz\r\n\" id=\"DejaVuSans-103\"/>\r\n      <path d=\"M 8.015625 75.875 \r\nL 15.828125 75.875 \r\nQ 23.140625 64.359375 26.78125 53.3125 \r\nQ 30.421875 42.28125 30.421875 31.390625 \r\nQ 30.421875 20.453125 26.78125 9.375 \r\nQ 23.140625 -1.703125 15.828125 -13.1875 \r\nL 8.015625 -13.1875 \r\nQ 14.5 -2 17.703125 9.0625 \r\nQ 20.90625 20.125 20.90625 31.390625 \r\nQ 20.90625 42.671875 17.703125 53.65625 \r\nQ 14.5 64.65625 8.015625 75.875 \r\nz\r\n\" id=\"DejaVuSans-41\"/>\r\n     </defs>\r\n     <g transform=\"translate(14.798438 171.170156)rotate(-90)scale(0.1 -0.1)\">\r\n      <use xlink:href=\"#DejaVuSans-67\"/>\r\n      <use x=\"69.824219\" xlink:href=\"#DejaVuSans-111\"/>\r\n      <use x=\"131.005859\" xlink:href=\"#DejaVuSans-110\"/>\r\n      <use x=\"194.384766\" xlink:href=\"#DejaVuSans-115\"/>\r\n      <use x=\"246.484375\" xlink:href=\"#DejaVuSans-117\"/>\r\n      <use x=\"309.863281\" xlink:href=\"#DejaVuSans-109\"/>\r\n      <use x=\"407.275391\" xlink:href=\"#DejaVuSans-111\"/>\r\n      <use x=\"468.457031\" xlink:href=\"#DejaVuSans-32\"/>\r\n      <use x=\"500.244141\" xlink:href=\"#DejaVuSans-40\"/>\r\n      <use x=\"539.257812\" xlink:href=\"#DejaVuSans-109\"/>\r\n      <use x=\"636.669922\" xlink:href=\"#DejaVuSans-112\"/>\r\n      <use x=\"700.146484\" xlink:href=\"#DejaVuSans-103\"/>\r\n      <use x=\"763.623047\" xlink:href=\"#DejaVuSans-41\"/>\r\n     </g>\r\n    </g>\r\n   </g>\r\n   <g id=\"line2d_17\">\r\n    <defs>\r\n     <path d=\"M 0 3 \r\nC 0.795609 3 1.55874 2.683901 2.12132 2.12132 \r\nC 2.683901 1.55874 3 0.795609 3 0 \r\nC 3 -0.795609 2.683901 -1.55874 2.12132 -2.12132 \r\nC 1.55874 -2.683901 0.795609 -3 0 -3 \r\nC -0.795609 -3 -1.55874 -2.683901 -2.12132 -2.12132 \r\nC -2.683901 -1.55874 -3 -0.795609 -3 0 \r\nC -3 0.795609 -2.683901 1.55874 -2.12132 2.12132 \r\nC -1.55874 2.683901 -0.795609 3 0 3 \r\nz\r\n\" id=\"m323d811021\" style=\"stroke:#ff0000;\"/>\r\n    </defs>\r\n    <g clip-path=\"url(#p0281355416)\">\r\n     <use style=\"fill:#ff0000;stroke:#ff0000;\" x=\"194.769923\" xlink:href=\"#m323d811021\" y=\"182.559208\"/>\r\n     <use style=\"fill:#ff0000;stroke:#ff0000;\" x=\"252.66518\" xlink:href=\"#m323d811021\" y=\"198.330968\"/>\r\n     <use style=\"fill:#ff0000;stroke:#ff0000;\" x=\"227.852927\" xlink:href=\"#m323d811021\" y=\"182.559208\"/>\r\n     <use style=\"fill:#ff0000;stroke:#ff0000;\" x=\"227.852927\" xlink:href=\"#m323d811021\" y=\"193.073715\"/>\r\n     <use style=\"fill:#ff0000;stroke:#ff0000;\" x=\"211.311425\" xlink:href=\"#m323d811021\" y=\"187.816462\"/>\r\n     <use style=\"fill:#ff0000;stroke:#ff0000;\" x=\"307.252137\" xlink:href=\"#m323d811021\" y=\"198.330968\"/>\r\n     <use style=\"fill:#ff0000;stroke:#ff0000;\" x=\"343.643441\" xlink:href=\"#m323d811021\" y=\"203.588222\"/>\r\n     <use style=\"fill:#ff0000;stroke:#ff0000;\" x=\"335.37269\" xlink:href=\"#m323d811021\" y=\"203.588222\"/>\r\n     <use style=\"fill:#ff0000;stroke:#ff0000;\" x=\"351.914192\" xlink:href=\"#m323d811021\" y=\"203.588222\"/>\r\n     <use style=\"fill:#ff0000;stroke:#ff0000;\" x=\"294.018935\" xlink:href=\"#m323d811021\" y=\"198.330968\"/>\r\n     <use style=\"fill:#ff0000;stroke:#ff0000;\" x=\"260.935931\" xlink:href=\"#m323d811021\" y=\"198.330968\"/>\r\n     <use style=\"fill:#ff0000;stroke:#ff0000;\" x=\"244.394429\" xlink:href=\"#m323d811021\" y=\"203.588222\"/>\r\n     <use style=\"fill:#ff0000;stroke:#ff0000;\" x=\"227.852927\" xlink:href=\"#m323d811021\" y=\"198.330968\"/>\r\n     <use style=\"fill:#ff0000;stroke:#ff0000;\" x=\"351.914192\" xlink:href=\"#m323d811021\" y=\"203.588222\"/>\r\n     <use style=\"fill:#ff0000;stroke:#ff0000;\" x=\"136.874667\" xlink:href=\"#m323d811021\" y=\"151.015688\"/>\r\n     <use style=\"fill:#ff0000;stroke:#ff0000;\" x=\"136.874667\" xlink:href=\"#m323d811021\" y=\"161.530195\"/>\r\n     <use style=\"fill:#ff0000;stroke:#ff0000;\" x=\"140.182967\" xlink:href=\"#m323d811021\" y=\"182.559208\"/>\r\n     <use style=\"fill:#ff0000;stroke:#ff0000;\" x=\"120.333165\" xlink:href=\"#m323d811021\" y=\"166.787448\"/>\r\n     <use style=\"fill:#ff0000;stroke:#ff0000;\" x=\"125.295615\" xlink:href=\"#m323d811021\" y=\"135.243928\"/>\r\n     <use style=\"fill:#ff0000;stroke:#ff0000;\" x=\"55.821307\" xlink:href=\"#m323d811021\" y=\"140.501181\"/>\r\n     <use style=\"fill:#ff0000;stroke:#ff0000;\" x=\"123.641465\" xlink:href=\"#m323d811021\" y=\"145.758434\"/>\r\n     <use style=\"fill:#ff0000;stroke:#ff0000;\" x=\"128.603916\" xlink:href=\"#m323d811021\" y=\"151.015688\"/>\r\n     <use style=\"fill:#ff0000;stroke:#ff0000;\" x=\"136.874667\" xlink:href=\"#m323d811021\" y=\"145.758434\"/>\r\n     <use style=\"fill:#ff0000;stroke:#ff0000;\" x=\"166.64937\" xlink:href=\"#m323d811021\" y=\"140.501181\"/>\r\n     <use style=\"fill:#ff0000;stroke:#ff0000;\" x=\"128.603916\" xlink:href=\"#m323d811021\" y=\"166.787448\"/>\r\n     <use style=\"fill:#ff0000;stroke:#ff0000;\" x=\"335.37269\" xlink:href=\"#m323d811021\" y=\"224.617235\"/>\r\n     <use style=\"fill:#ff0000;stroke:#ff0000;\" x=\"310.560437\" xlink:href=\"#m323d811021\" y=\"224.617235\"/>\r\n     <use style=\"fill:#ff0000;stroke:#ff0000;\" x=\"327.101939\" xlink:href=\"#m323d811021\" y=\"219.359982\"/>\r\n     <use style=\"fill:#ff0000;stroke:#ff0000;\" x=\"298.981386\" xlink:href=\"#m323d811021\" y=\"229.874489\"/>\r\n     <use style=\"fill:#ff0000;stroke:#ff0000;\" x=\"125.295615\" xlink:href=\"#m323d811021\" y=\"135.243928\"/>\r\n     <use style=\"fill:#ff0000;stroke:#ff0000;\" x=\"128.603916\" xlink:href=\"#m323d811021\" y=\"129.986674\"/>\r\n     <use style=\"fill:#ff0000;stroke:#ff0000;\" x=\"136.874667\" xlink:href=\"#m323d811021\" y=\"145.758434\"/>\r\n     <use style=\"fill:#ff0000;stroke:#ff0000;\" x=\"145.145417\" xlink:href=\"#m323d811021\" y=\"177.301955\"/>\r\n     <use style=\"fill:#ff0000;stroke:#ff0000;\" x=\"153.416168\" xlink:href=\"#m323d811021\" y=\"193.073715\"/>\r\n     <use style=\"fill:#ff0000;stroke:#ff0000;\" x=\"145.145417\" xlink:href=\"#m323d811021\" y=\"187.816462\"/>\r\n     <use style=\"fill:#ff0000;stroke:#ff0000;\" x=\"125.295615\" xlink:href=\"#m323d811021\" y=\"177.301955\"/>\r\n     <use style=\"fill:#ff0000;stroke:#ff0000;\" x=\"145.145417\" xlink:href=\"#m323d811021\" y=\"182.559208\"/>\r\n     <use style=\"fill:#ff0000;stroke:#ff0000;\" x=\"252.66518\" xlink:href=\"#m323d811021\" y=\"203.588222\"/>\r\n     <use style=\"fill:#ff0000;stroke:#ff0000;\" x=\"269.206682\" xlink:href=\"#m323d811021\" y=\"203.588222\"/>\r\n     <use style=\"fill:#ff0000;stroke:#ff0000;\" x=\"232.815378\" xlink:href=\"#m323d811021\" y=\"203.588222\"/>\r\n     <use style=\"fill:#ff0000;stroke:#ff0000;\" x=\"227.852927\" xlink:href=\"#m323d811021\" y=\"203.588222\"/>\r\n     <use style=\"fill:#ff0000;stroke:#ff0000;\" x=\"277.477433\" xlink:href=\"#m323d811021\" y=\"214.102728\"/>\r\n     <use style=\"fill:#ff0000;stroke:#ff0000;\" x=\"260.935931\" xlink:href=\"#m323d811021\" y=\"208.845475\"/>\r\n     <use style=\"fill:#ff0000;stroke:#ff0000;\" x=\"269.206682\" xlink:href=\"#m323d811021\" y=\"208.845475\"/>\r\n     <use style=\"fill:#ff0000;stroke:#ff0000;\" x=\"161.686919\" xlink:href=\"#m323d811021\" y=\"182.559208\"/>\r\n     <use style=\"fill:#ff0000;stroke:#ff0000;\" x=\"98.829212\" xlink:href=\"#m323d811021\" y=\"161.530195\"/>\r\n     <use style=\"fill:#ff0000;stroke:#ff0000;\" x=\"145.145417\" xlink:href=\"#m323d811021\" y=\"177.301955\"/>\r\n     <use style=\"fill:#ff0000;stroke:#ff0000;\" x=\"125.295615\" xlink:href=\"#m323d811021\" y=\"182.559208\"/>\r\n     <use style=\"fill:#ff0000;stroke:#ff0000;\" x=\"121.987315\" xlink:href=\"#m323d811021\" y=\"156.272941\"/>\r\n     <use style=\"fill:#ff0000;stroke:#ff0000;\" x=\"128.603916\" xlink:href=\"#m323d811021\" y=\"129.986674\"/>\r\n     <use style=\"fill:#ff0000;stroke:#ff0000;\" x=\"95.520912\" xlink:href=\"#m323d811021\" y=\"119.472168\"/>\r\n     <use style=\"fill:#ff0000;stroke:#ff0000;\" x=\"105.445813\" xlink:href=\"#m323d811021\" y=\"119.472168\"/>\r\n     <use style=\"fill:#ff0000;stroke:#ff0000;\" x=\"87.250161\" xlink:href=\"#m323d811021\" y=\"114.214914\"/>\r\n     <use style=\"fill:#ff0000;stroke:#ff0000;\" x=\"93.866761\" xlink:href=\"#m323d811021\" y=\"93.185901\"/>\r\n     <use style=\"fill:#ff0000;stroke:#ff0000;\" x=\"78.97941\" xlink:href=\"#m323d811021\" y=\"135.243928\"/>\r\n     <use style=\"fill:#ff0000;stroke:#ff0000;\" x=\"95.520912\" xlink:href=\"#m323d811021\" y=\"140.501181\"/>\r\n     <use style=\"fill:#ff0000;stroke:#ff0000;\" x=\"136.874667\" xlink:href=\"#m323d811021\" y=\"151.015688\"/>\r\n     <use style=\"fill:#ff0000;stroke:#ff0000;\" x=\"112.062414\" xlink:href=\"#m323d811021\" y=\"145.758434\"/>\r\n     <use style=\"fill:#ff0000;stroke:#ff0000;\" x=\"69.054508\" xlink:href=\"#m323d811021\" y=\"156.272941\"/>\r\n     <use style=\"fill:#ff0000;stroke:#ff0000;\" x=\"128.603916\" xlink:href=\"#m323d811021\" y=\"172.044701\"/>\r\n     <use style=\"fill:#ff0000;stroke:#ff0000;\" x=\"121.987315\" xlink:href=\"#m323d811021\" y=\"166.787448\"/>\r\n     <use style=\"fill:#ff0000;stroke:#ff0000;\" x=\"252.66518\" xlink:href=\"#m323d811021\" y=\"208.845475\"/>\r\n     <use style=\"fill:#ff0000;stroke:#ff0000;\" x=\"269.206682\" xlink:href=\"#m323d811021\" y=\"203.588222\"/>\r\n     <use style=\"fill:#ff0000;stroke:#ff0000;\" x=\"227.852927\" xlink:href=\"#m323d811021\" y=\"198.330968\"/>\r\n     <use style=\"fill:#ff0000;stroke:#ff0000;\" x=\"232.815378\" xlink:href=\"#m323d811021\" y=\"203.588222\"/>\r\n     <use style=\"fill:#ff0000;stroke:#ff0000;\" x=\"227.852927\" xlink:href=\"#m323d811021\" y=\"187.816462\"/>\r\n     <use style=\"fill:#ff0000;stroke:#ff0000;\" x=\"323.793639\" xlink:href=\"#m323d811021\" y=\"219.359982\"/>\r\n     <use style=\"fill:#ff0000;stroke:#ff0000;\" x=\"236.123678\" xlink:href=\"#m323d811021\" y=\"208.845475\"/>\r\n     <use style=\"fill:#ff0000;stroke:#ff0000;\" x=\"244.394429\" xlink:href=\"#m323d811021\" y=\"214.102728\"/>\r\n     <use style=\"fill:#ff0000;stroke:#ff0000;\" x=\"294.018935\" xlink:href=\"#m323d811021\" y=\"208.845475\"/>\r\n     <use style=\"fill:#ff0000;stroke:#ff0000;\" x=\"140.182967\" xlink:href=\"#m323d811021\" y=\"177.301955\"/>\r\n     <use style=\"fill:#ff0000;stroke:#ff0000;\" x=\"227.852927\" xlink:href=\"#m323d811021\" y=\"198.330968\"/>\r\n     <use style=\"fill:#ff0000;stroke:#ff0000;\" x=\"194.769923\" xlink:href=\"#m323d811021\" y=\"208.845475\"/>\r\n     <use style=\"fill:#ff0000;stroke:#ff0000;\" x=\"211.311425\" xlink:href=\"#m323d811021\" y=\"208.845475\"/>\r\n     <use style=\"fill:#ff0000;stroke:#ff0000;\" x=\"227.852927\" xlink:href=\"#m323d811021\" y=\"203.588222\"/>\r\n     <use style=\"fill:#ff0000;stroke:#ff0000;\" x=\"164.99522\" xlink:href=\"#m323d811021\" y=\"182.559208\"/>\r\n     <use style=\"fill:#ff0000;stroke:#ff0000;\" x=\"105.445813\" xlink:href=\"#m323d811021\" y=\"161.530195\"/>\r\n     <use style=\"fill:#ff0000;stroke:#ff0000;\" x=\"123.641465\" xlink:href=\"#m323d811021\" y=\"166.787448\"/>\r\n     <use style=\"fill:#ff0000;stroke:#ff0000;\" x=\"93.866761\" xlink:href=\"#m323d811021\" y=\"140.501181\"/>\r\n     <use style=\"fill:#ff0000;stroke:#ff0000;\" x=\"121.987315\" xlink:href=\"#m323d811021\" y=\"161.530195\"/>\r\n     <use style=\"fill:#ff0000;stroke:#ff0000;\" x=\"131.912216\" xlink:href=\"#m323d811021\" y=\"129.986674\"/>\r\n     <use style=\"fill:#ff0000;stroke:#ff0000;\" x=\"140.182967\" xlink:href=\"#m323d811021\" y=\"156.272941\"/>\r\n     <use style=\"fill:#ff0000;stroke:#ff0000;\" x=\"112.062414\" xlink:href=\"#m323d811021\" y=\"129.986674\"/>\r\n     <use style=\"fill:#ff0000;stroke:#ff0000;\" x=\"125.295615\" xlink:href=\"#m323d811021\" y=\"135.243928\"/>\r\n     <use style=\"fill:#ff0000;stroke:#ff0000;\" x=\"269.206682\" xlink:href=\"#m323d811021\" y=\"208.845475\"/>\r\n     <use style=\"fill:#ff0000;stroke:#ff0000;\" x=\"227.852927\" xlink:href=\"#m323d811021\" y=\"203.588222\"/>\r\n     <use style=\"fill:#ff0000;stroke:#ff0000;\" x=\"219.582176\" xlink:href=\"#m323d811021\" y=\"208.845475\"/>\r\n     <use style=\"fill:#ff0000;stroke:#ff0000;\" x=\"206.348975\" xlink:href=\"#m323d811021\" y=\"203.588222\"/>\r\n     <use style=\"fill:#ff0000;stroke:#ff0000;\" x=\"227.852927\" xlink:href=\"#m323d811021\" y=\"198.330968\"/>\r\n     <use style=\"fill:#ff0000;stroke:#ff0000;\" x=\"307.252137\" xlink:href=\"#m323d811021\" y=\"214.102728\"/>\r\n     <use style=\"fill:#ff0000;stroke:#ff0000;\" x=\"227.852927\" xlink:href=\"#m323d811021\" y=\"208.845475\"/>\r\n     <use style=\"fill:#ff0000;stroke:#ff0000;\" x=\"241.086129\" xlink:href=\"#m323d811021\" y=\"208.845475\"/>\r\n     <use style=\"fill:#ff0000;stroke:#ff0000;\" x=\"227.852927\" xlink:href=\"#m323d811021\" y=\"203.588222\"/>\r\n     <use style=\"fill:#ff0000;stroke:#ff0000;\" x=\"335.37269\" xlink:href=\"#m323d811021\" y=\"208.845475\"/>\r\n     <use style=\"fill:#ff0000;stroke:#ff0000;\" x=\"351.914192\" xlink:href=\"#m323d811021\" y=\"214.102728\"/>\r\n     <use style=\"fill:#ff0000;stroke:#ff0000;\" x=\"269.206682\" xlink:href=\"#m323d811021\" y=\"208.845475\"/>\r\n     <use style=\"fill:#ff0000;stroke:#ff0000;\" x=\"153.416168\" xlink:href=\"#m323d811021\" y=\"182.559208\"/>\r\n     <use style=\"fill:#ff0000;stroke:#ff0000;\" x=\"145.145417\" xlink:href=\"#m323d811021\" y=\"193.073715\"/>\r\n     <use style=\"fill:#ff0000;stroke:#ff0000;\" x=\"145.145417\" xlink:href=\"#m323d811021\" y=\"182.559208\"/>\r\n     <use style=\"fill:#ff0000;stroke:#ff0000;\" x=\"125.295615\" xlink:href=\"#m323d811021\" y=\"182.559208\"/>\r\n     <use style=\"fill:#ff0000;stroke:#ff0000;\" x=\"136.874667\" xlink:href=\"#m323d811021\" y=\"156.272941\"/>\r\n     <use style=\"fill:#ff0000;stroke:#ff0000;\" x=\"55.821307\" xlink:href=\"#m323d811021\" y=\"140.501181\"/>\r\n     <use style=\"fill:#ff0000;stroke:#ff0000;\" x=\"227.852927\" xlink:href=\"#m323d811021\" y=\"219.359982\"/>\r\n     <use style=\"fill:#ff0000;stroke:#ff0000;\" x=\"255.973481\" xlink:href=\"#m323d811021\" y=\"214.102728\"/>\r\n     <use style=\"fill:#ff0000;stroke:#ff0000;\" x=\"260.935931\" xlink:href=\"#m323d811021\" y=\"208.845475\"/>\r\n     <use style=\"fill:#ff0000;stroke:#ff0000;\" x=\"277.477433\" xlink:href=\"#m323d811021\" y=\"214.102728\"/>\r\n     <use style=\"fill:#ff0000;stroke:#ff0000;\" x=\"145.145417\" xlink:href=\"#m323d811021\" y=\"182.559208\"/>\r\n     <use style=\"fill:#ff0000;stroke:#ff0000;\" x=\"125.295615\" xlink:href=\"#m323d811021\" y=\"172.044701\"/>\r\n     <use style=\"fill:#ff0000;stroke:#ff0000;\" x=\"98.829212\" xlink:href=\"#m323d811021\" y=\"166.787448\"/>\r\n     <use style=\"fill:#ff0000;stroke:#ff0000;\" x=\"135.220516\" xlink:href=\"#m323d811021\" y=\"161.530195\"/>\r\n     <use style=\"fill:#ff0000;stroke:#ff0000;\" x=\"128.603916\" xlink:href=\"#m323d811021\" y=\"182.559208\"/>\r\n     <use style=\"fill:#ff0000;stroke:#ff0000;\" x=\"120.333165\" xlink:href=\"#m323d811021\" y=\"177.301955\"/>\r\n     <use style=\"fill:#ff0000;stroke:#ff0000;\" x=\"156.724469\" xlink:href=\"#m323d811021\" y=\"166.787448\"/>\r\n     <use style=\"fill:#ff0000;stroke:#ff0000;\" x=\"128.603916\" xlink:href=\"#m323d811021\" y=\"140.501181\"/>\r\n     <use style=\"fill:#ff0000;stroke:#ff0000;\" x=\"219.582176\" xlink:href=\"#m323d811021\" y=\"198.330968\"/>\r\n     <use style=\"fill:#ff0000;stroke:#ff0000;\" x=\"360.184943\" xlink:href=\"#m323d811021\" y=\"193.073715\"/>\r\n     <use style=\"fill:#ff0000;stroke:#ff0000;\" x=\"60.783757\" xlink:href=\"#m323d811021\" y=\"124.729421\"/>\r\n     <use style=\"fill:#ff0000;stroke:#ff0000;\" x=\"103.791663\" xlink:href=\"#m323d811021\" y=\"151.015688\"/>\r\n     <use style=\"fill:#ff0000;stroke:#ff0000;\" x=\"130.258066\" xlink:href=\"#m323d811021\" y=\"172.044701\"/>\r\n     <use style=\"fill:#ff0000;stroke:#ff0000;\" x=\"164.99522\" xlink:href=\"#m323d811021\" y=\"177.301955\"/>\r\n     <use style=\"fill:#ff0000;stroke:#ff0000;\" x=\"227.852927\" xlink:href=\"#m323d811021\" y=\"198.330968\"/>\r\n     <use style=\"fill:#ff0000;stroke:#ff0000;\" x=\"161.686919\" xlink:href=\"#m323d811021\" y=\"151.015688\"/>\r\n     <use style=\"fill:#ff0000;stroke:#ff0000;\" x=\"181.536722\" xlink:href=\"#m323d811021\" y=\"172.044701\"/>\r\n     <use style=\"fill:#ff0000;stroke:#ff0000;\" x=\"277.477433\" xlink:href=\"#m323d811021\" y=\"219.359982\"/>\r\n     <use style=\"fill:#ff0000;stroke:#ff0000;\" x=\"136.874667\" xlink:href=\"#m323d811021\" y=\"172.044701\"/>\r\n     <use style=\"fill:#ff0000;stroke:#ff0000;\" x=\"145.145417\" xlink:href=\"#m323d811021\" y=\"177.301955\"/>\r\n     <use style=\"fill:#ff0000;stroke:#ff0000;\" x=\"145.145417\" xlink:href=\"#m323d811021\" y=\"198.330968\"/>\r\n     <use style=\"fill:#ff0000;stroke:#ff0000;\" x=\"90.558461\" xlink:href=\"#m323d811021\" y=\"114.214914\"/>\r\n     <use style=\"fill:#ff0000;stroke:#ff0000;\" x=\"112.062414\" xlink:href=\"#m323d811021\" y=\"140.501181\"/>\r\n     <use style=\"fill:#ff0000;stroke:#ff0000;\" x=\"87.250161\" xlink:href=\"#m323d811021\" y=\"108.957661\"/>\r\n     <use style=\"fill:#ff0000;stroke:#ff0000;\" x=\"103.791663\" xlink:href=\"#m323d811021\" y=\"145.758434\"/>\r\n     <use style=\"fill:#ff0000;stroke:#ff0000;\" x=\"145.145417\" xlink:href=\"#m323d811021\" y=\"193.073715\"/>\r\n     <use style=\"fill:#ff0000;stroke:#ff0000;\" x=\"161.686919\" xlink:href=\"#m323d811021\" y=\"193.073715\"/>\r\n     <use style=\"fill:#ff0000;stroke:#ff0000;\" x=\"153.416168\" xlink:href=\"#m323d811021\" y=\"182.559208\"/>\r\n     <use style=\"fill:#ff0000;stroke:#ff0000;\" x=\"211.311425\" xlink:href=\"#m323d811021\" y=\"193.073715\"/>\r\n     <use style=\"fill:#ff0000;stroke:#ff0000;\" x=\"227.852927\" xlink:href=\"#m323d811021\" y=\"208.845475\"/>\r\n     <use style=\"fill:#ff0000;stroke:#ff0000;\" x=\"227.852927\" xlink:href=\"#m323d811021\" y=\"203.588222\"/>\r\n     <use style=\"fill:#ff0000;stroke:#ff0000;\" x=\"211.311425\" xlink:href=\"#m323d811021\" y=\"203.588222\"/>\r\n     <use style=\"fill:#ff0000;stroke:#ff0000;\" x=\"227.852927\" xlink:href=\"#m323d811021\" y=\"203.588222\"/>\r\n     <use style=\"fill:#ff0000;stroke:#ff0000;\" x=\"117.024864\" xlink:href=\"#m323d811021\" y=\"124.729421\"/>\r\n     <use style=\"fill:#ff0000;stroke:#ff0000;\" x=\"90.558461\" xlink:href=\"#m323d811021\" y=\"140.501181\"/>\r\n     <use style=\"fill:#ff0000;stroke:#ff0000;\" x=\"108.754113\" xlink:href=\"#m323d811021\" y=\"140.501181\"/>\r\n     <use style=\"fill:#ff0000;stroke:#ff0000;\" x=\"65.746208\" xlink:href=\"#m323d811021\" y=\"114.214914\"/>\r\n     <use style=\"fill:#ff0000;stroke:#ff0000;\" x=\"80.63356\" xlink:href=\"#m323d811021\" y=\"108.957661\"/>\r\n     <use style=\"fill:#ff0000;stroke:#ff0000;\" x=\"103.791663\" xlink:href=\"#m323d811021\" y=\"129.986674\"/>\r\n     <use style=\"fill:#ff0000;stroke:#ff0000;\" x=\"103.791663\" xlink:href=\"#m323d811021\" y=\"151.015688\"/>\r\n     <use style=\"fill:#ff0000;stroke:#ff0000;\" x=\"103.791663\" xlink:href=\"#m323d811021\" y=\"140.501181\"/>\r\n     <use style=\"fill:#ff0000;stroke:#ff0000;\" x=\"140.182967\" xlink:href=\"#m323d811021\" y=\"151.015688\"/>\r\n     <use style=\"fill:#ff0000;stroke:#ff0000;\" x=\"133.566366\" xlink:href=\"#m323d811021\" y=\"140.501181\"/>\r\n     <use style=\"fill:#ff0000;stroke:#ff0000;\" x=\"90.558461\" xlink:href=\"#m323d811021\" y=\"114.214914\"/>\r\n     <use style=\"fill:#ff0000;stroke:#ff0000;\" x=\"136.874667\" xlink:href=\"#m323d811021\" y=\"177.301955\"/>\r\n     <use style=\"fill:#ff0000;stroke:#ff0000;\" x=\"153.416168\" xlink:href=\"#m323d811021\" y=\"182.559208\"/>\r\n     <use style=\"fill:#ff0000;stroke:#ff0000;\" x=\"98.829212\" xlink:href=\"#m323d811021\" y=\"198.330968\"/>\r\n     <use style=\"fill:#ff0000;stroke:#ff0000;\" x=\"98.829212\" xlink:href=\"#m323d811021\" y=\"198.330968\"/>\r\n     <use style=\"fill:#ff0000;stroke:#ff0000;\" x=\"260.935931\" xlink:href=\"#m323d811021\" y=\"193.073715\"/>\r\n     <use style=\"fill:#ff0000;stroke:#ff0000;\" x=\"219.582176\" xlink:href=\"#m323d811021\" y=\"198.330968\"/>\r\n     <use style=\"fill:#ff0000;stroke:#ff0000;\" x=\"227.852927\" xlink:href=\"#m323d811021\" y=\"193.073715\"/>\r\n     <use style=\"fill:#ff0000;stroke:#ff0000;\" x=\"224.544627\" xlink:href=\"#m323d811021\" y=\"203.588222\"/>\r\n     <use style=\"fill:#ff0000;stroke:#ff0000;\" x=\"161.686919\" xlink:href=\"#m323d811021\" y=\"187.816462\"/>\r\n     <use style=\"fill:#ff0000;stroke:#ff0000;\" x=\"153.416168\" xlink:href=\"#m323d811021\" y=\"193.073715\"/>\r\n     <use style=\"fill:#ff0000;stroke:#ff0000;\" x=\"161.686919\" xlink:href=\"#m323d811021\" y=\"198.330968\"/>\r\n     <use style=\"fill:#ff0000;stroke:#ff0000;\" x=\"136.874667\" xlink:href=\"#m323d811021\" y=\"182.559208\"/>\r\n     <use style=\"fill:#ff0000;stroke:#ff0000;\" x=\"161.686919\" xlink:href=\"#m323d811021\" y=\"166.787448\"/>\r\n     <use style=\"fill:#ff0000;stroke:#ff0000;\" x=\"161.686919\" xlink:href=\"#m323d811021\" y=\"172.044701\"/>\r\n     <use style=\"fill:#ff0000;stroke:#ff0000;\" x=\"193.115773\" xlink:href=\"#m323d811021\" y=\"208.845475\"/>\r\n     <use style=\"fill:#ff0000;stroke:#ff0000;\" x=\"103.791663\" xlink:href=\"#m323d811021\" y=\"124.729421\"/>\r\n     <use style=\"fill:#ff0000;stroke:#ff0000;\" x=\"117.024864\" xlink:href=\"#m323d811021\" y=\"156.272941\"/>\r\n     <use style=\"fill:#ff0000;stroke:#ff0000;\" x=\"145.145417\" xlink:href=\"#m323d811021\" y=\"172.044701\"/>\r\n     <use style=\"fill:#ff0000;stroke:#ff0000;\" x=\"108.754113\" xlink:href=\"#m323d811021\" y=\"156.272941\"/>\r\n     <use style=\"fill:#ff0000;stroke:#ff0000;\" x=\"138.528817\" xlink:href=\"#m323d811021\" y=\"151.015688\"/>\r\n     <use style=\"fill:#ff0000;stroke:#ff0000;\" x=\"97.175062\" xlink:href=\"#m323d811021\" y=\"145.758434\"/>\r\n     <use style=\"fill:#ff0000;stroke:#ff0000;\" x=\"140.182967\" xlink:href=\"#m323d811021\" y=\"151.015688\"/>\r\n     <use style=\"fill:#ff0000;stroke:#ff0000;\" x=\"140.182967\" xlink:href=\"#m323d811021\" y=\"182.559208\"/>\r\n     <use style=\"fill:#ff0000;stroke:#ff0000;\" x=\"95.520912\" xlink:href=\"#m323d811021\" y=\"124.729421\"/>\r\n     <use style=\"fill:#ff0000;stroke:#ff0000;\" x=\"128.603916\" xlink:href=\"#m323d811021\" y=\"177.301955\"/>\r\n     <use style=\"fill:#ff0000;stroke:#ff0000;\" x=\"136.874667\" xlink:href=\"#m323d811021\" y=\"156.272941\"/>\r\n     <use style=\"fill:#ff0000;stroke:#ff0000;\" x=\"125.295615\" xlink:href=\"#m323d811021\" y=\"156.272941\"/>\r\n     <use style=\"fill:#ff0000;stroke:#ff0000;\" x=\"141.837117\" xlink:href=\"#m323d811021\" y=\"161.530195\"/>\r\n     <use style=\"fill:#ff0000;stroke:#ff0000;\" x=\"169.95767\" xlink:href=\"#m323d811021\" y=\"145.758434\"/>\r\n     <use style=\"fill:#ff0000;stroke:#ff0000;\" x=\"67.400358\" xlink:href=\"#m323d811021\" y=\"103.700407\"/>\r\n     <use style=\"fill:#ff0000;stroke:#ff0000;\" x=\"121.987315\" xlink:href=\"#m323d811021\" y=\"129.986674\"/>\r\n     <use style=\"fill:#ff0000;stroke:#ff0000;\" x=\"113.716564\" xlink:href=\"#m323d811021\" y=\"145.758434\"/>\r\n     <use style=\"fill:#ff0000;stroke:#ff0000;\" x=\"131.912216\" xlink:href=\"#m323d811021\" y=\"145.758434\"/>\r\n     <use style=\"fill:#ff0000;stroke:#ff0000;\" x=\"110.408263\" xlink:href=\"#m323d811021\" y=\"140.501181\"/>\r\n     <use style=\"fill:#ff0000;stroke:#ff0000;\" x=\"117.024864\" xlink:href=\"#m323d811021\" y=\"135.243928\"/>\r\n     <use style=\"fill:#ff0000;stroke:#ff0000;\" x=\"211.311425\" xlink:href=\"#m323d811021\" y=\"185.187835\"/>\r\n     <use style=\"fill:#ff0000;stroke:#ff0000;\" x=\"227.852927\" xlink:href=\"#m323d811021\" y=\"193.073715\"/>\r\n     <use style=\"fill:#ff0000;stroke:#ff0000;\" x=\"178.228421\" xlink:href=\"#m323d811021\" y=\"195.702342\"/>\r\n     <use style=\"fill:#ff0000;stroke:#ff0000;\" x=\"231.161228\" xlink:href=\"#m323d811021\" y=\"200.959595\"/>\r\n     <use style=\"fill:#ff0000;stroke:#ff0000;\" x=\"145.145417\" xlink:href=\"#m323d811021\" y=\"161.530195\"/>\r\n     <use style=\"fill:#ff0000;stroke:#ff0000;\" x=\"153.416168\" xlink:href=\"#m323d811021\" y=\"161.530195\"/>\r\n     <use style=\"fill:#ff0000;stroke:#ff0000;\" x=\"113.716564\" xlink:href=\"#m323d811021\" y=\"151.015688\"/>\r\n     <use style=\"fill:#ff0000;stroke:#ff0000;\" x=\"128.603916\" xlink:href=\"#m323d811021\" y=\"158.901568\"/>\r\n     <use style=\"fill:#ff0000;stroke:#ff0000;\" x=\"65.746208\" xlink:href=\"#m323d811021\" y=\"124.729421\"/>\r\n     <use style=\"fill:#ff0000;stroke:#ff0000;\" x=\"78.97941\" xlink:href=\"#m323d811021\" y=\"148.387061\"/>\r\n     <use style=\"fill:#ff0000;stroke:#ff0000;\" x=\"95.520912\" xlink:href=\"#m323d811021\" y=\"124.729421\"/>\r\n     <use style=\"fill:#ff0000;stroke:#ff0000;\" x=\"67.400358\" xlink:href=\"#m323d811021\" y=\"103.700407\"/>\r\n     <use style=\"fill:#ff0000;stroke:#ff0000;\" x=\"145.145417\" xlink:href=\"#m323d811021\" y=\"172.044701\"/>\r\n     <use style=\"fill:#ff0000;stroke:#ff0000;\" x=\"108.754113\" xlink:href=\"#m323d811021\" y=\"182.559208\"/>\r\n     <use style=\"fill:#ff0000;stroke:#ff0000;\" x=\"161.686919\" xlink:href=\"#m323d811021\" y=\"179.930581\"/>\r\n     <use style=\"fill:#ff0000;stroke:#ff0000;\" x=\"136.874667\" xlink:href=\"#m323d811021\" y=\"185.187835\"/>\r\n     <use style=\"fill:#ff0000;stroke:#ff0000;\" x=\"97.175062\" xlink:href=\"#m323d811021\" y=\"122.100794\"/>\r\n     <use style=\"fill:#ff0000;stroke:#ff0000;\" x=\"95.520912\" xlink:href=\"#m323d811021\" y=\"108.957661\"/>\r\n     <use style=\"fill:#ff0000;stroke:#ff0000;\" x=\"103.791663\" xlink:href=\"#m323d811021\" y=\"129.986674\"/>\r\n     <use style=\"fill:#ff0000;stroke:#ff0000;\" x=\"98.829212\" xlink:href=\"#m323d811021\" y=\"137.872554\"/>\r\n     <use style=\"fill:#ff0000;stroke:#ff0000;\" x=\"148.453718\" xlink:href=\"#m323d811021\" y=\"172.044701\"/>\r\n     <use style=\"fill:#ff0000;stroke:#ff0000;\" x=\"227.852927\" xlink:href=\"#m323d811021\" y=\"208.845475\"/>\r\n     <use style=\"fill:#ff0000;stroke:#ff0000;\" x=\"125.295615\" xlink:href=\"#m323d811021\" y=\"177.301955\"/>\r\n     <use style=\"fill:#ff0000;stroke:#ff0000;\" x=\"158.378619\" xlink:href=\"#m323d811021\" y=\"177.301955\"/>\r\n     <use style=\"fill:#ff0000;stroke:#ff0000;\" x=\"178.228421\" xlink:href=\"#m323d811021\" y=\"190.445088\"/>\r\n     <use style=\"fill:#ff0000;stroke:#ff0000;\" x=\"277.477433\" xlink:href=\"#m323d811021\" y=\"190.445088\"/>\r\n     <use style=\"fill:#ff0000;stroke:#ff0000;\" x=\"219.582176\" xlink:href=\"#m323d811021\" y=\"208.845475\"/>\r\n     <use style=\"fill:#ff0000;stroke:#ff0000;\" x=\"194.769923\" xlink:href=\"#m323d811021\" y=\"208.845475\"/>\r\n     <use style=\"fill:#ff0000;stroke:#ff0000;\" x=\"227.852927\" xlink:href=\"#m323d811021\" y=\"208.845475\"/>\r\n     <use style=\"fill:#ff0000;stroke:#ff0000;\" x=\"92.212611\" xlink:href=\"#m323d811021\" y=\"111.586287\"/>\r\n     <use style=\"fill:#ff0000;stroke:#ff0000;\" x=\"112.062414\" xlink:href=\"#m323d811021\" y=\"119.472168\"/>\r\n     <use style=\"fill:#ff0000;stroke:#ff0000;\" x=\"75.671109\" xlink:href=\"#m323d811021\" y=\"87.928647\"/>\r\n     <use style=\"fill:#ff0000;stroke:#ff0000;\" x=\"138.528817\" xlink:href=\"#m323d811021\" y=\"143.129808\"/>\r\n     <use style=\"fill:#ff0000;stroke:#ff0000;\" x=\"95.520912\" xlink:href=\"#m323d811021\" y=\"101.071781\"/>\r\n     <use style=\"fill:#ff0000;stroke:#ff0000;\" x=\"219.582176\" xlink:href=\"#m323d811021\" y=\"185.187835\"/>\r\n     <use style=\"fill:#ff0000;stroke:#ff0000;\" x=\"161.686919\" xlink:href=\"#m323d811021\" y=\"187.816462\"/>\r\n     <use style=\"fill:#ff0000;stroke:#ff0000;\" x=\"219.582176\" xlink:href=\"#m323d811021\" y=\"195.702342\"/>\r\n     <use style=\"fill:#ff0000;stroke:#ff0000;\" x=\"194.769923\" xlink:href=\"#m323d811021\" y=\"198.330968\"/>\r\n     <use style=\"fill:#ff0000;stroke:#ff0000;\" x=\"161.686919\" xlink:href=\"#m323d811021\" y=\"185.187835\"/>\r\n     <use style=\"fill:#ff0000;stroke:#ff0000;\" x=\"153.416168\" xlink:href=\"#m323d811021\" y=\"169.416075\"/>\r\n     <use style=\"fill:#ff0000;stroke:#ff0000;\" x=\"145.145417\" xlink:href=\"#m323d811021\" y=\"177.301955\"/>\r\n     <use style=\"fill:#ff0000;stroke:#ff0000;\" x=\"141.837117\" xlink:href=\"#m323d811021\" y=\"179.930581\"/>\r\n     <use style=\"fill:#ff0000;stroke:#ff0000;\" x=\"277.477433\" xlink:href=\"#m323d811021\" y=\"193.073715\"/>\r\n     <use style=\"fill:#ff0000;stroke:#ff0000;\" x=\"260.935931\" xlink:href=\"#m323d811021\" y=\"195.702342\"/>\r\n     <use style=\"fill:#ff0000;stroke:#ff0000;\" x=\"294.018935\" xlink:href=\"#m323d811021\" y=\"195.702342\"/>\r\n     <use style=\"fill:#ff0000;stroke:#ff0000;\" x=\"226.198777\" xlink:href=\"#m323d811021\" y=\"193.073715\"/>\r\n     <use style=\"fill:#ff0000;stroke:#ff0000;\" x=\"108.754113\" xlink:href=\"#m323d811021\" y=\"124.729421\"/>\r\n     <use style=\"fill:#ff0000;stroke:#ff0000;\" x=\"125.295615\" xlink:href=\"#m323d811021\" y=\"148.387061\"/>\r\n     <use style=\"fill:#ff0000;stroke:#ff0000;\" x=\"103.791663\" xlink:href=\"#m323d811021\" y=\"140.501181\"/>\r\n     <use style=\"fill:#ff0000;stroke:#ff0000;\" x=\"126.949765\" xlink:href=\"#m323d811021\" y=\"143.129808\"/>\r\n     <use style=\"fill:#ff0000;stroke:#ff0000;\" x=\"83.94186\" xlink:href=\"#m323d811021\" y=\"116.843541\"/>\r\n     <use style=\"fill:#ff0000;stroke:#ff0000;\" x=\"117.024864\" xlink:href=\"#m323d811021\" y=\"101.071781\"/>\r\n     <use style=\"fill:#ff0000;stroke:#ff0000;\" x=\"90.558461\" xlink:href=\"#m323d811021\" y=\"119.472168\"/>\r\n     <use style=\"fill:#ff0000;stroke:#ff0000;\" x=\"108.754113\" xlink:href=\"#m323d811021\" y=\"116.843541\"/>\r\n     <use style=\"fill:#ff0000;stroke:#ff0000;\" x=\"140.182967\" xlink:href=\"#m323d811021\" y=\"161.530195\"/>\r\n     <use style=\"fill:#ff0000;stroke:#ff0000;\" x=\"161.686919\" xlink:href=\"#m323d811021\" y=\"164.158821\"/>\r\n     <use style=\"fill:#ff0000;stroke:#ff0000;\" x=\"161.686919\" xlink:href=\"#m323d811021\" y=\"164.158821\"/>\r\n     <use style=\"fill:#ff0000;stroke:#ff0000;\" x=\"59.129607\" xlink:href=\"#m323d811021\" y=\"50.602148\"/>\r\n     <use style=\"fill:#ff0000;stroke:#ff0000;\" x=\"88.904311\" xlink:href=\"#m323d811021\" y=\"87.402922\"/>\r\n     <use style=\"fill:#ff0000;stroke:#ff0000;\" x=\"65.746208\" xlink:href=\"#m323d811021\" y=\"104.751858\"/>\r\n     <use style=\"fill:#ff0000;stroke:#ff0000;\" x=\"95.520912\" xlink:href=\"#m323d811021\" y=\"70.053986\"/>\r\n     <use style=\"fill:#ff0000;stroke:#ff0000;\" x=\"78.97941\" xlink:href=\"#m323d811021\" y=\"87.402922\"/>\r\n     <use style=\"fill:#ff0000;stroke:#ff0000;\" x=\"161.686919\" xlink:href=\"#m323d811021\" y=\"172.570427\"/>\r\n     <use style=\"fill:#ff0000;stroke:#ff0000;\" x=\"211.311425\" xlink:href=\"#m323d811021\" y=\"175.199053\"/>\r\n     <use style=\"fill:#ff0000;stroke:#ff0000;\" x=\"209.657275\" xlink:href=\"#m323d811021\" y=\"170.993251\"/>\r\n     <use style=\"fill:#ff0000;stroke:#ff0000;\" x=\"153.416168\" xlink:href=\"#m323d811021\" y=\"176.250504\"/>\r\n     <use style=\"fill:#ff0000;stroke:#ff0000;\" x=\"136.874667\" xlink:href=\"#m323d811021\" y=\"169.416075\"/>\r\n     <use style=\"fill:#ff0000;stroke:#ff0000;\" x=\"120.333165\" xlink:href=\"#m323d811021\" y=\"170.993251\"/>\r\n     <use style=\"fill:#ff0000;stroke:#ff0000;\" x=\"125.295615\" xlink:href=\"#m323d811021\" y=\"145.232709\"/>\r\n     <use style=\"fill:#ff0000;stroke:#ff0000;\" x=\"145.145417\" xlink:href=\"#m323d811021\" y=\"169.416075\"/>\r\n     <use style=\"fill:#ff0000;stroke:#ff0000;\" x=\"128.603916\" xlink:href=\"#m323d811021\" y=\"175.199053\"/>\r\n     <use style=\"fill:#ff0000;stroke:#ff0000;\" x=\"153.416168\" xlink:href=\"#m323d811021\" y=\"168.890349\"/>\r\n     <use style=\"fill:#ff0000;stroke:#ff0000;\" x=\"120.333165\" xlink:href=\"#m323d811021\" y=\"167.838899\"/>\r\n     <use style=\"fill:#ff0000;stroke:#ff0000;\" x=\"161.686919\" xlink:href=\"#m323d811021\" y=\"179.404856\"/>\r\n     <use style=\"fill:#ff0000;stroke:#ff0000;\" x=\"178.228421\" xlink:href=\"#m323d811021\" y=\"182.033483\"/>\r\n     <use style=\"fill:#ff0000;stroke:#ff0000;\" x=\"219.582176\" xlink:href=\"#m323d811021\" y=\"176.250504\"/>\r\n     <use style=\"fill:#ff0000;stroke:#ff0000;\" x=\"252.66518\" xlink:href=\"#m323d811021\" y=\"184.136384\"/>\r\n     <use style=\"fill:#ff0000;stroke:#ff0000;\" x=\"209.657275\" xlink:href=\"#m323d811021\" y=\"182.033483\"/>\r\n     <use style=\"fill:#ff0000;stroke:#ff0000;\" x=\"211.311425\" xlink:href=\"#m323d811021\" y=\"185.187835\"/>\r\n     <use style=\"fill:#ff0000;stroke:#ff0000;\" x=\"92.212611\" xlink:href=\"#m323d811021\" y=\"119.472168\"/>\r\n     <use style=\"fill:#ff0000;stroke:#ff0000;\" x=\"136.874667\" xlink:href=\"#m323d811021\" y=\"132.615301\"/>\r\n     <use style=\"fill:#ff0000;stroke:#ff0000;\" x=\"140.182967\" xlink:href=\"#m323d811021\" y=\"134.192477\"/>\r\n     <use style=\"fill:#ff0000;stroke:#ff0000;\" x=\"103.791663\" xlink:href=\"#m323d811021\" y=\"114.74064\"/>\r\n     <use style=\"fill:#ff0000;stroke:#ff0000;\" x=\"136.874667\" xlink:href=\"#m323d811021\" y=\"166.261723\"/>\r\n     <use style=\"fill:#ff0000;stroke:#ff0000;\" x=\"153.416168\" xlink:href=\"#m323d811021\" y=\"155.221491\"/>\r\n     <use style=\"fill:#ff0000;stroke:#ff0000;\" x=\"120.333165\" xlink:href=\"#m323d811021\" y=\"152.067139\"/>\r\n     <use style=\"fill:#ff0000;stroke:#ff0000;\" x=\"140.182967\" xlink:href=\"#m323d811021\" y=\"151.541413\"/>\r\n     <use style=\"fill:#ff0000;stroke:#ff0000;\" x=\"150.107868\" xlink:href=\"#m323d811021\" y=\"170.467525\"/>\r\n     <use style=\"fill:#ff0000;stroke:#ff0000;\" x=\"186.499172\" xlink:href=\"#m323d811021\" y=\"187.816462\"/>\r\n     <use style=\"fill:#ff0000;stroke:#ff0000;\" x=\"169.95767\" xlink:href=\"#m323d811021\" y=\"163.633096\"/>\r\n     <use style=\"fill:#ff0000;stroke:#ff0000;\" x=\"199.732374\" xlink:href=\"#m323d811021\" y=\"192.022264\"/>\r\n     <use style=\"fill:#ff0000;stroke:#ff0000;\" x=\"97.175062\" xlink:href=\"#m323d811021\" y=\"111.586287\"/>\r\n     <use style=\"fill:#ff0000;stroke:#ff0000;\" x=\"92.212611\" xlink:href=\"#m323d811021\" y=\"122.100794\"/>\r\n     <use style=\"fill:#ff0000;stroke:#ff0000;\" x=\"169.95767\" xlink:href=\"#m323d811021\" y=\"164.158821\"/>\r\n     <use style=\"fill:#ff0000;stroke:#ff0000;\" x=\"120.333165\" xlink:href=\"#m323d811021\" y=\"173.096152\"/>\r\n     <use style=\"fill:#ff0000;stroke:#ff0000;\" x=\"125.295615\" xlink:href=\"#m323d811021\" y=\"159.953019\"/>\r\n     <use style=\"fill:#ff0000;stroke:#ff0000;\" x=\"128.603916\" xlink:href=\"#m323d811021\" y=\"170.993251\"/>\r\n     <use style=\"fill:#ff0000;stroke:#ff0000;\" x=\"161.686919\" xlink:href=\"#m323d811021\" y=\"168.890349\"/>\r\n     <use style=\"fill:#ff0000;stroke:#ff0000;\" x=\"194.769923\" xlink:href=\"#m323d811021\" y=\"187.816462\"/>\r\n     <use style=\"fill:#ff0000;stroke:#ff0000;\" x=\"193.115773\" xlink:href=\"#m323d811021\" y=\"184.66211\"/>\r\n     <use style=\"fill:#ff0000;stroke:#ff0000;\" x=\"208.003125\" xlink:href=\"#m323d811021\" y=\"190.445088\"/>\r\n     <use style=\"fill:#ff0000;stroke:#ff0000;\" x=\"203.040674\" xlink:href=\"#m323d811021\" y=\"181.507757\"/>\r\n     <use style=\"fill:#ff0000;stroke:#ff0000;\" x=\"236.123678\" xlink:href=\"#m323d811021\" y=\"188.342187\"/>\r\n     <use style=\"fill:#ff0000;stroke:#ff0000;\" x=\"214.619726\" xlink:href=\"#m323d811021\" y=\"195.702342\"/>\r\n     <use style=\"fill:#ff0000;stroke:#ff0000;\" x=\"186.499172\" xlink:href=\"#m323d811021\" y=\"176.250504\"/>\r\n     <use style=\"fill:#ff0000;stroke:#ff0000;\" x=\"227.852927\" xlink:href=\"#m323d811021\" y=\"179.930581\"/>\r\n     <use style=\"fill:#ff0000;stroke:#ff0000;\" x=\"97.175062\" xlink:href=\"#m323d811021\" y=\"109.483386\"/>\r\n     <use style=\"fill:#ff0000;stroke:#ff0000;\" x=\"87.250161\" xlink:href=\"#m323d811021\" y=\"97.917429\"/>\r\n     <use style=\"fill:#ff0000;stroke:#ff0000;\" x=\"112.062414\" xlink:href=\"#m323d811021\" y=\"89.505823\"/>\r\n     <use style=\"fill:#ff0000;stroke:#ff0000;\" x=\"112.062414\" xlink:href=\"#m323d811021\" y=\"133.141026\"/>\r\n     <use style=\"fill:#ff0000;stroke:#ff0000;\" x=\"107.099963\" xlink:href=\"#m323d811021\" y=\"143.655533\"/>\r\n     <use style=\"fill:#ff0000;stroke:#ff0000;\" x=\"186.499172\" xlink:href=\"#m323d811021\" y=\"156.272941\"/>\r\n     <use style=\"fill:#ff0000;stroke:#ff0000;\" x=\"97.175062\" xlink:href=\"#m323d811021\" y=\"134.192477\"/>\r\n     <use style=\"fill:#ff0000;stroke:#ff0000;\" x=\"128.603916\" xlink:href=\"#m323d811021\" y=\"151.541413\"/>\r\n     <use style=\"fill:#ff0000;stroke:#ff0000;\" x=\"95.520912\" xlink:href=\"#m323d811021\" y=\"97.391703\"/>\r\n     <use style=\"fill:#ff0000;stroke:#ff0000;\" x=\"95.520912\" xlink:href=\"#m323d811021\" y=\"95.814527\"/>\r\n     <use style=\"fill:#ff0000;stroke:#ff0000;\" x=\"87.250161\" xlink:href=\"#m323d811021\" y=\"110.009111\"/>\r\n     <use style=\"fill:#ff0000;stroke:#ff0000;\" x=\"93.866761\" xlink:href=\"#m323d811021\" y=\"81.094218\"/>\r\n     <use style=\"fill:#ff0000;stroke:#ff0000;\" x=\"128.603916\" xlink:href=\"#m323d811021\" y=\"127.883773\"/>\r\n     <use style=\"fill:#ff0000;stroke:#ff0000;\" x=\"169.95767\" xlink:href=\"#m323d811021\" y=\"125.780872\"/>\r\n     <use style=\"fill:#ff0000;stroke:#ff0000;\" x=\"169.95767\" xlink:href=\"#m323d811021\" y=\"136.295378\"/>\r\n     <use style=\"fill:#ff0000;stroke:#ff0000;\" x=\"128.603916\" xlink:href=\"#m323d811021\" y=\"101.071781\"/>\r\n     <use style=\"fill:#ff0000;stroke:#ff0000;\" x=\"105.445813\" xlink:href=\"#m323d811021\" y=\"59.013754\"/>\r\n     <use style=\"fill:#ff0000;stroke:#ff0000;\" x=\"78.97941\" xlink:href=\"#m323d811021\" y=\"76.888415\"/>\r\n     <use style=\"fill:#ff0000;stroke:#ff0000;\" x=\"95.520912\" xlink:href=\"#m323d811021\" y=\"108.431935\"/>\r\n     <use style=\"fill:#ff0000;stroke:#ff0000;\" x=\"87.250161\" xlink:href=\"#m323d811021\" y=\"81.619943\"/>\r\n     <use style=\"fill:#ff0000;stroke:#ff0000;\" x=\"128.603916\" xlink:href=\"#m323d811021\" y=\"129.986674\"/>\r\n     <use style=\"fill:#ff0000;stroke:#ff0000;\" x=\"125.295615\" xlink:href=\"#m323d811021\" y=\"138.39828\"/>\r\n     <use style=\"fill:#ff0000;stroke:#ff0000;\" x=\"128.603916\" xlink:href=\"#m323d811021\" y=\"149.438512\"/>\r\n     <use style=\"fill:#ff0000;stroke:#ff0000;\" x=\"128.603916\" xlink:href=\"#m323d811021\" y=\"176.776229\"/>\r\n     <use style=\"fill:#ff0000;stroke:#ff0000;\" x=\"108.754113\" xlink:href=\"#m323d811021\" y=\"96.865978\"/>\r\n     <use style=\"fill:#ff0000;stroke:#ff0000;\" x=\"128.603916\" xlink:href=\"#m323d811021\" y=\"120.523618\"/>\r\n     <use style=\"fill:#ff0000;stroke:#ff0000;\" x=\"103.791663\" xlink:href=\"#m323d811021\" y=\"112.637738\"/>\r\n     <use style=\"fill:#ff0000;stroke:#ff0000;\" x=\"131.912216\" xlink:href=\"#m323d811021\" y=\"82.671394\"/>\r\n     <use style=\"fill:#ff0000;stroke:#ff0000;\" x=\"103.791663\" xlink:href=\"#m323d811021\" y=\"107.90621\"/>\r\n     <use style=\"fill:#ff0000;stroke:#ff0000;\" x=\"87.250161\" xlink:href=\"#m323d811021\" y=\"32.201761\"/>\r\n     <use style=\"fill:#ff0000;stroke:#ff0000;\" x=\"153.416168\" xlink:href=\"#m323d811021\" y=\"130.5124\"/>\r\n     <use style=\"fill:#ff0000;stroke:#ff0000;\" x=\"87.250161\" xlink:href=\"#m323d811021\" y=\"62.693831\"/>\r\n     <use style=\"fill:#ff0000;stroke:#ff0000;\" x=\"59.129607\" xlink:href=\"#m323d811021\" y=\"44.293444\"/>\r\n     <use style=\"fill:#ff0000;stroke:#ff0000;\" x=\"59.129607\" xlink:href=\"#m323d811021\" y=\"49.024972\"/>\r\n     <use style=\"fill:#ff0000;stroke:#ff0000;\" x=\"90.558461\" xlink:href=\"#m323d811021\" y=\"85.825746\"/>\r\n     <use style=\"fill:#ff0000;stroke:#ff0000;\" x=\"90.558461\" xlink:href=\"#m323d811021\" y=\"119.472168\"/>\r\n     <use style=\"fill:#ff0000;stroke:#ff0000;\" x=\"90.558461\" xlink:href=\"#m323d811021\" y=\"42.716268\"/>\r\n     <use style=\"fill:#ff0000;stroke:#ff0000;\" x=\"90.558461\" xlink:href=\"#m323d811021\" y=\"99.494605\"/>\r\n     <use style=\"fill:#ff0000;stroke:#ff0000;\" x=\"82.28771\" xlink:href=\"#m323d811021\" y=\"120.523618\"/>\r\n     <use style=\"fill:#ff0000;stroke:#ff0000;\" x=\"198.078224\" xlink:href=\"#m323d811021\" y=\"105.277583\"/>\r\n     <use style=\"fill:#ff0000;stroke:#ff0000;\" x=\"145.145417\" xlink:href=\"#m323d811021\" y=\"152.592864\"/>\r\n     <use style=\"fill:#ff0000;stroke:#ff0000;\" x=\"125.295615\" xlink:href=\"#m323d811021\" y=\"93.185901\"/>\r\n     <use style=\"fill:#ff0000;stroke:#ff0000;\" x=\"98.829212\" xlink:href=\"#m323d811021\" y=\"106.854759\"/>\r\n     <use style=\"fill:#ff0000;stroke:#ff0000;\" x=\"118.679014\" xlink:href=\"#m323d811021\" y=\"134.192477\"/>\r\n     <use style=\"fill:#ff0000;stroke:#ff0000;\" x=\"118.679014\" xlink:href=\"#m323d811021\" y=\"137.346829\"/>\r\n     <use style=\"fill:#ff0000;stroke:#ff0000;\" x=\"131.912216\" xlink:href=\"#m323d811021\" y=\"141.552632\"/>\r\n     <use style=\"fill:#ff0000;stroke:#ff0000;\" x=\"161.686919\" xlink:href=\"#m323d811021\" y=\"153.644315\"/>\r\n     <use style=\"fill:#ff0000;stroke:#ff0000;\" x=\"118.679014\" xlink:href=\"#m323d811021\" y=\"119.472168\"/>\r\n     <use style=\"fill:#ff0000;stroke:#ff0000;\" x=\"75.671109\" xlink:href=\"#m323d811021\" y=\"71.631162\"/>\r\n     <use style=\"fill:#ff0000;stroke:#ff0000;\" x=\"85.59601\" xlink:href=\"#m323d811021\" y=\"72.156887\"/>\r\n     <use style=\"fill:#ff0000;stroke:#ff0000;\" x=\"78.97941\" xlink:href=\"#m323d811021\" y=\"92.660175\"/>\r\n     <use style=\"fill:#ff0000;stroke:#ff0000;\" x=\"90.558461\" xlink:href=\"#m323d811021\" y=\"107.380485\"/>\r\n     <use style=\"fill:#ff0000;stroke:#ff0000;\" x=\"87.250161\" xlink:href=\"#m323d811021\" y=\"82.671394\"/>\r\n     <use style=\"fill:#ff0000;stroke:#ff0000;\" x=\"82.28771\" xlink:href=\"#m323d811021\" y=\"78.991316\"/>\r\n     <use style=\"fill:#ff0000;stroke:#ff0000;\" x=\"92.212611\" xlink:href=\"#m323d811021\" y=\"97.917429\"/>\r\n     <use style=\"fill:#ff0000;stroke:#ff0000;\" x=\"83.94186\" xlink:href=\"#m323d811021\" y=\"94.763077\"/>\r\n     <use style=\"fill:#ff0000;stroke:#ff0000;\" x=\"87.250161\" xlink:href=\"#m323d811021\" y=\"96.340253\"/>\r\n     <use style=\"fill:#ff0000;stroke:#ff0000;\" x=\"87.250161\" xlink:href=\"#m323d811021\" y=\"119.997893\"/>\r\n     <use style=\"fill:#ff0000;stroke:#ff0000;\" x=\"102.137512\" xlink:href=\"#m323d811021\" y=\"103.700407\"/>\r\n     <use style=\"fill:#ff0000;stroke:#ff0000;\" x=\"103.791663\" xlink:href=\"#m323d811021\" y=\"100.02033\"/>\r\n     <use style=\"fill:#ff0000;stroke:#ff0000;\" x=\"103.791663\" xlink:href=\"#m323d811021\" y=\"106.854759\"/>\r\n     <use style=\"fill:#ff0000;stroke:#ff0000;\" x=\"145.145417\" xlink:href=\"#m323d811021\" y=\"104.226133\"/>\r\n     <use style=\"fill:#ff0000;stroke:#ff0000;\" x=\"102.137512\" xlink:href=\"#m323d811021\" y=\"111.060562\"/>\r\n     <use style=\"fill:#ff0000;stroke:#ff0000;\" x=\"112.062414\" xlink:href=\"#m323d811021\" y=\"129.460949\"/>\r\n     <use style=\"fill:#ff0000;stroke:#ff0000;\" x=\"105.445813\" xlink:href=\"#m323d811021\" y=\"115.79209\"/>\r\n     <use style=\"fill:#ff0000;stroke:#ff0000;\" x=\"171.611821\" xlink:href=\"#m323d811021\" y=\"143.655533\"/>\r\n     <use style=\"fill:#ff0000;stroke:#ff0000;\" x=\"178.228421\" xlink:href=\"#m323d811021\" y=\"149.964237\"/>\r\n     <use style=\"fill:#ff0000;stroke:#ff0000;\" x=\"161.686919\" xlink:href=\"#m323d811021\" y=\"159.427293\"/>\r\n     <use style=\"fill:#ff0000;stroke:#ff0000;\" x=\"153.416168\" xlink:href=\"#m323d811021\" y=\"137.346829\"/>\r\n     <use style=\"fill:#ff0000;stroke:#ff0000;\" x=\"125.295615\" xlink:href=\"#m323d811021\" y=\"170.993251\"/>\r\n     <use style=\"fill:#ff0000;stroke:#ff0000;\" x=\"120.333165\" xlink:href=\"#m323d811021\" y=\"184.66211\"/>\r\n     <use style=\"fill:#ff0000;stroke:#ff0000;\" x=\"125.295615\" xlink:href=\"#m323d811021\" y=\"129.986674\"/>\r\n     <use style=\"fill:#ff0000;stroke:#ff0000;\" x=\"125.295615\" xlink:href=\"#m323d811021\" y=\"135.243928\"/>\r\n     <use style=\"fill:#ff0000;stroke:#ff0000;\" x=\"125.295615\" xlink:href=\"#m323d811021\" y=\"98.443154\"/>\r\n     <use style=\"fill:#ff0000;stroke:#ff0000;\" x=\"120.333165\" xlink:href=\"#m323d811021\" y=\"114.214914\"/>\r\n     <use style=\"fill:#ff0000;stroke:#ff0000;\" x=\"118.679014\" xlink:href=\"#m323d811021\" y=\"124.729421\"/>\r\n     <use style=\"fill:#ff0000;stroke:#ff0000;\" x=\"128.603916\" xlink:href=\"#m323d811021\" y=\"135.243928\"/>\r\n     <use style=\"fill:#ff0000;stroke:#ff0000;\" x=\"131.912216\" xlink:href=\"#m323d811021\" y=\"151.015688\"/>\r\n     <use style=\"fill:#ff0000;stroke:#ff0000;\" x=\"102.137512\" xlink:href=\"#m323d811021\" y=\"87.928647\"/>\r\n     <use style=\"fill:#ff0000;stroke:#ff0000;\" x=\"92.212611\" xlink:href=\"#m323d811021\" y=\"82.671394\"/>\r\n     <use style=\"fill:#ff0000;stroke:#ff0000;\" x=\"92.212611\" xlink:href=\"#m323d811021\" y=\"114.214914\"/>\r\n     <use style=\"fill:#ff0000;stroke:#ff0000;\" x=\"83.94186\" xlink:href=\"#m323d811021\" y=\"77.41414\"/>\r\n     <use style=\"fill:#ff0000;stroke:#ff0000;\" x=\"95.520912\" xlink:href=\"#m323d811021\" y=\"87.928647\"/>\r\n     <use style=\"fill:#ff0000;stroke:#ff0000;\" x=\"125.295615\" xlink:href=\"#m323d811021\" y=\"87.928647\"/>\r\n     <use style=\"fill:#ff0000;stroke:#ff0000;\" x=\"103.791663\" xlink:href=\"#m323d811021\" y=\"87.928647\"/>\r\n     <use style=\"fill:#ff0000;stroke:#ff0000;\" x=\"95.520912\" xlink:href=\"#m323d811021\" y=\"98.443154\"/>\r\n     <use style=\"fill:#ff0000;stroke:#ff0000;\" x=\"90.558461\" xlink:href=\"#m323d811021\" y=\"77.41414\"/>\r\n     <use style=\"fill:#ff0000;stroke:#ff0000;\" x=\"90.558461\" xlink:href=\"#m323d811021\" y=\"108.957661\"/>\r\n     <use style=\"fill:#ff0000;stroke:#ff0000;\" x=\"90.558461\" xlink:href=\"#m323d811021\" y=\"77.41414\"/>\r\n     <use style=\"fill:#ff0000;stroke:#ff0000;\" x=\"161.686919\" xlink:href=\"#m323d811021\" y=\"145.758434\"/>\r\n     <use style=\"fill:#ff0000;stroke:#ff0000;\" x=\"120.333165\" xlink:href=\"#m323d811021\" y=\"77.41414\"/>\r\n     <use style=\"fill:#ff0000;stroke:#ff0000;\" x=\"131.912216\" xlink:href=\"#m323d811021\" y=\"140.501181\"/>\r\n     <use style=\"fill:#ff0000;stroke:#ff0000;\" x=\"164.99522\" xlink:href=\"#m323d811021\" y=\"161.530195\"/>\r\n     <use style=\"fill:#ff0000;stroke:#ff0000;\" x=\"138.528817\" xlink:href=\"#m323d811021\" y=\"108.957661\"/>\r\n     <use style=\"fill:#ff0000;stroke:#ff0000;\" x=\"118.679014\" xlink:href=\"#m323d811021\" y=\"87.928647\"/>\r\n     <use style=\"fill:#ff0000;stroke:#ff0000;\" x=\"128.603916\" xlink:href=\"#m323d811021\" y=\"135.243928\"/>\r\n     <use style=\"fill:#ff0000;stroke:#ff0000;\" x=\"121.987315\" xlink:href=\"#m323d811021\" y=\"135.243928\"/>\r\n     <use style=\"fill:#ff0000;stroke:#ff0000;\" x=\"65.746208\" xlink:href=\"#m323d811021\" y=\"45.87062\"/>\r\n     <use style=\"fill:#ff0000;stroke:#ff0000;\" x=\"118.679014\" xlink:href=\"#m323d811021\" y=\"108.957661\"/>\r\n     <use style=\"fill:#ff0000;stroke:#ff0000;\" x=\"110.408263\" xlink:href=\"#m323d811021\" y=\"129.986674\"/>\r\n     <use style=\"fill:#ff0000;stroke:#ff0000;\" x=\"115.370714\" xlink:href=\"#m323d811021\" y=\"114.214914\"/>\r\n    </g>\r\n   </g>\r\n   <g id=\"patch_3\">\r\n    <path d=\"M 40.603125 239.758125 \r\nL 40.603125 22.318125 \r\n\" style=\"fill:none;stroke:#000000;stroke-linecap:square;stroke-linejoin:miter;stroke-width:0.8;\"/>\r\n   </g>\r\n   <g id=\"patch_4\">\r\n    <path d=\"M 375.403125 239.758125 \r\nL 375.403125 22.318125 \r\n\" style=\"fill:none;stroke:#000000;stroke-linecap:square;stroke-linejoin:miter;stroke-width:0.8;\"/>\r\n   </g>\r\n   <g id=\"patch_5\">\r\n    <path d=\"M 40.603125 239.758125 \r\nL 375.403125 239.758125 \r\n\" style=\"fill:none;stroke:#000000;stroke-linecap:square;stroke-linejoin:miter;stroke-width:0.8;\"/>\r\n   </g>\r\n   <g id=\"patch_6\">\r\n    <path d=\"M 40.603125 22.318125 \r\nL 375.403125 22.318125 \r\n\" style=\"fill:none;stroke:#000000;stroke-linecap:square;stroke-linejoin:miter;stroke-width:0.8;\"/>\r\n   </g>\r\n   <g id=\"text_19\">\r\n    <!-- CV vs MPG -->\r\n    <defs>\r\n     <path d=\"M 28.609375 0 \r\nL 0.78125 72.90625 \r\nL 11.078125 72.90625 \r\nL 34.1875 11.53125 \r\nL 57.328125 72.90625 \r\nL 67.578125 72.90625 \r\nL 39.796875 0 \r\nz\r\n\" id=\"DejaVuSans-86\"/>\r\n     <path d=\"M 2.984375 54.6875 \r\nL 12.5 54.6875 \r\nL 29.59375 8.796875 \r\nL 46.6875 54.6875 \r\nL 56.203125 54.6875 \r\nL 35.6875 0 \r\nL 23.484375 0 \r\nz\r\n\" id=\"DejaVuSans-118\"/>\r\n     <path d=\"M 9.8125 72.90625 \r\nL 24.515625 72.90625 \r\nL 43.109375 23.296875 \r\nL 61.8125 72.90625 \r\nL 76.515625 72.90625 \r\nL 76.515625 0 \r\nL 66.890625 0 \r\nL 66.890625 64.015625 \r\nL 48.09375 14.015625 \r\nL 38.1875 14.015625 \r\nL 19.390625 64.015625 \r\nL 19.390625 0 \r\nL 9.8125 0 \r\nz\r\n\" id=\"DejaVuSans-77\"/>\r\n     <path d=\"M 59.515625 10.40625 \r\nL 59.515625 29.984375 \r\nL 43.40625 29.984375 \r\nL 43.40625 38.09375 \r\nL 69.28125 38.09375 \r\nL 69.28125 6.78125 \r\nQ 63.578125 2.734375 56.6875 0.65625 \r\nQ 49.8125 -1.421875 42 -1.421875 \r\nQ 24.90625 -1.421875 15.25 8.5625 \r\nQ 5.609375 18.5625 5.609375 36.375 \r\nQ 5.609375 54.25 15.25 64.234375 \r\nQ 24.90625 74.21875 42 74.21875 \r\nQ 49.125 74.21875 55.546875 72.453125 \r\nQ 61.96875 70.703125 67.390625 67.28125 \r\nL 67.390625 56.78125 \r\nQ 61.921875 61.421875 55.765625 63.765625 \r\nQ 49.609375 66.109375 42.828125 66.109375 \r\nQ 29.4375 66.109375 22.71875 58.640625 \r\nQ 16.015625 51.171875 16.015625 36.375 \r\nQ 16.015625 21.625 22.71875 14.15625 \r\nQ 29.4375 6.6875 42.828125 6.6875 \r\nQ 48.046875 6.6875 52.140625 7.59375 \r\nQ 56.25 8.5 59.515625 10.40625 \r\nz\r\n\" id=\"DejaVuSans-71\"/>\r\n    </defs>\r\n    <g transform=\"translate(175.774687 16.318125)scale(0.12 -0.12)\">\r\n     <use xlink:href=\"#DejaVuSans-67\"/>\r\n     <use x=\"69.824219\" xlink:href=\"#DejaVuSans-86\"/>\r\n     <use x=\"138.232422\" xlink:href=\"#DejaVuSans-32\"/>\r\n     <use x=\"170.019531\" xlink:href=\"#DejaVuSans-118\"/>\r\n     <use x=\"229.199219\" xlink:href=\"#DejaVuSans-115\"/>\r\n     <use x=\"281.298828\" xlink:href=\"#DejaVuSans-32\"/>\r\n     <use x=\"313.085938\" xlink:href=\"#DejaVuSans-77\"/>\r\n     <use x=\"399.365234\" xlink:href=\"#DejaVuSans-80\"/>\r\n     <use x=\"459.667969\" xlink:href=\"#DejaVuSans-71\"/>\r\n    </g>\r\n   </g>\r\n  </g>\r\n </g>\r\n <defs>\r\n  <clipPath id=\"p0281355416\">\r\n   <rect height=\"217.44\" width=\"334.8\" x=\"40.603125\" y=\"22.318125\"/>\r\n  </clipPath>\r\n </defs>\r\n</svg>\r\n",
      "image/png": "[encoded data removed]"
     },
     "metadata": {
      "needs_background": "light"
     }
    }
   ],
   "source": [
    "%matplotlib inline\n",
    "data_auto[\"mpg\"] = data_auto[\"mpg\"].dropna()\n",
    "data_auto[\"horsepower\"] = data_auto[\"horsepower\"].dropna()\n",
    "plt.plot(data_auto[\"horsepower\"], data_auto[\"mpg\"], \"ro\")\n",
    "plt.xlabel(\"Caballos de potencia\")\n",
    "plt.ylabel(\"Consumo (millas por galeón)\")\n",
    "plt.title(\"CV vs MPG\")"
   ]
  },
  {
   "cell_type": "markdown",
   "metadata": {},
   "source": [
    "## Modelo de regresión lineal\n",
    "* mpg = a + b * horsepower"
   ]
  },
  {
   "cell_type": "code",
   "execution_count": 46,
   "metadata": {},
   "outputs": [],
   "source": [
    "x = data_auto[\"horsepower\"]\n",
    "y = data_auto[\"mpg\"]"
   ]
  },
  {
   "cell_type": "code",
   "execution_count": null,
   "metadata": {},
   "outputs": [],
   "source": [
    "lm "
   ]
  }
 ]
}