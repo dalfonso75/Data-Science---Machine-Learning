{
 "nbformat": 4,
 "nbformat_minor": 2,
 "metadata": {
  "language_info": {
   "name": "python",
   "codemirror_mode": {
    "name": "ipython",
    "version": 3
   },
   "version": "3.8.2-final"
  },
  "orig_nbformat": 2,
  "file_extension": ".py",
  "mimetype": "text/x-python",
  "name": "python",
  "npconvert_exporter": "python",
  "pygments_lexer": "ipython3",
  "version": 3,
  "kernelspec": {
   "name": "python38232bit188f1c2ff6564de2969c3c8d74de97f9",
   "display_name": "Python 3.8.2 32-bit"
  }
 },
 "cells": [
  {
   "cell_type": "markdown",
   "execution_count": null,
   "metadata": {},
   "outputs": [],
   "source": [
    "# Agrupacion De Datos Por Categoria."
   ]
  },
  {
   "cell_type": "code",
   "execution_count": 59,
   "metadata": {},
   "outputs": [],
   "source": [
    "import pandas as pd\n",
    "import numpy as np\n",
    "import matplotlib.pyplot as plt"
   ]
  },
  {
   "cell_type": "code",
   "execution_count": 60,
   "metadata": {},
   "outputs": [],
   "source": [
    "gender = [\"Male\", \"Female\"]\n",
    "Income = [\"Poor\", \"Middle Class\", \"Rich\"]"
   ]
  },
  {
   "cell_type": "code",
   "execution_count": 61,
   "metadata": {},
   "outputs": [],
   "source": [
    "n= 500\n",
    "gender_data= []\n",
    "Income_data= []\n",
    "\n",
    "for i in range(0,500):\n",
    "    gender_data.append(np.random.choice(gender))\n",
    "    Income_data.append(np.random.choice(Income))\n",
    ""
   ]
  },
  {
   "cell_type": "code",
   "execution_count": 62,
   "metadata": {},
   "outputs": [
    {
     "output_type": "execute_result",
     "data": {
      "text/plain": "['Female', 'Male', 'Male', 'Male', 'Female']"
     },
     "metadata": {},
     "execution_count": 62
    }
   ],
   "source": [
    "gender_data[:5]"
   ]
  },
  {
   "cell_type": "code",
   "execution_count": 63,
   "metadata": {},
   "outputs": [
    {
     "output_type": "execute_result",
     "data": {
      "text/plain": "['Rich', 'Middle Class', 'Poor', 'Poor', 'Middle Class']"
     },
     "metadata": {},
     "execution_count": 63
    }
   ],
   "source": [
    "Income_data[:5]"
   ]
  },
  {
   "cell_type": "code",
   "execution_count": 64,
   "metadata": {},
   "outputs": [],
   "source": [
    "# N(0,1)\n",
    "#N(m, s)= m + s*z\n",
    "heigth = 160 + 30*np.random.randn(n)\n",
    "weight = 65 + 25*np.random.randn(n)\n",
    "age = 30+ 12*np.random.randn(n)\n",
    "Income = 18000 + 3500*np.random.randn(n)\n",
    "i=[0]\n",
    "for i in range(0,n):\n",
    "    age[i]=int(age[i])"
   ]
  },
  {
   "cell_type": "code",
   "execution_count": 65,
   "metadata": {},
   "outputs": [],
   "source": [
    "data = pd.DataFrame(\n",
    "    {\n",
    "        \"Gender\": gender_data,\n",
    "        \"Economic Status\" : Income_data,\n",
    "        \"Height\" : heigth,\n",
    "        \"Weight\" : weight,\n",
    "        \"Age\" : age,\n",
    "        \"Income\" : Income\n",
    "    }\n",
    ")"
   ]
  },
  {
   "cell_type": "code",
   "execution_count": 66,
   "metadata": {},
   "outputs": [
    {
     "output_type": "execute_result",
     "data": {
      "text/plain": "     Gender Economic Status      Height     Weight   Age        Income\n495  Female            Rich  180.190636  86.142852  44.0  15109.302234\n496    Male            Rich  162.910609  80.953199  16.0  10317.470266\n497  Female            Rich  182.742684  86.116034  27.0  18511.758483\n498  Female            Poor  160.757588  50.272432  33.0  26940.097332\n499  Female            Poor   96.686225  78.280527  29.0  17266.561578",
      "text/html": "<div>\n<style scoped>\n    .dataframe tbody tr th:only-of-type {\n        vertical-align: middle;\n    }\n\n    .dataframe tbody tr th {\n        vertical-align: top;\n    }\n\n    .dataframe thead th {\n        text-align: right;\n    }\n</style>\n<table border=\"1\" class=\"dataframe\">\n  <thead>\n    <tr style=\"text-align: right;\">\n      <th></th>\n      <th>Gender</th>\n      <th>Economic Status</th>\n      <th>Height</th>\n      <th>Weight</th>\n      <th>Age</th>\n      <th>Income</th>\n    </tr>\n  </thead>\n  <tbody>\n    <tr>\n      <th>495</th>\n      <td>Female</td>\n      <td>Rich</td>\n      <td>180.190636</td>\n      <td>86.142852</td>\n      <td>44.0</td>\n      <td>15109.302234</td>\n    </tr>\n    <tr>\n      <th>496</th>\n      <td>Male</td>\n      <td>Rich</td>\n      <td>162.910609</td>\n      <td>80.953199</td>\n      <td>16.0</td>\n      <td>10317.470266</td>\n    </tr>\n    <tr>\n      <th>497</th>\n      <td>Female</td>\n      <td>Rich</td>\n      <td>182.742684</td>\n      <td>86.116034</td>\n      <td>27.0</td>\n      <td>18511.758483</td>\n    </tr>\n    <tr>\n      <th>498</th>\n      <td>Female</td>\n      <td>Poor</td>\n      <td>160.757588</td>\n      <td>50.272432</td>\n      <td>33.0</td>\n      <td>26940.097332</td>\n    </tr>\n    <tr>\n      <th>499</th>\n      <td>Female</td>\n      <td>Poor</td>\n      <td>96.686225</td>\n      <td>78.280527</td>\n      <td>29.0</td>\n      <td>17266.561578</td>\n    </tr>\n  </tbody>\n</table>\n</div>"
     },
     "metadata": {},
     "execution_count": 66
    }
   ],
   "source": [
    "data.head()\n",
    "data.tail()"
   ]
  },
  {
   "cell_type": "markdown",
   "execution_count": 77,
   "metadata": {},
   "outputs": [
    {
     "data": {
      "text/plain": "23.0"
     },
     "execution_count": 77,
     "metadata": {},
     "output_type": "execute_result"
    }
   ],
   "source": [
    "## Agrupacion de datos"
   ]
  },
  {
   "cell_type": "code",
   "execution_count": 67,
   "metadata": {},
   "outputs": [],
   "source": [
    "grouper_gender = data.groupby(\"Gender\")"
   ]
  },
  {
   "cell_type": "code",
   "execution_count": 68,
   "metadata": {},
   "outputs": [
    {
     "output_type": "execute_result",
     "data": {
      "text/plain": "{'Female': Int64Index([  0,   4,   5,   8,  11,  12,  13,  15,  17,  19,\n             ...\n             484, 487, 488, 492, 493, 494, 495, 497, 498, 499],\n            dtype='int64', length=265),\n 'Male': Int64Index([  1,   2,   3,   6,   7,   9,  10,  14,  16,  18,\n             ...\n             477, 478, 479, 481, 485, 486, 489, 490, 491, 496],\n            dtype='int64', length=235)}"
     },
     "metadata": {},
     "execution_count": 68
    }
   ],
   "source": [
    "grouper_gender.groups"
   ]
  },
  {
   "cell_type": "code",
   "execution_count": 69,
   "metadata": {},
   "outputs": [
    {
     "output_type": "stream",
     "name": "stdout",
     "text": "Female\n     Gender Economic Status      Height     Weight   Age        Income\n0    Female            Rich  197.035978  99.597138  12.0  23671.045598\n4    Female    Middle Class  153.693292  30.607441   8.0  17297.682775\n5    Female            Poor  118.989291  44.281965  15.0  18570.517546\n8    Female            Poor  152.802604  76.284997  37.0  16741.467234\n11   Female            Rich  112.963209  87.746445  17.0  15743.619800\n..      ...             ...         ...        ...   ...           ...\n494  Female            Rich  146.336635  83.891384  12.0  18377.668661\n495  Female            Rich  180.190636  86.142852  44.0  15109.302234\n497  Female            Rich  182.742684  86.116034  27.0  18511.758483\n498  Female            Poor  160.757588  50.272432  33.0  26940.097332\n499  Female            Poor   96.686225  78.280527  29.0  17266.561578\n\n[265 rows x 6 columns]\nMale\n    Gender Economic Status      Height      Weight   Age        Income\n1     Male    Middle Class  180.470516   71.297044  30.0  20633.563102\n2     Male            Poor  149.534080   60.275507  22.0  19352.535173\n3     Male            Poor  186.297835  104.336217  51.0  20597.124729\n6     Male    Middle Class  112.132723   60.536758  39.0  18580.240878\n7     Male            Poor  117.931097   67.154678  12.0  22568.067518\n..     ...             ...         ...         ...   ...           ...\n486   Male    Middle Class  166.457919   60.440088  31.0  19674.472475\n489   Male    Middle Class  182.920445   73.209696  29.0  19276.211567\n490   Male            Rich  195.302568   69.310516  29.0  20558.019341\n491   Male            Poor  119.908944   80.366834  42.0  10696.289540\n496   Male            Rich  162.910609   80.953199  16.0  10317.470266\n\n[235 rows x 6 columns]\n"
    }
   ],
   "source": [
    "for names, groups in grouper_gender:\n",
    "    print(names)\n",
    "    print(groups)"
   ]
  },
  {
   "cell_type": "code",
   "execution_count": 70,
   "metadata": {},
   "outputs": [
    {
     "output_type": "execute_result",
     "data": {
      "text/plain": "     Gender Economic Status      Height     Weight   Age        Income\n0    Female            Rich  197.035978  99.597138  12.0  23671.045598\n4    Female    Middle Class  153.693292  30.607441   8.0  17297.682775\n5    Female            Poor  118.989291  44.281965  15.0  18570.517546\n8    Female            Poor  152.802604  76.284997  37.0  16741.467234\n11   Female            Rich  112.963209  87.746445  17.0  15743.619800\n..      ...             ...         ...        ...   ...           ...\n494  Female            Rich  146.336635  83.891384  12.0  18377.668661\n495  Female            Rich  180.190636  86.142852  44.0  15109.302234\n497  Female            Rich  182.742684  86.116034  27.0  18511.758483\n498  Female            Poor  160.757588  50.272432  33.0  26940.097332\n499  Female            Poor   96.686225  78.280527  29.0  17266.561578\n\n[265 rows x 6 columns]",
      "text/html": "<div>\n<style scoped>\n    .dataframe tbody tr th:only-of-type {\n        vertical-align: middle;\n    }\n\n    .dataframe tbody tr th {\n        vertical-align: top;\n    }\n\n    .dataframe thead th {\n        text-align: right;\n    }\n</style>\n<table border=\"1\" class=\"dataframe\">\n  <thead>\n    <tr style=\"text-align: right;\">\n      <th></th>\n      <th>Gender</th>\n      <th>Economic Status</th>\n      <th>Height</th>\n      <th>Weight</th>\n      <th>Age</th>\n      <th>Income</th>\n    </tr>\n  </thead>\n  <tbody>\n    <tr>\n      <th>0</th>\n      <td>Female</td>\n      <td>Rich</td>\n      <td>197.035978</td>\n      <td>99.597138</td>\n      <td>12.0</td>\n      <td>23671.045598</td>\n    </tr>\n    <tr>\n      <th>4</th>\n      <td>Female</td>\n      <td>Middle Class</td>\n      <td>153.693292</td>\n      <td>30.607441</td>\n      <td>8.0</td>\n      <td>17297.682775</td>\n    </tr>\n    <tr>\n      <th>5</th>\n      <td>Female</td>\n      <td>Poor</td>\n      <td>118.989291</td>\n      <td>44.281965</td>\n      <td>15.0</td>\n      <td>18570.517546</td>\n    </tr>\n    <tr>\n      <th>8</th>\n      <td>Female</td>\n      <td>Poor</td>\n      <td>152.802604</td>\n      <td>76.284997</td>\n      <td>37.0</td>\n      <td>16741.467234</td>\n    </tr>\n    <tr>\n      <th>11</th>\n      <td>Female</td>\n      <td>Rich</td>\n      <td>112.963209</td>\n      <td>87.746445</td>\n      <td>17.0</td>\n      <td>15743.619800</td>\n    </tr>\n    <tr>\n      <th>...</th>\n      <td>...</td>\n      <td>...</td>\n      <td>...</td>\n      <td>...</td>\n      <td>...</td>\n      <td>...</td>\n    </tr>\n    <tr>\n      <th>494</th>\n      <td>Female</td>\n      <td>Rich</td>\n      <td>146.336635</td>\n      <td>83.891384</td>\n      <td>12.0</td>\n      <td>18377.668661</td>\n    </tr>\n    <tr>\n      <th>495</th>\n      <td>Female</td>\n      <td>Rich</td>\n      <td>180.190636</td>\n      <td>86.142852</td>\n      <td>44.0</td>\n      <td>15109.302234</td>\n    </tr>\n    <tr>\n      <th>497</th>\n      <td>Female</td>\n      <td>Rich</td>\n      <td>182.742684</td>\n      <td>86.116034</td>\n      <td>27.0</td>\n      <td>18511.758483</td>\n    </tr>\n    <tr>\n      <th>498</th>\n      <td>Female</td>\n      <td>Poor</td>\n      <td>160.757588</td>\n      <td>50.272432</td>\n      <td>33.0</td>\n      <td>26940.097332</td>\n    </tr>\n    <tr>\n      <th>499</th>\n      <td>Female</td>\n      <td>Poor</td>\n      <td>96.686225</td>\n      <td>78.280527</td>\n      <td>29.0</td>\n      <td>17266.561578</td>\n    </tr>\n  </tbody>\n</table>\n<p>265 rows × 6 columns</p>\n</div>"
     },
     "metadata": {},
     "execution_count": 70
    }
   ],
   "source": [
    "grouper_gender.get_group(\"Female\")"
   ]
  },
  {
   "cell_type": "code",
   "execution_count": 71,
   "metadata": {},
   "outputs": [],
   "source": [
    "Double_group = data.groupby([\"Gender\", \"Economic Status\"])"
   ]
  },
  {
   "cell_type": "code",
   "execution_count": 72,
   "metadata": {},
   "outputs": [
    {
     "output_type": "execute_result",
     "data": {
      "text/plain": "6"
     },
     "metadata": {},
     "execution_count": 72
    }
   ],
   "source": [
    "len(Double_group)"
   ]
  },
  {
   "cell_type": "code",
   "execution_count": 73,
   "metadata": {},
   "outputs": [
    {
     "output_type": "stream",
     "name": "stdout",
     "text": "('Female', 'Middle Class')\n     Gender Economic Status      Height      Weight   Age        Income\n4    Female    Middle Class  153.693292   30.607441   8.0  17297.682775\n17   Female    Middle Class  173.409105   38.393707  41.0  13988.396826\n26   Female    Middle Class  137.657855   65.142175  11.0  12386.338317\n30   Female    Middle Class  134.545452   45.042027  15.0  25696.938187\n35   Female    Middle Class  143.581071   97.973615  53.0  18039.396307\n..      ...             ...         ...         ...   ...           ...\n465  Female    Middle Class  132.351689  106.573149  32.0  15003.784818\n471  Female    Middle Class  211.706784   88.640285  10.0  16166.057409\n473  Female    Middle Class  149.242906   55.133462  24.0  15695.085901\n492  Female    Middle Class  122.035431   80.068687  39.0  20013.529384\n493  Female    Middle Class  136.576676   30.771606  26.0  15560.624010\n\n[98 rows x 6 columns]\n('Female', 'Poor')\n     Gender Economic Status      Height      Weight   Age        Income\n5    Female            Poor  118.989291   44.281965  15.0  18570.517546\n8    Female            Poor  152.802604   76.284997  37.0  16741.467234\n12   Female            Poor  143.046167  103.764380  31.0  20779.398196\n19   Female            Poor  116.149880  105.359142  39.0  17376.947321\n25   Female            Poor  137.160556   65.001842  25.0  17088.368869\n..      ...             ...         ...         ...   ...           ...\n483  Female            Poor  204.270197   96.199119  40.0  16647.172403\n484  Female            Poor  158.875129   70.905215  26.0  18672.693673\n487  Female            Poor  173.394146   47.793019  23.0  16575.081791\n498  Female            Poor  160.757588   50.272432  33.0  26940.097332\n499  Female            Poor   96.686225   78.280527  29.0  17266.561578\n\n[87 rows x 6 columns]\n('Female', 'Rich')\n     Gender Economic Status      Height      Weight   Age        Income\n0    Female            Rich  197.035978   99.597138  12.0  23671.045598\n11   Female            Rich  112.963209   87.746445  17.0  15743.619800\n13   Female            Rich  183.031943   61.592993   5.0  11504.487064\n15   Female            Rich  134.478177   36.992882  15.0  19149.957135\n20   Female            Rich  197.266002  101.606445  37.0  22233.903645\n..      ...             ...         ...         ...   ...           ...\n476  Female            Rich  156.810470   97.987403  25.0  13809.616325\n488  Female            Rich  176.532582   84.181335  39.0  18387.793658\n494  Female            Rich  146.336635   83.891384  12.0  18377.668661\n495  Female            Rich  180.190636   86.142852  44.0  15109.302234\n497  Female            Rich  182.742684   86.116034  27.0  18511.758483\n\n[80 rows x 6 columns]\n('Male', 'Middle Class')\n    Gender Economic Status      Height      Weight   Age        Income\n1     Male    Middle Class  180.470516   71.297044  30.0  20633.563102\n6     Male    Middle Class  112.132723   60.536758  39.0  18580.240878\n10    Male    Middle Class  166.716498   69.380379  55.0  19153.331983\n16    Male    Middle Class  183.159879   32.632345  52.0  18529.653913\n23    Male    Middle Class  136.479612   48.227512  38.0  11617.903240\n..     ...             ...         ...         ...   ...           ...\n470   Male    Middle Class  171.443369  130.417496  24.0  19766.529383\n479   Male    Middle Class  138.532078  104.210793  23.0  22720.257525\n485   Male    Middle Class  211.385860   63.126685  39.0  21790.340853\n486   Male    Middle Class  166.457919   60.440088  31.0  19674.472475\n489   Male    Middle Class  182.920445   73.209696  29.0  19276.211567\n\n[69 rows x 6 columns]\n('Male', 'Poor')\n    Gender Economic Status      Height      Weight   Age        Income\n2     Male            Poor  149.534080   60.275507  22.0  19352.535173\n3     Male            Poor  186.297835  104.336217  51.0  20597.124729\n7     Male            Poor  117.931097   67.154678  12.0  22568.067518\n14    Male            Poor  109.222467   78.926488   2.0  16537.780096\n18    Male            Poor  157.639545   90.535097  40.0  17069.000516\n..     ...             ...         ...         ...   ...           ...\n453   Male            Poor  178.386106   72.425709  22.0  24655.547215\n469   Male            Poor  157.399651   63.211614  23.0  19505.353820\n472   Male            Poor  123.791269   74.760793  25.0  20337.624130\n478   Male            Poor  104.801962   61.010609  36.0  11590.496999\n491   Male            Poor  119.908944   80.366834  42.0  10696.289540\n\n[79 rows x 6 columns]\n('Male', 'Rich')\n    Gender Economic Status      Height      Weight   Age        Income\n9     Male            Rich  132.947373   66.569518  27.0  18237.293468\n27    Male            Rich  117.694319   57.758709  29.0  19682.322499\n33    Male            Rich  153.371316   62.476443  27.0  17639.592191\n39    Male            Rich  222.771410   39.298144  29.0  21939.252432\n44    Male            Rich  170.231440   50.886100  34.0  12039.136286\n..     ...             ...         ...         ...   ...           ...\n467   Male            Rich  181.204905  111.271637  36.0  23982.104642\n477   Male            Rich  168.408487   66.780876  14.0  14525.613042\n481   Male            Rich  111.001410   57.764594  38.0  15546.007261\n490   Male            Rich  195.302568   69.310516  29.0  20558.019341\n496   Male            Rich  162.910609   80.953199  16.0  10317.470266\n\n[87 rows x 6 columns]\n"
    }
   ],
   "source": [
    "for names, groups in Double_group:\n",
    "    print(names)\n",
    "    print(groups)"
   ]
  },
  {
   "cell_type": "markdown",
   "execution_count": null,
   "metadata": {},
   "outputs": [],
   "source": [
    "## Operaciones sobre datos agrupados"
   ]
  },
  {
   "cell_type": "code",
   "execution_count": 74,
   "metadata": {},
   "outputs": [
    {
     "output_type": "execute_result",
     "data": {
      "text/plain": "                              Height       Weight     Age        Income\nGender Economic Status                                                 \nFemale Middle Class     15414.356601  6551.414315  2895.0  1.706536e+06\n       Poor             13758.306434  5791.843233  2654.0  1.579175e+06\n       Rich             12702.669744  5881.099911  2280.0  1.446417e+06\nMale   Middle Class     11339.520067  4176.028346  2054.0  1.277032e+06\n       Poor             12653.149757  5061.343711  2017.0  1.442387e+06\n       Rich             13945.594150  5649.318963  2684.0  1.576656e+06",
      "text/html": "<div>\n<style scoped>\n    .dataframe tbody tr th:only-of-type {\n        vertical-align: middle;\n    }\n\n    .dataframe tbody tr th {\n        vertical-align: top;\n    }\n\n    .dataframe thead th {\n        text-align: right;\n    }\n</style>\n<table border=\"1\" class=\"dataframe\">\n  <thead>\n    <tr style=\"text-align: right;\">\n      <th></th>\n      <th></th>\n      <th>Height</th>\n      <th>Weight</th>\n      <th>Age</th>\n      <th>Income</th>\n    </tr>\n    <tr>\n      <th>Gender</th>\n      <th>Economic Status</th>\n      <th></th>\n      <th></th>\n      <th></th>\n      <th></th>\n    </tr>\n  </thead>\n  <tbody>\n    <tr>\n      <th rowspan=\"3\" valign=\"top\">Female</th>\n      <th>Middle Class</th>\n      <td>15414.356601</td>\n      <td>6551.414315</td>\n      <td>2895.0</td>\n      <td>1.706536e+06</td>\n    </tr>\n    <tr>\n      <th>Poor</th>\n      <td>13758.306434</td>\n      <td>5791.843233</td>\n      <td>2654.0</td>\n      <td>1.579175e+06</td>\n    </tr>\n    <tr>\n      <th>Rich</th>\n      <td>12702.669744</td>\n      <td>5881.099911</td>\n      <td>2280.0</td>\n      <td>1.446417e+06</td>\n    </tr>\n    <tr>\n      <th rowspan=\"3\" valign=\"top\">Male</th>\n      <th>Middle Class</th>\n      <td>11339.520067</td>\n      <td>4176.028346</td>\n      <td>2054.0</td>\n      <td>1.277032e+06</td>\n    </tr>\n    <tr>\n      <th>Poor</th>\n      <td>12653.149757</td>\n      <td>5061.343711</td>\n      <td>2017.0</td>\n      <td>1.442387e+06</td>\n    </tr>\n    <tr>\n      <th>Rich</th>\n      <td>13945.594150</td>\n      <td>5649.318963</td>\n      <td>2684.0</td>\n      <td>1.576656e+06</td>\n    </tr>\n  </tbody>\n</table>\n</div>"
     },
     "metadata": {},
     "execution_count": 74
    }
   ],
   "source": [
    "Double_group.sum()"
   ]
  },
  {
   "cell_type": "code",
   "execution_count": 75,
   "metadata": {},
   "outputs": [
    {
     "output_type": "execute_result",
     "data": {
      "text/plain": "                            Height     Weight        Age        Income\nGender Economic Status                                                \nFemale Middle Class     157.289353  66.851166  29.540816  17413.634517\n       Poor             158.141453  66.572911  30.505747  18151.433047\n       Rich             158.783372  73.513749  28.500000  18080.217321\nMale   Middle Class     164.340871  60.522150  29.768116  18507.705733\n       Poor             160.166453  64.067642  25.531646  18258.066660\n       Rich             160.294186  64.934701  30.850575  18122.478949",
      "text/html": "<div>\n<style scoped>\n    .dataframe tbody tr th:only-of-type {\n        vertical-align: middle;\n    }\n\n    .dataframe tbody tr th {\n        vertical-align: top;\n    }\n\n    .dataframe thead th {\n        text-align: right;\n    }\n</style>\n<table border=\"1\" class=\"dataframe\">\n  <thead>\n    <tr style=\"text-align: right;\">\n      <th></th>\n      <th></th>\n      <th>Height</th>\n      <th>Weight</th>\n      <th>Age</th>\n      <th>Income</th>\n    </tr>\n    <tr>\n      <th>Gender</th>\n      <th>Economic Status</th>\n      <th></th>\n      <th></th>\n      <th></th>\n      <th></th>\n    </tr>\n  </thead>\n  <tbody>\n    <tr>\n      <th rowspan=\"3\" valign=\"top\">Female</th>\n      <th>Middle Class</th>\n      <td>157.289353</td>\n      <td>66.851166</td>\n      <td>29.540816</td>\n      <td>17413.634517</td>\n    </tr>\n    <tr>\n      <th>Poor</th>\n      <td>158.141453</td>\n      <td>66.572911</td>\n      <td>30.505747</td>\n      <td>18151.433047</td>\n    </tr>\n    <tr>\n      <th>Rich</th>\n      <td>158.783372</td>\n      <td>73.513749</td>\n      <td>28.500000</td>\n      <td>18080.217321</td>\n    </tr>\n    <tr>\n      <th rowspan=\"3\" valign=\"top\">Male</th>\n      <th>Middle Class</th>\n      <td>164.340871</td>\n      <td>60.522150</td>\n      <td>29.768116</td>\n      <td>18507.705733</td>\n    </tr>\n    <tr>\n      <th>Poor</th>\n      <td>160.166453</td>\n      <td>64.067642</td>\n      <td>25.531646</td>\n      <td>18258.066660</td>\n    </tr>\n    <tr>\n      <th>Rich</th>\n      <td>160.294186</td>\n      <td>64.934701</td>\n      <td>30.850575</td>\n      <td>18122.478949</td>\n    </tr>\n  </tbody>\n</table>\n</div>"
     },
     "metadata": {},
     "execution_count": 75
    }
   ],
   "source": [
    "Double_group.mean()"
   ]
  },
  {
   "cell_type": "code",
   "execution_count": 76,
   "metadata": {},
   "outputs": [
    {
     "output_type": "execute_result",
     "data": {
      "text/plain": "Gender  Economic Status\nFemale  Middle Class       98\n        Poor               87\n        Rich               80\nMale    Middle Class       69\n        Poor               79\n        Rich               87\ndtype: int64"
     },
     "metadata": {},
     "execution_count": 76
    }
   ],
   "source": [
    "Double_group.size()"
   ]
  },
  {
   "cell_type": "code",
   "execution_count": 77,
   "metadata": {},
   "outputs": [
    {
     "output_type": "execute_result",
     "data": {
      "text/plain": "                       Height                                                 \\\n                        count        mean        std         min         25%   \nGender Economic Status                                                         \nFemale Middle Class      98.0  157.289353  28.084922   79.770390  137.445094   \n       Poor              87.0  158.141453  30.886056   71.204958  140.494625   \n       Rich              80.0  158.783372  29.486447   90.586228  140.590404   \nMale   Middle Class      69.0  164.340871  27.409706  100.632728  146.976548   \n       Poor              79.0  160.166453  28.562092   96.915759  148.020277   \n       Rich              87.0  160.294186  29.145386  106.310649  136.696363   \n\n                                                           Weight             \\\n                               50%         75%         max  count       mean   \nGender Economic Status                                                         \nFemale Middle Class     153.921502  177.360089  216.491612   98.0  66.851166   \n       Poor             158.875129  176.554711  231.376392   87.0  66.572911   \n       Rich             161.696523  178.547045  264.498946   80.0  73.513749   \nMale   Middle Class     166.482338  182.920445  228.275537   69.0  60.522150   \n       Poor             157.639545  181.469569  225.207135   79.0  64.067642   \n       Rich             161.162731  183.051772  244.017111   87.0  64.934701   \n\n                        ...    Age       Income                             \\\n                        ...    75%   max  count          mean          std   \nGender Economic Status  ...                                                  \nFemale Middle Class     ...  39.00  59.0   98.0  17413.634517  3647.206131   \n       Poor             ...  38.00  63.0   87.0  18151.433047  3469.824737   \n       Rich             ...  37.25  52.0   80.0  18080.217321  3392.058552   \nMale   Middle Class     ...  38.00  55.0   69.0  18507.705733  3585.163741   \n       Poor             ...  37.00  63.0   79.0  18258.066660  3668.439481   \n       Rich             ...  37.50  63.0   87.0  18122.478949  3675.881026   \n\n                                                                  \\\n                                 min           25%           50%   \nGender Economic Status                                             \nFemale Middle Class      6694.285372  15018.984740  17253.338183   \n       Poor             10060.547519  16478.766929  17997.752038   \n       Rich             10393.595302  15649.830350  18382.731159   \nMale   Middle Class      7319.787972  16695.756174  18701.960077   \n       Poor              8796.512193  15959.400327  18146.748461   \n       Rich              9279.040408  15166.221821  18591.717170   \n\n                                                    \n                                 75%           max  \nGender Economic Status                              \nFemale Middle Class     19999.123325  25696.938187  \n       Poor             20738.561792  26940.097332  \n       Rich             20598.935750  24645.976219  \nMale   Middle Class     20633.563102  28920.062812  \n       Poor             20502.165824  29057.227500  \n       Rich             20541.280725  27266.443727  \n\n[6 rows x 32 columns]",
      "text/html": "<div>\n<style scoped>\n    .dataframe tbody tr th:only-of-type {\n        vertical-align: middle;\n    }\n\n    .dataframe tbody tr th {\n        vertical-align: top;\n    }\n\n    .dataframe thead tr th {\n        text-align: left;\n    }\n\n    .dataframe thead tr:last-of-type th {\n        text-align: right;\n    }\n</style>\n<table border=\"1\" class=\"dataframe\">\n  <thead>\n    <tr>\n      <th></th>\n      <th></th>\n      <th colspan=\"8\" halign=\"left\">Height</th>\n      <th colspan=\"2\" halign=\"left\">Weight</th>\n      <th>...</th>\n      <th colspan=\"2\" halign=\"left\">Age</th>\n      <th colspan=\"8\" halign=\"left\">Income</th>\n    </tr>\n    <tr>\n      <th></th>\n      <th></th>\n      <th>count</th>\n      <th>mean</th>\n      <th>std</th>\n      <th>min</th>\n      <th>25%</th>\n      <th>50%</th>\n      <th>75%</th>\n      <th>max</th>\n      <th>count</th>\n      <th>mean</th>\n      <th>...</th>\n      <th>75%</th>\n      <th>max</th>\n      <th>count</th>\n      <th>mean</th>\n      <th>std</th>\n      <th>min</th>\n      <th>25%</th>\n      <th>50%</th>\n      <th>75%</th>\n      <th>max</th>\n    </tr>\n    <tr>\n      <th>Gender</th>\n      <th>Economic Status</th>\n      <th></th>\n      <th></th>\n      <th></th>\n      <th></th>\n      <th></th>\n      <th></th>\n      <th></th>\n      <th></th>\n      <th></th>\n      <th></th>\n      <th></th>\n      <th></th>\n      <th></th>\n      <th></th>\n      <th></th>\n      <th></th>\n      <th></th>\n      <th></th>\n      <th></th>\n      <th></th>\n      <th></th>\n    </tr>\n  </thead>\n  <tbody>\n    <tr>\n      <th rowspan=\"3\" valign=\"top\">Female</th>\n      <th>Middle Class</th>\n      <td>98.0</td>\n      <td>157.289353</td>\n      <td>28.084922</td>\n      <td>79.770390</td>\n      <td>137.445094</td>\n      <td>153.921502</td>\n      <td>177.360089</td>\n      <td>216.491612</td>\n      <td>98.0</td>\n      <td>66.851166</td>\n      <td>...</td>\n      <td>39.00</td>\n      <td>59.0</td>\n      <td>98.0</td>\n      <td>17413.634517</td>\n      <td>3647.206131</td>\n      <td>6694.285372</td>\n      <td>15018.984740</td>\n      <td>17253.338183</td>\n      <td>19999.123325</td>\n      <td>25696.938187</td>\n    </tr>\n    <tr>\n      <th>Poor</th>\n      <td>87.0</td>\n      <td>158.141453</td>\n      <td>30.886056</td>\n      <td>71.204958</td>\n      <td>140.494625</td>\n      <td>158.875129</td>\n      <td>176.554711</td>\n      <td>231.376392</td>\n      <td>87.0</td>\n      <td>66.572911</td>\n      <td>...</td>\n      <td>38.00</td>\n      <td>63.0</td>\n      <td>87.0</td>\n      <td>18151.433047</td>\n      <td>3469.824737</td>\n      <td>10060.547519</td>\n      <td>16478.766929</td>\n      <td>17997.752038</td>\n      <td>20738.561792</td>\n      <td>26940.097332</td>\n    </tr>\n    <tr>\n      <th>Rich</th>\n      <td>80.0</td>\n      <td>158.783372</td>\n      <td>29.486447</td>\n      <td>90.586228</td>\n      <td>140.590404</td>\n      <td>161.696523</td>\n      <td>178.547045</td>\n      <td>264.498946</td>\n      <td>80.0</td>\n      <td>73.513749</td>\n      <td>...</td>\n      <td>37.25</td>\n      <td>52.0</td>\n      <td>80.0</td>\n      <td>18080.217321</td>\n      <td>3392.058552</td>\n      <td>10393.595302</td>\n      <td>15649.830350</td>\n      <td>18382.731159</td>\n      <td>20598.935750</td>\n      <td>24645.976219</td>\n    </tr>\n    <tr>\n      <th rowspan=\"3\" valign=\"top\">Male</th>\n      <th>Middle Class</th>\n      <td>69.0</td>\n      <td>164.340871</td>\n      <td>27.409706</td>\n      <td>100.632728</td>\n      <td>146.976548</td>\n      <td>166.482338</td>\n      <td>182.920445</td>\n      <td>228.275537</td>\n      <td>69.0</td>\n      <td>60.522150</td>\n      <td>...</td>\n      <td>38.00</td>\n      <td>55.0</td>\n      <td>69.0</td>\n      <td>18507.705733</td>\n      <td>3585.163741</td>\n      <td>7319.787972</td>\n      <td>16695.756174</td>\n      <td>18701.960077</td>\n      <td>20633.563102</td>\n      <td>28920.062812</td>\n    </tr>\n    <tr>\n      <th>Poor</th>\n      <td>79.0</td>\n      <td>160.166453</td>\n      <td>28.562092</td>\n      <td>96.915759</td>\n      <td>148.020277</td>\n      <td>157.639545</td>\n      <td>181.469569</td>\n      <td>225.207135</td>\n      <td>79.0</td>\n      <td>64.067642</td>\n      <td>...</td>\n      <td>37.00</td>\n      <td>63.0</td>\n      <td>79.0</td>\n      <td>18258.066660</td>\n      <td>3668.439481</td>\n      <td>8796.512193</td>\n      <td>15959.400327</td>\n      <td>18146.748461</td>\n      <td>20502.165824</td>\n      <td>29057.227500</td>\n    </tr>\n    <tr>\n      <th>Rich</th>\n      <td>87.0</td>\n      <td>160.294186</td>\n      <td>29.145386</td>\n      <td>106.310649</td>\n      <td>136.696363</td>\n      <td>161.162731</td>\n      <td>183.051772</td>\n      <td>244.017111</td>\n      <td>87.0</td>\n      <td>64.934701</td>\n      <td>...</td>\n      <td>37.50</td>\n      <td>63.0</td>\n      <td>87.0</td>\n      <td>18122.478949</td>\n      <td>3675.881026</td>\n      <td>9279.040408</td>\n      <td>15166.221821</td>\n      <td>18591.717170</td>\n      <td>20541.280725</td>\n      <td>27266.443727</td>\n    </tr>\n  </tbody>\n</table>\n<p>6 rows × 32 columns</p>\n</div>"
     },
     "metadata": {},
     "execution_count": 77
    }
   ],
   "source": [
    "Double_group.describe()"
   ]
  },
  {
   "cell_type": "code",
   "execution_count": 78,
   "metadata": {},
   "outputs": [],
   "source": [
    "grouper_income = Double_group[\"Income\"]"
   ]
  },
  {
   "cell_type": "code",
   "execution_count": 79,
   "metadata": {},
   "outputs": [
    {
     "output_type": "execute_result",
     "data": {
      "text/plain": "                        count          mean          std           min  \\\nGender Economic Status                                                   \nFemale Middle Class      98.0  17413.634517  3647.206131   6694.285372   \n       Poor              87.0  18151.433047  3469.824737  10060.547519   \n       Rich              80.0  18080.217321  3392.058552  10393.595302   \nMale   Middle Class      69.0  18507.705733  3585.163741   7319.787972   \n       Poor              79.0  18258.066660  3668.439481   8796.512193   \n       Rich              87.0  18122.478949  3675.881026   9279.040408   \n\n                                 25%           50%           75%           max  \nGender Economic Status                                                          \nFemale Middle Class     15018.984740  17253.338183  19999.123325  25696.938187  \n       Poor             16478.766929  17997.752038  20738.561792  26940.097332  \n       Rich             15649.830350  18382.731159  20598.935750  24645.976219  \nMale   Middle Class     16695.756174  18701.960077  20633.563102  28920.062812  \n       Poor             15959.400327  18146.748461  20502.165824  29057.227500  \n       Rich             15166.221821  18591.717170  20541.280725  27266.443727  ",
      "text/html": "<div>\n<style scoped>\n    .dataframe tbody tr th:only-of-type {\n        vertical-align: middle;\n    }\n\n    .dataframe tbody tr th {\n        vertical-align: top;\n    }\n\n    .dataframe thead th {\n        text-align: right;\n    }\n</style>\n<table border=\"1\" class=\"dataframe\">\n  <thead>\n    <tr style=\"text-align: right;\">\n      <th></th>\n      <th></th>\n      <th>count</th>\n      <th>mean</th>\n      <th>std</th>\n      <th>min</th>\n      <th>25%</th>\n      <th>50%</th>\n      <th>75%</th>\n      <th>max</th>\n    </tr>\n    <tr>\n      <th>Gender</th>\n      <th>Economic Status</th>\n      <th></th>\n      <th></th>\n      <th></th>\n      <th></th>\n      <th></th>\n      <th></th>\n      <th></th>\n      <th></th>\n    </tr>\n  </thead>\n  <tbody>\n    <tr>\n      <th rowspan=\"3\" valign=\"top\">Female</th>\n      <th>Middle Class</th>\n      <td>98.0</td>\n      <td>17413.634517</td>\n      <td>3647.206131</td>\n      <td>6694.285372</td>\n      <td>15018.984740</td>\n      <td>17253.338183</td>\n      <td>19999.123325</td>\n      <td>25696.938187</td>\n    </tr>\n    <tr>\n      <th>Poor</th>\n      <td>87.0</td>\n      <td>18151.433047</td>\n      <td>3469.824737</td>\n      <td>10060.547519</td>\n      <td>16478.766929</td>\n      <td>17997.752038</td>\n      <td>20738.561792</td>\n      <td>26940.097332</td>\n    </tr>\n    <tr>\n      <th>Rich</th>\n      <td>80.0</td>\n      <td>18080.217321</td>\n      <td>3392.058552</td>\n      <td>10393.595302</td>\n      <td>15649.830350</td>\n      <td>18382.731159</td>\n      <td>20598.935750</td>\n      <td>24645.976219</td>\n    </tr>\n    <tr>\n      <th rowspan=\"3\" valign=\"top\">Male</th>\n      <th>Middle Class</th>\n      <td>69.0</td>\n      <td>18507.705733</td>\n      <td>3585.163741</td>\n      <td>7319.787972</td>\n      <td>16695.756174</td>\n      <td>18701.960077</td>\n      <td>20633.563102</td>\n      <td>28920.062812</td>\n    </tr>\n    <tr>\n      <th>Poor</th>\n      <td>79.0</td>\n      <td>18258.066660</td>\n      <td>3668.439481</td>\n      <td>8796.512193</td>\n      <td>15959.400327</td>\n      <td>18146.748461</td>\n      <td>20502.165824</td>\n      <td>29057.227500</td>\n    </tr>\n    <tr>\n      <th>Rich</th>\n      <td>87.0</td>\n      <td>18122.478949</td>\n      <td>3675.881026</td>\n      <td>9279.040408</td>\n      <td>15166.221821</td>\n      <td>18591.717170</td>\n      <td>20541.280725</td>\n      <td>27266.443727</td>\n    </tr>\n  </tbody>\n</table>\n</div>"
     },
     "metadata": {},
     "execution_count": 79
    }
   ],
   "source": [
    "grouper_income.describe()"
   ]
  },
  {
   "cell_type": "code",
   "execution_count": 80,
   "metadata": {},
   "outputs": [
    {
     "output_type": "execute_result",
     "data": {
      "text/plain": "                              Income        Age     Height\nGender Economic Status                                    \nFemale Middle Class     1.706536e+06  29.540816  28.084922\n       Poor             1.579175e+06  30.505747  30.886056\n       Rich             1.446417e+06  28.500000  29.486447\nMale   Middle Class     1.277032e+06  29.768116  27.409706\n       Poor             1.442387e+06  25.531646  28.562092\n       Rich             1.576656e+06  30.850575  29.145386",
      "text/html": "<div>\n<style scoped>\n    .dataframe tbody tr th:only-of-type {\n        vertical-align: middle;\n    }\n\n    .dataframe tbody tr th {\n        vertical-align: top;\n    }\n\n    .dataframe thead th {\n        text-align: right;\n    }\n</style>\n<table border=\"1\" class=\"dataframe\">\n  <thead>\n    <tr style=\"text-align: right;\">\n      <th></th>\n      <th></th>\n      <th>Income</th>\n      <th>Age</th>\n      <th>Height</th>\n    </tr>\n    <tr>\n      <th>Gender</th>\n      <th>Economic Status</th>\n      <th></th>\n      <th></th>\n      <th></th>\n    </tr>\n  </thead>\n  <tbody>\n    <tr>\n      <th rowspan=\"3\" valign=\"top\">Female</th>\n      <th>Middle Class</th>\n      <td>1.706536e+06</td>\n      <td>29.540816</td>\n      <td>28.084922</td>\n    </tr>\n    <tr>\n      <th>Poor</th>\n      <td>1.579175e+06</td>\n      <td>30.505747</td>\n      <td>30.886056</td>\n    </tr>\n    <tr>\n      <th>Rich</th>\n      <td>1.446417e+06</td>\n      <td>28.500000</td>\n      <td>29.486447</td>\n    </tr>\n    <tr>\n      <th rowspan=\"3\" valign=\"top\">Male</th>\n      <th>Middle Class</th>\n      <td>1.277032e+06</td>\n      <td>29.768116</td>\n      <td>27.409706</td>\n    </tr>\n    <tr>\n      <th>Poor</th>\n      <td>1.442387e+06</td>\n      <td>25.531646</td>\n      <td>28.562092</td>\n    </tr>\n    <tr>\n      <th>Rich</th>\n      <td>1.576656e+06</td>\n      <td>30.850575</td>\n      <td>29.145386</td>\n    </tr>\n  </tbody>\n</table>\n</div>"
     },
     "metadata": {},
     "execution_count": 80
    }
   ],
   "source": [
    "Double_group.aggregate(\n",
    "    {\n",
    "        \"Income\" : np.sum,\n",
    "        \"Age\" : np.mean,\n",
    "        \"Height\" : np.std\n",
    "    }\n",
    ")"
   ]
  },
  {
   "cell_type": "code",
   "execution_count": 81,
   "metadata": {},
   "outputs": [
    {
     "output_type": "execute_result",
     "data": {
      "text/plain": "                              Age    Height\nGender Economic Status                     \nFemale Middle Class     29.540816  5.629285\n       Poor             30.505747  5.149839\n       Rich             28.500000  5.418936\nMale   Middle Class     29.768116  6.039643\n       Poor             25.531646  5.643490\n       Rich             30.850575  5.531697",
      "text/html": "<div>\n<style scoped>\n    .dataframe tbody tr th:only-of-type {\n        vertical-align: middle;\n    }\n\n    .dataframe tbody tr th {\n        vertical-align: top;\n    }\n\n    .dataframe thead th {\n        text-align: right;\n    }\n</style>\n<table border=\"1\" class=\"dataframe\">\n  <thead>\n    <tr style=\"text-align: right;\">\n      <th></th>\n      <th></th>\n      <th>Age</th>\n      <th>Height</th>\n    </tr>\n    <tr>\n      <th>Gender</th>\n      <th>Economic Status</th>\n      <th></th>\n      <th></th>\n    </tr>\n  </thead>\n  <tbody>\n    <tr>\n      <th rowspan=\"3\" valign=\"top\">Female</th>\n      <th>Middle Class</th>\n      <td>29.540816</td>\n      <td>5.629285</td>\n    </tr>\n    <tr>\n      <th>Poor</th>\n      <td>30.505747</td>\n      <td>5.149839</td>\n    </tr>\n    <tr>\n      <th>Rich</th>\n      <td>28.500000</td>\n      <td>5.418936</td>\n    </tr>\n    <tr>\n      <th rowspan=\"3\" valign=\"top\">Male</th>\n      <th>Middle Class</th>\n      <td>29.768116</td>\n      <td>6.039643</td>\n    </tr>\n    <tr>\n      <th>Poor</th>\n      <td>25.531646</td>\n      <td>5.643490</td>\n    </tr>\n    <tr>\n      <th>Rich</th>\n      <td>30.850575</td>\n      <td>5.531697</td>\n    </tr>\n  </tbody>\n</table>\n</div>"
     },
     "metadata": {},
     "execution_count": 81
    }
   ],
   "source": [
    "Double_group.aggregate(\n",
    "    {\n",
    "        \"Age\" : np.mean,\n",
    "        \"Height\": lambda h: np.mean(h)/np.std(h)\n",
    "    }\n",
    ")"
   ]
  },
  {
   "cell_type": "code",
   "execution_count": 82,
   "metadata": {},
   "outputs": [
    {
     "output_type": "execute_result",
     "data": {
      "text/plain": "                              Height                              Weight  \\\n                                 sum        mean        std          sum   \nGender Economic Status                                                     \nFemale Middle Class     15414.356601  157.289353  28.084922  6551.414315   \n       Poor             13758.306434  158.141453  30.886056  5791.843233   \n       Rich             12702.669744  158.783372  29.486447  5881.099911   \nMale   Middle Class     11339.520067  164.340871  27.409706  4176.028346   \n       Poor             12653.149757  160.166453  28.562092  5061.343711   \n       Rich             13945.594150  160.294186  29.145386  5649.318963   \n\n                                                 Age                        \\\n                             mean        std     sum       mean        std   \nGender Economic Status                                                       \nFemale Middle Class     66.851166  23.326221  2895.0  29.540816  12.722387   \n       Poor             66.572911  23.744594  2654.0  30.505747  11.751174   \n       Rich             73.513749  24.964636  2280.0  28.500000  11.776398   \nMale   Middle Class     60.522150  26.663677  2054.0  29.768116  11.096031   \n       Poor             64.067642  24.204824  2017.0  25.531646  14.515099   \n       Rich             64.934701  22.743439  2684.0  30.850575  11.692304   \n\n                              Income                             \n                                 sum          mean          std  \nGender Economic Status                                           \nFemale Middle Class     1.706536e+06  17413.634517  3647.206131  \n       Poor             1.579175e+06  18151.433047  3469.824737  \n       Rich             1.446417e+06  18080.217321  3392.058552  \nMale   Middle Class     1.277032e+06  18507.705733  3585.163741  \n       Poor             1.442387e+06  18258.066660  3668.439481  \n       Rich             1.576656e+06  18122.478949  3675.881026  ",
      "text/html": "<div>\n<style scoped>\n    .dataframe tbody tr th:only-of-type {\n        vertical-align: middle;\n    }\n\n    .dataframe tbody tr th {\n        vertical-align: top;\n    }\n\n    .dataframe thead tr th {\n        text-align: left;\n    }\n\n    .dataframe thead tr:last-of-type th {\n        text-align: right;\n    }\n</style>\n<table border=\"1\" class=\"dataframe\">\n  <thead>\n    <tr>\n      <th></th>\n      <th></th>\n      <th colspan=\"3\" halign=\"left\">Height</th>\n      <th colspan=\"3\" halign=\"left\">Weight</th>\n      <th colspan=\"3\" halign=\"left\">Age</th>\n      <th colspan=\"3\" halign=\"left\">Income</th>\n    </tr>\n    <tr>\n      <th></th>\n      <th></th>\n      <th>sum</th>\n      <th>mean</th>\n      <th>std</th>\n      <th>sum</th>\n      <th>mean</th>\n      <th>std</th>\n      <th>sum</th>\n      <th>mean</th>\n      <th>std</th>\n      <th>sum</th>\n      <th>mean</th>\n      <th>std</th>\n    </tr>\n    <tr>\n      <th>Gender</th>\n      <th>Economic Status</th>\n      <th></th>\n      <th></th>\n      <th></th>\n      <th></th>\n      <th></th>\n      <th></th>\n      <th></th>\n      <th></th>\n      <th></th>\n      <th></th>\n      <th></th>\n      <th></th>\n    </tr>\n  </thead>\n  <tbody>\n    <tr>\n      <th rowspan=\"3\" valign=\"top\">Female</th>\n      <th>Middle Class</th>\n      <td>15414.356601</td>\n      <td>157.289353</td>\n      <td>28.084922</td>\n      <td>6551.414315</td>\n      <td>66.851166</td>\n      <td>23.326221</td>\n      <td>2895.0</td>\n      <td>29.540816</td>\n      <td>12.722387</td>\n      <td>1.706536e+06</td>\n      <td>17413.634517</td>\n      <td>3647.206131</td>\n    </tr>\n    <tr>\n      <th>Poor</th>\n      <td>13758.306434</td>\n      <td>158.141453</td>\n      <td>30.886056</td>\n      <td>5791.843233</td>\n      <td>66.572911</td>\n      <td>23.744594</td>\n      <td>2654.0</td>\n      <td>30.505747</td>\n      <td>11.751174</td>\n      <td>1.579175e+06</td>\n      <td>18151.433047</td>\n      <td>3469.824737</td>\n    </tr>\n    <tr>\n      <th>Rich</th>\n      <td>12702.669744</td>\n      <td>158.783372</td>\n      <td>29.486447</td>\n      <td>5881.099911</td>\n      <td>73.513749</td>\n      <td>24.964636</td>\n      <td>2280.0</td>\n      <td>28.500000</td>\n      <td>11.776398</td>\n      <td>1.446417e+06</td>\n      <td>18080.217321</td>\n      <td>3392.058552</td>\n    </tr>\n    <tr>\n      <th rowspan=\"3\" valign=\"top\">Male</th>\n      <th>Middle Class</th>\n      <td>11339.520067</td>\n      <td>164.340871</td>\n      <td>27.409706</td>\n      <td>4176.028346</td>\n      <td>60.522150</td>\n      <td>26.663677</td>\n      <td>2054.0</td>\n      <td>29.768116</td>\n      <td>11.096031</td>\n      <td>1.277032e+06</td>\n      <td>18507.705733</td>\n      <td>3585.163741</td>\n    </tr>\n    <tr>\n      <th>Poor</th>\n      <td>12653.149757</td>\n      <td>160.166453</td>\n      <td>28.562092</td>\n      <td>5061.343711</td>\n      <td>64.067642</td>\n      <td>24.204824</td>\n      <td>2017.0</td>\n      <td>25.531646</td>\n      <td>14.515099</td>\n      <td>1.442387e+06</td>\n      <td>18258.066660</td>\n      <td>3668.439481</td>\n    </tr>\n    <tr>\n      <th>Rich</th>\n      <td>13945.594150</td>\n      <td>160.294186</td>\n      <td>29.145386</td>\n      <td>5649.318963</td>\n      <td>64.934701</td>\n      <td>22.743439</td>\n      <td>2684.0</td>\n      <td>30.850575</td>\n      <td>11.692304</td>\n      <td>1.576656e+06</td>\n      <td>18122.478949</td>\n      <td>3675.881026</td>\n    </tr>\n  </tbody>\n</table>\n</div>"
     },
     "metadata": {},
     "execution_count": 82
    }
   ],
   "source": [
    "Double_group.aggregate([np.sum, np.mean, np.std])"
   ]
  },
  {
   "cell_type": "code",
   "execution_count": 83,
   "metadata": {},
   "outputs": [
    {
     "output_type": "execute_result",
     "data": {
      "text/plain": "                          Height    Weight       Age    Income\nGender Economic Status                                        \nFemale Middle Class     5.629285  2.880658  2.333894  4.799061\n       Poor             5.149839  2.819962  2.611024  5.261551\n       Rich             5.418936  2.963294  2.435364  5.363790\nMale   Middle Class     6.039643  2.286464  2.702426  5.200124\n       Poor             5.643490  2.663809  1.770211  5.008869\n       Rich             5.531697  2.871647  2.653833  4.958685",
      "text/html": "<div>\n<style scoped>\n    .dataframe tbody tr th:only-of-type {\n        vertical-align: middle;\n    }\n\n    .dataframe tbody tr th {\n        vertical-align: top;\n    }\n\n    .dataframe thead th {\n        text-align: right;\n    }\n</style>\n<table border=\"1\" class=\"dataframe\">\n  <thead>\n    <tr style=\"text-align: right;\">\n      <th></th>\n      <th></th>\n      <th>Height</th>\n      <th>Weight</th>\n      <th>Age</th>\n      <th>Income</th>\n    </tr>\n    <tr>\n      <th>Gender</th>\n      <th>Economic Status</th>\n      <th></th>\n      <th></th>\n      <th></th>\n      <th></th>\n    </tr>\n  </thead>\n  <tbody>\n    <tr>\n      <th rowspan=\"3\" valign=\"top\">Female</th>\n      <th>Middle Class</th>\n      <td>5.629285</td>\n      <td>2.880658</td>\n      <td>2.333894</td>\n      <td>4.799061</td>\n    </tr>\n    <tr>\n      <th>Poor</th>\n      <td>5.149839</td>\n      <td>2.819962</td>\n      <td>2.611024</td>\n      <td>5.261551</td>\n    </tr>\n    <tr>\n      <th>Rich</th>\n      <td>5.418936</td>\n      <td>2.963294</td>\n      <td>2.435364</td>\n      <td>5.363790</td>\n    </tr>\n    <tr>\n      <th rowspan=\"3\" valign=\"top\">Male</th>\n      <th>Middle Class</th>\n      <td>6.039643</td>\n      <td>2.286464</td>\n      <td>2.702426</td>\n      <td>5.200124</td>\n    </tr>\n    <tr>\n      <th>Poor</th>\n      <td>5.643490</td>\n      <td>2.663809</td>\n      <td>1.770211</td>\n      <td>5.008869</td>\n    </tr>\n    <tr>\n      <th>Rich</th>\n      <td>5.531697</td>\n      <td>2.871647</td>\n      <td>2.653833</td>\n      <td>4.958685</td>\n    </tr>\n  </tbody>\n</table>\n</div>"
     },
     "metadata": {},
     "execution_count": 83
    }
   ],
   "source": [
    "Double_group.aggregate((lambda x: np.mean(x) / np.std(x)))"
   ]
  },
  {
   "cell_type": "markdown",
   "execution_count": null,
   "metadata": {},
   "outputs": [],
   "source": [
    "## Filtrado De Datos"
   ]
  },
  {
   "cell_type": "code",
   "execution_count": 84,
   "metadata": {},
   "outputs": [
    {
     "output_type": "execute_result",
     "data": {
      "text/plain": "4       8.0\n5      15.0\n8      37.0\n9      27.0\n12     31.0\n       ... \n492    39.0\n493    26.0\n496    16.0\n498    33.0\n499    29.0\nName: Age, Length: 272, dtype: float64"
     },
     "metadata": {},
     "execution_count": 84
    }
   ],
   "source": [
    "Double_group[\"Age\"].filter(lambda x: x.sum()>2400)"
   ]
  },
  {
   "cell_type": "markdown",
   "execution_count": null,
   "metadata": {},
   "outputs": [],
   "source": [
    "## Transformacion de variables.."
   ]
  },
  {
   "cell_type": "code",
   "execution_count": 85,
   "metadata": {},
   "outputs": [],
   "source": [
    "zscore= lambda x : (x - x.mean())/x.std()"
   ]
  },
  {
   "cell_type": "code",
   "execution_count": 86,
   "metadata": {},
   "outputs": [],
   "source": [
    "z_group = Double_group.transform(zscore)"
   ]
  },
  {
   "cell_type": "code",
   "execution_count": 87,
   "metadata": {},
   "outputs": [
    {
     "output_type": "execute_result",
     "data": {
      "text/plain": "(array([  9.,  29.,  53.,  93., 104.,  80.,  72.,  36.,  16.,   8.]),\n array([-2.47915861, -1.95472354, -1.43028847, -0.90585339, -0.38141832,\n         0.14301675,  0.66745183,  1.1918869 ,  1.71632197,  2.24075705,\n         2.76519212]),\n <a list of 10 Patch objects>)"
     },
     "metadata": {},
     "execution_count": 87
    },
    {
     "output_type": "display_data",
     "data": {
      "text/plain": "<Figure size 432x288 with 1 Axes>",
      "image/svg+xml": "<?xml version=\"1.0\" encoding=\"utf-8\" standalone=\"no\"?>\r\n<!DOCTYPE svg PUBLIC \"-//W3C//DTD SVG 1.1//EN\"\r\n  \"http://www.w3.org/Graphics/SVG/1.1/DTD/svg11.dtd\">\r\n<!-- Created with matplotlib (https://matplotlib.org/) -->\r\n<svg height=\"248.518125pt\" version=\"1.1\" viewBox=\"0 0 376.87799 248.518125\" width=\"376.87799pt\" xmlns=\"http://www.w3.org/2000/svg\" xmlns:xlink=\"http://www.w3.org/1999/xlink\">\r\n <defs>\r\n  <style type=\"text/css\">\r\n*{stroke-linecap:butt;stroke-linejoin:round;}\r\n  </style>\r\n </defs>\r\n <g id=\"figure_1\">\r\n  <g id=\"patch_1\">\r\n   <path d=\"M 0 248.518125 \r\nL 376.87799 248.518125 \r\nL 376.87799 0 \r\nL 0 0 \r\nz\r\n\" style=\"fill:none;\"/>\r\n  </g>\r\n  <g id=\"axes_1\">\r\n   <g id=\"patch_2\">\r\n    <path d=\"M 33.2875 224.64 \r\nL 368.0875 224.64 \r\nL 368.0875 7.2 \r\nL 33.2875 7.2 \r\nz\r\n\" style=\"fill:#ffffff;\"/>\r\n   </g>\r\n   <g id=\"patch_3\">\r\n    <path clip-path=\"url(#pc5ec863a5a)\" d=\"M 48.505682 224.64 \r\nL 78.942045 224.64 \r\nL 78.942045 206.719121 \r\nL 48.505682 206.719121 \r\nz\r\n\" style=\"fill:#1f77b4;\"/>\r\n   </g>\r\n   <g id=\"patch_4\">\r\n    <path clip-path=\"url(#pc5ec863a5a)\" d=\"M 78.942045 224.64 \r\nL 109.378409 224.64 \r\nL 109.378409 166.894945 \r\nL 78.942045 166.894945 \r\nz\r\n\" style=\"fill:#1f77b4;\"/>\r\n   </g>\r\n   <g id=\"patch_5\">\r\n    <path clip-path=\"url(#pc5ec863a5a)\" d=\"M 109.378409 224.64 \r\nL 139.814773 224.64 \r\nL 139.814773 119.105934 \r\nL 109.378409 119.105934 \r\nz\r\n\" style=\"fill:#1f77b4;\"/>\r\n   </g>\r\n   <g id=\"patch_6\">\r\n    <path clip-path=\"url(#pc5ec863a5a)\" d=\"M 139.814773 224.64 \r\nL 170.251136 224.64 \r\nL 170.251136 39.457582 \r\nL 139.814773 39.457582 \r\nz\r\n\" style=\"fill:#1f77b4;\"/>\r\n   </g>\r\n   <g id=\"patch_7\">\r\n    <path clip-path=\"url(#pc5ec863a5a)\" d=\"M 170.251136 224.64 \r\nL 200.6875 224.64 \r\nL 200.6875 17.554286 \r\nL 170.251136 17.554286 \r\nz\r\n\" style=\"fill:#1f77b4;\"/>\r\n   </g>\r\n   <g id=\"patch_8\">\r\n    <path clip-path=\"url(#pc5ec863a5a)\" d=\"M 200.6875 224.64 \r\nL 231.123864 224.64 \r\nL 231.123864 65.343297 \r\nL 200.6875 65.343297 \r\nz\r\n\" style=\"fill:#1f77b4;\"/>\r\n   </g>\r\n   <g id=\"patch_9\">\r\n    <path clip-path=\"url(#pc5ec863a5a)\" d=\"M 231.123864 224.64 \r\nL 261.560227 224.64 \r\nL 261.560227 81.272967 \r\nL 231.123864 81.272967 \r\nz\r\n\" style=\"fill:#1f77b4;\"/>\r\n   </g>\r\n   <g id=\"patch_10\">\r\n    <path clip-path=\"url(#pc5ec863a5a)\" d=\"M 261.560227 224.64 \r\nL 291.996591 224.64 \r\nL 291.996591 152.956484 \r\nL 261.560227 152.956484 \r\nz\r\n\" style=\"fill:#1f77b4;\"/>\r\n   </g>\r\n   <g id=\"patch_11\">\r\n    <path clip-path=\"url(#pc5ec863a5a)\" d=\"M 291.996591 224.64 \r\nL 322.432955 224.64 \r\nL 322.432955 192.780659 \r\nL 291.996591 192.780659 \r\nz\r\n\" style=\"fill:#1f77b4;\"/>\r\n   </g>\r\n   <g id=\"patch_12\">\r\n    <path clip-path=\"url(#pc5ec863a5a)\" d=\"M 322.432955 224.64 \r\nL 352.869318 224.64 \r\nL 352.869318 208.71033 \r\nL 322.432955 208.71033 \r\nz\r\n\" style=\"fill:#1f77b4;\"/>\r\n   </g>\r\n   <g id=\"matplotlib.axis_1\">\r\n    <g id=\"xtick_1\">\r\n     <g id=\"line2d_1\">\r\n      <defs>\r\n       <path d=\"M 0 0 \r\nL 0 3.5 \r\n\" id=\"meec322c0a2\" style=\"stroke:#000000;stroke-width:0.8;\"/>\r\n      </defs>\r\n      <g>\r\n       <use style=\"stroke:#000000;stroke-width:0.8;\" x=\"76.314359\" xlink:href=\"#meec322c0a2\" y=\"224.64\"/>\r\n      </g>\r\n     </g>\r\n     <g id=\"text_1\">\r\n      <!-- −2 -->\r\n      <defs>\r\n       <path d=\"M 10.59375 35.5 \r\nL 73.1875 35.5 \r\nL 73.1875 27.203125 \r\nL 10.59375 27.203125 \r\nz\r\n\" id=\"DejaVuSans-8722\"/>\r\n       <path d=\"M 19.1875 8.296875 \r\nL 53.609375 8.296875 \r\nL 53.609375 0 \r\nL 7.328125 0 \r\nL 7.328125 8.296875 \r\nQ 12.9375 14.109375 22.625 23.890625 \r\nQ 32.328125 33.6875 34.8125 36.53125 \r\nQ 39.546875 41.84375 41.421875 45.53125 \r\nQ 43.3125 49.21875 43.3125 52.78125 \r\nQ 43.3125 58.59375 39.234375 62.25 \r\nQ 35.15625 65.921875 28.609375 65.921875 \r\nQ 23.96875 65.921875 18.8125 64.3125 \r\nQ 13.671875 62.703125 7.8125 59.421875 \r\nL 7.8125 69.390625 \r\nQ 13.765625 71.78125 18.9375 73 \r\nQ 24.125 74.21875 28.421875 74.21875 \r\nQ 39.75 74.21875 46.484375 68.546875 \r\nQ 53.21875 62.890625 53.21875 53.421875 \r\nQ 53.21875 48.921875 51.53125 44.890625 \r\nQ 49.859375 40.875 45.40625 35.40625 \r\nQ 44.1875 33.984375 37.640625 27.21875 \r\nQ 31.109375 20.453125 19.1875 8.296875 \r\nz\r\n\" id=\"DejaVuSans-50\"/>\r\n      </defs>\r\n      <g transform=\"translate(68.943265 239.238437)scale(0.1 -0.1)\">\r\n       <use xlink:href=\"#DejaVuSans-8722\"/>\r\n       <use x=\"83.789062\" xlink:href=\"#DejaVuSans-50\"/>\r\n      </g>\r\n     </g>\r\n    </g>\r\n    <g id=\"xtick_2\">\r\n     <g id=\"line2d_2\">\r\n      <g>\r\n       <use style=\"stroke:#000000;stroke-width:0.8;\" x=\"134.350835\" xlink:href=\"#meec322c0a2\" y=\"224.64\"/>\r\n      </g>\r\n     </g>\r\n     <g id=\"text_2\">\r\n      <!-- −1 -->\r\n      <defs>\r\n       <path d=\"M 12.40625 8.296875 \r\nL 28.515625 8.296875 \r\nL 28.515625 63.921875 \r\nL 10.984375 60.40625 \r\nL 10.984375 69.390625 \r\nL 28.421875 72.90625 \r\nL 38.28125 72.90625 \r\nL 38.28125 8.296875 \r\nL 54.390625 8.296875 \r\nL 54.390625 0 \r\nL 12.40625 0 \r\nz\r\n\" id=\"DejaVuSans-49\"/>\r\n      </defs>\r\n      <g transform=\"translate(126.979742 239.238437)scale(0.1 -0.1)\">\r\n       <use xlink:href=\"#DejaVuSans-8722\"/>\r\n       <use x=\"83.789062\" xlink:href=\"#DejaVuSans-49\"/>\r\n      </g>\r\n     </g>\r\n    </g>\r\n    <g id=\"xtick_3\">\r\n     <g id=\"line2d_3\">\r\n      <g>\r\n       <use style=\"stroke:#000000;stroke-width:0.8;\" x=\"192.387312\" xlink:href=\"#meec322c0a2\" y=\"224.64\"/>\r\n      </g>\r\n     </g>\r\n     <g id=\"text_3\">\r\n      <!-- 0 -->\r\n      <defs>\r\n       <path d=\"M 31.78125 66.40625 \r\nQ 24.171875 66.40625 20.328125 58.90625 \r\nQ 16.5 51.421875 16.5 36.375 \r\nQ 16.5 21.390625 20.328125 13.890625 \r\nQ 24.171875 6.390625 31.78125 6.390625 \r\nQ 39.453125 6.390625 43.28125 13.890625 \r\nQ 47.125 21.390625 47.125 36.375 \r\nQ 47.125 51.421875 43.28125 58.90625 \r\nQ 39.453125 66.40625 31.78125 66.40625 \r\nz\r\nM 31.78125 74.21875 \r\nQ 44.046875 74.21875 50.515625 64.515625 \r\nQ 56.984375 54.828125 56.984375 36.375 \r\nQ 56.984375 17.96875 50.515625 8.265625 \r\nQ 44.046875 -1.421875 31.78125 -1.421875 \r\nQ 19.53125 -1.421875 13.0625 8.265625 \r\nQ 6.59375 17.96875 6.59375 36.375 \r\nQ 6.59375 54.828125 13.0625 64.515625 \r\nQ 19.53125 74.21875 31.78125 74.21875 \r\nz\r\n\" id=\"DejaVuSans-48\"/>\r\n      </defs>\r\n      <g transform=\"translate(189.206062 239.238437)scale(0.1 -0.1)\">\r\n       <use xlink:href=\"#DejaVuSans-48\"/>\r\n      </g>\r\n     </g>\r\n    </g>\r\n    <g id=\"xtick_4\">\r\n     <g id=\"line2d_4\">\r\n      <g>\r\n       <use style=\"stroke:#000000;stroke-width:0.8;\" x=\"250.423788\" xlink:href=\"#meec322c0a2\" y=\"224.64\"/>\r\n      </g>\r\n     </g>\r\n     <g id=\"text_4\">\r\n      <!-- 1 -->\r\n      <g transform=\"translate(247.242538 239.238437)scale(0.1 -0.1)\">\r\n       <use xlink:href=\"#DejaVuSans-49\"/>\r\n      </g>\r\n     </g>\r\n    </g>\r\n    <g id=\"xtick_5\">\r\n     <g id=\"line2d_5\">\r\n      <g>\r\n       <use style=\"stroke:#000000;stroke-width:0.8;\" x=\"308.460264\" xlink:href=\"#meec322c0a2\" y=\"224.64\"/>\r\n      </g>\r\n     </g>\r\n     <g id=\"text_5\">\r\n      <!-- 2 -->\r\n      <g transform=\"translate(305.279014 239.238437)scale(0.1 -0.1)\">\r\n       <use xlink:href=\"#DejaVuSans-50\"/>\r\n      </g>\r\n     </g>\r\n    </g>\r\n    <g id=\"xtick_6\">\r\n     <g id=\"line2d_6\">\r\n      <g>\r\n       <use style=\"stroke:#000000;stroke-width:0.8;\" x=\"366.49674\" xlink:href=\"#meec322c0a2\" y=\"224.64\"/>\r\n      </g>\r\n     </g>\r\n     <g id=\"text_6\">\r\n      <!-- 3 -->\r\n      <defs>\r\n       <path d=\"M 40.578125 39.3125 \r\nQ 47.65625 37.796875 51.625 33 \r\nQ 55.609375 28.21875 55.609375 21.1875 \r\nQ 55.609375 10.40625 48.1875 4.484375 \r\nQ 40.765625 -1.421875 27.09375 -1.421875 \r\nQ 22.515625 -1.421875 17.65625 -0.515625 \r\nQ 12.796875 0.390625 7.625 2.203125 \r\nL 7.625 11.71875 \r\nQ 11.71875 9.328125 16.59375 8.109375 \r\nQ 21.484375 6.890625 26.8125 6.890625 \r\nQ 36.078125 6.890625 40.9375 10.546875 \r\nQ 45.796875 14.203125 45.796875 21.1875 \r\nQ 45.796875 27.640625 41.28125 31.265625 \r\nQ 36.765625 34.90625 28.71875 34.90625 \r\nL 20.21875 34.90625 \r\nL 20.21875 43.015625 \r\nL 29.109375 43.015625 \r\nQ 36.375 43.015625 40.234375 45.921875 \r\nQ 44.09375 48.828125 44.09375 54.296875 \r\nQ 44.09375 59.90625 40.109375 62.90625 \r\nQ 36.140625 65.921875 28.71875 65.921875 \r\nQ 24.65625 65.921875 20.015625 65.03125 \r\nQ 15.375 64.15625 9.8125 62.3125 \r\nL 9.8125 71.09375 \r\nQ 15.4375 72.65625 20.34375 73.4375 \r\nQ 25.25 74.21875 29.59375 74.21875 \r\nQ 40.828125 74.21875 47.359375 69.109375 \r\nQ 53.90625 64.015625 53.90625 55.328125 \r\nQ 53.90625 49.265625 50.4375 45.09375 \r\nQ 46.96875 40.921875 40.578125 39.3125 \r\nz\r\n\" id=\"DejaVuSans-51\"/>\r\n      </defs>\r\n      <g transform=\"translate(363.31549 239.238437)scale(0.1 -0.1)\">\r\n       <use xlink:href=\"#DejaVuSans-51\"/>\r\n      </g>\r\n     </g>\r\n    </g>\r\n   </g>\r\n   <g id=\"matplotlib.axis_2\">\r\n    <g id=\"ytick_1\">\r\n     <g id=\"line2d_7\">\r\n      <defs>\r\n       <path d=\"M 0 0 \r\nL -3.5 0 \r\n\" id=\"md8c09b0f80\" style=\"stroke:#000000;stroke-width:0.8;\"/>\r\n      </defs>\r\n      <g>\r\n       <use style=\"stroke:#000000;stroke-width:0.8;\" x=\"33.2875\" xlink:href=\"#md8c09b0f80\" y=\"224.64\"/>\r\n      </g>\r\n     </g>\r\n     <g id=\"text_7\">\r\n      <!-- 0 -->\r\n      <g transform=\"translate(19.925 228.439219)scale(0.1 -0.1)\">\r\n       <use xlink:href=\"#DejaVuSans-48\"/>\r\n      </g>\r\n     </g>\r\n    </g>\r\n    <g id=\"ytick_2\">\r\n     <g id=\"line2d_8\">\r\n      <g>\r\n       <use style=\"stroke:#000000;stroke-width:0.8;\" x=\"33.2875\" xlink:href=\"#md8c09b0f80\" y=\"184.815824\"/>\r\n      </g>\r\n     </g>\r\n     <g id=\"text_8\">\r\n      <!-- 20 -->\r\n      <g transform=\"translate(13.5625 188.615043)scale(0.1 -0.1)\">\r\n       <use xlink:href=\"#DejaVuSans-50\"/>\r\n       <use x=\"63.623047\" xlink:href=\"#DejaVuSans-48\"/>\r\n      </g>\r\n     </g>\r\n    </g>\r\n    <g id=\"ytick_3\">\r\n     <g id=\"line2d_9\">\r\n      <g>\r\n       <use style=\"stroke:#000000;stroke-width:0.8;\" x=\"33.2875\" xlink:href=\"#md8c09b0f80\" y=\"144.991648\"/>\r\n      </g>\r\n     </g>\r\n     <g id=\"text_9\">\r\n      <!-- 40 -->\r\n      <defs>\r\n       <path d=\"M 37.796875 64.3125 \r\nL 12.890625 25.390625 \r\nL 37.796875 25.390625 \r\nz\r\nM 35.203125 72.90625 \r\nL 47.609375 72.90625 \r\nL 47.609375 25.390625 \r\nL 58.015625 25.390625 \r\nL 58.015625 17.1875 \r\nL 47.609375 17.1875 \r\nL 47.609375 0 \r\nL 37.796875 0 \r\nL 37.796875 17.1875 \r\nL 4.890625 17.1875 \r\nL 4.890625 26.703125 \r\nz\r\n\" id=\"DejaVuSans-52\"/>\r\n      </defs>\r\n      <g transform=\"translate(13.5625 148.790867)scale(0.1 -0.1)\">\r\n       <use xlink:href=\"#DejaVuSans-52\"/>\r\n       <use x=\"63.623047\" xlink:href=\"#DejaVuSans-48\"/>\r\n      </g>\r\n     </g>\r\n    </g>\r\n    <g id=\"ytick_4\">\r\n     <g id=\"line2d_10\">\r\n      <g>\r\n       <use style=\"stroke:#000000;stroke-width:0.8;\" x=\"33.2875\" xlink:href=\"#md8c09b0f80\" y=\"105.167473\"/>\r\n      </g>\r\n     </g>\r\n     <g id=\"text_10\">\r\n      <!-- 60 -->\r\n      <defs>\r\n       <path d=\"M 33.015625 40.375 \r\nQ 26.375 40.375 22.484375 35.828125 \r\nQ 18.609375 31.296875 18.609375 23.390625 \r\nQ 18.609375 15.53125 22.484375 10.953125 \r\nQ 26.375 6.390625 33.015625 6.390625 \r\nQ 39.65625 6.390625 43.53125 10.953125 \r\nQ 47.40625 15.53125 47.40625 23.390625 \r\nQ 47.40625 31.296875 43.53125 35.828125 \r\nQ 39.65625 40.375 33.015625 40.375 \r\nz\r\nM 52.59375 71.296875 \r\nL 52.59375 62.3125 \r\nQ 48.875 64.0625 45.09375 64.984375 \r\nQ 41.3125 65.921875 37.59375 65.921875 \r\nQ 27.828125 65.921875 22.671875 59.328125 \r\nQ 17.53125 52.734375 16.796875 39.40625 \r\nQ 19.671875 43.65625 24.015625 45.921875 \r\nQ 28.375 48.1875 33.59375 48.1875 \r\nQ 44.578125 48.1875 50.953125 41.515625 \r\nQ 57.328125 34.859375 57.328125 23.390625 \r\nQ 57.328125 12.15625 50.6875 5.359375 \r\nQ 44.046875 -1.421875 33.015625 -1.421875 \r\nQ 20.359375 -1.421875 13.671875 8.265625 \r\nQ 6.984375 17.96875 6.984375 36.375 \r\nQ 6.984375 53.65625 15.1875 63.9375 \r\nQ 23.390625 74.21875 37.203125 74.21875 \r\nQ 40.921875 74.21875 44.703125 73.484375 \r\nQ 48.484375 72.75 52.59375 71.296875 \r\nz\r\n\" id=\"DejaVuSans-54\"/>\r\n      </defs>\r\n      <g transform=\"translate(13.5625 108.966691)scale(0.1 -0.1)\">\r\n       <use xlink:href=\"#DejaVuSans-54\"/>\r\n       <use x=\"63.623047\" xlink:href=\"#DejaVuSans-48\"/>\r\n      </g>\r\n     </g>\r\n    </g>\r\n    <g id=\"ytick_5\">\r\n     <g id=\"line2d_11\">\r\n      <g>\r\n       <use style=\"stroke:#000000;stroke-width:0.8;\" x=\"33.2875\" xlink:href=\"#md8c09b0f80\" y=\"65.343297\"/>\r\n      </g>\r\n     </g>\r\n     <g id=\"text_11\">\r\n      <!-- 80 -->\r\n      <defs>\r\n       <path d=\"M 31.78125 34.625 \r\nQ 24.75 34.625 20.71875 30.859375 \r\nQ 16.703125 27.09375 16.703125 20.515625 \r\nQ 16.703125 13.921875 20.71875 10.15625 \r\nQ 24.75 6.390625 31.78125 6.390625 \r\nQ 38.8125 6.390625 42.859375 10.171875 \r\nQ 46.921875 13.96875 46.921875 20.515625 \r\nQ 46.921875 27.09375 42.890625 30.859375 \r\nQ 38.875 34.625 31.78125 34.625 \r\nz\r\nM 21.921875 38.8125 \r\nQ 15.578125 40.375 12.03125 44.71875 \r\nQ 8.5 49.078125 8.5 55.328125 \r\nQ 8.5 64.0625 14.71875 69.140625 \r\nQ 20.953125 74.21875 31.78125 74.21875 \r\nQ 42.671875 74.21875 48.875 69.140625 \r\nQ 55.078125 64.0625 55.078125 55.328125 \r\nQ 55.078125 49.078125 51.53125 44.71875 \r\nQ 48 40.375 41.703125 38.8125 \r\nQ 48.828125 37.15625 52.796875 32.3125 \r\nQ 56.78125 27.484375 56.78125 20.515625 \r\nQ 56.78125 9.90625 50.3125 4.234375 \r\nQ 43.84375 -1.421875 31.78125 -1.421875 \r\nQ 19.734375 -1.421875 13.25 4.234375 \r\nQ 6.78125 9.90625 6.78125 20.515625 \r\nQ 6.78125 27.484375 10.78125 32.3125 \r\nQ 14.796875 37.15625 21.921875 38.8125 \r\nz\r\nM 18.3125 54.390625 \r\nQ 18.3125 48.734375 21.84375 45.5625 \r\nQ 25.390625 42.390625 31.78125 42.390625 \r\nQ 38.140625 42.390625 41.71875 45.5625 \r\nQ 45.3125 48.734375 45.3125 54.390625 \r\nQ 45.3125 60.0625 41.71875 63.234375 \r\nQ 38.140625 66.40625 31.78125 66.40625 \r\nQ 25.390625 66.40625 21.84375 63.234375 \r\nQ 18.3125 60.0625 18.3125 54.390625 \r\nz\r\n\" id=\"DejaVuSans-56\"/>\r\n      </defs>\r\n      <g transform=\"translate(13.5625 69.142515)scale(0.1 -0.1)\">\r\n       <use xlink:href=\"#DejaVuSans-56\"/>\r\n       <use x=\"63.623047\" xlink:href=\"#DejaVuSans-48\"/>\r\n      </g>\r\n     </g>\r\n    </g>\r\n    <g id=\"ytick_6\">\r\n     <g id=\"line2d_12\">\r\n      <g>\r\n       <use style=\"stroke:#000000;stroke-width:0.8;\" x=\"33.2875\" xlink:href=\"#md8c09b0f80\" y=\"25.519121\"/>\r\n      </g>\r\n     </g>\r\n     <g id=\"text_12\">\r\n      <!-- 100 -->\r\n      <g transform=\"translate(7.2 29.31834)scale(0.1 -0.1)\">\r\n       <use xlink:href=\"#DejaVuSans-49\"/>\r\n       <use x=\"63.623047\" xlink:href=\"#DejaVuSans-48\"/>\r\n       <use x=\"127.246094\" xlink:href=\"#DejaVuSans-48\"/>\r\n      </g>\r\n     </g>\r\n    </g>\r\n   </g>\r\n   <g id=\"patch_13\">\r\n    <path d=\"M 33.2875 224.64 \r\nL 33.2875 7.2 \r\n\" style=\"fill:none;stroke:#000000;stroke-linecap:square;stroke-linejoin:miter;stroke-width:0.8;\"/>\r\n   </g>\r\n   <g id=\"patch_14\">\r\n    <path d=\"M 368.0875 224.64 \r\nL 368.0875 7.2 \r\n\" style=\"fill:none;stroke:#000000;stroke-linecap:square;stroke-linejoin:miter;stroke-width:0.8;\"/>\r\n   </g>\r\n   <g id=\"patch_15\">\r\n    <path d=\"M 33.2875 224.64 \r\nL 368.0875 224.64 \r\n\" style=\"fill:none;stroke:#000000;stroke-linecap:square;stroke-linejoin:miter;stroke-width:0.8;\"/>\r\n   </g>\r\n   <g id=\"patch_16\">\r\n    <path d=\"M 33.2875 7.2 \r\nL 368.0875 7.2 \r\n\" style=\"fill:none;stroke:#000000;stroke-linecap:square;stroke-linejoin:miter;stroke-width:0.8;\"/>\r\n   </g>\r\n  </g>\r\n </g>\r\n <defs>\r\n  <clipPath id=\"pc5ec863a5a\">\r\n   <rect height=\"217.44\" width=\"334.8\" x=\"33.2875\" y=\"7.2\"/>\r\n  </clipPath>\r\n </defs>\r\n</svg>\r\n",
      "image/png": "[encoded data removed]"
     },
     "metadata": {
      "needs_background": "light"
     }
    }
   ],
   "source": [
    "plt.hist(z_group[\"Age\"])"
   ]
  },
  {
   "cell_type": "code",
   "execution_count": 88,
   "metadata": {},
   "outputs": [],
   "source": [
    "fill_na_mean= lambda x : x.fillna(x.mean())"
   ]
  },
  {
   "cell_type": "code",
   "execution_count": 89,
   "metadata": {},
   "outputs": [
    {
     "output_type": "execute_result",
     "data": {
      "text/plain": "         Height      Weight   Age        Income\n0    197.035978   99.597138  12.0  23671.045598\n1    180.470516   71.297044  30.0  20633.563102\n2    149.534080   60.275507  22.0  19352.535173\n3    186.297835  104.336217  51.0  20597.124729\n4    153.693292   30.607441   8.0  17297.682775\n..          ...         ...   ...           ...\n495  180.190636   86.142852  44.0  15109.302234\n496  162.910609   80.953199  16.0  10317.470266\n497  182.742684   86.116034  27.0  18511.758483\n498  160.757588   50.272432  33.0  26940.097332\n499   96.686225   78.280527  29.0  17266.561578\n\n[500 rows x 4 columns]",
      "text/html": "<div>\n<style scoped>\n    .dataframe tbody tr th:only-of-type {\n        vertical-align: middle;\n    }\n\n    .dataframe tbody tr th {\n        vertical-align: top;\n    }\n\n    .dataframe thead th {\n        text-align: right;\n    }\n</style>\n<table border=\"1\" class=\"dataframe\">\n  <thead>\n    <tr style=\"text-align: right;\">\n      <th></th>\n      <th>Height</th>\n      <th>Weight</th>\n      <th>Age</th>\n      <th>Income</th>\n    </tr>\n  </thead>\n  <tbody>\n    <tr>\n      <th>0</th>\n      <td>197.035978</td>\n      <td>99.597138</td>\n      <td>12.0</td>\n      <td>23671.045598</td>\n    </tr>\n    <tr>\n      <th>1</th>\n      <td>180.470516</td>\n      <td>71.297044</td>\n      <td>30.0</td>\n      <td>20633.563102</td>\n    </tr>\n    <tr>\n      <th>2</th>\n      <td>149.534080</td>\n      <td>60.275507</td>\n      <td>22.0</td>\n      <td>19352.535173</td>\n    </tr>\n    <tr>\n      <th>3</th>\n      <td>186.297835</td>\n      <td>104.336217</td>\n      <td>51.0</td>\n      <td>20597.124729</td>\n    </tr>\n    <tr>\n      <th>4</th>\n      <td>153.693292</td>\n      <td>30.607441</td>\n      <td>8.0</td>\n      <td>17297.682775</td>\n    </tr>\n    <tr>\n      <th>...</th>\n      <td>...</td>\n      <td>...</td>\n      <td>...</td>\n      <td>...</td>\n    </tr>\n    <tr>\n      <th>495</th>\n      <td>180.190636</td>\n      <td>86.142852</td>\n      <td>44.0</td>\n      <td>15109.302234</td>\n    </tr>\n    <tr>\n      <th>496</th>\n      <td>162.910609</td>\n      <td>80.953199</td>\n      <td>16.0</td>\n      <td>10317.470266</td>\n    </tr>\n    <tr>\n      <th>497</th>\n      <td>182.742684</td>\n      <td>86.116034</td>\n      <td>27.0</td>\n      <td>18511.758483</td>\n    </tr>\n    <tr>\n      <th>498</th>\n      <td>160.757588</td>\n      <td>50.272432</td>\n      <td>33.0</td>\n      <td>26940.097332</td>\n    </tr>\n    <tr>\n      <th>499</th>\n      <td>96.686225</td>\n      <td>78.280527</td>\n      <td>29.0</td>\n      <td>17266.561578</td>\n    </tr>\n  </tbody>\n</table>\n<p>500 rows × 4 columns</p>\n</div>"
     },
     "metadata": {},
     "execution_count": 89
    }
   ],
   "source": [
    "Double_group.transform(fill_na_mean)"
   ]
  },
  {
   "cell_type": "markdown",
   "execution_count": null,
   "metadata": {},
   "outputs": [],
   "source": [
    "## Operaciones diversas muy utiles"
   ]
  },
  {
   "cell_type": "code",
   "execution_count": 90,
   "metadata": {},
   "outputs": [
    {
     "output_type": "execute_result",
     "data": {
      "text/plain": "   Gender Economic Status      Height     Weight   Age        Income\n0  Female            Rich  197.035978  99.597138  12.0  23671.045598\n1    Male    Middle Class  180.470516  71.297044  30.0  20633.563102\n2    Male            Poor  149.534080  60.275507  22.0  19352.535173\n4  Female    Middle Class  153.693292  30.607441   8.0  17297.682775\n5  Female            Poor  118.989291  44.281965  15.0  18570.517546\n9    Male            Rich  132.947373  66.569518  27.0  18237.293468",
      "text/html": "<div>\n<style scoped>\n    .dataframe tbody tr th:only-of-type {\n        vertical-align: middle;\n    }\n\n    .dataframe tbody tr th {\n        vertical-align: top;\n    }\n\n    .dataframe thead th {\n        text-align: right;\n    }\n</style>\n<table border=\"1\" class=\"dataframe\">\n  <thead>\n    <tr style=\"text-align: right;\">\n      <th></th>\n      <th>Gender</th>\n      <th>Economic Status</th>\n      <th>Height</th>\n      <th>Weight</th>\n      <th>Age</th>\n      <th>Income</th>\n    </tr>\n  </thead>\n  <tbody>\n    <tr>\n      <th>0</th>\n      <td>Female</td>\n      <td>Rich</td>\n      <td>197.035978</td>\n      <td>99.597138</td>\n      <td>12.0</td>\n      <td>23671.045598</td>\n    </tr>\n    <tr>\n      <th>1</th>\n      <td>Male</td>\n      <td>Middle Class</td>\n      <td>180.470516</td>\n      <td>71.297044</td>\n      <td>30.0</td>\n      <td>20633.563102</td>\n    </tr>\n    <tr>\n      <th>2</th>\n      <td>Male</td>\n      <td>Poor</td>\n      <td>149.534080</td>\n      <td>60.275507</td>\n      <td>22.0</td>\n      <td>19352.535173</td>\n    </tr>\n    <tr>\n      <th>4</th>\n      <td>Female</td>\n      <td>Middle Class</td>\n      <td>153.693292</td>\n      <td>30.607441</td>\n      <td>8.0</td>\n      <td>17297.682775</td>\n    </tr>\n    <tr>\n      <th>5</th>\n      <td>Female</td>\n      <td>Poor</td>\n      <td>118.989291</td>\n      <td>44.281965</td>\n      <td>15.0</td>\n      <td>18570.517546</td>\n    </tr>\n    <tr>\n      <th>9</th>\n      <td>Male</td>\n      <td>Rich</td>\n      <td>132.947373</td>\n      <td>66.569518</td>\n      <td>27.0</td>\n      <td>18237.293468</td>\n    </tr>\n  </tbody>\n</table>\n</div>"
     },
     "metadata": {},
     "execution_count": 90
    }
   ],
   "source": [
    "Double_group.head(1)"
   ]
  },
  {
   "cell_type": "code",
   "execution_count": 91,
   "metadata": {},
   "outputs": [
    {
     "output_type": "execute_result",
     "data": {
      "text/plain": "     Gender Economic Status      Height     Weight   Age        Income\n489    Male    Middle Class  182.920445  73.209696  29.0  19276.211567\n491    Male            Poor  119.908944  80.366834  42.0  10696.289540\n493  Female    Middle Class  136.576676  30.771606  26.0  15560.624010\n496    Male            Rich  162.910609  80.953199  16.0  10317.470266\n497  Female            Rich  182.742684  86.116034  27.0  18511.758483\n499  Female            Poor   96.686225  78.280527  29.0  17266.561578",
      "text/html": "<div>\n<style scoped>\n    .dataframe tbody tr th:only-of-type {\n        vertical-align: middle;\n    }\n\n    .dataframe tbody tr th {\n        vertical-align: top;\n    }\n\n    .dataframe thead th {\n        text-align: right;\n    }\n</style>\n<table border=\"1\" class=\"dataframe\">\n  <thead>\n    <tr style=\"text-align: right;\">\n      <th></th>\n      <th>Gender</th>\n      <th>Economic Status</th>\n      <th>Height</th>\n      <th>Weight</th>\n      <th>Age</th>\n      <th>Income</th>\n    </tr>\n  </thead>\n  <tbody>\n    <tr>\n      <th>489</th>\n      <td>Male</td>\n      <td>Middle Class</td>\n      <td>182.920445</td>\n      <td>73.209696</td>\n      <td>29.0</td>\n      <td>19276.211567</td>\n    </tr>\n    <tr>\n      <th>491</th>\n      <td>Male</td>\n      <td>Poor</td>\n      <td>119.908944</td>\n      <td>80.366834</td>\n      <td>42.0</td>\n      <td>10696.289540</td>\n    </tr>\n    <tr>\n      <th>493</th>\n      <td>Female</td>\n      <td>Middle Class</td>\n      <td>136.576676</td>\n      <td>30.771606</td>\n      <td>26.0</td>\n      <td>15560.624010</td>\n    </tr>\n    <tr>\n      <th>496</th>\n      <td>Male</td>\n      <td>Rich</td>\n      <td>162.910609</td>\n      <td>80.953199</td>\n      <td>16.0</td>\n      <td>10317.470266</td>\n    </tr>\n    <tr>\n      <th>497</th>\n      <td>Female</td>\n      <td>Rich</td>\n      <td>182.742684</td>\n      <td>86.116034</td>\n      <td>27.0</td>\n      <td>18511.758483</td>\n    </tr>\n    <tr>\n      <th>499</th>\n      <td>Female</td>\n      <td>Poor</td>\n      <td>96.686225</td>\n      <td>78.280527</td>\n      <td>29.0</td>\n      <td>17266.561578</td>\n    </tr>\n  </tbody>\n</table>\n</div>"
     },
     "metadata": {},
     "execution_count": 91
    }
   ],
   "source": [
    "Double_group.tail(1)"
   ]
  },
  {
   "cell_type": "code",
   "execution_count": 92,
   "metadata": {},
   "outputs": [
    {
     "output_type": "execute_result",
     "data": {
      "text/plain": "                            Height     Weight   Age        Income\nGender Economic Status                                           \nFemale Middle Class     142.940844  10.847648  26.0  19905.712303\n       Poor             208.459026  53.249596  31.0  17596.986047\n       Rich             153.337151  56.799069  29.0  20598.847451\nMale   Middle Class     199.584617  24.419771  48.0   7319.787972\n       Poor             149.023891  85.993812  43.0  20584.390412\n       Rich             195.264897  82.117460  39.0  18992.401725",
      "text/html": "<div>\n<style scoped>\n    .dataframe tbody tr th:only-of-type {\n        vertical-align: middle;\n    }\n\n    .dataframe tbody tr th {\n        vertical-align: top;\n    }\n\n    .dataframe thead th {\n        text-align: right;\n    }\n</style>\n<table border=\"1\" class=\"dataframe\">\n  <thead>\n    <tr style=\"text-align: right;\">\n      <th></th>\n      <th></th>\n      <th>Height</th>\n      <th>Weight</th>\n      <th>Age</th>\n      <th>Income</th>\n    </tr>\n    <tr>\n      <th>Gender</th>\n      <th>Economic Status</th>\n      <th></th>\n      <th></th>\n      <th></th>\n      <th></th>\n    </tr>\n  </thead>\n  <tbody>\n    <tr>\n      <th rowspan=\"3\" valign=\"top\">Female</th>\n      <th>Middle Class</th>\n      <td>142.940844</td>\n      <td>10.847648</td>\n      <td>26.0</td>\n      <td>19905.712303</td>\n    </tr>\n    <tr>\n      <th>Poor</th>\n      <td>208.459026</td>\n      <td>53.249596</td>\n      <td>31.0</td>\n      <td>17596.986047</td>\n    </tr>\n    <tr>\n      <th>Rich</th>\n      <td>153.337151</td>\n      <td>56.799069</td>\n      <td>29.0</td>\n      <td>20598.847451</td>\n    </tr>\n    <tr>\n      <th rowspan=\"3\" valign=\"top\">Male</th>\n      <th>Middle Class</th>\n      <td>199.584617</td>\n      <td>24.419771</td>\n      <td>48.0</td>\n      <td>7319.787972</td>\n    </tr>\n    <tr>\n      <th>Poor</th>\n      <td>149.023891</td>\n      <td>85.993812</td>\n      <td>43.0</td>\n      <td>20584.390412</td>\n    </tr>\n    <tr>\n      <th>Rich</th>\n      <td>195.264897</td>\n      <td>82.117460</td>\n      <td>39.0</td>\n      <td>18992.401725</td>\n    </tr>\n  </tbody>\n</table>\n</div>"
     },
     "metadata": {},
     "execution_count": 92
    }
   ],
   "source": [
    "Double_group.nth(32)"
   ]
  },
  {
   "cell_type": "code",
   "execution_count": 93,
   "metadata": {},
   "outputs": [
    {
     "output_type": "execute_result",
     "data": {
      "text/plain": "                            Height      Weight   Age        Income\nGender Economic Status                                            \nFemale Middle Class     125.292838  103.659443  32.0  20784.202161\n       Poor             204.270197   96.199119  40.0  16647.172403\nMale   Rich             181.204905  111.271637  36.0  23982.104642",
      "text/html": "<div>\n<style scoped>\n    .dataframe tbody tr th:only-of-type {\n        vertical-align: middle;\n    }\n\n    .dataframe tbody tr th {\n        vertical-align: top;\n    }\n\n    .dataframe thead th {\n        text-align: right;\n    }\n</style>\n<table border=\"1\" class=\"dataframe\">\n  <thead>\n    <tr style=\"text-align: right;\">\n      <th></th>\n      <th></th>\n      <th>Height</th>\n      <th>Weight</th>\n      <th>Age</th>\n      <th>Income</th>\n    </tr>\n    <tr>\n      <th>Gender</th>\n      <th>Economic Status</th>\n      <th></th>\n      <th></th>\n      <th></th>\n      <th></th>\n    </tr>\n  </thead>\n  <tbody>\n    <tr>\n      <th rowspan=\"2\" valign=\"top\">Female</th>\n      <th>Middle Class</th>\n      <td>125.292838</td>\n      <td>103.659443</td>\n      <td>32.0</td>\n      <td>20784.202161</td>\n    </tr>\n    <tr>\n      <th>Poor</th>\n      <td>204.270197</td>\n      <td>96.199119</td>\n      <td>40.0</td>\n      <td>16647.172403</td>\n    </tr>\n    <tr>\n      <th>Male</th>\n      <th>Rich</th>\n      <td>181.204905</td>\n      <td>111.271637</td>\n      <td>36.0</td>\n      <td>23982.104642</td>\n    </tr>\n  </tbody>\n</table>\n</div>"
     },
     "metadata": {},
     "execution_count": 93
    }
   ],
   "source": [
    "Double_group.nth(82)"
   ]
  },
  {
   "cell_type": "code",
   "execution_count": 94,
   "metadata": {},
   "outputs": [],
   "source": [
    "data_sorted = data.sort_values([\"Age\", \"Income\"])"
   ]
  },
  {
   "cell_type": "code",
   "execution_count": 95,
   "metadata": {},
   "outputs": [
    {
     "output_type": "execute_result",
     "data": {
      "text/plain": "     Gender Economic Status      Height     Weight  Age        Income\n376    Male            Poor  194.435282  60.708183 -9.0  19763.195046\n89     Male            Poor  154.060815  60.223379 -2.0  18974.736117\n256  Female    Middle Class  192.120940  71.757262 -2.0  19692.224929\n178  Female    Middle Class  137.633701  76.182431 -1.0  11626.538833\n348    Male            Poor  185.144076  67.512973  1.0   8796.512193",
      "text/html": "<div>\n<style scoped>\n    .dataframe tbody tr th:only-of-type {\n        vertical-align: middle;\n    }\n\n    .dataframe tbody tr th {\n        vertical-align: top;\n    }\n\n    .dataframe thead th {\n        text-align: right;\n    }\n</style>\n<table border=\"1\" class=\"dataframe\">\n  <thead>\n    <tr style=\"text-align: right;\">\n      <th></th>\n      <th>Gender</th>\n      <th>Economic Status</th>\n      <th>Height</th>\n      <th>Weight</th>\n      <th>Age</th>\n      <th>Income</th>\n    </tr>\n  </thead>\n  <tbody>\n    <tr>\n      <th>376</th>\n      <td>Male</td>\n      <td>Poor</td>\n      <td>194.435282</td>\n      <td>60.708183</td>\n      <td>-9.0</td>\n      <td>19763.195046</td>\n    </tr>\n    <tr>\n      <th>89</th>\n      <td>Male</td>\n      <td>Poor</td>\n      <td>154.060815</td>\n      <td>60.223379</td>\n      <td>-2.0</td>\n      <td>18974.736117</td>\n    </tr>\n    <tr>\n      <th>256</th>\n      <td>Female</td>\n      <td>Middle Class</td>\n      <td>192.120940</td>\n      <td>71.757262</td>\n      <td>-2.0</td>\n      <td>19692.224929</td>\n    </tr>\n    <tr>\n      <th>178</th>\n      <td>Female</td>\n      <td>Middle Class</td>\n      <td>137.633701</td>\n      <td>76.182431</td>\n      <td>-1.0</td>\n      <td>11626.538833</td>\n    </tr>\n    <tr>\n      <th>348</th>\n      <td>Male</td>\n      <td>Poor</td>\n      <td>185.144076</td>\n      <td>67.512973</td>\n      <td>1.0</td>\n      <td>8796.512193</td>\n    </tr>\n  </tbody>\n</table>\n</div>"
     },
     "metadata": {},
     "execution_count": 95
    }
   ],
   "source": [
    "data_sorted.head()"
   ]
  },
  {
   "cell_type": "code",
   "execution_count": 96,
   "metadata": {},
   "outputs": [],
   "source": [
    "age_grouped = data_sorted.groupby(\"Gender\")"
   ]
  },
  {
   "cell_type": "code",
   "execution_count": 97,
   "metadata": {},
   "outputs": [
    {
     "output_type": "execute_result",
     "data": {
      "text/plain": "     Gender Economic Status      Height     Weight  Age        Income\n376    Male            Poor  194.435282  60.708183 -9.0  19763.195046\n256  Female    Middle Class  192.120940  71.757262 -2.0  19692.224929",
      "text/html": "<div>\n<style scoped>\n    .dataframe tbody tr th:only-of-type {\n        vertical-align: middle;\n    }\n\n    .dataframe tbody tr th {\n        vertical-align: top;\n    }\n\n    .dataframe thead th {\n        text-align: right;\n    }\n</style>\n<table border=\"1\" class=\"dataframe\">\n  <thead>\n    <tr style=\"text-align: right;\">\n      <th></th>\n      <th>Gender</th>\n      <th>Economic Status</th>\n      <th>Height</th>\n      <th>Weight</th>\n      <th>Age</th>\n      <th>Income</th>\n    </tr>\n  </thead>\n  <tbody>\n    <tr>\n      <th>376</th>\n      <td>Male</td>\n      <td>Poor</td>\n      <td>194.435282</td>\n      <td>60.708183</td>\n      <td>-9.0</td>\n      <td>19763.195046</td>\n    </tr>\n    <tr>\n      <th>256</th>\n      <td>Female</td>\n      <td>Middle Class</td>\n      <td>192.120940</td>\n      <td>71.757262</td>\n      <td>-2.0</td>\n      <td>19692.224929</td>\n    </tr>\n  </tbody>\n</table>\n</div>"
     },
     "metadata": {},
     "execution_count": 97
    }
   ],
   "source": [
    "age_grouped.head(1)"
   ]
  },
  {
   "cell_type": "markdown",
   "metadata": {},
   "source": [
    "### Conjunto de entrenamiento y conjunto de testing"
   ]
  },
  {
   "cell_type": "code",
   "execution_count": 98,
   "metadata": {},
   "outputs": [],
   "source": [
    "import pandas as pd\n",
    "import os"
   ]
  },
  {
   "cell_type": "code",
   "execution_count": 99,
   "metadata": {},
   "outputs": [],
   "source": [
    "mainpath= \"d:/python-ml-course-master/datasets\"\n",
    "filename= \"customer-churn-model/Customer Churn Model.txt\"\n",
    "fullpath =os.path.join(mainpath, filename)\n",
    "data = pd.read_csv(fullpath)"
   ]
  },
  {
   "cell_type": "code",
   "execution_count": 100,
   "metadata": {},
   "outputs": [
    {
     "output_type": "execute_result",
     "data": {
      "text/plain": "3333"
     },
     "metadata": {},
     "execution_count": 100
    }
   ],
   "source": [
    "len(data)"
   ]
  },
  {
   "cell_type": "markdown",
   "metadata": {},
   "source": [
    "## Dividir utilizando la distribución normal"
   ]
  },
  {
   "cell_type": "code",
   "execution_count": 101,
   "metadata": {},
   "outputs": [],
   "source": [
    "a= np.random.randn(len(data))"
   ]
  },
  {
   "cell_type": "code",
   "execution_count": 102,
   "metadata": {},
   "outputs": [
    {
     "output_type": "execute_result",
     "data": {
      "text/plain": "(array([  3.,  36., 150., 467., 778., 886., 645., 271.,  84.,  13.]),\n array([-3.65529861, -2.95901474, -2.26273087, -1.56644699, -0.87016312,\n        -0.17387925,  0.52240463,  1.2186885 ,  1.91497237,  2.61125625,\n         3.30754012]),\n <a list of 10 Patch objects>)"
     },
     "metadata": {},
     "execution_count": 102
    },
    {
     "output_type": "display_data",
     "data": {
      "text/plain": "<Figure size 432x288 with 1 Axes>",
      "image/svg+xml": "<?xml version=\"1.0\" encoding=\"utf-8\" standalone=\"no\"?>\r\n<!DOCTYPE svg PUBLIC \"-//W3C//DTD SVG 1.1//EN\"\r\n  \"http://www.w3.org/Graphics/SVG/1.1/DTD/svg11.dtd\">\r\n<!-- Created with matplotlib (https://matplotlib.org/) -->\r\n<svg height=\"248.518125pt\" version=\"1.1\" viewBox=\"0 0 375.2875 248.518125\" width=\"375.2875pt\" xmlns=\"http://www.w3.org/2000/svg\" xmlns:xlink=\"http://www.w3.org/1999/xlink\">\r\n <defs>\r\n  <style type=\"text/css\">\r\n*{stroke-linecap:butt;stroke-linejoin:round;}\r\n  </style>\r\n </defs>\r\n <g id=\"figure_1\">\r\n  <g id=\"patch_1\">\r\n   <path d=\"M 0 248.518125 \r\nL 375.2875 248.518125 \r\nL 375.2875 0 \r\nL 0 0 \r\nz\r\n\" style=\"fill:none;\"/>\r\n  </g>\r\n  <g id=\"axes_1\">\r\n   <g id=\"patch_2\">\r\n    <path d=\"M 33.2875 224.64 \r\nL 368.0875 224.64 \r\nL 368.0875 7.2 \r\nL 33.2875 7.2 \r\nz\r\n\" style=\"fill:#ffffff;\"/>\r\n   </g>\r\n   <g id=\"patch_3\">\r\n    <path clip-path=\"url(#pcd62c42a41)\" d=\"M 48.505682 224.64 \r\nL 78.942045 224.64 \r\nL 78.942045 223.938807 \r\nL 48.505682 223.938807 \r\nz\r\n\" style=\"fill:#1f77b4;\"/>\r\n   </g>\r\n   <g id=\"patch_4\">\r\n    <path clip-path=\"url(#pcd62c42a41)\" d=\"M 78.942045 224.64 \r\nL 109.378409 224.64 \r\nL 109.378409 216.225682 \r\nL 78.942045 216.225682 \r\nz\r\n\" style=\"fill:#1f77b4;\"/>\r\n   </g>\r\n   <g id=\"patch_5\">\r\n    <path clip-path=\"url(#pcd62c42a41)\" d=\"M 109.378409 224.64 \r\nL 139.814773 224.64 \r\nL 139.814773 189.580342 \r\nL 109.378409 189.580342 \r\nz\r\n\" style=\"fill:#1f77b4;\"/>\r\n   </g>\r\n   <g id=\"patch_6\">\r\n    <path clip-path=\"url(#pcd62c42a41)\" d=\"M 139.814773 224.64 \r\nL 170.251136 224.64 \r\nL 170.251136 115.487598 \r\nL 139.814773 115.487598 \r\nz\r\n\" style=\"fill:#1f77b4;\"/>\r\n   </g>\r\n   <g id=\"patch_7\">\r\n    <path clip-path=\"url(#pcd62c42a41)\" d=\"M 170.251136 224.64 \r\nL 200.6875 224.64 \r\nL 200.6875 42.79724 \r\nL 170.251136 42.79724 \r\nz\r\n\" style=\"fill:#1f77b4;\"/>\r\n   </g>\r\n   <g id=\"patch_8\">\r\n    <path clip-path=\"url(#pcd62c42a41)\" d=\"M 200.6875 224.64 \r\nL 231.123864 224.64 \r\nL 231.123864 17.554286 \r\nL 200.6875 17.554286 \r\nz\r\n\" style=\"fill:#1f77b4;\"/>\r\n   </g>\r\n   <g id=\"patch_9\">\r\n    <path clip-path=\"url(#pcd62c42a41)\" d=\"M 231.123864 224.64 \r\nL 261.560227 224.64 \r\nL 261.560227 73.88347 \r\nL 231.123864 73.88347 \r\nz\r\n\" style=\"fill:#1f77b4;\"/>\r\n   </g>\r\n   <g id=\"patch_10\">\r\n    <path clip-path=\"url(#pcd62c42a41)\" d=\"M 261.560227 224.64 \r\nL 291.996591 224.64 \r\nL 291.996591 161.298884 \r\nL 261.560227 161.298884 \r\nz\r\n\" style=\"fill:#1f77b4;\"/>\r\n   </g>\r\n   <g id=\"patch_11\">\r\n    <path clip-path=\"url(#pcd62c42a41)\" d=\"M 291.996591 224.64 \r\nL 322.432955 224.64 \r\nL 322.432955 205.006591 \r\nL 291.996591 205.006591 \r\nz\r\n\" style=\"fill:#1f77b4;\"/>\r\n   </g>\r\n   <g id=\"patch_12\">\r\n    <path clip-path=\"url(#pcd62c42a41)\" d=\"M 322.432955 224.64 \r\nL 352.869318 224.64 \r\nL 352.869318 221.601496 \r\nL 322.432955 221.601496 \r\nz\r\n\" style=\"fill:#1f77b4;\"/>\r\n   </g>\r\n   <g id=\"matplotlib.axis_1\">\r\n    <g id=\"xtick_1\">\r\n     <g id=\"line2d_1\">\r\n      <defs>\r\n       <path d=\"M 0 0 \r\nL 0 3.5 \r\n\" id=\"m7751f7660f\" style=\"stroke:#000000;stroke-width:0.8;\"/>\r\n      </defs>\r\n      <g>\r\n       <use style=\"stroke:#000000;stroke-width:0.8;\" x=\"33.437895\" xlink:href=\"#m7751f7660f\" y=\"224.64\"/>\r\n      </g>\r\n     </g>\r\n     <g id=\"text_1\">\r\n      <!-- −4 -->\r\n      <defs>\r\n       <path d=\"M 10.59375 35.5 \r\nL 73.1875 35.5 \r\nL 73.1875 27.203125 \r\nL 10.59375 27.203125 \r\nz\r\n\" id=\"DejaVuSans-8722\"/>\r\n       <path d=\"M 37.796875 64.3125 \r\nL 12.890625 25.390625 \r\nL 37.796875 25.390625 \r\nz\r\nM 35.203125 72.90625 \r\nL 47.609375 72.90625 \r\nL 47.609375 25.390625 \r\nL 58.015625 25.390625 \r\nL 58.015625 17.1875 \r\nL 47.609375 17.1875 \r\nL 47.609375 0 \r\nL 37.796875 0 \r\nL 37.796875 17.1875 \r\nL 4.890625 17.1875 \r\nL 4.890625 26.703125 \r\nz\r\n\" id=\"DejaVuSans-52\"/>\r\n      </defs>\r\n      <g transform=\"translate(26.066801 239.238438)scale(0.1 -0.1)\">\r\n       <use xlink:href=\"#DejaVuSans-8722\"/>\r\n       <use x=\"83.789062\" xlink:href=\"#DejaVuSans-52\"/>\r\n      </g>\r\n     </g>\r\n    </g>\r\n    <g id=\"xtick_2\">\r\n     <g id=\"line2d_2\">\r\n      <g>\r\n       <use style=\"stroke:#000000;stroke-width:0.8;\" x=\"77.150474\" xlink:href=\"#m7751f7660f\" y=\"224.64\"/>\r\n      </g>\r\n     </g>\r\n     <g id=\"text_2\">\r\n      <!-- −3 -->\r\n      <defs>\r\n       <path d=\"M 40.578125 39.3125 \r\nQ 47.65625 37.796875 51.625 33 \r\nQ 55.609375 28.21875 55.609375 21.1875 \r\nQ 55.609375 10.40625 48.1875 4.484375 \r\nQ 40.765625 -1.421875 27.09375 -1.421875 \r\nQ 22.515625 -1.421875 17.65625 -0.515625 \r\nQ 12.796875 0.390625 7.625 2.203125 \r\nL 7.625 11.71875 \r\nQ 11.71875 9.328125 16.59375 8.109375 \r\nQ 21.484375 6.890625 26.8125 6.890625 \r\nQ 36.078125 6.890625 40.9375 10.546875 \r\nQ 45.796875 14.203125 45.796875 21.1875 \r\nQ 45.796875 27.640625 41.28125 31.265625 \r\nQ 36.765625 34.90625 28.71875 34.90625 \r\nL 20.21875 34.90625 \r\nL 20.21875 43.015625 \r\nL 29.109375 43.015625 \r\nQ 36.375 43.015625 40.234375 45.921875 \r\nQ 44.09375 48.828125 44.09375 54.296875 \r\nQ 44.09375 59.90625 40.109375 62.90625 \r\nQ 36.140625 65.921875 28.71875 65.921875 \r\nQ 24.65625 65.921875 20.015625 65.03125 \r\nQ 15.375 64.15625 9.8125 62.3125 \r\nL 9.8125 71.09375 \r\nQ 15.4375 72.65625 20.34375 73.4375 \r\nQ 25.25 74.21875 29.59375 74.21875 \r\nQ 40.828125 74.21875 47.359375 69.109375 \r\nQ 53.90625 64.015625 53.90625 55.328125 \r\nQ 53.90625 49.265625 50.4375 45.09375 \r\nQ 46.96875 40.921875 40.578125 39.3125 \r\nz\r\n\" id=\"DejaVuSans-51\"/>\r\n      </defs>\r\n      <g transform=\"translate(69.77938 239.238438)scale(0.1 -0.1)\">\r\n       <use xlink:href=\"#DejaVuSans-8722\"/>\r\n       <use x=\"83.789062\" xlink:href=\"#DejaVuSans-51\"/>\r\n      </g>\r\n     </g>\r\n    </g>\r\n    <g id=\"xtick_3\">\r\n     <g id=\"line2d_3\">\r\n      <g>\r\n       <use style=\"stroke:#000000;stroke-width:0.8;\" x=\"120.863053\" xlink:href=\"#m7751f7660f\" y=\"224.64\"/>\r\n      </g>\r\n     </g>\r\n     <g id=\"text_3\">\r\n      <!-- −2 -->\r\n      <defs>\r\n       <path d=\"M 19.1875 8.296875 \r\nL 53.609375 8.296875 \r\nL 53.609375 0 \r\nL 7.328125 0 \r\nL 7.328125 8.296875 \r\nQ 12.9375 14.109375 22.625 23.890625 \r\nQ 32.328125 33.6875 34.8125 36.53125 \r\nQ 39.546875 41.84375 41.421875 45.53125 \r\nQ 43.3125 49.21875 43.3125 52.78125 \r\nQ 43.3125 58.59375 39.234375 62.25 \r\nQ 35.15625 65.921875 28.609375 65.921875 \r\nQ 23.96875 65.921875 18.8125 64.3125 \r\nQ 13.671875 62.703125 7.8125 59.421875 \r\nL 7.8125 69.390625 \r\nQ 13.765625 71.78125 18.9375 73 \r\nQ 24.125 74.21875 28.421875 74.21875 \r\nQ 39.75 74.21875 46.484375 68.546875 \r\nQ 53.21875 62.890625 53.21875 53.421875 \r\nQ 53.21875 48.921875 51.53125 44.890625 \r\nQ 49.859375 40.875 45.40625 35.40625 \r\nQ 44.1875 33.984375 37.640625 27.21875 \r\nQ 31.109375 20.453125 19.1875 8.296875 \r\nz\r\n\" id=\"DejaVuSans-50\"/>\r\n      </defs>\r\n      <g transform=\"translate(113.491959 239.238438)scale(0.1 -0.1)\">\r\n       <use xlink:href=\"#DejaVuSans-8722\"/>\r\n       <use x=\"83.789062\" xlink:href=\"#DejaVuSans-50\"/>\r\n      </g>\r\n     </g>\r\n    </g>\r\n    <g id=\"xtick_4\">\r\n     <g id=\"line2d_4\">\r\n      <g>\r\n       <use style=\"stroke:#000000;stroke-width:0.8;\" x=\"164.575631\" xlink:href=\"#m7751f7660f\" y=\"224.64\"/>\r\n      </g>\r\n     </g>\r\n     <g id=\"text_4\">\r\n      <!-- −1 -->\r\n      <defs>\r\n       <path d=\"M 12.40625 8.296875 \r\nL 28.515625 8.296875 \r\nL 28.515625 63.921875 \r\nL 10.984375 60.40625 \r\nL 10.984375 69.390625 \r\nL 28.421875 72.90625 \r\nL 38.28125 72.90625 \r\nL 38.28125 8.296875 \r\nL 54.390625 8.296875 \r\nL 54.390625 0 \r\nL 12.40625 0 \r\nz\r\n\" id=\"DejaVuSans-49\"/>\r\n      </defs>\r\n      <g transform=\"translate(157.204538 239.238438)scale(0.1 -0.1)\">\r\n       <use xlink:href=\"#DejaVuSans-8722\"/>\r\n       <use x=\"83.789062\" xlink:href=\"#DejaVuSans-49\"/>\r\n      </g>\r\n     </g>\r\n    </g>\r\n    <g id=\"xtick_5\">\r\n     <g id=\"line2d_5\">\r\n      <g>\r\n       <use style=\"stroke:#000000;stroke-width:0.8;\" x=\"208.28821\" xlink:href=\"#m7751f7660f\" y=\"224.64\"/>\r\n      </g>\r\n     </g>\r\n     <g id=\"text_5\">\r\n      <!-- 0 -->\r\n      <defs>\r\n       <path d=\"M 31.78125 66.40625 \r\nQ 24.171875 66.40625 20.328125 58.90625 \r\nQ 16.5 51.421875 16.5 36.375 \r\nQ 16.5 21.390625 20.328125 13.890625 \r\nQ 24.171875 6.390625 31.78125 6.390625 \r\nQ 39.453125 6.390625 43.28125 13.890625 \r\nQ 47.125 21.390625 47.125 36.375 \r\nQ 47.125 51.421875 43.28125 58.90625 \r\nQ 39.453125 66.40625 31.78125 66.40625 \r\nz\r\nM 31.78125 74.21875 \r\nQ 44.046875 74.21875 50.515625 64.515625 \r\nQ 56.984375 54.828125 56.984375 36.375 \r\nQ 56.984375 17.96875 50.515625 8.265625 \r\nQ 44.046875 -1.421875 31.78125 -1.421875 \r\nQ 19.53125 -1.421875 13.0625 8.265625 \r\nQ 6.59375 17.96875 6.59375 36.375 \r\nQ 6.59375 54.828125 13.0625 64.515625 \r\nQ 19.53125 74.21875 31.78125 74.21875 \r\nz\r\n\" id=\"DejaVuSans-48\"/>\r\n      </defs>\r\n      <g transform=\"translate(205.10696 239.238438)scale(0.1 -0.1)\">\r\n       <use xlink:href=\"#DejaVuSans-48\"/>\r\n      </g>\r\n     </g>\r\n    </g>\r\n    <g id=\"xtick_6\">\r\n     <g id=\"line2d_6\">\r\n      <g>\r\n       <use style=\"stroke:#000000;stroke-width:0.8;\" x=\"252.000789\" xlink:href=\"#m7751f7660f\" y=\"224.64\"/>\r\n      </g>\r\n     </g>\r\n     <g id=\"text_6\">\r\n      <!-- 1 -->\r\n      <g transform=\"translate(248.819539 239.238438)scale(0.1 -0.1)\">\r\n       <use xlink:href=\"#DejaVuSans-49\"/>\r\n      </g>\r\n     </g>\r\n    </g>\r\n    <g id=\"xtick_7\">\r\n     <g id=\"line2d_7\">\r\n      <g>\r\n       <use style=\"stroke:#000000;stroke-width:0.8;\" x=\"295.713368\" xlink:href=\"#m7751f7660f\" y=\"224.64\"/>\r\n      </g>\r\n     </g>\r\n     <g id=\"text_7\">\r\n      <!-- 2 -->\r\n      <g transform=\"translate(292.532118 239.238438)scale(0.1 -0.1)\">\r\n       <use xlink:href=\"#DejaVuSans-50\"/>\r\n      </g>\r\n     </g>\r\n    </g>\r\n    <g id=\"xtick_8\">\r\n     <g id=\"line2d_8\">\r\n      <g>\r\n       <use style=\"stroke:#000000;stroke-width:0.8;\" x=\"339.425946\" xlink:href=\"#m7751f7660f\" y=\"224.64\"/>\r\n      </g>\r\n     </g>\r\n     <g id=\"text_8\">\r\n      <!-- 3 -->\r\n      <g transform=\"translate(336.244696 239.238438)scale(0.1 -0.1)\">\r\n       <use xlink:href=\"#DejaVuSans-51\"/>\r\n      </g>\r\n     </g>\r\n    </g>\r\n   </g>\r\n   <g id=\"matplotlib.axis_2\">\r\n    <g id=\"ytick_1\">\r\n     <g id=\"line2d_9\">\r\n      <defs>\r\n       <path d=\"M 0 0 \r\nL -3.5 0 \r\n\" id=\"m205079281d\" style=\"stroke:#000000;stroke-width:0.8;\"/>\r\n      </defs>\r\n      <g>\r\n       <use style=\"stroke:#000000;stroke-width:0.8;\" x=\"33.2875\" xlink:href=\"#m205079281d\" y=\"224.64\"/>\r\n      </g>\r\n     </g>\r\n     <g id=\"text_9\">\r\n      <!-- 0 -->\r\n      <g transform=\"translate(19.925 228.439219)scale(0.1 -0.1)\">\r\n       <use xlink:href=\"#DejaVuSans-48\"/>\r\n      </g>\r\n     </g>\r\n    </g>\r\n    <g id=\"ytick_2\">\r\n     <g id=\"line2d_10\">\r\n      <g>\r\n       <use style=\"stroke:#000000;stroke-width:0.8;\" x=\"33.2875\" xlink:href=\"#m205079281d\" y=\"177.893789\"/>\r\n      </g>\r\n     </g>\r\n     <g id=\"text_10\">\r\n      <!-- 200 -->\r\n      <g transform=\"translate(7.2 181.693008)scale(0.1 -0.1)\">\r\n       <use xlink:href=\"#DejaVuSans-50\"/>\r\n       <use x=\"63.623047\" xlink:href=\"#DejaVuSans-48\"/>\r\n       <use x=\"127.246094\" xlink:href=\"#DejaVuSans-48\"/>\r\n      </g>\r\n     </g>\r\n    </g>\r\n    <g id=\"ytick_3\">\r\n     <g id=\"line2d_11\">\r\n      <g>\r\n       <use style=\"stroke:#000000;stroke-width:0.8;\" x=\"33.2875\" xlink:href=\"#m205079281d\" y=\"131.147578\"/>\r\n      </g>\r\n     </g>\r\n     <g id=\"text_11\">\r\n      <!-- 400 -->\r\n      <g transform=\"translate(7.2 134.946797)scale(0.1 -0.1)\">\r\n       <use xlink:href=\"#DejaVuSans-52\"/>\r\n       <use x=\"63.623047\" xlink:href=\"#DejaVuSans-48\"/>\r\n       <use x=\"127.246094\" xlink:href=\"#DejaVuSans-48\"/>\r\n      </g>\r\n     </g>\r\n    </g>\r\n    <g id=\"ytick_4\">\r\n     <g id=\"line2d_12\">\r\n      <g>\r\n       <use style=\"stroke:#000000;stroke-width:0.8;\" x=\"33.2875\" xlink:href=\"#m205079281d\" y=\"84.401367\"/>\r\n      </g>\r\n     </g>\r\n     <g id=\"text_12\">\r\n      <!-- 600 -->\r\n      <defs>\r\n       <path d=\"M 33.015625 40.375 \r\nQ 26.375 40.375 22.484375 35.828125 \r\nQ 18.609375 31.296875 18.609375 23.390625 \r\nQ 18.609375 15.53125 22.484375 10.953125 \r\nQ 26.375 6.390625 33.015625 6.390625 \r\nQ 39.65625 6.390625 43.53125 10.953125 \r\nQ 47.40625 15.53125 47.40625 23.390625 \r\nQ 47.40625 31.296875 43.53125 35.828125 \r\nQ 39.65625 40.375 33.015625 40.375 \r\nz\r\nM 52.59375 71.296875 \r\nL 52.59375 62.3125 \r\nQ 48.875 64.0625 45.09375 64.984375 \r\nQ 41.3125 65.921875 37.59375 65.921875 \r\nQ 27.828125 65.921875 22.671875 59.328125 \r\nQ 17.53125 52.734375 16.796875 39.40625 \r\nQ 19.671875 43.65625 24.015625 45.921875 \r\nQ 28.375 48.1875 33.59375 48.1875 \r\nQ 44.578125 48.1875 50.953125 41.515625 \r\nQ 57.328125 34.859375 57.328125 23.390625 \r\nQ 57.328125 12.15625 50.6875 5.359375 \r\nQ 44.046875 -1.421875 33.015625 -1.421875 \r\nQ 20.359375 -1.421875 13.671875 8.265625 \r\nQ 6.984375 17.96875 6.984375 36.375 \r\nQ 6.984375 53.65625 15.1875 63.9375 \r\nQ 23.390625 74.21875 37.203125 74.21875 \r\nQ 40.921875 74.21875 44.703125 73.484375 \r\nQ 48.484375 72.75 52.59375 71.296875 \r\nz\r\n\" id=\"DejaVuSans-54\"/>\r\n      </defs>\r\n      <g transform=\"translate(7.2 88.200586)scale(0.1 -0.1)\">\r\n       <use xlink:href=\"#DejaVuSans-54\"/>\r\n       <use x=\"63.623047\" xlink:href=\"#DejaVuSans-48\"/>\r\n       <use x=\"127.246094\" xlink:href=\"#DejaVuSans-48\"/>\r\n      </g>\r\n     </g>\r\n    </g>\r\n    <g id=\"ytick_5\">\r\n     <g id=\"line2d_13\">\r\n      <g>\r\n       <use style=\"stroke:#000000;stroke-width:0.8;\" x=\"33.2875\" xlink:href=\"#m205079281d\" y=\"37.655156\"/>\r\n      </g>\r\n     </g>\r\n     <g id=\"text_13\">\r\n      <!-- 800 -->\r\n      <defs>\r\n       <path d=\"M 31.78125 34.625 \r\nQ 24.75 34.625 20.71875 30.859375 \r\nQ 16.703125 27.09375 16.703125 20.515625 \r\nQ 16.703125 13.921875 20.71875 10.15625 \r\nQ 24.75 6.390625 31.78125 6.390625 \r\nQ 38.8125 6.390625 42.859375 10.171875 \r\nQ 46.921875 13.96875 46.921875 20.515625 \r\nQ 46.921875 27.09375 42.890625 30.859375 \r\nQ 38.875 34.625 31.78125 34.625 \r\nz\r\nM 21.921875 38.8125 \r\nQ 15.578125 40.375 12.03125 44.71875 \r\nQ 8.5 49.078125 8.5 55.328125 \r\nQ 8.5 64.0625 14.71875 69.140625 \r\nQ 20.953125 74.21875 31.78125 74.21875 \r\nQ 42.671875 74.21875 48.875 69.140625 \r\nQ 55.078125 64.0625 55.078125 55.328125 \r\nQ 55.078125 49.078125 51.53125 44.71875 \r\nQ 48 40.375 41.703125 38.8125 \r\nQ 48.828125 37.15625 52.796875 32.3125 \r\nQ 56.78125 27.484375 56.78125 20.515625 \r\nQ 56.78125 9.90625 50.3125 4.234375 \r\nQ 43.84375 -1.421875 31.78125 -1.421875 \r\nQ 19.734375 -1.421875 13.25 4.234375 \r\nQ 6.78125 9.90625 6.78125 20.515625 \r\nQ 6.78125 27.484375 10.78125 32.3125 \r\nQ 14.796875 37.15625 21.921875 38.8125 \r\nz\r\nM 18.3125 54.390625 \r\nQ 18.3125 48.734375 21.84375 45.5625 \r\nQ 25.390625 42.390625 31.78125 42.390625 \r\nQ 38.140625 42.390625 41.71875 45.5625 \r\nQ 45.3125 48.734375 45.3125 54.390625 \r\nQ 45.3125 60.0625 41.71875 63.234375 \r\nQ 38.140625 66.40625 31.78125 66.40625 \r\nQ 25.390625 66.40625 21.84375 63.234375 \r\nQ 18.3125 60.0625 18.3125 54.390625 \r\nz\r\n\" id=\"DejaVuSans-56\"/>\r\n      </defs>\r\n      <g transform=\"translate(7.2 41.454375)scale(0.1 -0.1)\">\r\n       <use xlink:href=\"#DejaVuSans-56\"/>\r\n       <use x=\"63.623047\" xlink:href=\"#DejaVuSans-48\"/>\r\n       <use x=\"127.246094\" xlink:href=\"#DejaVuSans-48\"/>\r\n      </g>\r\n     </g>\r\n    </g>\r\n   </g>\r\n   <g id=\"patch_13\">\r\n    <path d=\"M 33.2875 224.64 \r\nL 33.2875 7.2 \r\n\" style=\"fill:none;stroke:#000000;stroke-linecap:square;stroke-linejoin:miter;stroke-width:0.8;\"/>\r\n   </g>\r\n   <g id=\"patch_14\">\r\n    <path d=\"M 368.0875 224.64 \r\nL 368.0875 7.2 \r\n\" style=\"fill:none;stroke:#000000;stroke-linecap:square;stroke-linejoin:miter;stroke-width:0.8;\"/>\r\n   </g>\r\n   <g id=\"patch_15\">\r\n    <path d=\"M 33.2875 224.64 \r\nL 368.0875 224.64 \r\n\" style=\"fill:none;stroke:#000000;stroke-linecap:square;stroke-linejoin:miter;stroke-width:0.8;\"/>\r\n   </g>\r\n   <g id=\"patch_16\">\r\n    <path d=\"M 33.2875 7.2 \r\nL 368.0875 7.2 \r\n\" style=\"fill:none;stroke:#000000;stroke-linecap:square;stroke-linejoin:miter;stroke-width:0.8;\"/>\r\n   </g>\r\n  </g>\r\n </g>\r\n <defs>\r\n  <clipPath id=\"pcd62c42a41\">\r\n   <rect height=\"217.44\" width=\"334.8\" x=\"33.2875\" y=\"7.2\"/>\r\n  </clipPath>\r\n </defs>\r\n</svg>\r\n",
      "image/png": "[encoded data removed]"
     },
     "metadata": {
      "needs_background": "light"
     }
    }
   ],
   "source": [
    "plt.hist(a)"
   ]
  },
  {
   "cell_type": "code",
   "execution_count": 103,
   "metadata": {},
   "outputs": [
    {
     "output_type": "execute_result",
     "data": {
      "text/plain": "3333"
     },
     "metadata": {},
     "execution_count": 103
    }
   ],
   "source": [
    "check = (a<0.75)\n",
    "len(check)"
   ]
  },
  {
   "cell_type": "code",
   "execution_count": 104,
   "metadata": {},
   "outputs": [
    {
     "output_type": "execute_result",
     "data": {
      "text/plain": "3333"
     },
     "metadata": {},
     "execution_count": 104
    },
    {
     "output_type": "display_data",
     "data": {
      "text/plain": "<Figure size 432x288 with 1 Axes>",
      "image/svg+xml": "<?xml version=\"1.0\" encoding=\"utf-8\" standalone=\"no\"?>\r\n<!DOCTYPE svg PUBLIC \"-//W3C//DTD SVG 1.1//EN\"\r\n  \"http://www.w3.org/Graphics/SVG/1.1/DTD/svg11.dtd\">\r\n<!-- Created with matplotlib (https://matplotlib.org/) -->\r\n<svg height=\"248.518125pt\" version=\"1.1\" viewBox=\"0 0 381.65 248.518125\" width=\"381.65pt\" xmlns=\"http://www.w3.org/2000/svg\" xmlns:xlink=\"http://www.w3.org/1999/xlink\">\r\n <defs>\r\n  <style type=\"text/css\">\r\n*{stroke-linecap:butt;stroke-linejoin:round;}\r\n  </style>\r\n </defs>\r\n <g id=\"figure_1\">\r\n  <g id=\"patch_1\">\r\n   <path d=\"M -0 248.518125 \r\nL 381.65 248.518125 \r\nL 381.65 0 \r\nL -0 0 \r\nz\r\n\" style=\"fill:none;\"/>\r\n  </g>\r\n  <g id=\"axes_1\">\r\n   <g id=\"patch_2\">\r\n    <path d=\"M 39.65 224.64 \r\nL 374.45 224.64 \r\nL 374.45 7.2 \r\nL 39.65 7.2 \r\nz\r\n\" style=\"fill:#ffffff;\"/>\r\n   </g>\r\n   <g id=\"patch_3\">\r\n    <path clip-path=\"url(#p8d83fd72bf)\" d=\"M 54.868182 224.64 \r\nL 85.304545 224.64 \r\nL 85.304545 165.848717 \r\nL 54.868182 165.848717 \r\nz\r\n\" style=\"fill:#1f77b4;\"/>\r\n   </g>\r\n   <g id=\"patch_4\">\r\n    <path clip-path=\"url(#p8d83fd72bf)\" d=\"M 85.304545 224.64 \r\nL 115.740909 224.64 \r\nL 115.740909 224.64 \r\nL 85.304545 224.64 \r\nz\r\n\" style=\"fill:#1f77b4;\"/>\r\n   </g>\r\n   <g id=\"patch_5\">\r\n    <path clip-path=\"url(#p8d83fd72bf)\" d=\"M 115.740909 224.64 \r\nL 146.177273 224.64 \r\nL 146.177273 224.64 \r\nL 115.740909 224.64 \r\nz\r\n\" style=\"fill:#1f77b4;\"/>\r\n   </g>\r\n   <g id=\"patch_6\">\r\n    <path clip-path=\"url(#p8d83fd72bf)\" d=\"M 146.177273 224.64 \r\nL 176.613636 224.64 \r\nL 176.613636 224.64 \r\nL 146.177273 224.64 \r\nz\r\n\" style=\"fill:#1f77b4;\"/>\r\n   </g>\r\n   <g id=\"patch_7\">\r\n    <path clip-path=\"url(#p8d83fd72bf)\" d=\"M 176.613636 224.64 \r\nL 207.05 224.64 \r\nL 207.05 224.64 \r\nL 176.613636 224.64 \r\nz\r\n\" style=\"fill:#1f77b4;\"/>\r\n   </g>\r\n   <g id=\"patch_8\">\r\n    <path clip-path=\"url(#p8d83fd72bf)\" d=\"M 207.05 224.64 \r\nL 237.486364 224.64 \r\nL 237.486364 224.64 \r\nL 207.05 224.64 \r\nz\r\n\" style=\"fill:#1f77b4;\"/>\r\n   </g>\r\n   <g id=\"patch_9\">\r\n    <path clip-path=\"url(#p8d83fd72bf)\" d=\"M 237.486364 224.64 \r\nL 267.922727 224.64 \r\nL 267.922727 224.64 \r\nL 237.486364 224.64 \r\nz\r\n\" style=\"fill:#1f77b4;\"/>\r\n   </g>\r\n   <g id=\"patch_10\">\r\n    <path clip-path=\"url(#p8d83fd72bf)\" d=\"M 267.922727 224.64 \r\nL 298.359091 224.64 \r\nL 298.359091 224.64 \r\nL 267.922727 224.64 \r\nz\r\n\" style=\"fill:#1f77b4;\"/>\r\n   </g>\r\n   <g id=\"patch_11\">\r\n    <path clip-path=\"url(#p8d83fd72bf)\" d=\"M 298.359091 224.64 \r\nL 328.795455 224.64 \r\nL 328.795455 224.64 \r\nL 298.359091 224.64 \r\nz\r\n\" style=\"fill:#1f77b4;\"/>\r\n   </g>\r\n   <g id=\"patch_12\">\r\n    <path clip-path=\"url(#p8d83fd72bf)\" d=\"M 328.795455 224.64 \r\nL 359.231818 224.64 \r\nL 359.231818 17.554286 \r\nL 328.795455 17.554286 \r\nz\r\n\" style=\"fill:#1f77b4;\"/>\r\n   </g>\r\n   <g id=\"matplotlib.axis_1\">\r\n    <g id=\"xtick_1\">\r\n     <g id=\"line2d_1\">\r\n      <defs>\r\n       <path d=\"M 0 0 \r\nL 0 3.5 \r\n\" id=\"mde88509249\" style=\"stroke:#000000;stroke-width:0.8;\"/>\r\n      </defs>\r\n      <g>\r\n       <use style=\"stroke:#000000;stroke-width:0.8;\" x=\"54.868182\" xlink:href=\"#mde88509249\" y=\"224.64\"/>\r\n      </g>\r\n     </g>\r\n     <g id=\"text_1\">\r\n      <!-- 0.0 -->\r\n      <defs>\r\n       <path d=\"M 31.78125 66.40625 \r\nQ 24.171875 66.40625 20.328125 58.90625 \r\nQ 16.5 51.421875 16.5 36.375 \r\nQ 16.5 21.390625 20.328125 13.890625 \r\nQ 24.171875 6.390625 31.78125 6.390625 \r\nQ 39.453125 6.390625 43.28125 13.890625 \r\nQ 47.125 21.390625 47.125 36.375 \r\nQ 47.125 51.421875 43.28125 58.90625 \r\nQ 39.453125 66.40625 31.78125 66.40625 \r\nz\r\nM 31.78125 74.21875 \r\nQ 44.046875 74.21875 50.515625 64.515625 \r\nQ 56.984375 54.828125 56.984375 36.375 \r\nQ 56.984375 17.96875 50.515625 8.265625 \r\nQ 44.046875 -1.421875 31.78125 -1.421875 \r\nQ 19.53125 -1.421875 13.0625 8.265625 \r\nQ 6.59375 17.96875 6.59375 36.375 \r\nQ 6.59375 54.828125 13.0625 64.515625 \r\nQ 19.53125 74.21875 31.78125 74.21875 \r\nz\r\n\" id=\"DejaVuSans-48\"/>\r\n       <path d=\"M 10.6875 12.40625 \r\nL 21 12.40625 \r\nL 21 0 \r\nL 10.6875 0 \r\nz\r\n\" id=\"DejaVuSans-46\"/>\r\n      </defs>\r\n      <g transform=\"translate(46.916619 239.238437)scale(0.1 -0.1)\">\r\n       <use xlink:href=\"#DejaVuSans-48\"/>\r\n       <use x=\"63.623047\" xlink:href=\"#DejaVuSans-46\"/>\r\n       <use x=\"95.410156\" xlink:href=\"#DejaVuSans-48\"/>\r\n      </g>\r\n     </g>\r\n    </g>\r\n    <g id=\"xtick_2\">\r\n     <g id=\"line2d_2\">\r\n      <g>\r\n       <use style=\"stroke:#000000;stroke-width:0.8;\" x=\"115.740909\" xlink:href=\"#mde88509249\" y=\"224.64\"/>\r\n      </g>\r\n     </g>\r\n     <g id=\"text_2\">\r\n      <!-- 0.2 -->\r\n      <defs>\r\n       <path d=\"M 19.1875 8.296875 \r\nL 53.609375 8.296875 \r\nL 53.609375 0 \r\nL 7.328125 0 \r\nL 7.328125 8.296875 \r\nQ 12.9375 14.109375 22.625 23.890625 \r\nQ 32.328125 33.6875 34.8125 36.53125 \r\nQ 39.546875 41.84375 41.421875 45.53125 \r\nQ 43.3125 49.21875 43.3125 52.78125 \r\nQ 43.3125 58.59375 39.234375 62.25 \r\nQ 35.15625 65.921875 28.609375 65.921875 \r\nQ 23.96875 65.921875 18.8125 64.3125 \r\nQ 13.671875 62.703125 7.8125 59.421875 \r\nL 7.8125 69.390625 \r\nQ 13.765625 71.78125 18.9375 73 \r\nQ 24.125 74.21875 28.421875 74.21875 \r\nQ 39.75 74.21875 46.484375 68.546875 \r\nQ 53.21875 62.890625 53.21875 53.421875 \r\nQ 53.21875 48.921875 51.53125 44.890625 \r\nQ 49.859375 40.875 45.40625 35.40625 \r\nQ 44.1875 33.984375 37.640625 27.21875 \r\nQ 31.109375 20.453125 19.1875 8.296875 \r\nz\r\n\" id=\"DejaVuSans-50\"/>\r\n      </defs>\r\n      <g transform=\"translate(107.789347 239.238437)scale(0.1 -0.1)\">\r\n       <use xlink:href=\"#DejaVuSans-48\"/>\r\n       <use x=\"63.623047\" xlink:href=\"#DejaVuSans-46\"/>\r\n       <use x=\"95.410156\" xlink:href=\"#DejaVuSans-50\"/>\r\n      </g>\r\n     </g>\r\n    </g>\r\n    <g id=\"xtick_3\">\r\n     <g id=\"line2d_3\">\r\n      <g>\r\n       <use style=\"stroke:#000000;stroke-width:0.8;\" x=\"176.613636\" xlink:href=\"#mde88509249\" y=\"224.64\"/>\r\n      </g>\r\n     </g>\r\n     <g id=\"text_3\">\r\n      <!-- 0.4 -->\r\n      <defs>\r\n       <path d=\"M 37.796875 64.3125 \r\nL 12.890625 25.390625 \r\nL 37.796875 25.390625 \r\nz\r\nM 35.203125 72.90625 \r\nL 47.609375 72.90625 \r\nL 47.609375 25.390625 \r\nL 58.015625 25.390625 \r\nL 58.015625 17.1875 \r\nL 47.609375 17.1875 \r\nL 47.609375 0 \r\nL 37.796875 0 \r\nL 37.796875 17.1875 \r\nL 4.890625 17.1875 \r\nL 4.890625 26.703125 \r\nz\r\n\" id=\"DejaVuSans-52\"/>\r\n      </defs>\r\n      <g transform=\"translate(168.662074 239.238437)scale(0.1 -0.1)\">\r\n       <use xlink:href=\"#DejaVuSans-48\"/>\r\n       <use x=\"63.623047\" xlink:href=\"#DejaVuSans-46\"/>\r\n       <use x=\"95.410156\" xlink:href=\"#DejaVuSans-52\"/>\r\n      </g>\r\n     </g>\r\n    </g>\r\n    <g id=\"xtick_4\">\r\n     <g id=\"line2d_4\">\r\n      <g>\r\n       <use style=\"stroke:#000000;stroke-width:0.8;\" x=\"237.486364\" xlink:href=\"#mde88509249\" y=\"224.64\"/>\r\n      </g>\r\n     </g>\r\n     <g id=\"text_4\">\r\n      <!-- 0.6 -->\r\n      <defs>\r\n       <path d=\"M 33.015625 40.375 \r\nQ 26.375 40.375 22.484375 35.828125 \r\nQ 18.609375 31.296875 18.609375 23.390625 \r\nQ 18.609375 15.53125 22.484375 10.953125 \r\nQ 26.375 6.390625 33.015625 6.390625 \r\nQ 39.65625 6.390625 43.53125 10.953125 \r\nQ 47.40625 15.53125 47.40625 23.390625 \r\nQ 47.40625 31.296875 43.53125 35.828125 \r\nQ 39.65625 40.375 33.015625 40.375 \r\nz\r\nM 52.59375 71.296875 \r\nL 52.59375 62.3125 \r\nQ 48.875 64.0625 45.09375 64.984375 \r\nQ 41.3125 65.921875 37.59375 65.921875 \r\nQ 27.828125 65.921875 22.671875 59.328125 \r\nQ 17.53125 52.734375 16.796875 39.40625 \r\nQ 19.671875 43.65625 24.015625 45.921875 \r\nQ 28.375 48.1875 33.59375 48.1875 \r\nQ 44.578125 48.1875 50.953125 41.515625 \r\nQ 57.328125 34.859375 57.328125 23.390625 \r\nQ 57.328125 12.15625 50.6875 5.359375 \r\nQ 44.046875 -1.421875 33.015625 -1.421875 \r\nQ 20.359375 -1.421875 13.671875 8.265625 \r\nQ 6.984375 17.96875 6.984375 36.375 \r\nQ 6.984375 53.65625 15.1875 63.9375 \r\nQ 23.390625 74.21875 37.203125 74.21875 \r\nQ 40.921875 74.21875 44.703125 73.484375 \r\nQ 48.484375 72.75 52.59375 71.296875 \r\nz\r\n\" id=\"DejaVuSans-54\"/>\r\n      </defs>\r\n      <g transform=\"translate(229.534801 239.238437)scale(0.1 -0.1)\">\r\n       <use xlink:href=\"#DejaVuSans-48\"/>\r\n       <use x=\"63.623047\" xlink:href=\"#DejaVuSans-46\"/>\r\n       <use x=\"95.410156\" xlink:href=\"#DejaVuSans-54\"/>\r\n      </g>\r\n     </g>\r\n    </g>\r\n    <g id=\"xtick_5\">\r\n     <g id=\"line2d_5\">\r\n      <g>\r\n       <use style=\"stroke:#000000;stroke-width:0.8;\" x=\"298.359091\" xlink:href=\"#mde88509249\" y=\"224.64\"/>\r\n      </g>\r\n     </g>\r\n     <g id=\"text_5\">\r\n      <!-- 0.8 -->\r\n      <defs>\r\n       <path d=\"M 31.78125 34.625 \r\nQ 24.75 34.625 20.71875 30.859375 \r\nQ 16.703125 27.09375 16.703125 20.515625 \r\nQ 16.703125 13.921875 20.71875 10.15625 \r\nQ 24.75 6.390625 31.78125 6.390625 \r\nQ 38.8125 6.390625 42.859375 10.171875 \r\nQ 46.921875 13.96875 46.921875 20.515625 \r\nQ 46.921875 27.09375 42.890625 30.859375 \r\nQ 38.875 34.625 31.78125 34.625 \r\nz\r\nM 21.921875 38.8125 \r\nQ 15.578125 40.375 12.03125 44.71875 \r\nQ 8.5 49.078125 8.5 55.328125 \r\nQ 8.5 64.0625 14.71875 69.140625 \r\nQ 20.953125 74.21875 31.78125 74.21875 \r\nQ 42.671875 74.21875 48.875 69.140625 \r\nQ 55.078125 64.0625 55.078125 55.328125 \r\nQ 55.078125 49.078125 51.53125 44.71875 \r\nQ 48 40.375 41.703125 38.8125 \r\nQ 48.828125 37.15625 52.796875 32.3125 \r\nQ 56.78125 27.484375 56.78125 20.515625 \r\nQ 56.78125 9.90625 50.3125 4.234375 \r\nQ 43.84375 -1.421875 31.78125 -1.421875 \r\nQ 19.734375 -1.421875 13.25 4.234375 \r\nQ 6.78125 9.90625 6.78125 20.515625 \r\nQ 6.78125 27.484375 10.78125 32.3125 \r\nQ 14.796875 37.15625 21.921875 38.8125 \r\nz\r\nM 18.3125 54.390625 \r\nQ 18.3125 48.734375 21.84375 45.5625 \r\nQ 25.390625 42.390625 31.78125 42.390625 \r\nQ 38.140625 42.390625 41.71875 45.5625 \r\nQ 45.3125 48.734375 45.3125 54.390625 \r\nQ 45.3125 60.0625 41.71875 63.234375 \r\nQ 38.140625 66.40625 31.78125 66.40625 \r\nQ 25.390625 66.40625 21.84375 63.234375 \r\nQ 18.3125 60.0625 18.3125 54.390625 \r\nz\r\n\" id=\"DejaVuSans-56\"/>\r\n      </defs>\r\n      <g transform=\"translate(290.407528 239.238437)scale(0.1 -0.1)\">\r\n       <use xlink:href=\"#DejaVuSans-48\"/>\r\n       <use x=\"63.623047\" xlink:href=\"#DejaVuSans-46\"/>\r\n       <use x=\"95.410156\" xlink:href=\"#DejaVuSans-56\"/>\r\n      </g>\r\n     </g>\r\n    </g>\r\n    <g id=\"xtick_6\">\r\n     <g id=\"line2d_6\">\r\n      <g>\r\n       <use style=\"stroke:#000000;stroke-width:0.8;\" x=\"359.231818\" xlink:href=\"#mde88509249\" y=\"224.64\"/>\r\n      </g>\r\n     </g>\r\n     <g id=\"text_6\">\r\n      <!-- 1.0 -->\r\n      <defs>\r\n       <path d=\"M 12.40625 8.296875 \r\nL 28.515625 8.296875 \r\nL 28.515625 63.921875 \r\nL 10.984375 60.40625 \r\nL 10.984375 69.390625 \r\nL 28.421875 72.90625 \r\nL 38.28125 72.90625 \r\nL 38.28125 8.296875 \r\nL 54.390625 8.296875 \r\nL 54.390625 0 \r\nL 12.40625 0 \r\nz\r\n\" id=\"DejaVuSans-49\"/>\r\n      </defs>\r\n      <g transform=\"translate(351.280256 239.238437)scale(0.1 -0.1)\">\r\n       <use xlink:href=\"#DejaVuSans-49\"/>\r\n       <use x=\"63.623047\" xlink:href=\"#DejaVuSans-46\"/>\r\n       <use x=\"95.410156\" xlink:href=\"#DejaVuSans-48\"/>\r\n      </g>\r\n     </g>\r\n    </g>\r\n   </g>\r\n   <g id=\"matplotlib.axis_2\">\r\n    <g id=\"ytick_1\">\r\n     <g id=\"line2d_7\">\r\n      <defs>\r\n       <path d=\"M 0 0 \r\nL -3.5 0 \r\n\" id=\"mf52a206586\" style=\"stroke:#000000;stroke-width:0.8;\"/>\r\n      </defs>\r\n      <g>\r\n       <use style=\"stroke:#000000;stroke-width:0.8;\" x=\"39.65\" xlink:href=\"#mf52a206586\" y=\"224.64\"/>\r\n      </g>\r\n     </g>\r\n     <g id=\"text_7\">\r\n      <!-- 0 -->\r\n      <g transform=\"translate(26.2875 228.439219)scale(0.1 -0.1)\">\r\n       <use xlink:href=\"#DejaVuSans-48\"/>\r\n      </g>\r\n     </g>\r\n    </g>\r\n    <g id=\"ytick_2\">\r\n     <g id=\"line2d_8\">\r\n      <g>\r\n       <use style=\"stroke:#000000;stroke-width:0.8;\" x=\"39.65\" xlink:href=\"#mf52a206586\" y=\"184.754462\"/>\r\n      </g>\r\n     </g>\r\n     <g id=\"text_8\">\r\n      <!-- 500 -->\r\n      <defs>\r\n       <path d=\"M 10.796875 72.90625 \r\nL 49.515625 72.90625 \r\nL 49.515625 64.59375 \r\nL 19.828125 64.59375 \r\nL 19.828125 46.734375 \r\nQ 21.96875 47.46875 24.109375 47.828125 \r\nQ 26.265625 48.1875 28.421875 48.1875 \r\nQ 40.625 48.1875 47.75 41.5 \r\nQ 54.890625 34.8125 54.890625 23.390625 \r\nQ 54.890625 11.625 47.5625 5.09375 \r\nQ 40.234375 -1.421875 26.90625 -1.421875 \r\nQ 22.3125 -1.421875 17.546875 -0.640625 \r\nQ 12.796875 0.140625 7.71875 1.703125 \r\nL 7.71875 11.625 \r\nQ 12.109375 9.234375 16.796875 8.0625 \r\nQ 21.484375 6.890625 26.703125 6.890625 \r\nQ 35.15625 6.890625 40.078125 11.328125 \r\nQ 45.015625 15.765625 45.015625 23.390625 \r\nQ 45.015625 31 40.078125 35.4375 \r\nQ 35.15625 39.890625 26.703125 39.890625 \r\nQ 22.75 39.890625 18.8125 39.015625 \r\nQ 14.890625 38.140625 10.796875 36.28125 \r\nz\r\n\" id=\"DejaVuSans-53\"/>\r\n      </defs>\r\n      <g transform=\"translate(13.5625 188.553681)scale(0.1 -0.1)\">\r\n       <use xlink:href=\"#DejaVuSans-53\"/>\r\n       <use x=\"63.623047\" xlink:href=\"#DejaVuSans-48\"/>\r\n       <use x=\"127.246094\" xlink:href=\"#DejaVuSans-48\"/>\r\n      </g>\r\n     </g>\r\n    </g>\r\n    <g id=\"ytick_3\">\r\n     <g id=\"line2d_9\">\r\n      <g>\r\n       <use style=\"stroke:#000000;stroke-width:0.8;\" x=\"39.65\" xlink:href=\"#mf52a206586\" y=\"144.868924\"/>\r\n      </g>\r\n     </g>\r\n     <g id=\"text_9\">\r\n      <!-- 1000 -->\r\n      <g transform=\"translate(7.2 148.668142)scale(0.1 -0.1)\">\r\n       <use xlink:href=\"#DejaVuSans-49\"/>\r\n       <use x=\"63.623047\" xlink:href=\"#DejaVuSans-48\"/>\r\n       <use x=\"127.246094\" xlink:href=\"#DejaVuSans-48\"/>\r\n       <use x=\"190.869141\" xlink:href=\"#DejaVuSans-48\"/>\r\n      </g>\r\n     </g>\r\n    </g>\r\n    <g id=\"ytick_4\">\r\n     <g id=\"line2d_10\">\r\n      <g>\r\n       <use style=\"stroke:#000000;stroke-width:0.8;\" x=\"39.65\" xlink:href=\"#mf52a206586\" y=\"104.983385\"/>\r\n      </g>\r\n     </g>\r\n     <g id=\"text_10\">\r\n      <!-- 1500 -->\r\n      <g transform=\"translate(7.2 108.782604)scale(0.1 -0.1)\">\r\n       <use xlink:href=\"#DejaVuSans-49\"/>\r\n       <use x=\"63.623047\" xlink:href=\"#DejaVuSans-53\"/>\r\n       <use x=\"127.246094\" xlink:href=\"#DejaVuSans-48\"/>\r\n       <use x=\"190.869141\" xlink:href=\"#DejaVuSans-48\"/>\r\n      </g>\r\n     </g>\r\n    </g>\r\n    <g id=\"ytick_5\">\r\n     <g id=\"line2d_11\">\r\n      <g>\r\n       <use style=\"stroke:#000000;stroke-width:0.8;\" x=\"39.65\" xlink:href=\"#mf52a206586\" y=\"65.097847\"/>\r\n      </g>\r\n     </g>\r\n     <g id=\"text_11\">\r\n      <!-- 2000 -->\r\n      <g transform=\"translate(7.2 68.897066)scale(0.1 -0.1)\">\r\n       <use xlink:href=\"#DejaVuSans-50\"/>\r\n       <use x=\"63.623047\" xlink:href=\"#DejaVuSans-48\"/>\r\n       <use x=\"127.246094\" xlink:href=\"#DejaVuSans-48\"/>\r\n       <use x=\"190.869141\" xlink:href=\"#DejaVuSans-48\"/>\r\n      </g>\r\n     </g>\r\n    </g>\r\n    <g id=\"ytick_6\">\r\n     <g id=\"line2d_12\">\r\n      <g>\r\n       <use style=\"stroke:#000000;stroke-width:0.8;\" x=\"39.65\" xlink:href=\"#mf52a206586\" y=\"25.212309\"/>\r\n      </g>\r\n     </g>\r\n     <g id=\"text_12\">\r\n      <!-- 2500 -->\r\n      <g transform=\"translate(7.2 29.011528)scale(0.1 -0.1)\">\r\n       <use xlink:href=\"#DejaVuSans-50\"/>\r\n       <use x=\"63.623047\" xlink:href=\"#DejaVuSans-53\"/>\r\n       <use x=\"127.246094\" xlink:href=\"#DejaVuSans-48\"/>\r\n       <use x=\"190.869141\" xlink:href=\"#DejaVuSans-48\"/>\r\n      </g>\r\n     </g>\r\n    </g>\r\n   </g>\r\n   <g id=\"patch_13\">\r\n    <path d=\"M 39.65 224.64 \r\nL 39.65 7.2 \r\n\" style=\"fill:none;stroke:#000000;stroke-linecap:square;stroke-linejoin:miter;stroke-width:0.8;\"/>\r\n   </g>\r\n   <g id=\"patch_14\">\r\n    <path d=\"M 374.45 224.64 \r\nL 374.45 7.2 \r\n\" style=\"fill:none;stroke:#000000;stroke-linecap:square;stroke-linejoin:miter;stroke-width:0.8;\"/>\r\n   </g>\r\n   <g id=\"patch_15\">\r\n    <path d=\"M 39.65 224.64 \r\nL 374.45 224.64 \r\n\" style=\"fill:none;stroke:#000000;stroke-linecap:square;stroke-linejoin:miter;stroke-width:0.8;\"/>\r\n   </g>\r\n   <g id=\"patch_16\">\r\n    <path d=\"M 39.65 7.2 \r\nL 374.45 7.2 \r\n\" style=\"fill:none;stroke:#000000;stroke-linecap:square;stroke-linejoin:miter;stroke-width:0.8;\"/>\r\n   </g>\r\n  </g>\r\n </g>\r\n <defs>\r\n  <clipPath id=\"p8d83fd72bf\">\r\n   <rect height=\"217.44\" width=\"334.8\" x=\"39.65\" y=\"7.2\"/>\r\n  </clipPath>\r\n </defs>\r\n</svg>\r\n",
      "image/png": "[encoded data removed]"
     },
     "metadata": {
      "needs_background": "light"
     }
    }
   ],
   "source": [
    "valores_numericos = list()\n",
    "for elem in check:\n",
    "    if(elem == True):\n",
    "        valores_numericos.append(1)\n",
    "    else:\n",
    "        valores_numericos.append(0)\n",
    "\n",
    "plt.hist(valores_numericos)\n",
    "len(valores_numericos)"
   ]
  },
  {
   "cell_type": "code",
   "execution_count": 105,
   "metadata": {},
   "outputs": [
    {
     "output_type": "stream",
     "name": "stdout",
     "text": "2596\n737\n"
    }
   ],
   "source": [
    "training= data[check]\n",
    "testing= data[~check]\n",
    "print(len(training))\n",
    "print(len(testing))"
   ]
  },
  {
   "cell_type": "code",
   "execution_count": 106,
   "metadata": {},
   "outputs": [],
   "source": [
    "from sklearn.model_selection import train_test_split"
   ]
  },
  {
   "cell_type": "code",
   "execution_count": 107,
   "metadata": {},
   "outputs": [
    {
     "output_type": "stream",
     "name": "stdout",
     "text": "Datos para Entrenar: 2666 y Datos para testear: 667\n"
    }
   ],
   "source": [
    "train, test = train_test_split(data, test_size=0.2)\n",
    "print(\"Datos para Entrenar: %d y Datos para testear: %d\"%(train.shape[0],test.shape[0]))"
   ]
  },
  {
   "cell_type": "markdown",
   "metadata": {},
   "source": [
    "## Usando una función de shuffle"
   ]
  },
  {
   "cell_type": "code",
   "execution_count": 108,
   "metadata": {},
   "outputs": [],
   "source": [
    "import numpy as np"
   ]
  },
  {
   "cell_type": "code",
   "execution_count": 109,
   "metadata": {},
   "outputs": [
    {
     "output_type": "execute_result",
     "data": {
      "text/plain": "  State  Account Length  Area Code     Phone Int'l Plan VMail Plan  \\\n0    KS             128        415  382-4657         no        yes   \n1    OH             107        415  371-7191         no        yes   \n2    NJ             137        415  358-1921         no         no   \n3    OH              84        408  375-9999        yes         no   \n4    OK              75        415  330-6626        yes         no   \n\n   VMail Message  Day Mins  Day Calls  Day Charge  ...  Eve Calls  Eve Charge  \\\n0             25     265.1        110       45.07  ...         99       16.78   \n1             26     161.6        123       27.47  ...        103       16.62   \n2              0     243.4        114       41.38  ...        110       10.30   \n3              0     299.4         71       50.90  ...         88        5.26   \n4              0     166.7        113       28.34  ...        122       12.61   \n\n   Night Mins  Night Calls  Night Charge  Intl Mins  Intl Calls  Intl Charge  \\\n0       244.7           91         11.01       10.0           3         2.70   \n1       254.4          103         11.45       13.7           3         3.70   \n2       162.6          104          7.32       12.2           5         3.29   \n3       196.9           89          8.86        6.6           7         1.78   \n4       186.9          121          8.41       10.1           3         2.73   \n\n   CustServ Calls  Churn?  \n0               1  False.  \n1               1  False.  \n2               0  False.  \n3               2  False.  \n4               3  False.  \n\n[5 rows x 21 columns]",
      "text/html": "<div>\n<style scoped>\n    .dataframe tbody tr th:only-of-type {\n        vertical-align: middle;\n    }\n\n    .dataframe tbody tr th {\n        vertical-align: top;\n    }\n\n    .dataframe thead th {\n        text-align: right;\n    }\n</style>\n<table border=\"1\" class=\"dataframe\">\n  <thead>\n    <tr style=\"text-align: right;\">\n      <th></th>\n      <th>State</th>\n      <th>Account Length</th>\n      <th>Area Code</th>\n      <th>Phone</th>\n      <th>Int'l Plan</th>\n      <th>VMail Plan</th>\n      <th>VMail Message</th>\n      <th>Day Mins</th>\n      <th>Day Calls</th>\n      <th>Day Charge</th>\n      <th>...</th>\n      <th>Eve Calls</th>\n      <th>Eve Charge</th>\n      <th>Night Mins</th>\n      <th>Night Calls</th>\n      <th>Night Charge</th>\n      <th>Intl Mins</th>\n      <th>Intl Calls</th>\n      <th>Intl Charge</th>\n      <th>CustServ Calls</th>\n      <th>Churn?</th>\n    </tr>\n  </thead>\n  <tbody>\n    <tr>\n      <th>0</th>\n      <td>KS</td>\n      <td>128</td>\n      <td>415</td>\n      <td>382-4657</td>\n      <td>no</td>\n      <td>yes</td>\n      <td>25</td>\n      <td>265.1</td>\n      <td>110</td>\n      <td>45.07</td>\n      <td>...</td>\n      <td>99</td>\n      <td>16.78</td>\n      <td>244.7</td>\n      <td>91</td>\n      <td>11.01</td>\n      <td>10.0</td>\n      <td>3</td>\n      <td>2.70</td>\n      <td>1</td>\n      <td>False.</td>\n    </tr>\n    <tr>\n      <th>1</th>\n      <td>OH</td>\n      <td>107</td>\n      <td>415</td>\n      <td>371-7191</td>\n      <td>no</td>\n      <td>yes</td>\n      <td>26</td>\n      <td>161.6</td>\n      <td>123</td>\n      <td>27.47</td>\n      <td>...</td>\n      <td>103</td>\n      <td>16.62</td>\n      <td>254.4</td>\n      <td>103</td>\n      <td>11.45</td>\n      <td>13.7</td>\n      <td>3</td>\n      <td>3.70</td>\n      <td>1</td>\n      <td>False.</td>\n    </tr>\n    <tr>\n      <th>2</th>\n      <td>NJ</td>\n      <td>137</td>\n      <td>415</td>\n      <td>358-1921</td>\n      <td>no</td>\n      <td>no</td>\n      <td>0</td>\n      <td>243.4</td>\n      <td>114</td>\n      <td>41.38</td>\n      <td>...</td>\n      <td>110</td>\n      <td>10.30</td>\n      <td>162.6</td>\n      <td>104</td>\n      <td>7.32</td>\n      <td>12.2</td>\n      <td>5</td>\n      <td>3.29</td>\n      <td>0</td>\n      <td>False.</td>\n    </tr>\n    <tr>\n      <th>3</th>\n      <td>OH</td>\n      <td>84</td>\n      <td>408</td>\n      <td>375-9999</td>\n      <td>yes</td>\n      <td>no</td>\n      <td>0</td>\n      <td>299.4</td>\n      <td>71</td>\n      <td>50.90</td>\n      <td>...</td>\n      <td>88</td>\n      <td>5.26</td>\n      <td>196.9</td>\n      <td>89</td>\n      <td>8.86</td>\n      <td>6.6</td>\n      <td>7</td>\n      <td>1.78</td>\n      <td>2</td>\n      <td>False.</td>\n    </tr>\n    <tr>\n      <th>4</th>\n      <td>OK</td>\n      <td>75</td>\n      <td>415</td>\n      <td>330-6626</td>\n      <td>yes</td>\n      <td>no</td>\n      <td>0</td>\n      <td>166.7</td>\n      <td>113</td>\n      <td>28.34</td>\n      <td>...</td>\n      <td>122</td>\n      <td>12.61</td>\n      <td>186.9</td>\n      <td>121</td>\n      <td>8.41</td>\n      <td>10.1</td>\n      <td>3</td>\n      <td>2.73</td>\n      <td>3</td>\n      <td>False.</td>\n    </tr>\n  </tbody>\n</table>\n<p>5 rows × 21 columns</p>\n</div>"
     },
     "metadata": {},
     "execution_count": 109
    }
   ],
   "source": [
    "data.head()"
   ]
  },
  {
   "cell_type": "code",
   "execution_count": 114,
   "metadata": {},
   "outputs": [],
   "source": [
    "import sklearn\n",
    "data= sklearn.utils.shuffle(data)"
   ]
  },
  {
   "cell_type": "code",
   "execution_count": 118,
   "metadata": {},
   "outputs": [
    {
     "output_type": "stream",
     "name": "stdout",
     "text": "Datos para Entrenar: 2499 y Datos para testear: 833\n"
    }
   ],
   "source": [
    "cut_id= int(0.75*len(data))\n",
    "train_data = data[:cut_id]\n",
    "test_data = data[cut_id+1:]\n",
    "print(\"Datos para Entrenar: %d y Datos para testear: %d\"%(train_data.shape[0],test_data.shape[0]))"
   ]
  },
  {
   "cell_type": "code",
   "execution_count": 119,
   "metadata": {},
   "outputs": [
    {
     "output_type": "execute_result",
     "data": {
      "text/plain": "2499"
     },
     "metadata": {},
     "execution_count": 119
    }
   ],
   "source": [
    "len(train_data)"
   ]
  },
  {
   "cell_type": "code",
   "execution_count": 120,
   "metadata": {},
   "outputs": [
    {
     "output_type": "execute_result",
     "data": {
      "text/plain": "833"
     },
     "metadata": {},
     "execution_count": 120
    }
   ],
   "source": [
    "len(test_data)"
   ]
  }
 ]
}