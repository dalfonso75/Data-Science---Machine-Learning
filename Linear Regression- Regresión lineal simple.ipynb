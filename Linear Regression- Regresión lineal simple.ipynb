{
 "nbformat": 4,
 "nbformat_minor": 2,
 "metadata": {
  "language_info": {
   "name": "python",
   "codemirror_mode": {
    "name": "ipython",
    "version": 3
   },
   "version": "3.8.2-final"
  },
  "orig_nbformat": 2,
  "file_extension": ".py",
  "mimetype": "text/x-python",
  "name": "python",
  "npconvert_exporter": "python",
  "pygments_lexer": "ipython3",
  "version": 3,
  "kernelspec": {
   "name": "python38232bit188f1c2ff6564de2969c3c8d74de97f9",
   "display_name": "Python 3.8.2 32-bit"
  }
 },
 "cells": [
  {
   "cell_type": "markdown",
   "metadata": {},
   "source": [
    "# Regresión Lineal Simple en Python \n",
    "### El paquete statsmodel para regresión lineal"
   ]
  },
  {
   "cell_type": "code",
   "execution_count": 54,
   "metadata": {},
   "outputs": [],
   "source": [
    "import pandas as pd\n",
    "import os "
   ]
  },
  {
   "cell_type": "code",
   "execution_count": 55,
   "metadata": {},
   "outputs": [
    {
     "output_type": "execute_result",
     "data": {
      "text/plain": "      TV  Radio  Newspaper  Sales\n0  230.1   37.8       69.2   22.1\n1   44.5   39.3       45.1   10.4\n2   17.2   45.9       69.3    9.3\n3  151.5   41.3       58.5   18.5\n4  180.8   10.8       58.4   12.9",
      "text/html": "<div>\n<style scoped>\n    .dataframe tbody tr th:only-of-type {\n        vertical-align: middle;\n    }\n\n    .dataframe tbody tr th {\n        vertical-align: top;\n    }\n\n    .dataframe thead th {\n        text-align: right;\n    }\n</style>\n<table border=\"1\" class=\"dataframe\">\n  <thead>\n    <tr style=\"text-align: right;\">\n      <th></th>\n      <th>TV</th>\n      <th>Radio</th>\n      <th>Newspaper</th>\n      <th>Sales</th>\n    </tr>\n  </thead>\n  <tbody>\n    <tr>\n      <th>0</th>\n      <td>230.1</td>\n      <td>37.8</td>\n      <td>69.2</td>\n      <td>22.1</td>\n    </tr>\n    <tr>\n      <th>1</th>\n      <td>44.5</td>\n      <td>39.3</td>\n      <td>45.1</td>\n      <td>10.4</td>\n    </tr>\n    <tr>\n      <th>2</th>\n      <td>17.2</td>\n      <td>45.9</td>\n      <td>69.3</td>\n      <td>9.3</td>\n    </tr>\n    <tr>\n      <th>3</th>\n      <td>151.5</td>\n      <td>41.3</td>\n      <td>58.5</td>\n      <td>18.5</td>\n    </tr>\n    <tr>\n      <th>4</th>\n      <td>180.8</td>\n      <td>10.8</td>\n      <td>58.4</td>\n      <td>12.9</td>\n    </tr>\n  </tbody>\n</table>\n</div>"
     },
     "metadata": {},
     "execution_count": 55
    }
   ],
   "source": [
    "mainpath= \"d:/python-ml-course-master/datasets\"\n",
    "filename= \"ads/Advertising.csv\"\n",
    "fullpath =os.path.join(mainpath, filename)\n",
    "data = pd.read_csv(fullpath)\n",
    "data.head()"
   ]
  },
  {
   "cell_type": "code",
   "execution_count": 56,
   "metadata": {},
   "outputs": [],
   "source": [
    "import statsmodels.formula.api as smf"
   ]
  },
  {
   "cell_type": "code",
   "execution_count": 57,
   "metadata": {},
   "outputs": [],
   "source": [
    "lm = smf.ols(formula= \"Sales~TV\", data = data).fit()"
   ]
  },
  {
   "cell_type": "code",
   "execution_count": 58,
   "metadata": {},
   "outputs": [
    {
     "output_type": "execute_result",
     "data": {
      "text/plain": "<statsmodels.regression.linear_model.RegressionResultsWrapper at 0x14b09b68>"
     },
     "metadata": {},
     "execution_count": 58
    }
   ],
   "source": [
    "lm"
   ]
  },
  {
   "cell_type": "code",
   "execution_count": 59,
   "metadata": {},
   "outputs": [
    {
     "output_type": "execute_result",
     "data": {
      "text/plain": "Intercept    7.032594\nTV           0.047537\ndtype: float64"
     },
     "metadata": {},
     "execution_count": 59
    }
   ],
   "source": [
    "lm.params"
   ]
  },
  {
   "cell_type": "markdown",
   "metadata": {},
   "source": [
    "El modelo lineal predictivo sería\n",
    "Sales = 7.032594 + 0.047537*TV\n",
    "\n",
    "intercept: alpha\n",
    "\n",
    "TV: betha"
   ]
  },
  {
   "cell_type": "code",
   "execution_count": 60,
   "metadata": {},
   "outputs": [
    {
     "output_type": "execute_result",
     "data": {
      "text/plain": "Intercept    1.406300e-35\nTV           1.467390e-42\ndtype: float64"
     },
     "metadata": {},
     "execution_count": 60
    }
   ],
   "source": [
    "lm.pvalues"
   ]
  },
  {
   "cell_type": "code",
   "execution_count": 61,
   "metadata": {},
   "outputs": [
    {
     "output_type": "execute_result",
     "data": {
      "text/plain": "0.611875050850071"
     },
     "metadata": {},
     "execution_count": 61
    }
   ],
   "source": [
    "lm.rsquared"
   ]
  },
  {
   "cell_type": "code",
   "execution_count": 62,
   "metadata": {},
   "outputs": [
    {
     "output_type": "execute_result",
     "data": {
      "text/plain": "0.6099148238341623"
     },
     "metadata": {},
     "execution_count": 62
    }
   ],
   "source": [
    "lm.rsquared_adj"
   ]
  },
  {
   "cell_type": "code",
   "execution_count": 63,
   "metadata": {},
   "outputs": [
    {
     "output_type": "execute_result",
     "data": {
      "text/plain": "<class 'statsmodels.iolib.summary.Summary'>\n\"\"\"\n                            OLS Regression Results                            \n==============================================================================\nDep. Variable:                  Sales   R-squared:                       0.612\nModel:                            OLS   Adj. R-squared:                  0.610\nMethod:                 Least Squares   F-statistic:                     312.1\nDate:                Mon, 23 Mar 2020   Prob (F-statistic):           1.47e-42\nTime:                        21:28:54   Log-Likelihood:                -519.05\nNo. Observations:                 200   AIC:                             1042.\nDf Residuals:                     198   BIC:                             1049.\nDf Model:                           1                                         \nCovariance Type:            nonrobust                                         \n==============================================================================\n                 coef    std err          t      P>|t|      [0.025      0.975]\n------------------------------------------------------------------------------\nIntercept      7.0326      0.458     15.360      0.000       6.130       7.935\nTV             0.0475      0.003     17.668      0.000       0.042       0.053\n==============================================================================\nOmnibus:                        0.531   Durbin-Watson:                   1.935\nProb(Omnibus):                  0.767   Jarque-Bera (JB):                0.669\nSkew:                          -0.089   Prob(JB):                        0.716\nKurtosis:                       2.779   Cond. No.                         338.\n==============================================================================\n\nWarnings:\n[1] Standard Errors assume that the covariance matrix of the errors is correctly specified.\n\"\"\"",
      "text/html": "<table class=\"simpletable\">\n<caption>OLS Regression Results</caption>\n<tr>\n  <th>Dep. Variable:</th>          <td>Sales</td>      <th>  R-squared:         </th> <td>   0.612</td>\n</tr>\n<tr>\n  <th>Model:</th>                   <td>OLS</td>       <th>  Adj. R-squared:    </th> <td>   0.610</td>\n</tr>\n<tr>\n  <th>Method:</th>             <td>Least Squares</td>  <th>  F-statistic:       </th> <td>   312.1</td>\n</tr>\n<tr>\n  <th>Date:</th>             <td>Mon, 23 Mar 2020</td> <th>  Prob (F-statistic):</th> <td>1.47e-42</td>\n</tr>\n<tr>\n  <th>Time:</th>                 <td>21:28:54</td>     <th>  Log-Likelihood:    </th> <td> -519.05</td>\n</tr>\n<tr>\n  <th>No. Observations:</th>      <td>   200</td>      <th>  AIC:               </th> <td>   1042.</td>\n</tr>\n<tr>\n  <th>Df Residuals:</th>          <td>   198</td>      <th>  BIC:               </th> <td>   1049.</td>\n</tr>\n<tr>\n  <th>Df Model:</th>              <td>     1</td>      <th>                     </th>     <td> </td>   \n</tr>\n<tr>\n  <th>Covariance Type:</th>      <td>nonrobust</td>    <th>                     </th>     <td> </td>   \n</tr>\n</table>\n<table class=\"simpletable\">\n<tr>\n      <td></td>         <th>coef</th>     <th>std err</th>      <th>t</th>      <th>P>|t|</th>  <th>[0.025</th>    <th>0.975]</th>  \n</tr>\n<tr>\n  <th>Intercept</th> <td>    7.0326</td> <td>    0.458</td> <td>   15.360</td> <td> 0.000</td> <td>    6.130</td> <td>    7.935</td>\n</tr>\n<tr>\n  <th>TV</th>        <td>    0.0475</td> <td>    0.003</td> <td>   17.668</td> <td> 0.000</td> <td>    0.042</td> <td>    0.053</td>\n</tr>\n</table>\n<table class=\"simpletable\">\n<tr>\n  <th>Omnibus:</th>       <td> 0.531</td> <th>  Durbin-Watson:     </th> <td>   1.935</td>\n</tr>\n<tr>\n  <th>Prob(Omnibus):</th> <td> 0.767</td> <th>  Jarque-Bera (JB):  </th> <td>   0.669</td>\n</tr>\n<tr>\n  <th>Skew:</th>          <td>-0.089</td> <th>  Prob(JB):          </th> <td>   0.716</td>\n</tr>\n<tr>\n  <th>Kurtosis:</th>      <td> 2.779</td> <th>  Cond. No.          </th> <td>    338.</td>\n</tr>\n</table><br/><br/>Warnings:<br/>[1] Standard Errors assume that the covariance matrix of the errors is correctly specified."
     },
     "metadata": {},
     "execution_count": 63
    }
   ],
   "source": [
    "lm.summary()"
   ]
  },
  {
   "cell_type": "code",
   "execution_count": 64,
   "metadata": {},
   "outputs": [
    {
     "output_type": "execute_result",
     "data": {
      "text/plain": "0      17.970775\n1       9.147974\n2       7.850224\n3      14.234395\n4      15.627218\n         ...    \n195     8.848493\n196    11.510545\n197    15.446579\n198    20.513985\n199    18.065848\nLength: 200, dtype: float64"
     },
     "metadata": {},
     "execution_count": 64
    }
   ],
   "source": [
    "sales_pred = lm.predict(pd.DataFrame(data[\"TV\"]))\n",
    "sales_pred"
   ]
  },
  {
   "cell_type": "code",
   "execution_count": 65,
   "metadata": {},
   "outputs": [],
   "source": [
    "import matplotlib.pyplot as plt"
   ]
  },
  {
   "cell_type": "code",
   "execution_count": 66,
   "metadata": {},
   "outputs": [
    {
     "output_type": "execute_result",
     "data": {
      "text/plain": "[<matplotlib.lines.Line2D at 0x143f82b0>]"
     },
     "metadata": {},
     "execution_count": 66
    },
    {
     "output_type": "display_data",
     "data": {
      "text/plain": "<Figure size 432x288 with 1 Axes>",
      "image/svg+xml": "<?xml version=\"1.0\" encoding=\"utf-8\" standalone=\"no\"?>\r\n<!DOCTYPE svg PUBLIC \"-//W3C//DTD SVG 1.1//EN\"\r\n  \"http://www.w3.org/Graphics/SVG/1.1/DTD/svg11.dtd\">\r\n<!-- Created with matplotlib (https://matplotlib.org/) -->\r\n<svg height=\"262.19625pt\" version=\"1.1\" viewBox=\"0 0 382.603125 262.19625\" width=\"382.603125pt\" xmlns=\"http://www.w3.org/2000/svg\" xmlns:xlink=\"http://www.w3.org/1999/xlink\">\r\n <defs>\r\n  <style type=\"text/css\">\r\n*{stroke-linecap:butt;stroke-linejoin:round;}\r\n  </style>\r\n </defs>\r\n <g id=\"figure_1\">\r\n  <g id=\"patch_1\">\r\n   <path d=\"M 0 262.19625 \r\nL 382.603125 262.19625 \r\nL 382.603125 0 \r\nL 0 0 \r\nz\r\n\" style=\"fill:none;\"/>\r\n  </g>\r\n  <g id=\"axes_1\">\r\n   <g id=\"patch_2\">\r\n    <path d=\"M 40.603125 224.64 \r\nL 375.403125 224.64 \r\nL 375.403125 7.2 \r\nL 40.603125 7.2 \r\nz\r\n\" style=\"fill:#ffffff;\"/>\r\n   </g>\r\n   <g id=\"PathCollection_1\">\r\n    <defs>\r\n     <path d=\"M 0 2.236068 \r\nC 0.593012 2.236068 1.161816 2.000462 1.581139 1.581139 \r\nC 2.000462 1.161816 2.236068 0.593012 2.236068 0 \r\nC 2.236068 -0.593012 2.000462 -1.161816 1.581139 -1.581139 \r\nC 1.161816 -2.000462 0.593012 -2.236068 0 -2.236068 \r\nC -0.593012 -2.236068 -1.161816 -2.000462 -1.581139 -1.581139 \r\nC -2.000462 -1.161816 -2.236068 -0.593012 -2.236068 0 \r\nC -2.236068 0.593012 -2.000462 1.161816 -1.581139 1.581139 \r\nC -1.161816 2.000462 -0.593012 2.236068 0 2.236068 \r\nz\r\n\" id=\"mf7a8877aab\" style=\"stroke:#1f77b4;\"/>\r\n    </defs>\r\n    <g clip-path=\"url(#p6c2bcc0c19)\">\r\n     <use style=\"fill:#1f77b4;stroke:#1f77b4;\" x=\"291.942437\" xlink:href=\"#mf7a8877aab\" y=\"55.217351\"/>\r\n     <use style=\"fill:#1f77b4;stroke:#1f77b4;\" x=\"100.904591\" xlink:href=\"#mf7a8877aab\" y=\"146.271324\"/>\r\n     <use style=\"fill:#1f77b4;stroke:#1f77b4;\" x=\"72.804736\" xlink:href=\"#mf7a8877aab\" y=\"154.831954\"/>\r\n     <use style=\"fill:#1f77b4;stroke:#1f77b4;\" x=\"211.039556\" xlink:href=\"#mf7a8877aab\" y=\"83.233958\"/>\r\n     <use style=\"fill:#1f77b4;stroke:#1f77b4;\" x=\"241.198009\" xlink:href=\"#mf7a8877aab\" y=\"126.815347\"/>\r\n     <use style=\"fill:#1f77b4;stroke:#1f77b4;\" x=\"64.055697\" xlink:href=\"#mf7a8877aab\" y=\"171.174975\"/>\r\n     <use style=\"fill:#1f77b4;stroke:#1f77b4;\" x=\"114.285475\" xlink:href=\"#mf7a8877aab\" y=\"135.375977\"/>\r\n     <use style=\"fill:#1f77b4;stroke:#1f77b4;\" x=\"178.822506\" xlink:href=\"#mf7a8877aab\" y=\"124.48063\"/>\r\n     <use style=\"fill:#1f77b4;stroke:#1f77b4;\" x=\"63.952767\" xlink:href=\"#mf7a8877aab\" y=\"189.852713\"/>\r\n     <use style=\"fill:#1f77b4;stroke:#1f77b4;\" x=\"260.754685\" xlink:href=\"#mf7a8877aab\" y=\"144.714846\"/>\r\n     <use style=\"fill:#1f77b4;stroke:#1f77b4;\" x=\"123.137444\" xlink:href=\"#mf7a8877aab\" y=\"160.279628\"/>\r\n     <use style=\"fill:#1f77b4;stroke:#1f77b4;\" x=\"276.091236\" xlink:href=\"#mf7a8877aab\" y=\"91.794588\"/>\r\n     <use style=\"fill:#1f77b4;stroke:#1f77b4;\" x=\"79.598108\" xlink:href=\"#mf7a8877aab\" y=\"155.610193\"/>\r\n     <use style=\"fill:#1f77b4;stroke:#1f77b4;\" x=\"155.457425\" xlink:href=\"#mf7a8877aab\" y=\"151.718998\"/>\r\n     <use style=\"fill:#1f77b4;stroke:#1f77b4;\" x=\"265.18067\" xlink:href=\"#mf7a8877aab\" y=\"79.342763\"/>\r\n     <use style=\"fill:#1f77b4;stroke:#1f77b4;\" x=\"256.225771\" xlink:href=\"#mf7a8877aab\" y=\"52.882634\"/>\r\n     <use style=\"fill:#1f77b4;stroke:#1f77b4;\" x=\"124.887252\" xlink:href=\"#mf7a8877aab\" y=\"129.928304\"/>\r\n     <use style=\"fill:#1f77b4;stroke:#1f77b4;\" x=\"344.745462\" xlink:href=\"#mf7a8877aab\" y=\"37.317853\"/>\r\n     <use style=\"fill:#1f77b4;stroke:#1f77b4;\" x=\"126.32827\" xlink:href=\"#mf7a8877aab\" y=\"139.267173\"/>\r\n     <use style=\"fill:#1f77b4;stroke:#1f77b4;\" x=\"206.716502\" xlink:href=\"#mf7a8877aab\" y=\"113.585283\"/>\r\n     <use style=\"fill:#1f77b4;stroke:#1f77b4;\" x=\"279.899642\" xlink:href=\"#mf7a8877aab\" y=\"87.125154\"/>\r\n     <use style=\"fill:#1f77b4;stroke:#1f77b4;\" x=\"299.456318\" xlink:href=\"#mf7a8877aab\" y=\"129.928304\"/>\r\n     <use style=\"fill:#1f77b4;stroke:#1f77b4;\" x=\"68.687541\" xlink:href=\"#mf7a8877aab\" y=\"183.6268\"/>\r\n     <use style=\"fill:#1f77b4;stroke:#1f77b4;\" x=\"290.089699\" xlink:href=\"#mf7a8877aab\" y=\"106.581131\"/>\r\n     <use style=\"fill:#1f77b4;stroke:#1f77b4;\" x=\"119.226109\" xlink:href=\"#mf7a8877aab\" y=\"151.718998\"/>\r\n     <use style=\"fill:#1f77b4;stroke:#1f77b4;\" x=\"325.703436\" xlink:href=\"#mf7a8877aab\" y=\"133.819499\"/>\r\n     <use style=\"fill:#1f77b4;stroke:#1f77b4;\" x=\"202.187587\" xlink:href=\"#mf7a8877aab\" y=\"110.472326\"/>\r\n     <use style=\"fill:#1f77b4;stroke:#1f77b4;\" x=\"302.235424\" xlink:href=\"#mf7a8877aab\" y=\"103.468175\"/>\r\n     <use style=\"fill:#1f77b4;stroke:#1f77b4;\" x=\"311.190323\" xlink:href=\"#mf7a8877aab\" y=\"80.121002\"/>\r\n     <use style=\"fill:#1f77b4;stroke:#1f77b4;\" x=\"127.769288\" xlink:href=\"#mf7a8877aab\" y=\"145.493085\"/>\r\n     <use style=\"fill:#1f77b4;stroke:#1f77b4;\" x=\"356.582398\" xlink:href=\"#mf7a8877aab\" y=\"60.665025\"/>\r\n     <use style=\"fill:#1f77b4;stroke:#1f77b4;\" x=\"171.308625\" xlink:href=\"#mf7a8877aab\" y=\"134.597738\"/>\r\n     <use style=\"fill:#1f77b4;stroke:#1f77b4;\" x=\"155.148635\" xlink:href=\"#mf7a8877aab\" y=\"152.497237\"/>\r\n     <use style=\"fill:#1f77b4;stroke:#1f77b4;\" x=\"328.482542\" xlink:href=\"#mf7a8877aab\" y=\"91.794588\"/>\r\n     <use style=\"fill:#1f77b4;stroke:#1f77b4;\" x=\"153.604687\" xlink:href=\"#mf7a8877aab\" y=\"153.275476\"/>\r\n     <use style=\"fill:#1f77b4;stroke:#1f77b4;\" x=\"354.31794\" xlink:href=\"#mf7a8877aab\" y=\"127.593586\"/>\r\n     <use style=\"fill:#1f77b4;stroke:#1f77b4;\" x=\"329.82063\" xlink:href=\"#mf7a8877aab\" y=\"29.535462\"/>\r\n     <use style=\"fill:#1f77b4;stroke:#1f77b4;\" x=\"131.989413\" xlink:href=\"#mf7a8877aab\" y=\"112.807044\"/>\r\n     <use style=\"fill:#1f77b4;stroke:#1f77b4;\" x=\"99.463573\" xlink:href=\"#mf7a8877aab\" y=\"148.606042\"/>\r\n     <use style=\"fill:#1f77b4;stroke:#1f77b4;\" x=\"289.78091\" xlink:href=\"#mf7a8877aab\" y=\"59.886786\"/>\r\n     <use style=\"fill:#1f77b4;stroke:#1f77b4;\" x=\"263.533792\" xlink:href=\"#mf7a8877aab\" y=\"98.020501\"/>\r\n     <use style=\"fill:#1f77b4;stroke:#1f77b4;\" x=\"237.286674\" xlink:href=\"#mf7a8877aab\" y=\"94.129306\"/>\r\n     <use style=\"fill:#1f77b4;stroke:#1f77b4;\" x=\"357.302907\" xlink:href=\"#mf7a8877aab\" y=\"66.112699\"/>\r\n     <use style=\"fill:#1f77b4;stroke:#1f77b4;\" x=\"268.062706\" xlink:href=\"#mf7a8877aab\" y=\"126.815347\"/>\r\n     <use style=\"fill:#1f77b4;stroke:#1f77b4;\" x=\"80.936196\" xlink:href=\"#mf7a8877aab\" y=\"161.057867\"/>\r\n     <use style=\"fill:#1f77b4;stroke:#1f77b4;\" x=\"235.331006\" xlink:href=\"#mf7a8877aab\" y=\"111.250565\"/>\r\n     <use style=\"fill:#1f77b4;stroke:#1f77b4;\" x=\"147.428894\" xlink:href=\"#mf7a8877aab\" y=\"144.714846\"/>\r\n     <use style=\"fill:#1f77b4;stroke:#1f77b4;\" x=\"302.029565\" xlink:href=\"#mf7a8877aab\" y=\"46.656722\"/>\r\n     <use style=\"fill:#1f77b4;stroke:#1f77b4;\" x=\"288.957471\" xlink:href=\"#mf7a8877aab\" y=\"112.028805\"/>\r\n     <use style=\"fill:#1f77b4;stroke:#1f77b4;\" x=\"123.960883\" xlink:href=\"#mf7a8877aab\" y=\"151.718998\"/>\r\n     <use style=\"fill:#1f77b4;stroke:#1f77b4;\" x=\"260.754685\" xlink:href=\"#mf7a8877aab\" y=\"138.488933\"/>\r\n     <use style=\"fill:#1f77b4;stroke:#1f77b4;\" x=\"158.442391\" xlink:href=\"#mf7a8877aab\" y=\"143.936607\"/>\r\n     <use style=\"fill:#1f77b4;stroke:#1f77b4;\" x=\"277.841044\" xlink:href=\"#mf7a8877aab\" y=\"51.326156\"/>\r\n     <use style=\"fill:#1f77b4;stroke:#1f77b4;\" x=\"243.050747\" xlink:href=\"#mf7a8877aab\" y=\"62.221503\"/>\r\n     <use style=\"fill:#1f77b4;stroke:#1f77b4;\" x=\"325.497576\" xlink:href=\"#mf7a8877aab\" y=\"70.003894\"/>\r\n     <use style=\"fill:#1f77b4;stroke:#1f77b4;\" x=\"259.828316\" xlink:href=\"#mf7a8877aab\" y=\"42.765526\"/>\r\n     <use style=\"fill:#1f77b4;stroke:#1f77b4;\" x=\"62.614678\" xlink:href=\"#mf7a8877aab\" y=\"184.405039\"/>\r\n     <use style=\"fill:#1f77b4;stroke:#1f77b4;\" x=\"195.291286\" xlink:href=\"#mf7a8877aab\" y=\"124.48063\"/>\r\n     <use style=\"fill:#1f77b4;stroke:#1f77b4;\" x=\"272.076971\" xlink:href=\"#mf7a8877aab\" y=\"41.987287\"/>\r\n     <use style=\"fill:#1f77b4;stroke:#1f77b4;\" x=\"271.974041\" xlink:href=\"#mf7a8877aab\" y=\"84.012198\"/>\r\n     <use style=\"fill:#1f77b4;stroke:#1f77b4;\" x=\"110.16828\" xlink:href=\"#mf7a8877aab\" y=\"164.170823\"/>\r\n     <use style=\"fill:#1f77b4;stroke:#1f77b4;\" x=\"324.056558\" xlink:href=\"#mf7a8877aab\" y=\"38.874331\"/>\r\n     <use style=\"fill:#1f77b4;stroke:#1f77b4;\" x=\"301.411985\" xlink:href=\"#mf7a8877aab\" y=\"105.024653\"/>\r\n     <use style=\"fill:#1f77b4;stroke:#1f77b4;\" x=\"160.809778\" xlink:href=\"#mf7a8877aab\" y=\"118.254717\"/>\r\n     <use style=\"fill:#1f77b4;stroke:#1f77b4;\" x=\"190.041862\" xlink:href=\"#mf7a8877aab\" y=\"87.125154\"/>\r\n     <use style=\"fill:#1f77b4;stroke:#1f77b4;\" x=\"126.122411\" xlink:href=\"#mf7a8877aab\" y=\"154.831954\"/>\r\n     <use style=\"fill:#1f77b4;stroke:#1f77b4;\" x=\"87.523708\" xlink:href=\"#mf7a8877aab\" y=\"153.275476\"/>\r\n     <use style=\"fill:#1f77b4;stroke:#1f77b4;\" x=\"198.482112\" xlink:href=\"#mf7a8877aab\" y=\"122.924152\"/>\r\n     <use style=\"fill:#1f77b4;stroke:#1f77b4;\" x=\"299.456318\" xlink:href=\"#mf7a8877aab\" y=\"80.121002\"/>\r\n     <use style=\"fill:#1f77b4;stroke:#1f77b4;\" x=\"278.252764\" xlink:href=\"#mf7a8877aab\" y=\"53.660873\"/>\r\n     <use style=\"fill:#1f77b4;stroke:#1f77b4;\" x=\"260.034176\" xlink:href=\"#mf7a8877aab\" y=\"84.790437\"/>\r\n     <use style=\"fill:#1f77b4;stroke:#1f77b4;\" x=\"168.117799\" xlink:href=\"#mf7a8877aab\" y=\"130.706543\"/>\r\n     <use style=\"fill:#1f77b4;stroke:#1f77b4;\" x=\"82.686004\" xlink:href=\"#mf7a8877aab\" y=\"158.72315\"/>\r\n     <use style=\"fill:#1f77b4;stroke:#1f77b4;\" x=\"188.292054\" xlink:href=\"#mf7a8877aab\" y=\"141.60189\"/>\r\n     <use style=\"fill:#1f77b4;stroke:#1f77b4;\" x=\"274.753148\" xlink:href=\"#mf7a8877aab\" y=\"94.907545\"/>\r\n     <use style=\"fill:#1f77b4;stroke:#1f77b4;\" x=\"72.495946\" xlink:href=\"#mf7a8877aab\" y=\"159.501389\"/>\r\n     <use style=\"fill:#1f77b4;stroke:#1f77b4;\" x=\"83.406513\" xlink:href=\"#mf7a8877aab\" y=\"173.509692\"/>\r\n     <use style=\"fill:#1f77b4;stroke:#1f77b4;\" x=\"179.131295\" xlink:href=\"#mf7a8877aab\" y=\"116.698239\"/>\r\n     <use style=\"fill:#1f77b4;stroke:#1f77b4;\" x=\"60.659011\" xlink:href=\"#mf7a8877aab\" y=\"185.961518\"/>\r\n     <use style=\"fill:#1f77b4;stroke:#1f77b4;\" x=\"174.499451\" xlink:href=\"#mf7a8877aab\" y=\"141.60189\"/>\r\n     <use style=\"fill:#1f77b4;stroke:#1f77b4;\" x=\"133.739221\" xlink:href=\"#mf7a8877aab\" y=\"135.375977\"/>\r\n     <use style=\"fill:#1f77b4;stroke:#1f77b4;\" x=\"301.926635\" xlink:href=\"#mf7a8877aab\" y=\"131.484782\"/>\r\n     <use style=\"fill:#1f77b4;stroke:#1f77b4;\" x=\"132.606993\" xlink:href=\"#mf7a8877aab\" y=\"139.267173\"/>\r\n     <use style=\"fill:#1f77b4;stroke:#1f77b4;\" x=\"125.504831\" xlink:href=\"#mf7a8877aab\" y=\"121.367674\"/>\r\n     <use style=\"fill:#1f77b4;stroke:#1f77b4;\" x=\"274.856078\" xlink:href=\"#mf7a8877aab\" y=\"58.330308\"/>\r\n     <use style=\"fill:#1f77b4;stroke:#1f77b4;\" x=\"253.961314\" xlink:href=\"#mf7a8877aab\" y=\"108.915848\"/>\r\n     <use style=\"fill:#1f77b4;stroke:#1f77b4;\" x=\"133.636291\" xlink:href=\"#mf7a8877aab\" y=\"133.819499\"/>\r\n     <use style=\"fill:#1f77b4;stroke:#1f77b4;\" x=\"169.044168\" xlink:href=\"#mf7a8877aab\" y=\"102.689936\"/>\r\n     <use style=\"fill:#1f77b4;stroke:#1f77b4;\" x=\"145.987876\" xlink:href=\"#mf7a8877aab\" y=\"126.815347\"/>\r\n     <use style=\"fill:#1f77b4;stroke:#1f77b4;\" x=\"168.117799\" xlink:href=\"#mf7a8877aab\" y=\"97.242262\"/>\r\n     <use style=\"fill:#1f77b4;stroke:#1f77b4;\" x=\"193.335618\" xlink:href=\"#mf7a8877aab\" y=\"140.045412\"/>\r\n     <use style=\"fill:#1f77b4;stroke:#1f77b4;\" x=\"84.538742\" xlink:href=\"#mf7a8877aab\" y=\"170.396736\"/>\r\n     <use style=\"fill:#1f77b4;stroke:#1f77b4;\" x=\"279.179133\" xlink:href=\"#mf7a8877aab\" y=\"76.229807\"/>\r\n     <use style=\"fill:#1f77b4;stroke:#1f77b4;\" x=\"313.351851\" xlink:href=\"#mf7a8877aab\" y=\"54.439112\"/>\r\n     <use style=\"fill:#1f77b4;stroke:#1f77b4;\" x=\"165.647482\" xlink:href=\"#mf7a8877aab\" y=\"137.710694\"/>\r\n     <use style=\"fill:#1f77b4;stroke:#1f77b4;\" x=\"223.185281\" xlink:href=\"#mf7a8877aab\" y=\"95.685784\"/>\r\n     <use style=\"fill:#1f77b4;stroke:#1f77b4;\" x=\"258.490228\" xlink:href=\"#mf7a8877aab\" y=\"136.154216\"/>\r\n     <use style=\"fill:#1f77b4;stroke:#1f77b4;\" x=\"245.418134\" xlink:href=\"#mf7a8877aab\" y=\"106.581131\"/>\r\n     <use style=\"fill:#1f77b4;stroke:#1f77b4;\" x=\"353.288642\" xlink:href=\"#mf7a8877aab\" y=\"29.535462\"/>\r\n     <use style=\"fill:#1f77b4;stroke:#1f77b4;\" x=\"194.261987\" xlink:href=\"#mf7a8877aab\" y=\"93.351067\"/>\r\n     <use style=\"fill:#1f77b4;stroke:#1f77b4;\" x=\"284.016837\" xlink:href=\"#mf7a8877aab\" y=\"136.154216\"/>\r\n     <use style=\"fill:#1f77b4;stroke:#1f77b4;\" x=\"360.184943\" xlink:href=\"#mf7a8877aab\" y=\"41.987287\"/>\r\n     <use style=\"fill:#1f77b4;stroke:#1f77b4;\" x=\"343.510304\" xlink:href=\"#mf7a8877aab\" y=\"112.028805\"/>\r\n     <use style=\"fill:#1f77b4;stroke:#1f77b4;\" x=\"248.50603\" xlink:href=\"#mf7a8877aab\" y=\"112.807044\"/>\r\n     <use style=\"fill:#1f77b4;stroke:#1f77b4;\" x=\"300.279757\" xlink:href=\"#mf7a8877aab\" y=\"66.112699\"/>\r\n     <use style=\"fill:#1f77b4;stroke:#1f77b4;\" x=\"197.041093\" xlink:href=\"#mf7a8877aab\" y=\"77.786285\"/>\r\n     <use style=\"fill:#1f77b4;stroke:#1f77b4;\" x=\"80.833266\" xlink:href=\"#mf7a8877aab\" y=\"171.174975\"/>\r\n     <use style=\"fill:#1f77b4;stroke:#1f77b4;\" x=\"148.149403\" xlink:href=\"#mf7a8877aab\" y=\"159.501389\"/>\r\n     <use style=\"fill:#1f77b4;stroke:#1f77b4;\" x=\"68.584611\" xlink:href=\"#mf7a8877aab\" y=\"185.961518\"/>\r\n     <use style=\"fill:#1f77b4;stroke:#1f77b4;\" x=\"317.983695\" xlink:href=\"#mf7a8877aab\" y=\"73.11685\"/>\r\n     <use style=\"fill:#1f77b4;stroke:#1f77b4;\" x=\"287.516452\" xlink:href=\"#mf7a8877aab\" y=\"122.924152\"/>\r\n     <use style=\"fill:#1f77b4;stroke:#1f77b4;\" x=\"303.882302\" xlink:href=\"#mf7a8877aab\" y=\"57.552069\"/>\r\n     <use style=\"fill:#1f77b4;stroke:#1f77b4;\" x=\"235.948586\" xlink:href=\"#mf7a8877aab\" y=\"117.476478\"/>\r\n     <use style=\"fill:#1f77b4;stroke:#1f77b4;\" x=\"270.841813\" xlink:href=\"#mf7a8877aab\" y=\"103.468175\"/>\r\n     <use style=\"fill:#1f77b4;stroke:#1f77b4;\" x=\"135.591959\" xlink:href=\"#mf7a8877aab\" y=\"113.585283\"/>\r\n     <use style=\"fill:#1f77b4;stroke:#1f77b4;\" x=\"132.401133\" xlink:href=\"#mf7a8877aab\" y=\"129.150064\"/>\r\n     <use style=\"fill:#1f77b4;stroke:#1f77b4;\" x=\"198.379182\" xlink:href=\"#mf7a8877aab\" y=\"132.263021\"/>\r\n     <use style=\"fill:#1f77b4;stroke:#1f77b4;\" x=\"133.739221\" xlink:href=\"#mf7a8877aab\" y=\"154.053715\"/>\r\n     <use style=\"fill:#1f77b4;stroke:#1f77b4;\" x=\"184.483649\" xlink:href=\"#mf7a8877aab\" y=\"103.468175\"/>\r\n     <use style=\"fill:#1f77b4;stroke:#1f77b4;\" x=\"75.069193\" xlink:href=\"#mf7a8877aab\" y=\"175.844409\"/>\r\n     <use style=\"fill:#1f77b4;stroke:#1f77b4;\" x=\"200.540709\" xlink:href=\"#mf7a8877aab\" y=\"106.581131\"/>\r\n     <use style=\"fill:#1f77b4;stroke:#1f77b4;\" x=\"74.451614\" xlink:href=\"#mf7a8877aab\" y=\"172.731453\"/>\r\n     <use style=\"fill:#1f77b4;stroke:#1f77b4;\" x=\"285.663715\" xlink:href=\"#mf7a8877aab\" y=\"136.932455\"/>\r\n     <use style=\"fill:#1f77b4;stroke:#1f77b4;\" x=\"181.807472\" xlink:href=\"#mf7a8877aab\" y=\"108.915848\"/>\r\n     <use style=\"fill:#1f77b4;stroke:#1f77b4;\" x=\"291.324858\" xlink:href=\"#mf7a8877aab\" y=\"73.895089\"/>\r\n     <use style=\"fill:#1f77b4;stroke:#1f77b4;\" x=\"144.855648\" xlink:href=\"#mf7a8877aab\" y=\"144.714846\"/>\r\n     <use style=\"fill:#1f77b4;stroke:#1f77b4;\" x=\"63.129328\" xlink:href=\"#mf7a8877aab\" y=\"175.844409\"/>\r\n     <use style=\"fill:#1f77b4;stroke:#1f77b4;\" x=\"137.650556\" xlink:href=\"#mf7a8877aab\" y=\"158.72315\"/>\r\n     <use style=\"fill:#1f77b4;stroke:#1f77b4;\" x=\"281.855309\" xlink:href=\"#mf7a8877aab\" y=\"34.983135\"/>\r\n     <use style=\"fill:#1f77b4;stroke:#1f77b4;\" x=\"116.447002\" xlink:href=\"#mf7a8877aab\" y=\"151.718998\"/>\r\n     <use style=\"fill:#1f77b4;stroke:#1f77b4;\" x=\"55.821307\" xlink:href=\"#mf7a8877aab\" y=\"214.756364\"/>\r\n     <use style=\"fill:#1f77b4;stroke:#1f77b4;\" x=\"328.070823\" xlink:href=\"#mf7a8877aab\" y=\"128.371825\"/>\r\n     <use style=\"fill:#1f77b4;stroke:#1f77b4;\" x=\"63.746907\" xlink:href=\"#mf7a8877aab\" y=\"182.848561\"/>\r\n     <use style=\"fill:#1f77b4;stroke:#1f77b4;\" x=\"281.34066\" xlink:href=\"#mf7a8877aab\" y=\"74.673329\"/>\r\n     <use style=\"fill:#1f77b4;stroke:#1f77b4;\" x=\"93.081921\" xlink:href=\"#mf7a8877aab\" y=\"143.158368\"/>\r\n     <use style=\"fill:#1f77b4;stroke:#1f77b4;\" x=\"104.815927\" xlink:href=\"#mf7a8877aab\" y=\"136.932455\"/>\r\n     <use style=\"fill:#1f77b4;stroke:#1f77b4;\" x=\"81.450845\" xlink:href=\"#mf7a8877aab\" y=\"153.275476\"/>\r\n     <use style=\"fill:#1f77b4;stroke:#1f77b4;\" x=\"336.819862\" xlink:href=\"#mf7a8877aab\" y=\"65.33446\"/>\r\n     <use style=\"fill:#1f77b4;stroke:#1f77b4;\" x=\"99.360643\" xlink:href=\"#mf7a8877aab\" y=\"152.497237\"/>\r\n     <use style=\"fill:#1f77b4;stroke:#1f77b4;\" x=\"245.418134\" xlink:href=\"#mf7a8877aab\" y=\"66.112699\"/>\r\n     <use style=\"fill:#1f77b4;stroke:#1f77b4;\" x=\"130.651325\" xlink:href=\"#mf7a8877aab\" y=\"142.380129\"/>\r\n     <use style=\"fill:#1f77b4;stroke:#1f77b4;\" x=\"254.475963\" xlink:href=\"#mf7a8877aab\" y=\"77.786285\"/>\r\n     <use style=\"fill:#1f77b4;stroke:#1f77b4;\" x=\"282.061169\" xlink:href=\"#mf7a8877aab\" y=\"70.782133\"/>\r\n     <use style=\"fill:#1f77b4;stroke:#1f77b4;\" x=\"162.765446\" xlink:href=\"#mf7a8877aab\" y=\"146.271324\"/>\r\n     <use style=\"fill:#1f77b4;stroke:#1f77b4;\" x=\"154.119336\" xlink:href=\"#mf7a8877aab\" y=\"138.488933\"/>\r\n     <use style=\"fill:#1f77b4;stroke:#1f77b4;\" x=\"199.51141\" xlink:href=\"#mf7a8877aab\" y=\"147.049563\"/>\r\n     <use style=\"fill:#1f77b4;stroke:#1f77b4;\" x=\"302.235424\" xlink:href=\"#mf7a8877aab\" y=\"124.48063\"/>\r\n     <use style=\"fill:#1f77b4;stroke:#1f77b4;\" x=\"305.42625\" xlink:href=\"#mf7a8877aab\" y=\"29.535462\"/>\r\n     <use style=\"fill:#1f77b4;stroke:#1f77b4;\" x=\"94.21415\" xlink:href=\"#mf7a8877aab\" y=\"142.380129\"/>\r\n     <use style=\"fill:#1f77b4;stroke:#1f77b4;\" x=\"101.110451\" xlink:href=\"#mf7a8877aab\" y=\"148.606042\"/>\r\n     <use style=\"fill:#1f77b4;stroke:#1f77b4;\" x=\"344.024953\" xlink:href=\"#mf7a8877aab\" y=\"101.911696\"/>\r\n     <use style=\"fill:#1f77b4;stroke:#1f77b4;\" x=\"179.645945\" xlink:href=\"#mf7a8877aab\" y=\"136.932455\"/>\r\n     <use style=\"fill:#1f77b4;stroke:#1f77b4;\" x=\"258.490228\" xlink:href=\"#mf7a8877aab\" y=\"98.020501\"/>\r\n     <use style=\"fill:#1f77b4;stroke:#1f77b4;\" x=\"231.419671\" xlink:href=\"#mf7a8877aab\" y=\"79.342763\"/>\r\n     <use style=\"fill:#1f77b4;stroke:#1f77b4;\" x=\"248.4031\" xlink:href=\"#mf7a8877aab\" y=\"105.802892\"/>\r\n     <use style=\"fill:#1f77b4;stroke:#1f77b4;\" x=\"59.320923\" xlink:href=\"#mf7a8877aab\" y=\"202.304538\"/>\r\n     <use style=\"fill:#1f77b4;stroke:#1f77b4;\" x=\"151.751949\" xlink:href=\"#mf7a8877aab\" y=\"108.137609\"/>\r\n     <use style=\"fill:#1f77b4;stroke:#1f77b4;\" x=\"209.289748\" xlink:href=\"#mf7a8877aab\" y=\"148.606042\"/>\r\n     <use style=\"fill:#1f77b4;stroke:#1f77b4;\" x=\"67.143593\" xlink:href=\"#mf7a8877aab\" y=\"170.396736\"/>\r\n     <use style=\"fill:#1f77b4;stroke:#1f77b4;\" x=\"190.659441\" xlink:href=\"#mf7a8877aab\" y=\"126.815347\"/>\r\n     <use style=\"fill:#1f77b4;stroke:#1f77b4;\" x=\"232.65483\" xlink:href=\"#mf7a8877aab\" y=\"115.141761\"/>\r\n     <use style=\"fill:#1f77b4;stroke:#1f77b4;\" x=\"143.311699\" xlink:href=\"#mf7a8877aab\" y=\"123.702391\"/>\r\n     <use style=\"fill:#1f77b4;stroke:#1f77b4;\" x=\"249.02068\" xlink:href=\"#mf7a8877aab\" y=\"111.250565\"/>\r\n     <use style=\"fill:#1f77b4;stroke:#1f77b4;\" x=\"223.391141\" xlink:href=\"#mf7a8877aab\" y=\"87.125154\"/>\r\n     <use style=\"fill:#1f77b4;stroke:#1f77b4;\" x=\"175.73461\" xlink:href=\"#mf7a8877aab\" y=\"134.597738\"/>\r\n     <use style=\"fill:#1f77b4;stroke:#1f77b4;\" x=\"296.471351\" xlink:href=\"#mf7a8877aab\" y=\"134.597738\"/>\r\n     <use style=\"fill:#1f77b4;stroke:#1f77b4;\" x=\"73.525245\" xlink:href=\"#mf7a8877aab\" y=\"164.949062\"/>\r\n     <use style=\"fill:#1f77b4;stroke:#1f77b4;\" x=\"267.959776\" xlink:href=\"#mf7a8877aab\" y=\"132.263021\"/>\r\n     <use style=\"fill:#1f77b4;stroke:#1f77b4;\" x=\"276.811746\" xlink:href=\"#mf7a8877aab\" y=\"94.129306\"/>\r\n     <use style=\"fill:#1f77b4;stroke:#1f77b4;\" x=\"347.730428\" xlink:href=\"#mf7a8877aab\" y=\"110.472326\"/>\r\n     <use style=\"fill:#1f77b4;stroke:#1f77b4;\" x=\"106.565735\" xlink:href=\"#mf7a8877aab\" y=\"161.836106\"/>\r\n     <use style=\"fill:#1f77b4;stroke:#1f77b4;\" x=\"224.42044\" xlink:href=\"#mf7a8877aab\" y=\"114.363522\"/>\r\n     <use style=\"fill:#1f77b4;stroke:#1f77b4;\" x=\"75.275053\" xlink:href=\"#mf7a8877aab\" y=\"168.062019\"/>\r\n     <use style=\"fill:#1f77b4;stroke:#1f77b4;\" x=\"228.434705\" xlink:href=\"#mf7a8877aab\" y=\"136.154216\"/>\r\n     <use style=\"fill:#1f77b4;stroke:#1f77b4;\" x=\"284.016837\" xlink:href=\"#mf7a8877aab\" y=\"137.710694\"/>\r\n     <use style=\"fill:#1f77b4;stroke:#1f77b4;\" x=\"340.113618\" xlink:href=\"#mf7a8877aab\" y=\"17.083636\"/>\r\n     <use style=\"fill:#1f77b4;stroke:#1f77b4;\" x=\"310.778604\" xlink:href=\"#mf7a8877aab\" y=\"70.003894\"/>\r\n     <use style=\"fill:#1f77b4;stroke:#1f77b4;\" x=\"230.287443\" xlink:href=\"#mf7a8877aab\" y=\"136.154216\"/>\r\n     <use style=\"fill:#1f77b4;stroke:#1f77b4;\" x=\"339.907758\" xlink:href=\"#mf7a8877aab\" y=\"135.375977\"/>\r\n     <use style=\"fill:#1f77b4;stroke:#1f77b4;\" x=\"225.552668\" xlink:href=\"#mf7a8877aab\" y=\"129.150064\"/>\r\n     <use style=\"fill:#1f77b4;stroke:#1f77b4;\" x=\"216.28898\" xlink:href=\"#mf7a8877aab\" y=\"145.493085\"/>\r\n     <use style=\"fill:#1f77b4;stroke:#1f77b4;\" x=\"280.002572\" xlink:href=\"#mf7a8877aab\" y=\"132.263021\"/>\r\n     <use style=\"fill:#1f77b4;stroke:#1f77b4;\" x=\"112.947387\" xlink:href=\"#mf7a8877aab\" y=\"159.501389\"/>\r\n     <use style=\"fill:#1f77b4;stroke:#1f77b4;\" x=\"351.127114\" xlink:href=\"#mf7a8877aab\" y=\"23.309549\"/>\r\n     <use style=\"fill:#1f77b4;stroke:#1f77b4;\" x=\"316.336817\" xlink:href=\"#mf7a8877aab\" y=\"90.23811\"/>\r\n     <use style=\"fill:#1f77b4;stroke:#1f77b4;\" x=\"266.107039\" xlink:href=\"#mf7a8877aab\" y=\"51.326156\"/>\r\n     <use style=\"fill:#1f77b4;stroke:#1f77b4;\" x=\"198.687971\" xlink:href=\"#mf7a8877aab\" y=\"147.049563\"/>\r\n     <use style=\"fill:#1f77b4;stroke:#1f77b4;\" x=\"251.799786\" xlink:href=\"#mf7a8877aab\" y=\"92.572827\"/>\r\n     <use style=\"fill:#1f77b4;stroke:#1f77b4;\" x=\"349.480236\" xlink:href=\"#mf7a8877aab\" y=\"103.468175\"/>\r\n     <use style=\"fill:#1f77b4;stroke:#1f77b4;\" x=\"74.348684\" xlink:href=\"#mf7a8877aab\" y=\"175.06617\"/>\r\n     <use style=\"fill:#1f77b4;stroke:#1f77b4;\" x=\"95.758098\" xlink:href=\"#mf7a8877aab\" y=\"143.158368\"/>\r\n     <use style=\"fill:#1f77b4;stroke:#1f77b4;\" x=\"132.812852\" xlink:href=\"#mf7a8877aab\" y=\"150.16252\"/>\r\n     <use style=\"fill:#1f77b4;stroke:#1f77b4;\" x=\"72.804736\" xlink:href=\"#mf7a8877aab\" y=\"181.292083\"/>\r\n     <use style=\"fill:#1f77b4;stroke:#1f77b4;\" x=\"226.787827\" xlink:href=\"#mf7a8877aab\" y=\"74.673329\"/>\r\n     <use style=\"fill:#1f77b4;stroke:#1f77b4;\" x=\"209.186819\" xlink:href=\"#mf7a8877aab\" y=\"92.572827\"/>\r\n     <use style=\"fill:#1f77b4;stroke:#1f77b4;\" x=\"94.420009\" xlink:href=\"#mf7a8877aab\" y=\"168.062019\"/>\r\n     <use style=\"fill:#1f77b4;stroke:#1f77b4;\" x=\"152.060739\" xlink:href=\"#mf7a8877aab\" y=\"151.718998\"/>\r\n     <use style=\"fill:#1f77b4;stroke:#1f77b4;\" x=\"237.286674\" xlink:href=\"#mf7a8877aab\" y=\"127.593586\"/>\r\n     <use style=\"fill:#1f77b4;stroke:#1f77b4;\" x=\"347.009919\" xlink:href=\"#mf7a8877aab\" y=\"28.757223\"/>\r\n     <use style=\"fill:#1f77b4;stroke:#1f77b4;\" x=\"294.001034\" xlink:href=\"#mf7a8877aab\" y=\"122.924152\"/>\r\n    </g>\r\n   </g>\r\n   <g id=\"matplotlib.axis_1\">\r\n    <g id=\"xtick_1\">\r\n     <g id=\"line2d_1\">\r\n      <defs>\r\n       <path d=\"M 0 0 \r\nL 0 3.5 \r\n\" id=\"m498c9b5172\" style=\"stroke:#000000;stroke-width:0.8;\"/>\r\n      </defs>\r\n      <g>\r\n       <use style=\"stroke:#000000;stroke-width:0.8;\" x=\"55.100798\" xlink:href=\"#m498c9b5172\" y=\"224.64\"/>\r\n      </g>\r\n     </g>\r\n     <g id=\"text_1\">\r\n      <!-- 0 -->\r\n      <defs>\r\n       <path d=\"M 31.78125 66.40625 \r\nQ 24.171875 66.40625 20.328125 58.90625 \r\nQ 16.5 51.421875 16.5 36.375 \r\nQ 16.5 21.390625 20.328125 13.890625 \r\nQ 24.171875 6.390625 31.78125 6.390625 \r\nQ 39.453125 6.390625 43.28125 13.890625 \r\nQ 47.125 21.390625 47.125 36.375 \r\nQ 47.125 51.421875 43.28125 58.90625 \r\nQ 39.453125 66.40625 31.78125 66.40625 \r\nz\r\nM 31.78125 74.21875 \r\nQ 44.046875 74.21875 50.515625 64.515625 \r\nQ 56.984375 54.828125 56.984375 36.375 \r\nQ 56.984375 17.96875 50.515625 8.265625 \r\nQ 44.046875 -1.421875 31.78125 -1.421875 \r\nQ 19.53125 -1.421875 13.0625 8.265625 \r\nQ 6.59375 17.96875 6.59375 36.375 \r\nQ 6.59375 54.828125 13.0625 64.515625 \r\nQ 19.53125 74.21875 31.78125 74.21875 \r\nz\r\n\" id=\"DejaVuSans-48\"/>\r\n      </defs>\r\n      <g transform=\"translate(51.919548 239.238437)scale(0.1 -0.1)\">\r\n       <use xlink:href=\"#DejaVuSans-48\"/>\r\n      </g>\r\n     </g>\r\n    </g>\r\n    <g id=\"xtick_2\">\r\n     <g id=\"line2d_2\">\r\n      <g>\r\n       <use style=\"stroke:#000000;stroke-width:0.8;\" x=\"106.565735\" xlink:href=\"#m498c9b5172\" y=\"224.64\"/>\r\n      </g>\r\n     </g>\r\n     <g id=\"text_2\">\r\n      <!-- 50 -->\r\n      <defs>\r\n       <path d=\"M 10.796875 72.90625 \r\nL 49.515625 72.90625 \r\nL 49.515625 64.59375 \r\nL 19.828125 64.59375 \r\nL 19.828125 46.734375 \r\nQ 21.96875 47.46875 24.109375 47.828125 \r\nQ 26.265625 48.1875 28.421875 48.1875 \r\nQ 40.625 48.1875 47.75 41.5 \r\nQ 54.890625 34.8125 54.890625 23.390625 \r\nQ 54.890625 11.625 47.5625 5.09375 \r\nQ 40.234375 -1.421875 26.90625 -1.421875 \r\nQ 22.3125 -1.421875 17.546875 -0.640625 \r\nQ 12.796875 0.140625 7.71875 1.703125 \r\nL 7.71875 11.625 \r\nQ 12.109375 9.234375 16.796875 8.0625 \r\nQ 21.484375 6.890625 26.703125 6.890625 \r\nQ 35.15625 6.890625 40.078125 11.328125 \r\nQ 45.015625 15.765625 45.015625 23.390625 \r\nQ 45.015625 31 40.078125 35.4375 \r\nQ 35.15625 39.890625 26.703125 39.890625 \r\nQ 22.75 39.890625 18.8125 39.015625 \r\nQ 14.890625 38.140625 10.796875 36.28125 \r\nz\r\n\" id=\"DejaVuSans-53\"/>\r\n      </defs>\r\n      <g transform=\"translate(100.203235 239.238437)scale(0.1 -0.1)\">\r\n       <use xlink:href=\"#DejaVuSans-53\"/>\r\n       <use x=\"63.623047\" xlink:href=\"#DejaVuSans-48\"/>\r\n      </g>\r\n     </g>\r\n    </g>\r\n    <g id=\"xtick_3\">\r\n     <g id=\"line2d_3\">\r\n      <g>\r\n       <use style=\"stroke:#000000;stroke-width:0.8;\" x=\"158.030671\" xlink:href=\"#m498c9b5172\" y=\"224.64\"/>\r\n      </g>\r\n     </g>\r\n     <g id=\"text_3\">\r\n      <!-- 100 -->\r\n      <defs>\r\n       <path d=\"M 12.40625 8.296875 \r\nL 28.515625 8.296875 \r\nL 28.515625 63.921875 \r\nL 10.984375 60.40625 \r\nL 10.984375 69.390625 \r\nL 28.421875 72.90625 \r\nL 38.28125 72.90625 \r\nL 38.28125 8.296875 \r\nL 54.390625 8.296875 \r\nL 54.390625 0 \r\nL 12.40625 0 \r\nz\r\n\" id=\"DejaVuSans-49\"/>\r\n      </defs>\r\n      <g transform=\"translate(148.486921 239.238437)scale(0.1 -0.1)\">\r\n       <use xlink:href=\"#DejaVuSans-49\"/>\r\n       <use x=\"63.623047\" xlink:href=\"#DejaVuSans-48\"/>\r\n       <use x=\"127.246094\" xlink:href=\"#DejaVuSans-48\"/>\r\n      </g>\r\n     </g>\r\n    </g>\r\n    <g id=\"xtick_4\">\r\n     <g id=\"line2d_4\">\r\n      <g>\r\n       <use style=\"stroke:#000000;stroke-width:0.8;\" x=\"209.495608\" xlink:href=\"#m498c9b5172\" y=\"224.64\"/>\r\n      </g>\r\n     </g>\r\n     <g id=\"text_4\">\r\n      <!-- 150 -->\r\n      <g transform=\"translate(199.951858 239.238437)scale(0.1 -0.1)\">\r\n       <use xlink:href=\"#DejaVuSans-49\"/>\r\n       <use x=\"63.623047\" xlink:href=\"#DejaVuSans-53\"/>\r\n       <use x=\"127.246094\" xlink:href=\"#DejaVuSans-48\"/>\r\n      </g>\r\n     </g>\r\n    </g>\r\n    <g id=\"xtick_5\">\r\n     <g id=\"line2d_5\">\r\n      <g>\r\n       <use style=\"stroke:#000000;stroke-width:0.8;\" x=\"260.960545\" xlink:href=\"#m498c9b5172\" y=\"224.64\"/>\r\n      </g>\r\n     </g>\r\n     <g id=\"text_5\">\r\n      <!-- 200 -->\r\n      <defs>\r\n       <path d=\"M 19.1875 8.296875 \r\nL 53.609375 8.296875 \r\nL 53.609375 0 \r\nL 7.328125 0 \r\nL 7.328125 8.296875 \r\nQ 12.9375 14.109375 22.625 23.890625 \r\nQ 32.328125 33.6875 34.8125 36.53125 \r\nQ 39.546875 41.84375 41.421875 45.53125 \r\nQ 43.3125 49.21875 43.3125 52.78125 \r\nQ 43.3125 58.59375 39.234375 62.25 \r\nQ 35.15625 65.921875 28.609375 65.921875 \r\nQ 23.96875 65.921875 18.8125 64.3125 \r\nQ 13.671875 62.703125 7.8125 59.421875 \r\nL 7.8125 69.390625 \r\nQ 13.765625 71.78125 18.9375 73 \r\nQ 24.125 74.21875 28.421875 74.21875 \r\nQ 39.75 74.21875 46.484375 68.546875 \r\nQ 53.21875 62.890625 53.21875 53.421875 \r\nQ 53.21875 48.921875 51.53125 44.890625 \r\nQ 49.859375 40.875 45.40625 35.40625 \r\nQ 44.1875 33.984375 37.640625 27.21875 \r\nQ 31.109375 20.453125 19.1875 8.296875 \r\nz\r\n\" id=\"DejaVuSans-50\"/>\r\n      </defs>\r\n      <g transform=\"translate(251.416795 239.238437)scale(0.1 -0.1)\">\r\n       <use xlink:href=\"#DejaVuSans-50\"/>\r\n       <use x=\"63.623047\" xlink:href=\"#DejaVuSans-48\"/>\r\n       <use x=\"127.246094\" xlink:href=\"#DejaVuSans-48\"/>\r\n      </g>\r\n     </g>\r\n    </g>\r\n    <g id=\"xtick_6\">\r\n     <g id=\"line2d_6\">\r\n      <g>\r\n       <use style=\"stroke:#000000;stroke-width:0.8;\" x=\"312.425482\" xlink:href=\"#m498c9b5172\" y=\"224.64\"/>\r\n      </g>\r\n     </g>\r\n     <g id=\"text_6\">\r\n      <!-- 250 -->\r\n      <g transform=\"translate(302.881732 239.238437)scale(0.1 -0.1)\">\r\n       <use xlink:href=\"#DejaVuSans-50\"/>\r\n       <use x=\"63.623047\" xlink:href=\"#DejaVuSans-53\"/>\r\n       <use x=\"127.246094\" xlink:href=\"#DejaVuSans-48\"/>\r\n      </g>\r\n     </g>\r\n    </g>\r\n    <g id=\"xtick_7\">\r\n     <g id=\"line2d_7\">\r\n      <g>\r\n       <use style=\"stroke:#000000;stroke-width:0.8;\" x=\"363.890419\" xlink:href=\"#m498c9b5172\" y=\"224.64\"/>\r\n      </g>\r\n     </g>\r\n     <g id=\"text_7\">\r\n      <!-- 300 -->\r\n      <defs>\r\n       <path d=\"M 40.578125 39.3125 \r\nQ 47.65625 37.796875 51.625 33 \r\nQ 55.609375 28.21875 55.609375 21.1875 \r\nQ 55.609375 10.40625 48.1875 4.484375 \r\nQ 40.765625 -1.421875 27.09375 -1.421875 \r\nQ 22.515625 -1.421875 17.65625 -0.515625 \r\nQ 12.796875 0.390625 7.625 2.203125 \r\nL 7.625 11.71875 \r\nQ 11.71875 9.328125 16.59375 8.109375 \r\nQ 21.484375 6.890625 26.8125 6.890625 \r\nQ 36.078125 6.890625 40.9375 10.546875 \r\nQ 45.796875 14.203125 45.796875 21.1875 \r\nQ 45.796875 27.640625 41.28125 31.265625 \r\nQ 36.765625 34.90625 28.71875 34.90625 \r\nL 20.21875 34.90625 \r\nL 20.21875 43.015625 \r\nL 29.109375 43.015625 \r\nQ 36.375 43.015625 40.234375 45.921875 \r\nQ 44.09375 48.828125 44.09375 54.296875 \r\nQ 44.09375 59.90625 40.109375 62.90625 \r\nQ 36.140625 65.921875 28.71875 65.921875 \r\nQ 24.65625 65.921875 20.015625 65.03125 \r\nQ 15.375 64.15625 9.8125 62.3125 \r\nL 9.8125 71.09375 \r\nQ 15.4375 72.65625 20.34375 73.4375 \r\nQ 25.25 74.21875 29.59375 74.21875 \r\nQ 40.828125 74.21875 47.359375 69.109375 \r\nQ 53.90625 64.015625 53.90625 55.328125 \r\nQ 53.90625 49.265625 50.4375 45.09375 \r\nQ 46.96875 40.921875 40.578125 39.3125 \r\nz\r\n\" id=\"DejaVuSans-51\"/>\r\n      </defs>\r\n      <g transform=\"translate(354.346669 239.238437)scale(0.1 -0.1)\">\r\n       <use xlink:href=\"#DejaVuSans-51\"/>\r\n       <use x=\"63.623047\" xlink:href=\"#DejaVuSans-48\"/>\r\n       <use x=\"127.246094\" xlink:href=\"#DejaVuSans-48\"/>\r\n      </g>\r\n     </g>\r\n    </g>\r\n    <g id=\"text_8\">\r\n     <!-- TV -->\r\n     <defs>\r\n      <path d=\"M -0.296875 72.90625 \r\nL 61.375 72.90625 \r\nL 61.375 64.59375 \r\nL 35.5 64.59375 \r\nL 35.5 0 \r\nL 25.59375 0 \r\nL 25.59375 64.59375 \r\nL -0.296875 64.59375 \r\nz\r\n\" id=\"DejaVuSans-84\"/>\r\n      <path d=\"M 28.609375 0 \r\nL 0.78125 72.90625 \r\nL 11.078125 72.90625 \r\nL 34.1875 11.53125 \r\nL 57.328125 72.90625 \r\nL 67.578125 72.90625 \r\nL 39.796875 0 \r\nz\r\n\" id=\"DejaVuSans-86\"/>\r\n     </defs>\r\n     <g transform=\"translate(201.528906 252.916562)scale(0.1 -0.1)\">\r\n      <use xlink:href=\"#DejaVuSans-84\"/>\r\n      <use x=\"61.083984\" xlink:href=\"#DejaVuSans-86\"/>\r\n     </g>\r\n    </g>\r\n   </g>\r\n   <g id=\"matplotlib.axis_2\">\r\n    <g id=\"ytick_1\">\r\n     <g id=\"line2d_8\">\r\n      <defs>\r\n       <path d=\"M 0 0 \r\nL -3.5 0 \r\n\" id=\"m612aad042a\" style=\"stroke:#000000;stroke-width:0.8;\"/>\r\n      </defs>\r\n      <g>\r\n       <use style=\"stroke:#000000;stroke-width:0.8;\" x=\"40.603125\" xlink:href=\"#m612aad042a\" y=\"188.296235\"/>\r\n      </g>\r\n     </g>\r\n     <g id=\"text_9\">\r\n      <!-- 5 -->\r\n      <g transform=\"translate(27.240625 192.095454)scale(0.1 -0.1)\">\r\n       <use xlink:href=\"#DejaVuSans-53\"/>\r\n      </g>\r\n     </g>\r\n    </g>\r\n    <g id=\"ytick_2\">\r\n     <g id=\"line2d_9\">\r\n      <g>\r\n       <use style=\"stroke:#000000;stroke-width:0.8;\" x=\"40.603125\" xlink:href=\"#m612aad042a\" y=\"149.384281\"/>\r\n      </g>\r\n     </g>\r\n     <g id=\"text_10\">\r\n      <!-- 10 -->\r\n      <g transform=\"translate(20.878125 153.183499)scale(0.1 -0.1)\">\r\n       <use xlink:href=\"#DejaVuSans-49\"/>\r\n       <use x=\"63.623047\" xlink:href=\"#DejaVuSans-48\"/>\r\n      </g>\r\n     </g>\r\n    </g>\r\n    <g id=\"ytick_3\">\r\n     <g id=\"line2d_10\">\r\n      <g>\r\n       <use style=\"stroke:#000000;stroke-width:0.8;\" x=\"40.603125\" xlink:href=\"#m612aad042a\" y=\"110.472326\"/>\r\n      </g>\r\n     </g>\r\n     <g id=\"text_11\">\r\n      <!-- 15 -->\r\n      <g transform=\"translate(20.878125 114.271545)scale(0.1 -0.1)\">\r\n       <use xlink:href=\"#DejaVuSans-49\"/>\r\n       <use x=\"63.623047\" xlink:href=\"#DejaVuSans-53\"/>\r\n      </g>\r\n     </g>\r\n    </g>\r\n    <g id=\"ytick_4\">\r\n     <g id=\"line2d_11\">\r\n      <g>\r\n       <use style=\"stroke:#000000;stroke-width:0.8;\" x=\"40.603125\" xlink:href=\"#m612aad042a\" y=\"71.560372\"/>\r\n      </g>\r\n     </g>\r\n     <g id=\"text_12\">\r\n      <!-- 20 -->\r\n      <g transform=\"translate(20.878125 75.359591)scale(0.1 -0.1)\">\r\n       <use xlink:href=\"#DejaVuSans-50\"/>\r\n       <use x=\"63.623047\" xlink:href=\"#DejaVuSans-48\"/>\r\n      </g>\r\n     </g>\r\n    </g>\r\n    <g id=\"ytick_5\">\r\n     <g id=\"line2d_12\">\r\n      <g>\r\n       <use style=\"stroke:#000000;stroke-width:0.8;\" x=\"40.603125\" xlink:href=\"#m612aad042a\" y=\"32.648418\"/>\r\n      </g>\r\n     </g>\r\n     <g id=\"text_13\">\r\n      <!-- 25 -->\r\n      <g transform=\"translate(20.878125 36.447637)scale(0.1 -0.1)\">\r\n       <use xlink:href=\"#DejaVuSans-50\"/>\r\n       <use x=\"63.623047\" xlink:href=\"#DejaVuSans-53\"/>\r\n      </g>\r\n     </g>\r\n    </g>\r\n    <g id=\"text_14\">\r\n     <!-- Sales -->\r\n     <defs>\r\n      <path d=\"M 53.515625 70.515625 \r\nL 53.515625 60.890625 \r\nQ 47.90625 63.578125 42.921875 64.890625 \r\nQ 37.9375 66.21875 33.296875 66.21875 \r\nQ 25.25 66.21875 20.875 63.09375 \r\nQ 16.5 59.96875 16.5 54.203125 \r\nQ 16.5 49.359375 19.40625 46.890625 \r\nQ 22.3125 44.4375 30.421875 42.921875 \r\nL 36.375 41.703125 \r\nQ 47.40625 39.59375 52.65625 34.296875 \r\nQ 57.90625 29 57.90625 20.125 \r\nQ 57.90625 9.515625 50.796875 4.046875 \r\nQ 43.703125 -1.421875 29.984375 -1.421875 \r\nQ 24.8125 -1.421875 18.96875 -0.25 \r\nQ 13.140625 0.921875 6.890625 3.21875 \r\nL 6.890625 13.375 \r\nQ 12.890625 10.015625 18.65625 8.296875 \r\nQ 24.421875 6.59375 29.984375 6.59375 \r\nQ 38.421875 6.59375 43.015625 9.90625 \r\nQ 47.609375 13.234375 47.609375 19.390625 \r\nQ 47.609375 24.75 44.3125 27.78125 \r\nQ 41.015625 30.8125 33.5 32.328125 \r\nL 27.484375 33.5 \r\nQ 16.453125 35.6875 11.515625 40.375 \r\nQ 6.59375 45.0625 6.59375 53.421875 \r\nQ 6.59375 63.09375 13.40625 68.65625 \r\nQ 20.21875 74.21875 32.171875 74.21875 \r\nQ 37.3125 74.21875 42.625 73.28125 \r\nQ 47.953125 72.359375 53.515625 70.515625 \r\nz\r\n\" id=\"DejaVuSans-83\"/>\r\n      <path d=\"M 34.28125 27.484375 \r\nQ 23.390625 27.484375 19.1875 25 \r\nQ 14.984375 22.515625 14.984375 16.5 \r\nQ 14.984375 11.71875 18.140625 8.90625 \r\nQ 21.296875 6.109375 26.703125 6.109375 \r\nQ 34.1875 6.109375 38.703125 11.40625 \r\nQ 43.21875 16.703125 43.21875 25.484375 \r\nL 43.21875 27.484375 \r\nz\r\nM 52.203125 31.203125 \r\nL 52.203125 0 \r\nL 43.21875 0 \r\nL 43.21875 8.296875 \r\nQ 40.140625 3.328125 35.546875 0.953125 \r\nQ 30.953125 -1.421875 24.3125 -1.421875 \r\nQ 15.921875 -1.421875 10.953125 3.296875 \r\nQ 6 8.015625 6 15.921875 \r\nQ 6 25.140625 12.171875 29.828125 \r\nQ 18.359375 34.515625 30.609375 34.515625 \r\nL 43.21875 34.515625 \r\nL 43.21875 35.40625 \r\nQ 43.21875 41.609375 39.140625 45 \r\nQ 35.0625 48.390625 27.6875 48.390625 \r\nQ 23 48.390625 18.546875 47.265625 \r\nQ 14.109375 46.140625 10.015625 43.890625 \r\nL 10.015625 52.203125 \r\nQ 14.9375 54.109375 19.578125 55.046875 \r\nQ 24.21875 56 28.609375 56 \r\nQ 40.484375 56 46.34375 49.84375 \r\nQ 52.203125 43.703125 52.203125 31.203125 \r\nz\r\n\" id=\"DejaVuSans-97\"/>\r\n      <path d=\"M 9.421875 75.984375 \r\nL 18.40625 75.984375 \r\nL 18.40625 0 \r\nL 9.421875 0 \r\nz\r\n\" id=\"DejaVuSans-108\"/>\r\n      <path d=\"M 56.203125 29.59375 \r\nL 56.203125 25.203125 \r\nL 14.890625 25.203125 \r\nQ 15.484375 15.921875 20.484375 11.0625 \r\nQ 25.484375 6.203125 34.421875 6.203125 \r\nQ 39.59375 6.203125 44.453125 7.46875 \r\nQ 49.3125 8.734375 54.109375 11.28125 \r\nL 54.109375 2.78125 \r\nQ 49.265625 0.734375 44.1875 -0.34375 \r\nQ 39.109375 -1.421875 33.890625 -1.421875 \r\nQ 20.796875 -1.421875 13.15625 6.1875 \r\nQ 5.515625 13.8125 5.515625 26.8125 \r\nQ 5.515625 40.234375 12.765625 48.109375 \r\nQ 20.015625 56 32.328125 56 \r\nQ 43.359375 56 49.78125 48.890625 \r\nQ 56.203125 41.796875 56.203125 29.59375 \r\nz\r\nM 47.21875 32.234375 \r\nQ 47.125 39.59375 43.09375 43.984375 \r\nQ 39.0625 48.390625 32.421875 48.390625 \r\nQ 24.90625 48.390625 20.390625 44.140625 \r\nQ 15.875 39.890625 15.1875 32.171875 \r\nz\r\n\" id=\"DejaVuSans-101\"/>\r\n      <path d=\"M 44.28125 53.078125 \r\nL 44.28125 44.578125 \r\nQ 40.484375 46.53125 36.375 47.5 \r\nQ 32.28125 48.484375 27.875 48.484375 \r\nQ 21.1875 48.484375 17.84375 46.4375 \r\nQ 14.5 44.390625 14.5 40.28125 \r\nQ 14.5 37.15625 16.890625 35.375 \r\nQ 19.28125 33.59375 26.515625 31.984375 \r\nL 29.59375 31.296875 \r\nQ 39.15625 29.25 43.1875 25.515625 \r\nQ 47.21875 21.78125 47.21875 15.09375 \r\nQ 47.21875 7.46875 41.1875 3.015625 \r\nQ 35.15625 -1.421875 24.609375 -1.421875 \r\nQ 20.21875 -1.421875 15.453125 -0.5625 \r\nQ 10.6875 0.296875 5.421875 2 \r\nL 5.421875 11.28125 \r\nQ 10.40625 8.6875 15.234375 7.390625 \r\nQ 20.0625 6.109375 24.8125 6.109375 \r\nQ 31.15625 6.109375 34.5625 8.28125 \r\nQ 37.984375 10.453125 37.984375 14.40625 \r\nQ 37.984375 18.0625 35.515625 20.015625 \r\nQ 33.0625 21.96875 24.703125 23.78125 \r\nL 21.578125 24.515625 \r\nQ 13.234375 26.265625 9.515625 29.90625 \r\nQ 5.8125 33.546875 5.8125 39.890625 \r\nQ 5.8125 47.609375 11.28125 51.796875 \r\nQ 16.75 56 26.8125 56 \r\nQ 31.78125 56 36.171875 55.265625 \r\nQ 40.578125 54.546875 44.28125 53.078125 \r\nz\r\n\" id=\"DejaVuSans-115\"/>\r\n     </defs>\r\n     <g transform=\"translate(14.798438 129.228594)rotate(-90)scale(0.1 -0.1)\">\r\n      <use xlink:href=\"#DejaVuSans-83\"/>\r\n      <use x=\"63.476562\" xlink:href=\"#DejaVuSans-97\"/>\r\n      <use x=\"124.755859\" xlink:href=\"#DejaVuSans-108\"/>\r\n      <use x=\"152.539062\" xlink:href=\"#DejaVuSans-101\"/>\r\n      <use x=\"214.0625\" xlink:href=\"#DejaVuSans-115\"/>\r\n     </g>\r\n    </g>\r\n   </g>\r\n   <g id=\"line2d_13\">\r\n    <path clip-path=\"url(#p6c2bcc0c19)\" d=\"M 291.942437 87.352598 \r\nL 55.821307 172.218833 \r\nL 360.184943 62.824998 \r\nL 294.001034 86.612701 \r\n\" style=\"fill:none;stroke:#ff0000;stroke-linecap:square;stroke-width:2;\"/>\r\n   </g>\r\n   <g id=\"patch_3\">\r\n    <path d=\"M 40.603125 224.64 \r\nL 40.603125 7.2 \r\n\" style=\"fill:none;stroke:#000000;stroke-linecap:square;stroke-linejoin:miter;stroke-width:0.8;\"/>\r\n   </g>\r\n   <g id=\"patch_4\">\r\n    <path d=\"M 375.403125 224.64 \r\nL 375.403125 7.2 \r\n\" style=\"fill:none;stroke:#000000;stroke-linecap:square;stroke-linejoin:miter;stroke-width:0.8;\"/>\r\n   </g>\r\n   <g id=\"patch_5\">\r\n    <path d=\"M 40.603125 224.64 \r\nL 375.403125 224.64 \r\n\" style=\"fill:none;stroke:#000000;stroke-linecap:square;stroke-linejoin:miter;stroke-width:0.8;\"/>\r\n   </g>\r\n   <g id=\"patch_6\">\r\n    <path d=\"M 40.603125 7.2 \r\nL 375.403125 7.2 \r\n\" style=\"fill:none;stroke:#000000;stroke-linecap:square;stroke-linejoin:miter;stroke-width:0.8;\"/>\r\n   </g>\r\n  </g>\r\n </g>\r\n <defs>\r\n  <clipPath id=\"p6c2bcc0c19\">\r\n   <rect height=\"217.44\" width=\"334.8\" x=\"40.603125\" y=\"7.2\"/>\r\n  </clipPath>\r\n </defs>\r\n</svg>\r\n",
      "image/png": "[encoded data removed]"
     },
     "metadata": {
      "needs_background": "light"
     }
    }
   ],
   "source": [
    "data.plot(kind = \"scatter\", x = \"TV\", y = \"Sales\")\n",
    "plt.plot(pd.DataFrame(data[\"TV\"]), sales_pred, c = \"red\", linewidth = 2)"
   ]
  },
  {
   "cell_type": "code",
   "execution_count": 67,
   "metadata": {},
   "outputs": [],
   "source": [
    "data[\"sales_pred\"] = 7.032594 + 0.047537*data[\"TV\"]"
   ]
  },
  {
   "cell_type": "code",
   "execution_count": 68,
   "metadata": {},
   "outputs": [],
   "source": [
    "data[\"RSE\"] = (data[\"Sales\"]-data[\"sales_pred\"])**2"
   ]
  },
  {
   "cell_type": "code",
   "execution_count": 69,
   "metadata": {},
   "outputs": [],
   "source": [
    "SSD = sum(data[\"RSE\"])"
   ]
  },
  {
   "cell_type": "code",
   "execution_count": 70,
   "metadata": {},
   "outputs": [
    {
     "output_type": "execute_result",
     "data": {
      "text/plain": "3.258656369238098"
     },
     "metadata": {},
     "execution_count": 70
    }
   ],
   "source": [
    "import numpy as np\n",
    "RSE = np.sqrt(SSD/(len(data)-2))\n",
    "RSE"
   ]
  },
  {
   "cell_type": "code",
   "execution_count": 71,
   "metadata": {},
   "outputs": [],
   "source": [
    "sales_m = np.mean(data[\"Sales\"])"
   ]
  },
  {
   "cell_type": "code",
   "execution_count": 72,
   "metadata": {},
   "outputs": [
    {
     "output_type": "execute_result",
     "data": {
      "text/plain": "14.0225"
     },
     "metadata": {},
     "execution_count": 72
    }
   ],
   "source": [
    "sales_m"
   ]
  },
  {
   "cell_type": "code",
   "execution_count": 73,
   "metadata": {},
   "outputs": [
    {
     "output_type": "execute_result",
     "data": {
      "text/plain": "0.23238768901680143"
     },
     "metadata": {},
     "execution_count": 73
    }
   ],
   "source": [
    "error= RSE/sales_m\n",
    "error"
   ]
  },
  {
   "cell_type": "code",
   "execution_count": 74,
   "metadata": {},
   "outputs": [
    {
     "output_type": "execute_result",
     "data": {
      "text/plain": "(array([ 4., 10., 13., 17., 40., 42., 33., 16., 17.,  8.]),\n array([-8.3860819 , -6.82624404, -5.26640618, -3.70656832, -2.14673046,\n        -0.5868926 ,  0.97294526,  2.53278312,  4.09262098,  5.65245884,\n         7.2122967 ]),\n <a list of 10 Patch objects>)"
     },
     "metadata": {},
     "execution_count": 74
    },
    {
     "output_type": "display_data",
     "data": {
      "text/plain": "<Figure size 432x288 with 1 Axes>",
      "image/svg+xml": "<?xml version=\"1.0\" encoding=\"utf-8\" standalone=\"no\"?>\r\n<!DOCTYPE svg PUBLIC \"-//W3C//DTD SVG 1.1//EN\"\r\n  \"http://www.w3.org/Graphics/SVG/1.1/DTD/svg11.dtd\">\r\n<!-- Created with matplotlib (https://matplotlib.org/) -->\r\n<svg height=\"248.518125pt\" version=\"1.1\" viewBox=\"0 0 368.925 248.518125\" width=\"368.925pt\" xmlns=\"http://www.w3.org/2000/svg\" xmlns:xlink=\"http://www.w3.org/1999/xlink\">\r\n <defs>\r\n  <style type=\"text/css\">\r\n*{stroke-linecap:butt;stroke-linejoin:round;}\r\n  </style>\r\n </defs>\r\n <g id=\"figure_1\">\r\n  <g id=\"patch_1\">\r\n   <path d=\"M -0 248.518125 \r\nL 368.925 248.518125 \r\nL 368.925 0 \r\nL -0 0 \r\nz\r\n\" style=\"fill:none;\"/>\r\n  </g>\r\n  <g id=\"axes_1\">\r\n   <g id=\"patch_2\">\r\n    <path d=\"M 26.925 224.64 \r\nL 361.725 224.64 \r\nL 361.725 7.2 \r\nL 26.925 7.2 \r\nz\r\n\" style=\"fill:#ffffff;\"/>\r\n   </g>\r\n   <g id=\"patch_3\">\r\n    <path clip-path=\"url(#pa0daeffad3)\" d=\"M 42.143182 224.64 \r\nL 72.579545 224.64 \r\nL 72.579545 204.917551 \r\nL 42.143182 204.917551 \r\nz\r\n\" style=\"fill:#1f77b4;\"/>\r\n   </g>\r\n   <g id=\"patch_4\">\r\n    <path clip-path=\"url(#pa0daeffad3)\" d=\"M 72.579545 224.64 \r\nL 103.015909 224.64 \r\nL 103.015909 175.333878 \r\nL 72.579545 175.333878 \r\nz\r\n\" style=\"fill:#1f77b4;\"/>\r\n   </g>\r\n   <g id=\"patch_5\">\r\n    <path clip-path=\"url(#pa0daeffad3)\" d=\"M 103.015909 224.64 \r\nL 133.452273 224.64 \r\nL 133.452273 160.542041 \r\nL 103.015909 160.542041 \r\nz\r\n\" style=\"fill:#1f77b4;\"/>\r\n   </g>\r\n   <g id=\"patch_6\">\r\n    <path clip-path=\"url(#pa0daeffad3)\" d=\"M 133.452273 224.64 \r\nL 163.888636 224.64 \r\nL 163.888636 140.819592 \r\nL 133.452273 140.819592 \r\nz\r\n\" style=\"fill:#1f77b4;\"/>\r\n   </g>\r\n   <g id=\"patch_7\">\r\n    <path clip-path=\"url(#pa0daeffad3)\" d=\"M 163.888636 224.64 \r\nL 194.325 224.64 \r\nL 194.325 27.41551 \r\nL 163.888636 27.41551 \r\nz\r\n\" style=\"fill:#1f77b4;\"/>\r\n   </g>\r\n   <g id=\"patch_8\">\r\n    <path clip-path=\"url(#pa0daeffad3)\" d=\"M 194.325 224.64 \r\nL 224.761364 224.64 \r\nL 224.761364 17.554286 \r\nL 194.325 17.554286 \r\nz\r\n\" style=\"fill:#1f77b4;\"/>\r\n   </g>\r\n   <g id=\"patch_9\">\r\n    <path clip-path=\"url(#pa0daeffad3)\" d=\"M 224.761364 224.64 \r\nL 255.197727 224.64 \r\nL 255.197727 61.929796 \r\nL 224.761364 61.929796 \r\nz\r\n\" style=\"fill:#1f77b4;\"/>\r\n   </g>\r\n   <g id=\"patch_10\">\r\n    <path clip-path=\"url(#pa0daeffad3)\" d=\"M 255.197727 224.64 \r\nL 285.634091 224.64 \r\nL 285.634091 145.750204 \r\nL 255.197727 145.750204 \r\nz\r\n\" style=\"fill:#1f77b4;\"/>\r\n   </g>\r\n   <g id=\"patch_11\">\r\n    <path clip-path=\"url(#pa0daeffad3)\" d=\"M 285.634091 224.64 \r\nL 316.070455 224.64 \r\nL 316.070455 140.819592 \r\nL 285.634091 140.819592 \r\nz\r\n\" style=\"fill:#1f77b4;\"/>\r\n   </g>\r\n   <g id=\"patch_12\">\r\n    <path clip-path=\"url(#pa0daeffad3)\" d=\"M 316.070455 224.64 \r\nL 346.506818 224.64 \r\nL 346.506818 185.195102 \r\nL 316.070455 185.195102 \r\nz\r\n\" style=\"fill:#1f77b4;\"/>\r\n   </g>\r\n   <g id=\"matplotlib.axis_1\">\r\n    <g id=\"xtick_1\">\r\n     <g id=\"line2d_1\">\r\n      <defs>\r\n       <path d=\"M 0 0 \r\nL 0 3.5 \r\n\" id=\"m1ef136d40a\" style=\"stroke:#000000;stroke-width:0.8;\"/>\r\n      </defs>\r\n      <g>\r\n       <use style=\"stroke:#000000;stroke-width:0.8;\" x=\"49.676612\" xlink:href=\"#m1ef136d40a\" y=\"224.64\"/>\r\n      </g>\r\n     </g>\r\n     <g id=\"text_1\">\r\n      <!-- −8 -->\r\n      <defs>\r\n       <path d=\"M 10.59375 35.5 \r\nL 73.1875 35.5 \r\nL 73.1875 27.203125 \r\nL 10.59375 27.203125 \r\nz\r\n\" id=\"DejaVuSans-8722\"/>\r\n       <path d=\"M 31.78125 34.625 \r\nQ 24.75 34.625 20.71875 30.859375 \r\nQ 16.703125 27.09375 16.703125 20.515625 \r\nQ 16.703125 13.921875 20.71875 10.15625 \r\nQ 24.75 6.390625 31.78125 6.390625 \r\nQ 38.8125 6.390625 42.859375 10.171875 \r\nQ 46.921875 13.96875 46.921875 20.515625 \r\nQ 46.921875 27.09375 42.890625 30.859375 \r\nQ 38.875 34.625 31.78125 34.625 \r\nz\r\nM 21.921875 38.8125 \r\nQ 15.578125 40.375 12.03125 44.71875 \r\nQ 8.5 49.078125 8.5 55.328125 \r\nQ 8.5 64.0625 14.71875 69.140625 \r\nQ 20.953125 74.21875 31.78125 74.21875 \r\nQ 42.671875 74.21875 48.875 69.140625 \r\nQ 55.078125 64.0625 55.078125 55.328125 \r\nQ 55.078125 49.078125 51.53125 44.71875 \r\nQ 48 40.375 41.703125 38.8125 \r\nQ 48.828125 37.15625 52.796875 32.3125 \r\nQ 56.78125 27.484375 56.78125 20.515625 \r\nQ 56.78125 9.90625 50.3125 4.234375 \r\nQ 43.84375 -1.421875 31.78125 -1.421875 \r\nQ 19.734375 -1.421875 13.25 4.234375 \r\nQ 6.78125 9.90625 6.78125 20.515625 \r\nQ 6.78125 27.484375 10.78125 32.3125 \r\nQ 14.796875 37.15625 21.921875 38.8125 \r\nz\r\nM 18.3125 54.390625 \r\nQ 18.3125 48.734375 21.84375 45.5625 \r\nQ 25.390625 42.390625 31.78125 42.390625 \r\nQ 38.140625 42.390625 41.71875 45.5625 \r\nQ 45.3125 48.734375 45.3125 54.390625 \r\nQ 45.3125 60.0625 41.71875 63.234375 \r\nQ 38.140625 66.40625 31.78125 66.40625 \r\nQ 25.390625 66.40625 21.84375 63.234375 \r\nQ 18.3125 60.0625 18.3125 54.390625 \r\nz\r\n\" id=\"DejaVuSans-56\"/>\r\n      </defs>\r\n      <g transform=\"translate(42.305518 239.238437)scale(0.1 -0.1)\">\r\n       <use xlink:href=\"#DejaVuSans-8722\"/>\r\n       <use x=\"83.789062\" xlink:href=\"#DejaVuSans-56\"/>\r\n      </g>\r\n     </g>\r\n    </g>\r\n    <g id=\"xtick_2\">\r\n     <g id=\"line2d_2\">\r\n      <g>\r\n       <use style=\"stroke:#000000;stroke-width:0.8;\" x=\"88.701647\" xlink:href=\"#m1ef136d40a\" y=\"224.64\"/>\r\n      </g>\r\n     </g>\r\n     <g id=\"text_2\">\r\n      <!-- −6 -->\r\n      <defs>\r\n       <path d=\"M 33.015625 40.375 \r\nQ 26.375 40.375 22.484375 35.828125 \r\nQ 18.609375 31.296875 18.609375 23.390625 \r\nQ 18.609375 15.53125 22.484375 10.953125 \r\nQ 26.375 6.390625 33.015625 6.390625 \r\nQ 39.65625 6.390625 43.53125 10.953125 \r\nQ 47.40625 15.53125 47.40625 23.390625 \r\nQ 47.40625 31.296875 43.53125 35.828125 \r\nQ 39.65625 40.375 33.015625 40.375 \r\nz\r\nM 52.59375 71.296875 \r\nL 52.59375 62.3125 \r\nQ 48.875 64.0625 45.09375 64.984375 \r\nQ 41.3125 65.921875 37.59375 65.921875 \r\nQ 27.828125 65.921875 22.671875 59.328125 \r\nQ 17.53125 52.734375 16.796875 39.40625 \r\nQ 19.671875 43.65625 24.015625 45.921875 \r\nQ 28.375 48.1875 33.59375 48.1875 \r\nQ 44.578125 48.1875 50.953125 41.515625 \r\nQ 57.328125 34.859375 57.328125 23.390625 \r\nQ 57.328125 12.15625 50.6875 5.359375 \r\nQ 44.046875 -1.421875 33.015625 -1.421875 \r\nQ 20.359375 -1.421875 13.671875 8.265625 \r\nQ 6.984375 17.96875 6.984375 36.375 \r\nQ 6.984375 53.65625 15.1875 63.9375 \r\nQ 23.390625 74.21875 37.203125 74.21875 \r\nQ 40.921875 74.21875 44.703125 73.484375 \r\nQ 48.484375 72.75 52.59375 71.296875 \r\nz\r\n\" id=\"DejaVuSans-54\"/>\r\n      </defs>\r\n      <g transform=\"translate(81.330553 239.238437)scale(0.1 -0.1)\">\r\n       <use xlink:href=\"#DejaVuSans-8722\"/>\r\n       <use x=\"83.789062\" xlink:href=\"#DejaVuSans-54\"/>\r\n      </g>\r\n     </g>\r\n    </g>\r\n    <g id=\"xtick_3\">\r\n     <g id=\"line2d_3\">\r\n      <g>\r\n       <use style=\"stroke:#000000;stroke-width:0.8;\" x=\"127.726682\" xlink:href=\"#m1ef136d40a\" y=\"224.64\"/>\r\n      </g>\r\n     </g>\r\n     <g id=\"text_3\">\r\n      <!-- −4 -->\r\n      <defs>\r\n       <path d=\"M 37.796875 64.3125 \r\nL 12.890625 25.390625 \r\nL 37.796875 25.390625 \r\nz\r\nM 35.203125 72.90625 \r\nL 47.609375 72.90625 \r\nL 47.609375 25.390625 \r\nL 58.015625 25.390625 \r\nL 58.015625 17.1875 \r\nL 47.609375 17.1875 \r\nL 47.609375 0 \r\nL 37.796875 0 \r\nL 37.796875 17.1875 \r\nL 4.890625 17.1875 \r\nL 4.890625 26.703125 \r\nz\r\n\" id=\"DejaVuSans-52\"/>\r\n      </defs>\r\n      <g transform=\"translate(120.355588 239.238437)scale(0.1 -0.1)\">\r\n       <use xlink:href=\"#DejaVuSans-8722\"/>\r\n       <use x=\"83.789062\" xlink:href=\"#DejaVuSans-52\"/>\r\n      </g>\r\n     </g>\r\n    </g>\r\n    <g id=\"xtick_4\">\r\n     <g id=\"line2d_4\">\r\n      <g>\r\n       <use style=\"stroke:#000000;stroke-width:0.8;\" x=\"166.751717\" xlink:href=\"#m1ef136d40a\" y=\"224.64\"/>\r\n      </g>\r\n     </g>\r\n     <g id=\"text_4\">\r\n      <!-- −2 -->\r\n      <defs>\r\n       <path d=\"M 19.1875 8.296875 \r\nL 53.609375 8.296875 \r\nL 53.609375 0 \r\nL 7.328125 0 \r\nL 7.328125 8.296875 \r\nQ 12.9375 14.109375 22.625 23.890625 \r\nQ 32.328125 33.6875 34.8125 36.53125 \r\nQ 39.546875 41.84375 41.421875 45.53125 \r\nQ 43.3125 49.21875 43.3125 52.78125 \r\nQ 43.3125 58.59375 39.234375 62.25 \r\nQ 35.15625 65.921875 28.609375 65.921875 \r\nQ 23.96875 65.921875 18.8125 64.3125 \r\nQ 13.671875 62.703125 7.8125 59.421875 \r\nL 7.8125 69.390625 \r\nQ 13.765625 71.78125 18.9375 73 \r\nQ 24.125 74.21875 28.421875 74.21875 \r\nQ 39.75 74.21875 46.484375 68.546875 \r\nQ 53.21875 62.890625 53.21875 53.421875 \r\nQ 53.21875 48.921875 51.53125 44.890625 \r\nQ 49.859375 40.875 45.40625 35.40625 \r\nQ 44.1875 33.984375 37.640625 27.21875 \r\nQ 31.109375 20.453125 19.1875 8.296875 \r\nz\r\n\" id=\"DejaVuSans-50\"/>\r\n      </defs>\r\n      <g transform=\"translate(159.380623 239.238437)scale(0.1 -0.1)\">\r\n       <use xlink:href=\"#DejaVuSans-8722\"/>\r\n       <use x=\"83.789062\" xlink:href=\"#DejaVuSans-50\"/>\r\n      </g>\r\n     </g>\r\n    </g>\r\n    <g id=\"xtick_5\">\r\n     <g id=\"line2d_5\">\r\n      <g>\r\n       <use style=\"stroke:#000000;stroke-width:0.8;\" x=\"205.776752\" xlink:href=\"#m1ef136d40a\" y=\"224.64\"/>\r\n      </g>\r\n     </g>\r\n     <g id=\"text_5\">\r\n      <!-- 0 -->\r\n      <defs>\r\n       <path d=\"M 31.78125 66.40625 \r\nQ 24.171875 66.40625 20.328125 58.90625 \r\nQ 16.5 51.421875 16.5 36.375 \r\nQ 16.5 21.390625 20.328125 13.890625 \r\nQ 24.171875 6.390625 31.78125 6.390625 \r\nQ 39.453125 6.390625 43.28125 13.890625 \r\nQ 47.125 21.390625 47.125 36.375 \r\nQ 47.125 51.421875 43.28125 58.90625 \r\nQ 39.453125 66.40625 31.78125 66.40625 \r\nz\r\nM 31.78125 74.21875 \r\nQ 44.046875 74.21875 50.515625 64.515625 \r\nQ 56.984375 54.828125 56.984375 36.375 \r\nQ 56.984375 17.96875 50.515625 8.265625 \r\nQ 44.046875 -1.421875 31.78125 -1.421875 \r\nQ 19.53125 -1.421875 13.0625 8.265625 \r\nQ 6.59375 17.96875 6.59375 36.375 \r\nQ 6.59375 54.828125 13.0625 64.515625 \r\nQ 19.53125 74.21875 31.78125 74.21875 \r\nz\r\n\" id=\"DejaVuSans-48\"/>\r\n      </defs>\r\n      <g transform=\"translate(202.595502 239.238437)scale(0.1 -0.1)\">\r\n       <use xlink:href=\"#DejaVuSans-48\"/>\r\n      </g>\r\n     </g>\r\n    </g>\r\n    <g id=\"xtick_6\">\r\n     <g id=\"line2d_6\">\r\n      <g>\r\n       <use style=\"stroke:#000000;stroke-width:0.8;\" x=\"244.801787\" xlink:href=\"#m1ef136d40a\" y=\"224.64\"/>\r\n      </g>\r\n     </g>\r\n     <g id=\"text_6\">\r\n      <!-- 2 -->\r\n      <g transform=\"translate(241.620537 239.238437)scale(0.1 -0.1)\">\r\n       <use xlink:href=\"#DejaVuSans-50\"/>\r\n      </g>\r\n     </g>\r\n    </g>\r\n    <g id=\"xtick_7\">\r\n     <g id=\"line2d_7\">\r\n      <g>\r\n       <use style=\"stroke:#000000;stroke-width:0.8;\" x=\"283.826822\" xlink:href=\"#m1ef136d40a\" y=\"224.64\"/>\r\n      </g>\r\n     </g>\r\n     <g id=\"text_7\">\r\n      <!-- 4 -->\r\n      <g transform=\"translate(280.645572 239.238437)scale(0.1 -0.1)\">\r\n       <use xlink:href=\"#DejaVuSans-52\"/>\r\n      </g>\r\n     </g>\r\n    </g>\r\n    <g id=\"xtick_8\">\r\n     <g id=\"line2d_8\">\r\n      <g>\r\n       <use style=\"stroke:#000000;stroke-width:0.8;\" x=\"322.851858\" xlink:href=\"#m1ef136d40a\" y=\"224.64\"/>\r\n      </g>\r\n     </g>\r\n     <g id=\"text_8\">\r\n      <!-- 6 -->\r\n      <g transform=\"translate(319.670608 239.238437)scale(0.1 -0.1)\">\r\n       <use xlink:href=\"#DejaVuSans-54\"/>\r\n      </g>\r\n     </g>\r\n    </g>\r\n   </g>\r\n   <g id=\"matplotlib.axis_2\">\r\n    <g id=\"ytick_1\">\r\n     <g id=\"line2d_9\">\r\n      <defs>\r\n       <path d=\"M 0 0 \r\nL -3.5 0 \r\n\" id=\"m8a6c9a23ed\" style=\"stroke:#000000;stroke-width:0.8;\"/>\r\n      </defs>\r\n      <g>\r\n       <use style=\"stroke:#000000;stroke-width:0.8;\" x=\"26.925\" xlink:href=\"#m8a6c9a23ed\" y=\"224.64\"/>\r\n      </g>\r\n     </g>\r\n     <g id=\"text_9\">\r\n      <!-- 0 -->\r\n      <g transform=\"translate(13.5625 228.439219)scale(0.1 -0.1)\">\r\n       <use xlink:href=\"#DejaVuSans-48\"/>\r\n      </g>\r\n     </g>\r\n    </g>\r\n    <g id=\"ytick_2\">\r\n     <g id=\"line2d_10\">\r\n      <g>\r\n       <use style=\"stroke:#000000;stroke-width:0.8;\" x=\"26.925\" xlink:href=\"#m8a6c9a23ed\" y=\"199.986939\"/>\r\n      </g>\r\n     </g>\r\n     <g id=\"text_10\">\r\n      <!-- 5 -->\r\n      <defs>\r\n       <path d=\"M 10.796875 72.90625 \r\nL 49.515625 72.90625 \r\nL 49.515625 64.59375 \r\nL 19.828125 64.59375 \r\nL 19.828125 46.734375 \r\nQ 21.96875 47.46875 24.109375 47.828125 \r\nQ 26.265625 48.1875 28.421875 48.1875 \r\nQ 40.625 48.1875 47.75 41.5 \r\nQ 54.890625 34.8125 54.890625 23.390625 \r\nQ 54.890625 11.625 47.5625 5.09375 \r\nQ 40.234375 -1.421875 26.90625 -1.421875 \r\nQ 22.3125 -1.421875 17.546875 -0.640625 \r\nQ 12.796875 0.140625 7.71875 1.703125 \r\nL 7.71875 11.625 \r\nQ 12.109375 9.234375 16.796875 8.0625 \r\nQ 21.484375 6.890625 26.703125 6.890625 \r\nQ 35.15625 6.890625 40.078125 11.328125 \r\nQ 45.015625 15.765625 45.015625 23.390625 \r\nQ 45.015625 31 40.078125 35.4375 \r\nQ 35.15625 39.890625 26.703125 39.890625 \r\nQ 22.75 39.890625 18.8125 39.015625 \r\nQ 14.890625 38.140625 10.796875 36.28125 \r\nz\r\n\" id=\"DejaVuSans-53\"/>\r\n      </defs>\r\n      <g transform=\"translate(13.5625 203.786158)scale(0.1 -0.1)\">\r\n       <use xlink:href=\"#DejaVuSans-53\"/>\r\n      </g>\r\n     </g>\r\n    </g>\r\n    <g id=\"ytick_3\">\r\n     <g id=\"line2d_11\">\r\n      <g>\r\n       <use style=\"stroke:#000000;stroke-width:0.8;\" x=\"26.925\" xlink:href=\"#m8a6c9a23ed\" y=\"175.333878\"/>\r\n      </g>\r\n     </g>\r\n     <g id=\"text_11\">\r\n      <!-- 10 -->\r\n      <defs>\r\n       <path d=\"M 12.40625 8.296875 \r\nL 28.515625 8.296875 \r\nL 28.515625 63.921875 \r\nL 10.984375 60.40625 \r\nL 10.984375 69.390625 \r\nL 28.421875 72.90625 \r\nL 38.28125 72.90625 \r\nL 38.28125 8.296875 \r\nL 54.390625 8.296875 \r\nL 54.390625 0 \r\nL 12.40625 0 \r\nz\r\n\" id=\"DejaVuSans-49\"/>\r\n      </defs>\r\n      <g transform=\"translate(7.2 179.133096)scale(0.1 -0.1)\">\r\n       <use xlink:href=\"#DejaVuSans-49\"/>\r\n       <use x=\"63.623047\" xlink:href=\"#DejaVuSans-48\"/>\r\n      </g>\r\n     </g>\r\n    </g>\r\n    <g id=\"ytick_4\">\r\n     <g id=\"line2d_12\">\r\n      <g>\r\n       <use style=\"stroke:#000000;stroke-width:0.8;\" x=\"26.925\" xlink:href=\"#m8a6c9a23ed\" y=\"150.680816\"/>\r\n      </g>\r\n     </g>\r\n     <g id=\"text_12\">\r\n      <!-- 15 -->\r\n      <g transform=\"translate(7.2 154.480035)scale(0.1 -0.1)\">\r\n       <use xlink:href=\"#DejaVuSans-49\"/>\r\n       <use x=\"63.623047\" xlink:href=\"#DejaVuSans-53\"/>\r\n      </g>\r\n     </g>\r\n    </g>\r\n    <g id=\"ytick_5\">\r\n     <g id=\"line2d_13\">\r\n      <g>\r\n       <use style=\"stroke:#000000;stroke-width:0.8;\" x=\"26.925\" xlink:href=\"#m8a6c9a23ed\" y=\"126.027755\"/>\r\n      </g>\r\n     </g>\r\n     <g id=\"text_13\">\r\n      <!-- 20 -->\r\n      <g transform=\"translate(7.2 129.826974)scale(0.1 -0.1)\">\r\n       <use xlink:href=\"#DejaVuSans-50\"/>\r\n       <use x=\"63.623047\" xlink:href=\"#DejaVuSans-48\"/>\r\n      </g>\r\n     </g>\r\n    </g>\r\n    <g id=\"ytick_6\">\r\n     <g id=\"line2d_14\">\r\n      <g>\r\n       <use style=\"stroke:#000000;stroke-width:0.8;\" x=\"26.925\" xlink:href=\"#m8a6c9a23ed\" y=\"101.374694\"/>\r\n      </g>\r\n     </g>\r\n     <g id=\"text_14\">\r\n      <!-- 25 -->\r\n      <g transform=\"translate(7.2 105.173913)scale(0.1 -0.1)\">\r\n       <use xlink:href=\"#DejaVuSans-50\"/>\r\n       <use x=\"63.623047\" xlink:href=\"#DejaVuSans-53\"/>\r\n      </g>\r\n     </g>\r\n    </g>\r\n    <g id=\"ytick_7\">\r\n     <g id=\"line2d_15\">\r\n      <g>\r\n       <use style=\"stroke:#000000;stroke-width:0.8;\" x=\"26.925\" xlink:href=\"#m8a6c9a23ed\" y=\"76.721633\"/>\r\n      </g>\r\n     </g>\r\n     <g id=\"text_15\">\r\n      <!-- 30 -->\r\n      <defs>\r\n       <path d=\"M 40.578125 39.3125 \r\nQ 47.65625 37.796875 51.625 33 \r\nQ 55.609375 28.21875 55.609375 21.1875 \r\nQ 55.609375 10.40625 48.1875 4.484375 \r\nQ 40.765625 -1.421875 27.09375 -1.421875 \r\nQ 22.515625 -1.421875 17.65625 -0.515625 \r\nQ 12.796875 0.390625 7.625 2.203125 \r\nL 7.625 11.71875 \r\nQ 11.71875 9.328125 16.59375 8.109375 \r\nQ 21.484375 6.890625 26.8125 6.890625 \r\nQ 36.078125 6.890625 40.9375 10.546875 \r\nQ 45.796875 14.203125 45.796875 21.1875 \r\nQ 45.796875 27.640625 41.28125 31.265625 \r\nQ 36.765625 34.90625 28.71875 34.90625 \r\nL 20.21875 34.90625 \r\nL 20.21875 43.015625 \r\nL 29.109375 43.015625 \r\nQ 36.375 43.015625 40.234375 45.921875 \r\nQ 44.09375 48.828125 44.09375 54.296875 \r\nQ 44.09375 59.90625 40.109375 62.90625 \r\nQ 36.140625 65.921875 28.71875 65.921875 \r\nQ 24.65625 65.921875 20.015625 65.03125 \r\nQ 15.375 64.15625 9.8125 62.3125 \r\nL 9.8125 71.09375 \r\nQ 15.4375 72.65625 20.34375 73.4375 \r\nQ 25.25 74.21875 29.59375 74.21875 \r\nQ 40.828125 74.21875 47.359375 69.109375 \r\nQ 53.90625 64.015625 53.90625 55.328125 \r\nQ 53.90625 49.265625 50.4375 45.09375 \r\nQ 46.96875 40.921875 40.578125 39.3125 \r\nz\r\n\" id=\"DejaVuSans-51\"/>\r\n      </defs>\r\n      <g transform=\"translate(7.2 80.520851)scale(0.1 -0.1)\">\r\n       <use xlink:href=\"#DejaVuSans-51\"/>\r\n       <use x=\"63.623047\" xlink:href=\"#DejaVuSans-48\"/>\r\n      </g>\r\n     </g>\r\n    </g>\r\n    <g id=\"ytick_8\">\r\n     <g id=\"line2d_16\">\r\n      <g>\r\n       <use style=\"stroke:#000000;stroke-width:0.8;\" x=\"26.925\" xlink:href=\"#m8a6c9a23ed\" y=\"52.068571\"/>\r\n      </g>\r\n     </g>\r\n     <g id=\"text_16\">\r\n      <!-- 35 -->\r\n      <g transform=\"translate(7.2 55.86779)scale(0.1 -0.1)\">\r\n       <use xlink:href=\"#DejaVuSans-51\"/>\r\n       <use x=\"63.623047\" xlink:href=\"#DejaVuSans-53\"/>\r\n      </g>\r\n     </g>\r\n    </g>\r\n    <g id=\"ytick_9\">\r\n     <g id=\"line2d_17\">\r\n      <g>\r\n       <use style=\"stroke:#000000;stroke-width:0.8;\" x=\"26.925\" xlink:href=\"#m8a6c9a23ed\" y=\"27.41551\"/>\r\n      </g>\r\n     </g>\r\n     <g id=\"text_17\">\r\n      <!-- 40 -->\r\n      <g transform=\"translate(7.2 31.214729)scale(0.1 -0.1)\">\r\n       <use xlink:href=\"#DejaVuSans-52\"/>\r\n       <use x=\"63.623047\" xlink:href=\"#DejaVuSans-48\"/>\r\n      </g>\r\n     </g>\r\n    </g>\r\n   </g>\r\n   <g id=\"patch_13\">\r\n    <path d=\"M 26.925 224.64 \r\nL 26.925 7.2 \r\n\" style=\"fill:none;stroke:#000000;stroke-linecap:square;stroke-linejoin:miter;stroke-width:0.8;\"/>\r\n   </g>\r\n   <g id=\"patch_14\">\r\n    <path d=\"M 361.725 224.64 \r\nL 361.725 7.2 \r\n\" style=\"fill:none;stroke:#000000;stroke-linecap:square;stroke-linejoin:miter;stroke-width:0.8;\"/>\r\n   </g>\r\n   <g id=\"patch_15\">\r\n    <path d=\"M 26.925 224.64 \r\nL 361.725 224.64 \r\n\" style=\"fill:none;stroke:#000000;stroke-linecap:square;stroke-linejoin:miter;stroke-width:0.8;\"/>\r\n   </g>\r\n   <g id=\"patch_16\">\r\n    <path d=\"M 26.925 7.2 \r\nL 361.725 7.2 \r\n\" style=\"fill:none;stroke:#000000;stroke-linecap:square;stroke-linejoin:miter;stroke-width:0.8;\"/>\r\n   </g>\r\n  </g>\r\n </g>\r\n <defs>\r\n  <clipPath id=\"pa0daeffad3\">\r\n   <rect height=\"217.44\" width=\"334.8\" x=\"26.925\" y=\"7.2\"/>\r\n  </clipPath>\r\n </defs>\r\n</svg>\r\n",
      "image/png": "[encoded data removed]"
     },
     "metadata": {
      "needs_background": "light"
     }
    }
   ],
   "source": [
    "plt.hist(data[\"Sales\"]-data[\"sales_pred\"])"
   ]
  },
  {
   "cell_type": "markdown",
   "metadata": {},
   "source": [
    "# Regresión Lineal Múltiple en Python.\n",
    "### El paquete statsmodel para Regresión Múltiple.\n",
    "* Sales -TV.\n",
    "* Sales -Newspaper.\n",
    "* Sales -Radio.\n",
    "* Sales -TV+Newspaper.\n",
    "* Sales -TV-Radio.\n",
    "* Sales -Newspaper+Radio.\n",
    "* Sales -TV+Newspaper+Radio."
   ]
  },
  {
   "cell_type": "code",
   "execution_count": 75,
   "metadata": {},
   "outputs": [],
   "source": [
    "#Añadir el Newspaper al modelo existente.\n",
    "lm2 = smf.ols(formula = \"Sales~TV+Newspaper\", data = data).fit()"
   ]
  },
  {
   "cell_type": "code",
   "execution_count": 76,
   "metadata": {},
   "outputs": [
    {
     "output_type": "execute_result",
     "data": {
      "text/plain": "Intercept    5.774948\nTV           0.046901\nNewspaper    0.044219\ndtype: float64"
     },
     "metadata": {},
     "execution_count": 76
    }
   ],
   "source": [
    "lm2.params"
   ]
  },
  {
   "cell_type": "code",
   "execution_count": 77,
   "metadata": {},
   "outputs": [
    {
     "output_type": "execute_result",
     "data": {
      "text/plain": "Intercept    3.145860e-22\nTV           5.507584e-44\nNewspaper    2.217084e-05\ndtype: float64"
     },
     "metadata": {},
     "execution_count": 77
    }
   ],
   "source": [
    "lm2.pvalues"
   ]
  },
  {
   "cell_type": "markdown",
   "metadata": {},
   "source": [
    "### Sales = 5.774948 + 0.046901 TV + 0.044219 Newspaper"
   ]
  },
  {
   "cell_type": "code",
   "execution_count": 78,
   "metadata": {},
   "outputs": [
    {
     "output_type": "execute_result",
     "data": {
      "text/plain": "0.6458354938293273"
     },
     "metadata": {},
     "execution_count": 78
    }
   ],
   "source": [
    "lm2.rsquared"
   ]
  },
  {
   "cell_type": "code",
   "execution_count": 79,
   "metadata": {},
   "outputs": [
    {
     "output_type": "execute_result",
     "data": {
      "text/plain": "0.6422399150864777"
     },
     "metadata": {},
     "execution_count": 79
    }
   ],
   "source": [
    "lm2.rsquared_adj"
   ]
  },
  {
   "cell_type": "code",
   "execution_count": 80,
   "metadata": {},
   "outputs": [
    {
     "output_type": "execute_result",
     "data": {
      "text/plain": "0      19.626901\n1       9.856348\n2       9.646055\n3      15.467318\n4      16.837102\n         ...    \n195     8.176802\n196    10.551220\n197    14.359467\n198    22.003458\n199    17.045429\nLength: 200, dtype: float64"
     },
     "metadata": {},
     "execution_count": 80
    }
   ],
   "source": [
    "sales_pred = lm2.predict(data[[\"TV\",\"Newspaper\"]])\n",
    "sales_pred"
   ]
  },
  {
   "cell_type": "code",
   "execution_count": 81,
   "metadata": {},
   "outputs": [
    {
     "output_type": "execute_result",
     "data": {
      "text/plain": "1918.561811896827"
     },
     "metadata": {},
     "execution_count": 81
    }
   ],
   "source": [
    "SSD= sum((data[\"Sales\"]-sales_pred)**2)\n",
    "SSD"
   ]
  },
  {
   "cell_type": "code",
   "execution_count": 82,
   "metadata": {},
   "outputs": [
    {
     "output_type": "execute_result",
     "data": {
      "text/plain": "3.120719860252885"
     },
     "metadata": {},
     "execution_count": 82
    }
   ],
   "source": [
    "RSE= np.sqrt(SSD/(len(data)-3))\n",
    "RSE"
   ]
  },
  {
   "cell_type": "code",
   "execution_count": 83,
   "metadata": {},
   "outputs": [
    {
     "output_type": "execute_result",
     "data": {
      "text/plain": "0.2225508903728212"
     },
     "metadata": {},
     "execution_count": 83
    }
   ],
   "source": [
    "error= RSE/sales_m\n",
    "error"
   ]
  },
  {
   "cell_type": "code",
   "execution_count": 84,
   "metadata": {},
   "outputs": [
    {
     "output_type": "execute_result",
     "data": {
      "text/plain": "<class 'statsmodels.iolib.summary.Summary'>\n\"\"\"\n                            OLS Regression Results                            \n==============================================================================\nDep. Variable:                  Sales   R-squared:                       0.646\nModel:                            OLS   Adj. R-squared:                  0.642\nMethod:                 Least Squares   F-statistic:                     179.6\nDate:                Mon, 23 Mar 2020   Prob (F-statistic):           3.95e-45\nTime:                        21:28:55   Log-Likelihood:                -509.89\nNo. Observations:                 200   AIC:                             1026.\nDf Residuals:                     197   BIC:                             1036.\nDf Model:                           2                                         \nCovariance Type:            nonrobust                                         \n==============================================================================\n                 coef    std err          t      P>|t|      [0.025      0.975]\n------------------------------------------------------------------------------\nIntercept      5.7749      0.525     10.993      0.000       4.739       6.811\nTV             0.0469      0.003     18.173      0.000       0.042       0.052\nNewspaper      0.0442      0.010      4.346      0.000       0.024       0.064\n==============================================================================\nOmnibus:                        0.658   Durbin-Watson:                   1.969\nProb(Omnibus):                  0.720   Jarque-Bera (JB):                0.415\nSkew:                          -0.093   Prob(JB):                        0.813\nKurtosis:                       3.122   Cond. No.                         410.\n==============================================================================\n\nWarnings:\n[1] Standard Errors assume that the covariance matrix of the errors is correctly specified.\n\"\"\"",
      "text/html": "<table class=\"simpletable\">\n<caption>OLS Regression Results</caption>\n<tr>\n  <th>Dep. Variable:</th>          <td>Sales</td>      <th>  R-squared:         </th> <td>   0.646</td>\n</tr>\n<tr>\n  <th>Model:</th>                   <td>OLS</td>       <th>  Adj. R-squared:    </th> <td>   0.642</td>\n</tr>\n<tr>\n  <th>Method:</th>             <td>Least Squares</td>  <th>  F-statistic:       </th> <td>   179.6</td>\n</tr>\n<tr>\n  <th>Date:</th>             <td>Mon, 23 Mar 2020</td> <th>  Prob (F-statistic):</th> <td>3.95e-45</td>\n</tr>\n<tr>\n  <th>Time:</th>                 <td>21:28:55</td>     <th>  Log-Likelihood:    </th> <td> -509.89</td>\n</tr>\n<tr>\n  <th>No. Observations:</th>      <td>   200</td>      <th>  AIC:               </th> <td>   1026.</td>\n</tr>\n<tr>\n  <th>Df Residuals:</th>          <td>   197</td>      <th>  BIC:               </th> <td>   1036.</td>\n</tr>\n<tr>\n  <th>Df Model:</th>              <td>     2</td>      <th>                     </th>     <td> </td>   \n</tr>\n<tr>\n  <th>Covariance Type:</th>      <td>nonrobust</td>    <th>                     </th>     <td> </td>   \n</tr>\n</table>\n<table class=\"simpletable\">\n<tr>\n      <td></td>         <th>coef</th>     <th>std err</th>      <th>t</th>      <th>P>|t|</th>  <th>[0.025</th>    <th>0.975]</th>  \n</tr>\n<tr>\n  <th>Intercept</th> <td>    5.7749</td> <td>    0.525</td> <td>   10.993</td> <td> 0.000</td> <td>    4.739</td> <td>    6.811</td>\n</tr>\n<tr>\n  <th>TV</th>        <td>    0.0469</td> <td>    0.003</td> <td>   18.173</td> <td> 0.000</td> <td>    0.042</td> <td>    0.052</td>\n</tr>\n<tr>\n  <th>Newspaper</th> <td>    0.0442</td> <td>    0.010</td> <td>    4.346</td> <td> 0.000</td> <td>    0.024</td> <td>    0.064</td>\n</tr>\n</table>\n<table class=\"simpletable\">\n<tr>\n  <th>Omnibus:</th>       <td> 0.658</td> <th>  Durbin-Watson:     </th> <td>   1.969</td>\n</tr>\n<tr>\n  <th>Prob(Omnibus):</th> <td> 0.720</td> <th>  Jarque-Bera (JB):  </th> <td>   0.415</td>\n</tr>\n<tr>\n  <th>Skew:</th>          <td>-0.093</td> <th>  Prob(JB):          </th> <td>   0.813</td>\n</tr>\n<tr>\n  <th>Kurtosis:</th>      <td> 3.122</td> <th>  Cond. No.          </th> <td>    410.</td>\n</tr>\n</table><br/><br/>Warnings:<br/>[1] Standard Errors assume that the covariance matrix of the errors is correctly specified."
     },
     "metadata": {},
     "execution_count": 84
    }
   ],
   "source": [
    "lm2.summary()"
   ]
  },
  {
   "cell_type": "code",
   "execution_count": 85,
   "metadata": {},
   "outputs": [],
   "source": [
    "#Añadir el Radio al modelo existente.\n",
    "lm3 = smf.ols(formula = \"Sales~TV+Radio\", data = data).fit()"
   ]
  },
  {
   "cell_type": "code",
   "execution_count": 86,
   "metadata": {},
   "outputs": [
    {
     "output_type": "execute_result",
     "data": {
      "text/plain": "<class 'statsmodels.iolib.summary.Summary'>\n\"\"\"\n                            OLS Regression Results                            \n==============================================================================\nDep. Variable:                  Sales   R-squared:                       0.897\nModel:                            OLS   Adj. R-squared:                  0.896\nMethod:                 Least Squares   F-statistic:                     859.6\nDate:                Mon, 23 Mar 2020   Prob (F-statistic):           4.83e-98\nTime:                        21:28:55   Log-Likelihood:                -386.20\nNo. Observations:                 200   AIC:                             778.4\nDf Residuals:                     197   BIC:                             788.3\nDf Model:                           2                                         \nCovariance Type:            nonrobust                                         \n==============================================================================\n                 coef    std err          t      P>|t|      [0.025      0.975]\n------------------------------------------------------------------------------\nIntercept      2.9211      0.294      9.919      0.000       2.340       3.502\nTV             0.0458      0.001     32.909      0.000       0.043       0.048\nRadio          0.1880      0.008     23.382      0.000       0.172       0.204\n==============================================================================\nOmnibus:                       60.022   Durbin-Watson:                   2.081\nProb(Omnibus):                  0.000   Jarque-Bera (JB):              148.679\nSkew:                          -1.323   Prob(JB):                     5.19e-33\nKurtosis:                       6.292   Cond. No.                         425.\n==============================================================================\n\nWarnings:\n[1] Standard Errors assume that the covariance matrix of the errors is correctly specified.\n\"\"\"",
      "text/html": "<table class=\"simpletable\">\n<caption>OLS Regression Results</caption>\n<tr>\n  <th>Dep. Variable:</th>          <td>Sales</td>      <th>  R-squared:         </th> <td>   0.897</td>\n</tr>\n<tr>\n  <th>Model:</th>                   <td>OLS</td>       <th>  Adj. R-squared:    </th> <td>   0.896</td>\n</tr>\n<tr>\n  <th>Method:</th>             <td>Least Squares</td>  <th>  F-statistic:       </th> <td>   859.6</td>\n</tr>\n<tr>\n  <th>Date:</th>             <td>Mon, 23 Mar 2020</td> <th>  Prob (F-statistic):</th> <td>4.83e-98</td>\n</tr>\n<tr>\n  <th>Time:</th>                 <td>21:28:55</td>     <th>  Log-Likelihood:    </th> <td> -386.20</td>\n</tr>\n<tr>\n  <th>No. Observations:</th>      <td>   200</td>      <th>  AIC:               </th> <td>   778.4</td>\n</tr>\n<tr>\n  <th>Df Residuals:</th>          <td>   197</td>      <th>  BIC:               </th> <td>   788.3</td>\n</tr>\n<tr>\n  <th>Df Model:</th>              <td>     2</td>      <th>                     </th>     <td> </td>   \n</tr>\n<tr>\n  <th>Covariance Type:</th>      <td>nonrobust</td>    <th>                     </th>     <td> </td>   \n</tr>\n</table>\n<table class=\"simpletable\">\n<tr>\n      <td></td>         <th>coef</th>     <th>std err</th>      <th>t</th>      <th>P>|t|</th>  <th>[0.025</th>    <th>0.975]</th>  \n</tr>\n<tr>\n  <th>Intercept</th> <td>    2.9211</td> <td>    0.294</td> <td>    9.919</td> <td> 0.000</td> <td>    2.340</td> <td>    3.502</td>\n</tr>\n<tr>\n  <th>TV</th>        <td>    0.0458</td> <td>    0.001</td> <td>   32.909</td> <td> 0.000</td> <td>    0.043</td> <td>    0.048</td>\n</tr>\n<tr>\n  <th>Radio</th>     <td>    0.1880</td> <td>    0.008</td> <td>   23.382</td> <td> 0.000</td> <td>    0.172</td> <td>    0.204</td>\n</tr>\n</table>\n<table class=\"simpletable\">\n<tr>\n  <th>Omnibus:</th>       <td>60.022</td> <th>  Durbin-Watson:     </th> <td>   2.081</td>\n</tr>\n<tr>\n  <th>Prob(Omnibus):</th> <td> 0.000</td> <th>  Jarque-Bera (JB):  </th> <td> 148.679</td>\n</tr>\n<tr>\n  <th>Skew:</th>          <td>-1.323</td> <th>  Prob(JB):          </th> <td>5.19e-33</td>\n</tr>\n<tr>\n  <th>Kurtosis:</th>      <td> 6.292</td> <th>  Cond. No.          </th> <td>    425.</td>\n</tr>\n</table><br/><br/>Warnings:<br/>[1] Standard Errors assume that the covariance matrix of the errors is correctly specified."
     },
     "metadata": {},
     "execution_count": 86
    }
   ],
   "source": [
    "lm3.summary()\n",
    ""
   ]
  },
  {
   "cell_type": "code",
   "execution_count": 87,
   "metadata": {},
   "outputs": [
    {
     "output_type": "execute_result",
     "data": {
      "text/plain": "0      20.555465\n1      12.345362\n2      12.337018\n3      17.617116\n4      13.223908\n         ...    \n195     5.364512\n196     8.152375\n197    12.768048\n198    23.792923\n199    15.157543\nLength: 200, dtype: float64"
     },
     "metadata": {},
     "execution_count": 87
    }
   ],
   "source": [
    "sales_pred = lm3.predict(data[[\"TV\",\"Radio\"]])\n",
    "sales_pred"
   ]
  },
  {
   "cell_type": "code",
   "execution_count": 88,
   "metadata": {},
   "outputs": [
    {
     "output_type": "execute_result",
     "data": {
      "text/plain": "556.9139800676181"
     },
     "metadata": {},
     "execution_count": 88
    }
   ],
   "source": [
    "SSD= sum((data[\"Sales\"]-sales_pred)**2)\n",
    "SSD"
   ]
  },
  {
   "cell_type": "code",
   "execution_count": 89,
   "metadata": {},
   "outputs": [
    {
     "output_type": "execute_result",
     "data": {
      "text/plain": "1.6813609125080007"
     },
     "metadata": {},
     "execution_count": 89
    }
   ],
   "source": [
    "RSE= np.sqrt(SSD/(len(data)-3))\n",
    "RSE"
   ]
  },
  {
   "cell_type": "code",
   "execution_count": 90,
   "metadata": {},
   "outputs": [
    {
     "output_type": "execute_result",
     "data": {
      "text/plain": "0.11990450436855059"
     },
     "metadata": {},
     "execution_count": 90
    }
   ],
   "source": [
    "error= RSE/sales_m\n",
    "error"
   ]
  },
  {
   "cell_type": "code",
   "execution_count": 91,
   "metadata": {},
   "outputs": [],
   "source": [
    "lm4 = smf.ols(formula = \"Sales~TV+Newspaper+Radio\", data = data).fit()"
   ]
  },
  {
   "cell_type": "code",
   "execution_count": 92,
   "metadata": {},
   "outputs": [
    {
     "output_type": "execute_result",
     "data": {
      "text/plain": "<class 'statsmodels.iolib.summary.Summary'>\n\"\"\"\n                            OLS Regression Results                            \n==============================================================================\nDep. Variable:                  Sales   R-squared:                       0.897\nModel:                            OLS   Adj. R-squared:                  0.896\nMethod:                 Least Squares   F-statistic:                     570.3\nDate:                Mon, 23 Mar 2020   Prob (F-statistic):           1.58e-96\nTime:                        21:28:55   Log-Likelihood:                -386.18\nNo. Observations:                 200   AIC:                             780.4\nDf Residuals:                     196   BIC:                             793.6\nDf Model:                           3                                         \nCovariance Type:            nonrobust                                         \n==============================================================================\n                 coef    std err          t      P>|t|      [0.025      0.975]\n------------------------------------------------------------------------------\nIntercept      2.9389      0.312      9.422      0.000       2.324       3.554\nTV             0.0458      0.001     32.809      0.000       0.043       0.049\nNewspaper     -0.0010      0.006     -0.177      0.860      -0.013       0.011\nRadio          0.1885      0.009     21.893      0.000       0.172       0.206\n==============================================================================\nOmnibus:                       60.414   Durbin-Watson:                   2.084\nProb(Omnibus):                  0.000   Jarque-Bera (JB):              151.241\nSkew:                          -1.327   Prob(JB):                     1.44e-33\nKurtosis:                       6.332   Cond. No.                         454.\n==============================================================================\n\nWarnings:\n[1] Standard Errors assume that the covariance matrix of the errors is correctly specified.\n\"\"\"",
      "text/html": "<table class=\"simpletable\">\n<caption>OLS Regression Results</caption>\n<tr>\n  <th>Dep. Variable:</th>          <td>Sales</td>      <th>  R-squared:         </th> <td>   0.897</td>\n</tr>\n<tr>\n  <th>Model:</th>                   <td>OLS</td>       <th>  Adj. R-squared:    </th> <td>   0.896</td>\n</tr>\n<tr>\n  <th>Method:</th>             <td>Least Squares</td>  <th>  F-statistic:       </th> <td>   570.3</td>\n</tr>\n<tr>\n  <th>Date:</th>             <td>Mon, 23 Mar 2020</td> <th>  Prob (F-statistic):</th> <td>1.58e-96</td>\n</tr>\n<tr>\n  <th>Time:</th>                 <td>21:28:55</td>     <th>  Log-Likelihood:    </th> <td> -386.18</td>\n</tr>\n<tr>\n  <th>No. Observations:</th>      <td>   200</td>      <th>  AIC:               </th> <td>   780.4</td>\n</tr>\n<tr>\n  <th>Df Residuals:</th>          <td>   196</td>      <th>  BIC:               </th> <td>   793.6</td>\n</tr>\n<tr>\n  <th>Df Model:</th>              <td>     3</td>      <th>                     </th>     <td> </td>   \n</tr>\n<tr>\n  <th>Covariance Type:</th>      <td>nonrobust</td>    <th>                     </th>     <td> </td>   \n</tr>\n</table>\n<table class=\"simpletable\">\n<tr>\n      <td></td>         <th>coef</th>     <th>std err</th>      <th>t</th>      <th>P>|t|</th>  <th>[0.025</th>    <th>0.975]</th>  \n</tr>\n<tr>\n  <th>Intercept</th> <td>    2.9389</td> <td>    0.312</td> <td>    9.422</td> <td> 0.000</td> <td>    2.324</td> <td>    3.554</td>\n</tr>\n<tr>\n  <th>TV</th>        <td>    0.0458</td> <td>    0.001</td> <td>   32.809</td> <td> 0.000</td> <td>    0.043</td> <td>    0.049</td>\n</tr>\n<tr>\n  <th>Newspaper</th> <td>   -0.0010</td> <td>    0.006</td> <td>   -0.177</td> <td> 0.860</td> <td>   -0.013</td> <td>    0.011</td>\n</tr>\n<tr>\n  <th>Radio</th>     <td>    0.1885</td> <td>    0.009</td> <td>   21.893</td> <td> 0.000</td> <td>    0.172</td> <td>    0.206</td>\n</tr>\n</table>\n<table class=\"simpletable\">\n<tr>\n  <th>Omnibus:</th>       <td>60.414</td> <th>  Durbin-Watson:     </th> <td>   2.084</td>\n</tr>\n<tr>\n  <th>Prob(Omnibus):</th> <td> 0.000</td> <th>  Jarque-Bera (JB):  </th> <td> 151.241</td>\n</tr>\n<tr>\n  <th>Skew:</th>          <td>-1.327</td> <th>  Prob(JB):          </th> <td>1.44e-33</td>\n</tr>\n<tr>\n  <th>Kurtosis:</th>      <td> 6.332</td> <th>  Cond. No.          </th> <td>    454.</td>\n</tr>\n</table><br/><br/>Warnings:<br/>[1] Standard Errors assume that the covariance matrix of the errors is correctly specified."
     },
     "metadata": {},
     "execution_count": 92
    }
   ],
   "source": [
    "lm4.summary()\n",
    ""
   ]
  },
  {
   "cell_type": "code",
   "execution_count": 93,
   "metadata": {},
   "outputs": [
    {
     "output_type": "execute_result",
     "data": {
      "text/plain": "0      20.523974\n1      12.337855\n2      12.307671\n3      17.597830\n4      13.188672\n         ...    \n195     5.370342\n196     8.165312\n197    12.785921\n198    23.767321\n199    15.173196\nLength: 200, dtype: float64"
     },
     "metadata": {},
     "execution_count": 93
    }
   ],
   "source": [
    "sales_pred = lm4.predict(data[[\"TV\",\"Newspaper\", \"Radio\"]])\n",
    "sales_pred\n",
    ""
   ]
  },
  {
   "cell_type": "code",
   "execution_count": 94,
   "metadata": {},
   "outputs": [
    {
     "output_type": "execute_result",
     "data": {
      "text/plain": "556.8252629021872"
     },
     "metadata": {},
     "execution_count": 94
    }
   ],
   "source": [
    "SSD= sum((data[\"Sales\"]-sales_pred)**2)\n",
    "SSD"
   ]
  },
  {
   "cell_type": "code",
   "execution_count": 95,
   "metadata": {},
   "outputs": [
    {
     "output_type": "execute_result",
     "data": {
      "text/plain": "1.685510373414744"
     },
     "metadata": {},
     "execution_count": 95
    }
   ],
   "source": [
    "RSE= np.sqrt(SSD/(len(data)-4))\n",
    "RSE"
   ]
  },
  {
   "cell_type": "code",
   "execution_count": 96,
   "metadata": {},
   "outputs": [
    {
     "output_type": "execute_result",
     "data": {
      "text/plain": "0.1202004188564624"
     },
     "metadata": {},
     "execution_count": 96
    }
   ],
   "source": [
    "error= RSE/sales_m\n",
    "error"
   ]
  },
  {
   "cell_type": "markdown",
   "metadata": {},
   "source": [
    "## Multicolinealidad\n",
    "## Factor inflación de la Varianza\n",
    "* VIF = 1 : Las varibales no están correlacionadas\n",
    "* VIF < 5 : Las varibales tienen una correlación moderada y se pueden quedar en el modelo\n",
    "* VIF > 5 : Las variables están altamente correlacionadas y deben desaparecer del modelo."
   ]
  },
  {
   "cell_type": "code",
   "execution_count": 99,
   "metadata": {},
   "outputs": [
    {
     "output_type": "execute_result",
     "data": {
      "text/plain": "1.1451873787239286"
     },
     "metadata": {},
     "execution_count": 99
    }
   ],
   "source": [
    "# Newspaper  ~ TV + Radio -> R^2 VIF = 1/(1-R^2)\n",
    "lm_n = smf.ols(formula= \"Newspaper~TV+Radio\", data = data).fit()\n",
    "rssquared_n= lm_n.rsquared\n",
    "VIF = 1/(1-rssquared_n)\n",
    "VIF"
   ]
  },
  {
   "cell_type": "code",
   "execution_count": 100,
   "metadata": {},
   "outputs": [
    {
     "output_type": "execute_result",
     "data": {
      "text/plain": "1.0046107849396502"
     },
     "metadata": {},
     "execution_count": 100
    }
   ],
   "source": [
    "# TV  ~ Newspaper + Radio -> R^2 VIF = 1/(1-R^2)\n",
    "lm_tv = smf.ols(formula= \"TV~Newspaper+Radio\", data = data).fit()\n",
    "rssquared_tv= lm_tv.rsquared\n",
    "VIF = 1/(1-rssquared_tv)\n",
    "VIF"
   ]
  },
  {
   "cell_type": "code",
   "execution_count": 101,
   "metadata": {},
   "outputs": [
    {
     "output_type": "execute_result",
     "data": {
      "text/plain": "1.1449519171055353"
     },
     "metadata": {},
     "execution_count": 101
    }
   ],
   "source": [
    "# Radio  ~ Newspaper + TV -> R^2 VIF = 1/(1-R^2)\n",
    "lm_r = smf.ols(formula= \"Radio~Newspaper+TV\", data = data).fit()\n",
    "rssquared_r= lm_r.rsquared\n",
    "VIF = 1/(1-rssquared_r)\n",
    "VIF"
   ]
  },
  {
   "cell_type": "code",
   "execution_count": null,
   "metadata": {},
   "outputs": [],
   "source": []
  }
 ]
}